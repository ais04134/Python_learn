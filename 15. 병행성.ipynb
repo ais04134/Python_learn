{
 "cells": [
  {
   "cell_type": "markdown",
   "id": "6c713722",
   "metadata": {},
   "source": [
    "# 병행성(Concurrency)\n",
    "* 이터레이터, 제네레이터\n",
    "* Iterator, Generator\n",
    "* 파이썬 반복 가능한 타입\n",
    "* for, collections, text file, List, Dict, Set, Tuple, unpacking, *args\n",
    "* 반복 가능한 이유? -> iter(x) 함수 호출"
   ]
  },
  {
   "cell_type": "code",
   "execution_count": 2,
   "id": "6abe7692",
   "metadata": {
    "ExecuteTime": {
     "end_time": "2021-09-06T05:38:17.179596Z",
     "start_time": "2021-09-06T05:38:17.167586Z"
    }
   },
   "outputs": [
    {
     "name": "stdout",
     "output_type": "stream",
     "text": [
      "> A\n",
      "> B\n",
      "> C\n",
      "> D\n",
      "> E\n",
      "> F\n",
      "> G\n",
      "> H\n",
      "> I\n",
      "> J\n",
      "> K\n",
      "> L\n",
      "> M\n",
      "> N\n",
      "> O\n",
      "> P\n",
      "> Q\n",
      "> R\n",
      "> S\n",
      "> T\n",
      "> U\n",
      "> V\n",
      "> W\n",
      "> X\n",
      "> Y\n",
      "> Z\n",
      "\n",
      "A\n",
      "B\n",
      "C\n",
      "D\n",
      "E\n",
      "F\n",
      "G\n",
      "H\n",
      "I\n",
      "J\n",
      "K\n",
      "L\n",
      "M\n",
      "N\n",
      "O\n",
      "P\n",
      "Q\n",
      "R\n",
      "S\n",
      "T\n",
      "U\n",
      "V\n",
      "W\n",
      "X\n",
      "Y\n",
      "Z\n",
      "\n",
      "True\n",
      "True\n"
     ]
    }
   ],
   "source": [
    "# 반복 가능한 이유? -> iter(x) 함수 호출\n",
    "t = 'ABCDEFGHIJKLMNOPQRSTUVWXYZ'\n",
    "\n",
    "# for 반복\n",
    "for c in t:\n",
    "    print('>', c)\n",
    "\n",
    "print()\n",
    "\n",
    "# while 반복\n",
    "\n",
    "w = iter(t)\n",
    "\n",
    "while True:\n",
    "    try:\n",
    "        print(next(w))\n",
    "    except StopIteration:\n",
    "        break\n",
    "\n",
    "print()\n",
    "\n",
    "from collections import abc\n",
    "\n",
    "# 반복형 확인\n",
    "print(hasattr(t, '__iter__'))\n",
    "print(isinstance(t, abc.Iterable))"
   ]
  },
  {
   "cell_type": "code",
   "execution_count": 6,
   "id": "408632fe",
   "metadata": {
    "ExecuteTime": {
     "end_time": "2021-09-06T05:40:42.980984Z",
     "start_time": "2021-09-06T05:40:42.968059Z"
    }
   },
   "outputs": [],
   "source": [
    "# next 사용\n",
    "class WordSplitIter:\n",
    "    def __init__(self, text):\n",
    "        self._idx = 0\n",
    "        self._text = text.split(' ')\n",
    "    \n",
    "    def __next__(self):\n",
    "        # print('Called __next__')\n",
    "        try:\n",
    "            word = self._text[self._idx]\n",
    "        except IndexError:\n",
    "            raise StopIteration('Stopped Iteration.')\n",
    "        self._idx += 1\n",
    "        return word\n",
    "\n",
    "    def __repr__(self):\n",
    "        return 'WordSplit(%s)' % (self._text)"
   ]
  },
  {
   "cell_type": "code",
   "execution_count": 7,
   "id": "2c0dca5b",
   "metadata": {
    "ExecuteTime": {
     "end_time": "2021-09-06T05:40:43.346181Z",
     "start_time": "2021-09-06T05:40:43.337124Z"
    }
   },
   "outputs": [
    {
     "name": "stdout",
     "output_type": "stream",
     "text": [
      "WordSplit(['Do', 'today', 'what', 'you', 'could', 'do', 'tomorrow'])\n",
      "Do\n",
      "today\n",
      "what\n",
      "you\n",
      "could\n",
      "do\n",
      "tomorrow\n"
     ]
    }
   ],
   "source": [
    "wi = WordSplitIter('Do today what you could do tomorrow')\n",
    "\n",
    "print(wi)\n",
    "print(next(wi))\n",
    "print(next(wi))\n",
    "print(next(wi))\n",
    "print(next(wi))\n",
    "print(next(wi))\n",
    "print(next(wi))\n",
    "print(next(wi))\n",
    "# print(next(wi))"
   ]
  },
  {
   "cell_type": "markdown",
   "id": "d2ba1a27",
   "metadata": {},
   "source": [
    "# Generator 패턴\n",
    "* 1.지능형 리스트, 딕셔너리, 집합 -> 데이터 양 증가 후 메모리 사용량 증가 -> 제네레이터 사용 권장\n",
    "* 2.단위 실행 가능한 코루틴(Coroutine) 구현과 연동\n",
    "* 3.작은 메모리 조각 사용\n"
   ]
  },
  {
   "cell_type": "code",
   "execution_count": 9,
   "id": "190753ea",
   "metadata": {
    "ExecuteTime": {
     "end_time": "2021-09-06T05:58:13.550242Z",
     "start_time": "2021-09-06T05:58:13.542243Z"
    }
   },
   "outputs": [],
   "source": [
    "class WordSplitGenerator:\n",
    "    def __init__(self, text):\n",
    "        self._text = text.split(' ')\n",
    "    \n",
    "    def __iter__(self):\n",
    "        # print('Called __iter__')\n",
    "        for word in self._text:\n",
    "           yield word # 제네레이터\n",
    "        return\n",
    "    \n",
    "    def __repr__(self):\n",
    "        return 'WordSplit(%s)' % (self._text)\n",
    "\n",
    "\n",
    "wg = WordSplitGenerator('Do today what you could do tomorrow')\n",
    "\n",
    "wt = iter(wg)"
   ]
  },
  {
   "cell_type": "code",
   "execution_count": 10,
   "id": "e1795c00",
   "metadata": {
    "ExecuteTime": {
     "end_time": "2021-09-06T05:58:18.880482Z",
     "start_time": "2021-09-06T05:58:18.874410Z"
    }
   },
   "outputs": [
    {
     "name": "stdout",
     "output_type": "stream",
     "text": [
      "<generator object WordSplitGenerator.__iter__ at 0x0000021E2CB60F20>\n",
      "Do\n",
      "today\n",
      "what\n",
      "you\n",
      "could\n",
      "do\n",
      "tomorrow\n"
     ]
    }
   ],
   "source": [
    "print(wt)\n",
    "print(next(wt))\n",
    "print(next(wt))\n",
    "print(next(wt))\n",
    "print(next(wt))\n",
    "print(next(wt))\n",
    "print(next(wt))\n",
    "print(next(wt))\n",
    "# print(next(wt))"
   ]
  },
  {
   "cell_type": "markdown",
   "id": "e9b1f44e",
   "metadata": {},
   "source": [
    "## Generator Ex1"
   ]
  },
  {
   "cell_type": "code",
   "execution_count": 23,
   "id": "670a17ed",
   "metadata": {
    "ExecuteTime": {
     "end_time": "2021-09-06T06:10:14.889274Z",
     "start_time": "2021-09-06T06:10:14.882189Z"
    }
   },
   "outputs": [
    {
     "name": "stdout",
     "output_type": "stream",
     "text": [
      "Start\n",
      "A Point.\n",
      "continue\n",
      "B Point.\n",
      "End\n",
      "\n"
     ]
    }
   ],
   "source": [
    "def generator_ex1():\n",
    "    print('Start')\n",
    "    yield 'A Point.'\n",
    "    print('continue')\n",
    "    yield 'B Point.'\n",
    "    print('End')\n",
    "\n",
    "temp = iter(generator_ex1())\n",
    "\n",
    "# print(next(temp))\n",
    "# print(next(temp))\n",
    "# print(next(temp))\n",
    "\n",
    "for v in generator_ex1():\n",
    "    pass\n",
    "    print(v)\n",
    "\n",
    "print()"
   ]
  },
  {
   "cell_type": "markdown",
   "id": "59faed33",
   "metadata": {},
   "source": [
    "## Generator Ex2"
   ]
  },
  {
   "cell_type": "code",
   "execution_count": 12,
   "id": "e5fccb69",
   "metadata": {
    "ExecuteTime": {
     "end_time": "2021-09-06T06:01:34.549676Z",
     "start_time": "2021-09-06T06:01:34.537483Z"
    }
   },
   "outputs": [
    {
     "name": "stdout",
     "output_type": "stream",
     "text": [
      "Start\n",
      "continue\n",
      "End\n",
      "['A Point.A Point.A Point.', 'B Point.B Point.B Point.']\n",
      "<generator object <genexpr> at 0x0000021E2CB6E820>\n",
      "A Point.A Point.A Point.\n",
      "B Point.B Point.B Point.\n",
      "\n",
      "\n",
      "Start\n",
      "A Point.A Point.A Point.\n",
      "continue\n",
      "B Point.B Point.B Point.\n",
      "End\n"
     ]
    }
   ],
   "source": [
    "temp2 = [x * 3 for x in generator_ex1()]\n",
    "temp3 = (x * 3 for x in generator_ex1())\n",
    "\n",
    "print(temp2)\n",
    "print(temp3)\n",
    "\n",
    "for i in temp2:\n",
    "    print(i)\n",
    "\n",
    "print()\n",
    "print()\n",
    "\n",
    "for i in temp3:\n",
    "    print(i)"
   ]
  },
  {
   "cell_type": "markdown",
   "id": "701a227e",
   "metadata": {},
   "source": [
    "## Generator Ex3(중요 함수)\n",
    "* filterfalse, accumulate, chain, product, product, groupby"
   ]
  },
  {
   "cell_type": "code",
   "execution_count": 15,
   "id": "507f7f7a",
   "metadata": {
    "ExecuteTime": {
     "end_time": "2021-09-06T06:02:33.093861Z",
     "start_time": "2021-09-06T06:02:33.083861Z"
    },
    "scrolled": false
   },
   "outputs": [
    {
     "name": "stdout",
     "output_type": "stream",
     "text": [
      "1\n",
      "3.5\n",
      "6.0\n",
      "8.5\n"
     ]
    }
   ],
   "source": [
    "import itertools\n",
    "\n",
    "gen1 = itertools.count(1, 2.5)\n",
    "\n",
    "print(next(gen1))\n",
    "print(next(gen1))\n",
    "print(next(gen1))\n",
    "print(next(gen1))\n",
    "# ... 무한\n",
    "\n"
   ]
  },
  {
   "cell_type": "code",
   "execution_count": 14,
   "id": "c1b6afe1",
   "metadata": {
    "ExecuteTime": {
     "end_time": "2021-09-06T06:02:31.120571Z",
     "start_time": "2021-09-06T06:02:31.095559Z"
    }
   },
   "outputs": [
    {
     "name": "stdout",
     "output_type": "stream",
     "text": [
      "1\n",
      "3.5\n",
      "6.0\n",
      "8.5\n",
      "11.0\n",
      "13.5\n",
      "16.0\n",
      "18.5\n",
      "21.0\n",
      "23.5\n",
      "26.0\n",
      "28.5\n",
      "31.0\n",
      "33.5\n",
      "36.0\n",
      "38.5\n",
      "41.0\n",
      "43.5\n",
      "46.0\n",
      "48.5\n",
      "51.0\n",
      "53.5\n",
      "56.0\n",
      "58.5\n",
      "61.0\n",
      "63.5\n",
      "66.0\n",
      "68.5\n",
      "71.0\n",
      "73.5\n",
      "76.0\n",
      "78.5\n",
      "81.0\n",
      "83.5\n",
      "86.0\n",
      "88.5\n",
      "91.0\n",
      "93.5\n",
      "96.0\n",
      "98.5\n",
      "101.0\n",
      "103.5\n",
      "106.0\n",
      "108.5\n",
      "111.0\n",
      "113.5\n",
      "116.0\n",
      "118.5\n",
      "121.0\n",
      "123.5\n",
      "126.0\n",
      "128.5\n",
      "131.0\n",
      "133.5\n",
      "136.0\n",
      "138.5\n",
      "141.0\n",
      "143.5\n",
      "146.0\n",
      "148.5\n",
      "151.0\n",
      "153.5\n",
      "156.0\n",
      "158.5\n",
      "161.0\n",
      "163.5\n",
      "166.0\n",
      "168.5\n",
      "171.0\n",
      "173.5\n",
      "176.0\n",
      "178.5\n",
      "181.0\n",
      "183.5\n",
      "186.0\n",
      "188.5\n",
      "191.0\n",
      "193.5\n",
      "196.0\n",
      "198.5\n",
      "201.0\n",
      "203.5\n",
      "206.0\n",
      "208.5\n",
      "211.0\n",
      "213.5\n",
      "216.0\n",
      "218.5\n",
      "221.0\n",
      "223.5\n",
      "226.0\n",
      "228.5\n",
      "231.0\n",
      "233.5\n",
      "236.0\n",
      "238.5\n",
      "241.0\n",
      "243.5\n",
      "246.0\n",
      "248.5\n",
      "251.0\n",
      "253.5\n",
      "256.0\n",
      "258.5\n",
      "261.0\n",
      "263.5\n",
      "266.0\n",
      "268.5\n",
      "271.0\n",
      "273.5\n",
      "276.0\n",
      "278.5\n",
      "281.0\n",
      "283.5\n",
      "286.0\n",
      "288.5\n",
      "291.0\n",
      "293.5\n",
      "296.0\n",
      "298.5\n",
      "301.0\n",
      "303.5\n",
      "306.0\n",
      "308.5\n",
      "311.0\n",
      "313.5\n",
      "316.0\n",
      "318.5\n",
      "321.0\n",
      "323.5\n",
      "326.0\n",
      "328.5\n",
      "331.0\n",
      "333.5\n",
      "336.0\n",
      "338.5\n",
      "341.0\n",
      "343.5\n",
      "346.0\n",
      "348.5\n",
      "351.0\n",
      "353.5\n",
      "356.0\n",
      "358.5\n",
      "361.0\n",
      "363.5\n",
      "366.0\n",
      "368.5\n",
      "371.0\n",
      "373.5\n",
      "376.0\n",
      "378.5\n",
      "381.0\n",
      "383.5\n",
      "386.0\n",
      "388.5\n",
      "391.0\n",
      "393.5\n",
      "396.0\n",
      "398.5\n",
      "401.0\n",
      "403.5\n",
      "406.0\n",
      "408.5\n",
      "411.0\n",
      "413.5\n",
      "416.0\n",
      "418.5\n",
      "421.0\n",
      "423.5\n",
      "426.0\n",
      "428.5\n",
      "431.0\n",
      "433.5\n",
      "436.0\n",
      "438.5\n",
      "441.0\n",
      "443.5\n",
      "446.0\n",
      "448.5\n",
      "451.0\n",
      "453.5\n",
      "456.0\n",
      "458.5\n",
      "461.0\n",
      "463.5\n",
      "466.0\n",
      "468.5\n",
      "471.0\n",
      "473.5\n",
      "476.0\n",
      "478.5\n",
      "481.0\n",
      "483.5\n",
      "486.0\n",
      "488.5\n",
      "491.0\n",
      "493.5\n",
      "496.0\n",
      "498.5\n",
      "501.0\n",
      "503.5\n",
      "506.0\n",
      "508.5\n",
      "511.0\n",
      "513.5\n",
      "516.0\n",
      "518.5\n",
      "521.0\n",
      "523.5\n",
      "526.0\n",
      "528.5\n",
      "531.0\n",
      "533.5\n",
      "536.0\n",
      "538.5\n",
      "541.0\n",
      "543.5\n",
      "546.0\n",
      "548.5\n",
      "551.0\n",
      "553.5\n",
      "556.0\n",
      "558.5\n",
      "561.0\n",
      "563.5\n",
      "566.0\n",
      "568.5\n",
      "571.0\n",
      "573.5\n",
      "576.0\n",
      "578.5\n",
      "581.0\n",
      "583.5\n",
      "586.0\n",
      "588.5\n",
      "591.0\n",
      "593.5\n",
      "596.0\n",
      "598.5\n",
      "601.0\n",
      "603.5\n",
      "606.0\n",
      "608.5\n",
      "611.0\n",
      "613.5\n",
      "616.0\n",
      "618.5\n",
      "621.0\n",
      "623.5\n",
      "626.0\n",
      "628.5\n",
      "631.0\n",
      "633.5\n",
      "636.0\n",
      "638.5\n",
      "641.0\n",
      "643.5\n",
      "646.0\n",
      "648.5\n",
      "651.0\n",
      "653.5\n",
      "656.0\n",
      "658.5\n",
      "661.0\n",
      "663.5\n",
      "666.0\n",
      "668.5\n",
      "671.0\n",
      "673.5\n",
      "676.0\n",
      "678.5\n",
      "681.0\n",
      "683.5\n",
      "686.0\n",
      "688.5\n",
      "691.0\n",
      "693.5\n",
      "696.0\n",
      "698.5\n",
      "701.0\n",
      "703.5\n",
      "706.0\n",
      "708.5\n",
      "711.0\n",
      "713.5\n",
      "716.0\n",
      "718.5\n",
      "721.0\n",
      "723.5\n",
      "726.0\n",
      "728.5\n",
      "731.0\n",
      "733.5\n",
      "736.0\n",
      "738.5\n",
      "741.0\n",
      "743.5\n",
      "746.0\n",
      "748.5\n",
      "751.0\n",
      "753.5\n",
      "756.0\n",
      "758.5\n",
      "761.0\n",
      "763.5\n",
      "766.0\n",
      "768.5\n",
      "771.0\n",
      "773.5\n",
      "776.0\n",
      "778.5\n",
      "781.0\n",
      "783.5\n",
      "786.0\n",
      "788.5\n",
      "791.0\n",
      "793.5\n",
      "796.0\n",
      "798.5\n",
      "801.0\n",
      "803.5\n",
      "806.0\n",
      "808.5\n",
      "811.0\n",
      "813.5\n",
      "816.0\n",
      "818.5\n",
      "821.0\n",
      "823.5\n",
      "826.0\n",
      "828.5\n",
      "831.0\n",
      "833.5\n",
      "836.0\n",
      "838.5\n",
      "841.0\n",
      "843.5\n",
      "846.0\n",
      "848.5\n",
      "851.0\n",
      "853.5\n",
      "856.0\n",
      "858.5\n",
      "861.0\n",
      "863.5\n",
      "866.0\n",
      "868.5\n",
      "871.0\n",
      "873.5\n",
      "876.0\n",
      "878.5\n",
      "881.0\n",
      "883.5\n",
      "886.0\n",
      "888.5\n",
      "891.0\n",
      "893.5\n",
      "896.0\n",
      "898.5\n",
      "901.0\n",
      "903.5\n",
      "906.0\n",
      "908.5\n",
      "911.0\n",
      "913.5\n",
      "916.0\n",
      "918.5\n",
      "921.0\n",
      "923.5\n",
      "926.0\n",
      "928.5\n",
      "931.0\n",
      "933.5\n",
      "936.0\n",
      "938.5\n",
      "941.0\n",
      "943.5\n",
      "946.0\n",
      "948.5\n",
      "951.0\n",
      "953.5\n",
      "956.0\n",
      "958.5\n",
      "961.0\n",
      "963.5\n",
      "966.0\n",
      "968.5\n",
      "971.0\n",
      "973.5\n",
      "976.0\n",
      "978.5\n",
      "981.0\n",
      "983.5\n",
      "986.0\n",
      "988.5\n",
      "991.0\n",
      "993.5\n",
      "996.0\n",
      "998.5\n"
     ]
    }
   ],
   "source": [
    "# 조건\n",
    "gen2 = itertools.takewhile(lambda n : n < 1000, itertools.count(1, 2.5))\n",
    "\n",
    "for v in gen2:\n",
    "    print(v)"
   ]
  },
  {
   "cell_type": "code",
   "execution_count": 16,
   "id": "afec2483",
   "metadata": {
    "ExecuteTime": {
     "end_time": "2021-09-06T06:02:52.459581Z",
     "start_time": "2021-09-06T06:02:52.455544Z"
    }
   },
   "outputs": [
    {
     "name": "stdout",
     "output_type": "stream",
     "text": [
      "3\n",
      "4\n",
      "5\n"
     ]
    }
   ],
   "source": [
    "# 필터 반대\n",
    "gen3 = itertools.filterfalse(lambda n : n < 3, [1,2,3,4,5])\n",
    "\n",
    "for v in gen3:\n",
    "    print(v)"
   ]
  },
  {
   "cell_type": "code",
   "execution_count": 17,
   "id": "206e9988",
   "metadata": {
    "ExecuteTime": {
     "end_time": "2021-09-06T06:03:08.386764Z",
     "start_time": "2021-09-06T06:03:08.380771Z"
    }
   },
   "outputs": [
    {
     "name": "stdout",
     "output_type": "stream",
     "text": [
      "1\n",
      "3\n",
      "6\n",
      "10\n",
      "15\n",
      "21\n",
      "28\n",
      "36\n",
      "45\n",
      "55\n",
      "66\n",
      "78\n",
      "91\n",
      "105\n",
      "120\n",
      "136\n",
      "153\n",
      "171\n",
      "190\n",
      "210\n",
      "231\n",
      "253\n",
      "276\n",
      "300\n",
      "325\n",
      "351\n",
      "378\n",
      "406\n",
      "435\n",
      "465\n",
      "496\n",
      "528\n",
      "561\n",
      "595\n",
      "630\n",
      "666\n",
      "703\n",
      "741\n",
      "780\n",
      "820\n",
      "861\n",
      "903\n",
      "946\n",
      "990\n",
      "1035\n",
      "1081\n",
      "1128\n",
      "1176\n",
      "1225\n",
      "1275\n",
      "1326\n",
      "1378\n",
      "1431\n",
      "1485\n",
      "1540\n",
      "1596\n",
      "1653\n",
      "1711\n",
      "1770\n",
      "1830\n",
      "1891\n",
      "1953\n",
      "2016\n",
      "2080\n",
      "2145\n",
      "2211\n",
      "2278\n",
      "2346\n",
      "2415\n",
      "2485\n",
      "2556\n",
      "2628\n",
      "2701\n",
      "2775\n",
      "2850\n",
      "2926\n",
      "3003\n",
      "3081\n",
      "3160\n",
      "3240\n",
      "3321\n",
      "3403\n",
      "3486\n",
      "3570\n",
      "3655\n",
      "3741\n",
      "3828\n",
      "3916\n",
      "4005\n",
      "4095\n",
      "4186\n",
      "4278\n",
      "4371\n",
      "4465\n",
      "4560\n",
      "4656\n",
      "4753\n",
      "4851\n",
      "4950\n",
      "5050\n"
     ]
    }
   ],
   "source": [
    "# 누적 합계\n",
    "gen4 = itertools.accumulate([x for x in range(1, 101)])\n",
    "\n",
    "for v in gen4:\n",
    "    print(v)"
   ]
  },
  {
   "cell_type": "code",
   "execution_count": 18,
   "id": "2bf85513",
   "metadata": {
    "ExecuteTime": {
     "end_time": "2021-09-06T06:03:16.037635Z",
     "start_time": "2021-09-06T06:03:16.034655Z"
    }
   },
   "outputs": [
    {
     "name": "stdout",
     "output_type": "stream",
     "text": [
      "['A', 'B', 'C', 'D', 'E', 1, 3, 5, 7, 9]\n"
     ]
    }
   ],
   "source": [
    "# 연결1\n",
    "gen5 = itertools.chain('ABCDE', range(1,11,2))\n",
    "\n",
    "print(list(gen5))"
   ]
  },
  {
   "cell_type": "code",
   "execution_count": 19,
   "id": "f8df9e40",
   "metadata": {
    "ExecuteTime": {
     "end_time": "2021-09-06T06:03:23.945629Z",
     "start_time": "2021-09-06T06:03:23.940547Z"
    }
   },
   "outputs": [
    {
     "name": "stdout",
     "output_type": "stream",
     "text": [
      "[(0, 'A'), (1, 'B'), (2, 'C'), (3, 'D'), (4, 'E')]\n"
     ]
    }
   ],
   "source": [
    "# 연결2\n",
    "\n",
    "gen6 = itertools.chain(enumerate('ABCDE'))\n",
    "\n",
    "print(list(gen6))"
   ]
  },
  {
   "cell_type": "code",
   "execution_count": 20,
   "id": "45082464",
   "metadata": {
    "ExecuteTime": {
     "end_time": "2021-09-06T06:03:31.930698Z",
     "start_time": "2021-09-06T06:03:31.922651Z"
    }
   },
   "outputs": [
    {
     "name": "stdout",
     "output_type": "stream",
     "text": [
      "[('A',), ('B',), ('C',), ('D',), ('E',)]\n"
     ]
    }
   ],
   "source": [
    "# 개별\n",
    "gen7 = itertools.product('ABCDE')\n",
    "\n",
    "print(list(gen7))"
   ]
  },
  {
   "cell_type": "code",
   "execution_count": 21,
   "id": "593dfffa",
   "metadata": {
    "ExecuteTime": {
     "end_time": "2021-09-06T06:03:38.968157Z",
     "start_time": "2021-09-06T06:03:38.951157Z"
    }
   },
   "outputs": [
    {
     "name": "stdout",
     "output_type": "stream",
     "text": [
      "[('A', 'A'), ('A', 'B'), ('A', 'C'), ('A', 'D'), ('A', 'E'), ('B', 'A'), ('B', 'B'), ('B', 'C'), ('B', 'D'), ('B', 'E'), ('C', 'A'), ('C', 'B'), ('C', 'C'), ('C', 'D'), ('C', 'E'), ('D', 'A'), ('D', 'B'), ('D', 'C'), ('D', 'D'), ('D', 'E'), ('E', 'A'), ('E', 'B'), ('E', 'C'), ('E', 'D'), ('E', 'E')]\n"
     ]
    }
   ],
   "source": [
    "# 연산(경우의 수)\n",
    "gen8 = itertools.product('ABCDE', repeat=2)\n",
    "\n",
    "print(list(gen8))"
   ]
  },
  {
   "cell_type": "code",
   "execution_count": 22,
   "id": "73c923a2",
   "metadata": {
    "ExecuteTime": {
     "end_time": "2021-09-06T06:03:46.839713Z",
     "start_time": "2021-09-06T06:03:46.824670Z"
    }
   },
   "outputs": [
    {
     "name": "stdout",
     "output_type": "stream",
     "text": [
      "A  :  ['A', 'A', 'A']\n",
      "B  :  ['B', 'B']\n",
      "C  :  ['C', 'C', 'C', 'C']\n",
      "D  :  ['D', 'D']\n",
      "E  :  ['E', 'E', 'E']\n"
     ]
    }
   ],
   "source": [
    "# 그룹화\n",
    "gen9 = itertools.groupby('AAABBCCCCDDEEE')\n",
    "\n",
    "# print(list(gen9))\n",
    "\n",
    "for chr, group in gen9:\n",
    "    print(chr, ' : ', list(group))"
   ]
  },
  {
   "cell_type": "markdown",
   "id": "591ff15c",
   "metadata": {},
   "source": [
    "# 병행성 - 코루틴, Yield"
   ]
  },
  {
   "cell_type": "markdown",
   "id": "1c439505",
   "metadata": {},
   "source": [
    "* 병행성(Concurrency) : 한 컴퓨터가 여러 일을 동시에 수행 -> 단일 프로그램안에서 여러일을 쉽게 해결\n",
    "* 병렬성(Parallelism) : 여러 컴퓨터가 여러 작업을 동시에 수행 -> 속도\n",
    "\n",
    "\n",
    "* 코루틴(Coroutine) : 단일(싱글) 스레드, 스택을 기반으로 동작하는 비동기 작업\n",
    "* 쓰레드 : os 관리, CPU 코어에서 실시간, 시분할 비동기 작업 -> 멀티쓰레드\n",
    "* 서브루틴 : 메인루틴에서 호출 -> 서브루틴에서 수행(흐름제어)\n",
    "\n",
    "\n",
    "* yield : 메인 <-> 서브\n",
    "* 코루틴 제어, 상태, 양방향 전송\n",
    "* yield from"
   ]
  },
  {
   "cell_type": "code",
   "execution_count": 26,
   "id": "b90f2f9f",
   "metadata": {
    "ExecuteTime": {
     "end_time": "2021-09-07T07:39:31.012700Z",
     "start_time": "2021-09-07T07:39:31.000699Z"
    }
   },
   "outputs": [
    {
     "name": "stdout",
     "output_type": "stream",
     "text": [
      "<generator object coroutine1 at 0x0000021E2CB8AE40> <class 'generator'>\n",
      ">>> coroutine started.\n",
      ">>> coroutine received : 100\n"
     ]
    },
    {
     "ename": "StopIteration",
     "evalue": "",
     "output_type": "error",
     "traceback": [
      "\u001b[1;31m---------------------------------------------------------------------------\u001b[0m",
      "\u001b[1;31mStopIteration\u001b[0m                             Traceback (most recent call last)",
      "\u001b[1;32m<ipython-input-26-405de012a38e>\u001b[0m in \u001b[0;36m<module>\u001b[1;34m\u001b[0m\n\u001b[0;32m     14\u001b[0m \u001b[0mnext\u001b[0m\u001b[1;33m(\u001b[0m\u001b[0mcr1\u001b[0m\u001b[1;33m)\u001b[0m\u001b[1;33m\u001b[0m\u001b[1;33m\u001b[0m\u001b[0m\n\u001b[0;32m     15\u001b[0m \u001b[1;33m\u001b[0m\u001b[0m\n\u001b[1;32m---> 16\u001b[1;33m \u001b[0mcr1\u001b[0m\u001b[1;33m.\u001b[0m\u001b[0msend\u001b[0m\u001b[1;33m(\u001b[0m\u001b[1;36m100\u001b[0m\u001b[1;33m)\u001b[0m\u001b[1;33m\u001b[0m\u001b[1;33m\u001b[0m\u001b[0m\n\u001b[0m",
      "\u001b[1;31mStopIteration\u001b[0m: "
     ]
    }
   ],
   "source": [
    "# 코루틴 Ex1\n",
    "def coroutine1():\n",
    "    print('>>> coroutine started.')\n",
    "    i = yield\n",
    "    print('>>> coroutine received : {}'.format(i))\n",
    "\n",
    "\n",
    "# 메인 루틴\n",
    "# 제네레이터 선언\n",
    "cr1 = coroutine1()\n",
    "\n",
    "print(cr1, type(cr1))\n",
    "\n",
    "# yield 지점까지 서브루틴 수행\n",
    "next(cr1)\n",
    "\n",
    "cr1.send(100)"
   ]
  },
  {
   "cell_type": "code",
   "execution_count": 27,
   "id": "1e1301c6",
   "metadata": {
    "ExecuteTime": {
     "end_time": "2021-09-07T07:41:36.891427Z",
     "start_time": "2021-09-07T07:41:36.877427Z"
    }
   },
   "outputs": [
    {
     "ename": "TypeError",
     "evalue": "can't send non-None value to a just-started generator",
     "output_type": "error",
     "traceback": [
      "\u001b[1;31m---------------------------------------------------------------------------\u001b[0m",
      "\u001b[1;31mTypeError\u001b[0m                                 Traceback (most recent call last)",
      "\u001b[1;32m<ipython-input-27-902d001b274e>\u001b[0m in \u001b[0;36m<module>\u001b[1;34m\u001b[0m\n\u001b[0;32m      3\u001b[0m \u001b[0mcr2\u001b[0m \u001b[1;33m=\u001b[0m \u001b[0mcoroutine1\u001b[0m\u001b[1;33m(\u001b[0m\u001b[1;33m)\u001b[0m\u001b[1;33m\u001b[0m\u001b[1;33m\u001b[0m\u001b[0m\n\u001b[0;32m      4\u001b[0m \u001b[1;33m\u001b[0m\u001b[0m\n\u001b[1;32m----> 5\u001b[1;33m \u001b[0mcr2\u001b[0m\u001b[1;33m.\u001b[0m\u001b[0msend\u001b[0m\u001b[1;33m(\u001b[0m\u001b[1;36m100\u001b[0m\u001b[1;33m)\u001b[0m \u001b[1;31m# 예외 발생\u001b[0m\u001b[1;33m\u001b[0m\u001b[1;33m\u001b[0m\u001b[0m\n\u001b[0m",
      "\u001b[1;31mTypeError\u001b[0m: can't send non-None value to a just-started generator"
     ]
    }
   ],
   "source": [
    "# 잘못된 사용\n",
    "\n",
    "cr2 = coroutine1()\n",
    "\n",
    "cr2.send(100) # 예외 발생"
   ]
  },
  {
   "cell_type": "markdown",
   "id": "15dbf33f",
   "metadata": {
    "ExecuteTime": {
     "end_time": "2021-09-07T07:42:28.992752Z",
     "start_time": "2021-09-07T07:42:28.984751Z"
    }
   },
   "source": [
    "코루틴 Ex2\n",
    "* GEN_CREATED : 처음 대기 상태\n",
    "* GEN_RUNNING : 실행 상태\n",
    "* GEN_SUSPENDED : yield 대기 상태\n",
    "* GEN_CLOSED : 실행 완료 상태"
   ]
  },
  {
   "cell_type": "code",
   "execution_count": 29,
   "id": "9c92754b",
   "metadata": {
    "ExecuteTime": {
     "end_time": "2021-09-07T07:42:49.895172Z",
     "start_time": "2021-09-07T07:42:49.885172Z"
    },
    "scrolled": true
   },
   "outputs": [
    {
     "name": "stdout",
     "output_type": "stream",
     "text": [
      "GEN_CREATED\n",
      ">>> coroutine started : 10\n",
      "10\n",
      "GEN_SUSPENDED\n",
      ">>> coroutine received : 15\n",
      "25\n"
     ]
    }
   ],
   "source": [
    "def coroutine2(x):\n",
    "    print('>>> coroutine started : {}'.format(x))\n",
    "    y = yield x\n",
    "    print('>>> coroutine received : {}'.format(y))\n",
    "    z = yield x + y\n",
    "    print('>>> coroutine received : {}'.format(z))\n",
    "\n",
    "\n",
    "cr3 = coroutine2(10)\n",
    "\n",
    "from inspect import getgeneratorstate\n",
    "\n",
    "print(getgeneratorstate(cr3))\n",
    "\n",
    "print(next(cr3))\n",
    "\n",
    "print(getgeneratorstate(cr3))\n",
    "\n",
    "print(cr3.send(15))\n",
    "\n",
    "# print(c3.send(20)) # 예외"
   ]
  },
  {
   "cell_type": "markdown",
   "id": "b508faca",
   "metadata": {},
   "source": [
    "코루틴 Ex3\n",
    "* StopIteration 자동 처리(3.5 -> await)\n",
    "* 중첩 코루틴 처리"
   ]
  },
  {
   "cell_type": "code",
   "execution_count": 31,
   "id": "6f1872fa",
   "metadata": {
    "ExecuteTime": {
     "end_time": "2021-09-07T07:46:49.164198Z",
     "start_time": "2021-09-07T07:46:49.152231Z"
    }
   },
   "outputs": [
    {
     "name": "stdout",
     "output_type": "stream",
     "text": [
      "A\n",
      "B\n",
      "1\n",
      "2\n",
      "3\n",
      "['A', 'B', 1, 2, 3]\n",
      "\n",
      "\n",
      "A\n",
      "B\n",
      "1\n",
      "2\n",
      "3\n"
     ]
    }
   ],
   "source": [
    "def generator1():\n",
    "    for x in 'AB':\n",
    "        yield x\n",
    "    for y in range(1,4):\n",
    "        yield y\n",
    "\n",
    "t1 = generator1()\n",
    "\n",
    "print(next(t1))\n",
    "print(next(t1))\n",
    "print(next(t1))\n",
    "print(next(t1))\n",
    "print(next(t1))\n",
    "# print(next(t1))\n",
    "\n",
    "t2 = generator1()\n",
    "\n",
    "print(list(t2))\n",
    "\n",
    "print()\n",
    "print()\n",
    "\n",
    "def generator2():\n",
    "    yield from 'AB'\n",
    "    yield from range(1,4)\n",
    "\n",
    "\n",
    "t3 = generator2()\n",
    "\n",
    "print(next(t3))\n",
    "print(next(t3))\n",
    "print(next(t3))\n",
    "print(next(t3))\n",
    "print(next(t3))\n",
    "# print(next(t3))"
   ]
  },
  {
   "cell_type": "markdown",
   "id": "9cebd313",
   "metadata": {},
   "source": [
    "# 병렬성 - Futures"
   ]
  },
  {
   "cell_type": "markdown",
   "id": "b6c2e80e",
   "metadata": {},
   "source": [
    "# Futures 동시성\n",
    "* 비동기 작업 실행\n",
    "* 지연시간(Block) CPU 및 리소스 낭비 방지 -> (File)Network I/O 관련 작업 -> 동시성 활용 권장\n",
    "* 비동기 작업과 적합한 프로그램일 경우 압도적으로 성능 향상\n",
    "\n",
    "\n",
    "* futures : 비동기 실행을 위한 API를 고수준으로 작성 -> 사용하기 쉽도록 개선\n",
    "* concurrent.Futures\n",
    "* 1. 멀티스레딩/멀티프로세싱 API 통일 -> 매우 사용하기 쉬움\n",
    "* 2. 실행중이 작업 취소, 완료 여부 체크, 타임아웃 옵션, 콜백추가, 동기화 코드 매우 쉽게 작성 -> Promise 개념\n",
    "\n",
    "\n",
    "* 2가지 패턴 실습\n",
    "* concurrent.futures 사용법1\n",
    "* concurrent.futures 사용법2\n",
    "\n",
    "\n",
    "* GIL : 두 개 이상의 스레드가 동시에 실행 될 때 하나의 자원을 엑세스 하는 경우 -> 문제점을 방지하기 위해\n",
    "*       GIL 실행 , 리소스 전체에 락이 걸린다. -> Context Switch(문맥 교환)\n",
    " \n",
    " \n",
    "* GIL : 멀티프로세싱 사용, CPython"
   ]
  },
  {
   "cell_type": "code",
   "execution_count": 43,
   "id": "035cb51d",
   "metadata": {
    "ExecuteTime": {
     "end_time": "2021-09-07T12:34:49.263281Z",
     "start_time": "2021-09-07T12:34:39.639197Z"
    }
   },
   "outputs": [
    {
     "name": "stdout",
     "output_type": "stream",
     "text": [
      "\n",
      " Result -> [500000500000, 50000005000000, 5000000050000000, 5000000050000000] Time : 9.61s\n"
     ]
    }
   ],
   "source": [
    "import os\n",
    "import time\n",
    "from concurrent import futures\n",
    "\n",
    "WORK_LIST = [1000000, 10000000, 100000000, 100000000]\n",
    "\n",
    "# 동시성 합계 계산 메인함수\n",
    "# 누적 합계 함수(제네레이터)\n",
    "def sum_generator(n):\n",
    "    return sum(n for n in range(1, n+1))\n",
    "\n",
    "def main():\n",
    "    # Worker Count\n",
    "    worker = min(10, len(WORK_LIST))\n",
    "    # 시작 시간\n",
    "    start_tm = time.time()\n",
    "    # 결과 건수\n",
    "    # ProcessPoolExecutor\n",
    "    with futures.ThreadPoolExecutor() as excutor:\n",
    "        # map -> 작업 순서 유지, 즉시 실행\n",
    "        result = excutor.map(sum_generator, WORK_LIST)\n",
    "    # 종료 시간\n",
    "    end_tm = time.time() - start_tm\n",
    "    # 출력 포멧\n",
    "    msg = '\\n Result -> {} Time : {:.2f}s'\n",
    "    # 최종 결과 출력\n",
    "    print(msg.format(list(result), end_tm))\n",
    "\n",
    "# 실행\n",
    "if __name__ == '__main__':\n",
    "    main()"
   ]
  },
  {
   "cell_type": "code",
   "execution_count": 47,
   "id": "eeff8d24",
   "metadata": {
    "ExecuteTime": {
     "end_time": "2021-09-07T12:41:38.425522Z",
     "start_time": "2021-09-07T12:40:44.900632Z"
    }
   },
   "outputs": [
    {
     "name": "stdout",
     "output_type": "stream",
     "text": [
      "Scheduled for 1000000 : <Future at 0x21e2cde2f70 state=running>\n",
      "Scheduled for 10000000 : <Future at 0x21e2caa9a90 state=pending>\n",
      "Scheduled for 100000000 : <Future at 0x21e2cde2820 state=running>\n",
      "Scheduled for 1000000000 : <Future at 0x21e2cd5ea30 state=running>\n",
      "Future Result : 500000500000, Done : True\n",
      "Future Cancelled : <bound method Future.cancelled of <Future at 0x21e2cde2f70 state=finished returned int>>\n",
      "Future Result : 50000005000000, Done : True\n",
      "Future Cancelled : <bound method Future.cancelled of <Future at 0x21e2caa9a90 state=finished returned int>>\n",
      "Future Result : 5000000050000000, Done : True\n",
      "Future Cancelled : <bound method Future.cancelled of <Future at 0x21e2cde2820 state=finished returned int>>\n",
      "Future Result : 500000000500000000, Done : True\n",
      "Future Cancelled : <bound method Future.cancelled of <Future at 0x21e2cd5ea30 state=finished returned int>>\n",
      "\n",
      " Time : 53.52s\n"
     ]
    }
   ],
   "source": [
    "import os\n",
    "import time\n",
    "from concurrent.futures import ThreadPoolExecutor, ProcessPoolExecutor, wait, as_completed\n",
    "\n",
    "WORK_LIST = [1000000, 10000000, 100000000, 1000000000]\n",
    "\n",
    "\n",
    "# 동시성 합계 계산 메인 함수\n",
    "# 누적 합계 함수(제레네이터)\n",
    "def sum_generator(n):\n",
    "    return sum(n for n in range(1, n+1))\n",
    "\n",
    "# wait\n",
    "# as_completed\n",
    "def main():\n",
    "    # Worker Count\n",
    "    worker = min(10, len(WORK_LIST))\n",
    "    \n",
    "    # 시작 시간\n",
    "    start_tm = time.time()\n",
    "    # Futures\n",
    "    futures_list = []\n",
    "\n",
    "    # 결과 건수\n",
    "    # ProcessPoolExecutor\n",
    "    with ThreadPoolExecutor() as excutor:\n",
    "        for work in WORK_LIST:\n",
    "            # future 반환\n",
    "            future = excutor.submit(sum_generator, work)\n",
    "            # 스케쥴링\n",
    "            futures_list.append(future)\n",
    "            # 스케쥴링 확인\n",
    "            print('Scheduled for {} : {}'.format(work, future))\n",
    "            # print()\n",
    "        \n",
    "        # wait 결과 출력\n",
    "        # result = wait(futures_list, timeout=7)\n",
    "        # # 성공\n",
    "        # print('Completed Tasks : ' + str(result.done))\n",
    "        # # 실패\n",
    "        # print('Pending ones after waiting for 7seconds : ' + str(result.not_done))\n",
    "        # # 결과 값 출력\n",
    "        # print([future.result() for future in result.done])\n",
    "        \n",
    "        # as_completed 결과 출력\n",
    "        for future in as_completed(futures_list):\n",
    "            result = future.result()\n",
    "            done = future.done()\n",
    "            cancelled = future.cancelled\n",
    "            \n",
    "            # future 결과 확인\n",
    "            print('Future Result : {}, Done : {}'.format(result, done))\n",
    "            print('Future Cancelled : {}'.format(cancelled))\n",
    "        \n",
    "        \n",
    "            \n",
    "    # 종료 시간\n",
    "    end_tm = time.time() - start_tm\n",
    "    # 출력 포멧\n",
    "    msg = '\\n Time : {:.2f}s'\n",
    "    # 최종 결과 출력\n",
    "    print(msg.format(end_tm))\n",
    "\n",
    "\n",
    "\n",
    "# 실행\n",
    "if __name__ == '__main__':\n",
    "    main()\n"
   ]
  },
  {
   "cell_type": "code",
   "execution_count": null,
   "id": "4f97156a",
   "metadata": {},
   "outputs": [],
   "source": []
  }
 ],
 "metadata": {
  "kernelspec": {
   "display_name": "Python 3",
   "language": "python",
   "name": "python3"
  },
  "language_info": {
   "codemirror_mode": {
    "name": "ipython",
    "version": 3
   },
   "file_extension": ".py",
   "mimetype": "text/x-python",
   "name": "python",
   "nbconvert_exporter": "python",
   "pygments_lexer": "ipython3",
   "version": "3.8.8"
  },
  "toc": {
   "base_numbering": 1,
   "nav_menu": {},
   "number_sections": true,
   "sideBar": true,
   "skip_h1_title": false,
   "title_cell": "Table of Contents",
   "title_sidebar": "Contents",
   "toc_cell": false,
   "toc_position": {},
   "toc_section_display": true,
   "toc_window_display": false
  },
  "varInspector": {
   "cols": {
    "lenName": 16,
    "lenType": 16,
    "lenVar": 40
   },
   "kernels_config": {
    "python": {
     "delete_cmd_postfix": "",
     "delete_cmd_prefix": "del ",
     "library": "var_list.py",
     "varRefreshCmd": "print(var_dic_list())"
    },
    "r": {
     "delete_cmd_postfix": ") ",
     "delete_cmd_prefix": "rm(",
     "library": "var_list.r",
     "varRefreshCmd": "cat(var_dic_list()) "
    }
   },
   "types_to_exclude": [
    "module",
    "function",
    "builtin_function_or_method",
    "instance",
    "_Feature"
   ],
   "window_display": false
  }
 },
 "nbformat": 4,
 "nbformat_minor": 5
}
