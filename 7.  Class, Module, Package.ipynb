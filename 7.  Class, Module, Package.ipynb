{
 "cells": [
  {
   "cell_type": "markdown",
   "id": "0c87dcd0",
   "metadata": {},
   "source": [
    "# 파이썬 클래스\n",
    "## OOP(객체 지향 프로그래밍), Self, 인스턴스 메소드, 인스턴스 변수\n",
    "\n",
    "* 클래스 and 인스턴스 차이 이해\n",
    "* 네임스페이스 : 객체를 인스턴스화 할 때 저장된 공간\n",
    "* 클래스 변수 : 직접 접근 가능, 공유\n",
    "* 인스턴스 변수 : 객체마다 별도 존재"
   ]
  },
  {
   "cell_type": "code",
   "execution_count": 1,
   "id": "2d2c2454",
   "metadata": {},
   "outputs": [
    {
     "name": "stdout",
     "output_type": "stream",
     "text": [
      "<class '__main__.Dog'>\n",
      "False 2254138975808 2254138976096\n",
      "dog1 {'name': 'mikky', 'age': 2}\n",
      "dog2 {'name': 'baby', 'age': 3}\n",
      "mikky is 2 and baby is 3\n",
      "mikky is a firstdog\n",
      "firstdog\n",
      "firstdog\n",
      "firstdog\n"
     ]
    }
   ],
   "source": [
    "# 예제1\n",
    "class Dog: # object 상속\n",
    "    # 클래스 속성\n",
    "    species = 'firstdog'\n",
    "    \n",
    "    # 초기화/인스턴스 속성\n",
    "    def __init__(self, name, age):\n",
    "        self.name = name\n",
    "        self.age = age\n",
    "        \n",
    "# 클래스 정보\n",
    "print(Dog)\n",
    "\n",
    "# 인스턴스화\n",
    "a = Dog(\"mikky\", 2)\n",
    "b = Dog(\"baby\", 3)\n",
    "\n",
    "# 비교\n",
    "print(a == b, id(a), id(b))\n",
    "\n",
    "# 네임스페이스\n",
    "print('dog1', a.__dict__)\n",
    "print('dog2', b.__dict__)    \n",
    "    \n",
    "# 인스턴스 속성 확인\n",
    "print('{} is {} and {} is {}'.format(a.name, a.age, b.name, b.age))\n",
    "\n",
    "if a.species == 'firstdog':\n",
    "    print('{0} is a {1}'.format(a.name, a.species))\n",
    "\n",
    "print(Dog.species)\n",
    "print(a.species)\n",
    "print(b.species)"
   ]
  },
  {
   "cell_type": "code",
   "execution_count": 2,
   "id": "9bf3096b",
   "metadata": {},
   "outputs": [
    {
     "name": "stdout",
     "output_type": "stream",
     "text": [
      "2254138797456\n",
      "2254138797456\n",
      "Func2 called\n",
      "Func1 called\n",
      "2254138797456\n",
      "Func2 called\n"
     ]
    }
   ],
   "source": [
    "# 예제2\n",
    "# self의 이해\n",
    "class SelfTest:\n",
    "    def func1():\n",
    "        print('Func1 called')\n",
    "    def func2(self):\n",
    "        print(id(self))\n",
    "        print('Func2 called')\n",
    "\n",
    "\n",
    "f = SelfTest()\n",
    "\n",
    "# print(dir(f))\n",
    "print(id(f))\n",
    "# f.func1() # 예외\n",
    "f.func2()\n",
    "SelfTest.func1()\n",
    "# SelfTest.func2() # 예외\n",
    "SelfTest.func2(f)"
   ]
  },
  {
   "cell_type": "code",
   "execution_count": 3,
   "id": "2f70aeac",
   "metadata": {},
   "outputs": [
    {
     "name": "stdout",
     "output_type": "stream",
     "text": [
      "2\n",
      "Lee\n",
      "Cho\n",
      "{'name': 'Lee'}\n",
      "{'name': 'Cho'}\n",
      "before {'__module__': '__main__', 'stock_num': 2, '__init__': <function Warehouse.__init__ at 0x0000020CD526D790>, '__del__': <function Warehouse.__del__ at 0x0000020CD526D820>, '__dict__': <attribute '__dict__' of 'Warehouse' objects>, '__weakref__': <attribute '__weakref__' of 'Warehouse' objects>, '__doc__': None}\n",
      ">>> 2\n",
      "after {'__module__': '__main__', 'stock_num': 1, '__init__': <function Warehouse.__init__ at 0x0000020CD526D790>, '__del__': <function Warehouse.__del__ at 0x0000020CD526D820>, '__dict__': <attribute '__dict__' of 'Warehouse' objects>, '__weakref__': <attribute '__weakref__' of 'Warehouse' objects>, '__doc__': None}\n"
     ]
    }
   ],
   "source": [
    "# 예제3\n",
    "# 클래스 변수, 인스턴스 변수\n",
    "class Warehouse:\n",
    "    # 클래스 변수 \n",
    "    stock_num = 0 # 재고\n",
    "    \n",
    "    def __init__(self, name):\n",
    "        # 인스턴스 변수\n",
    "        self.name = name\n",
    "        Warehouse.stock_num += 1\n",
    "    \n",
    "    def __del__(self):\n",
    "        Warehouse.stock_num -= 1\n",
    "\n",
    "user1 = Warehouse('Lee')\n",
    "user2 = Warehouse('Cho')\n",
    "\n",
    "print(Warehouse.stock_num)\n",
    "# Warehouse.stock_num = 0.0094\n",
    "print(user1.name)\n",
    "print(user2.name)\n",
    "print(user1.__dict__)\n",
    "print(user2.__dict__)\n",
    "print('before', Warehouse.__dict__)\n",
    "print('>>>', user1.stock_num)\n",
    "\n",
    "del user1\n",
    "print('after', Warehouse.__dict__)"
   ]
  },
  {
   "cell_type": "code",
   "execution_count": 5,
   "id": "b25b1ed8",
   "metadata": {},
   "outputs": [
    {
     "name": "stdout",
     "output_type": "stream",
     "text": [
      "july is 4 years old\n",
      "Marry is 10 years old\n",
      "july says Wal Wal!\n",
      "Marry says Mung Mung!\n"
     ]
    }
   ],
   "source": [
    "# 예제4\n",
    "class Dog: # object 상속\n",
    "    # 클래스 속성\n",
    "    species = 'firstdog'\n",
    "    \n",
    "    # 초기화/인스턴스 속성\n",
    "    def __init__(self, name, age):\n",
    "        self.name = name\n",
    "        self.age = age\n",
    "    \n",
    "    def info(self):\n",
    "        return '{} is {} years old'.format(self.name, self.age)\n",
    "        \n",
    "    def speak(self, sound):\n",
    "        return \"{} says {}!\".format(self.name, sound)\n",
    "\n",
    "\n",
    "# 인스턴스 생성\n",
    "c = Dog('july', 4)\n",
    "d = Dog('Marry', 10)\n",
    "# 메소드 호출\n",
    "print(c.info())\n",
    "print(d.info())\n",
    "# 메소드 호출\n",
    "print(c.speak('Wal Wal'))\n",
    "print(d.speak('Mung Mung'))"
   ]
  },
  {
   "cell_type": "markdown",
   "id": "3a740e22",
   "metadata": {},
   "source": [
    "# 파이썬 모듈\n",
    "## Module : 함수, 변수, 클래스 등 파이썬 구성 요소 등을 모아놓은 파일"
   ]
  },
  {
   "cell_type": "code",
   "execution_count": 6,
   "id": "167b7e20",
   "metadata": {},
   "outputs": [
    {
     "name": "stdout",
     "output_type": "stream",
     "text": [
      "---------------\n",
      "called! __main__\n",
      "10\n",
      "10\n",
      "25\n",
      "5.0\n",
      "125\n",
      "---------------\n"
     ]
    }
   ],
   "source": [
    "def add(x, y):\n",
    "    return x + y\n",
    "\n",
    "def subtract(x, y):\n",
    "    return x - y\n",
    "\n",
    "def multiply(x, y):\n",
    "    return x * y\n",
    "\n",
    "def divide(x , y):\n",
    "    return x / y\n",
    "    \n",
    "def power(x, y):\n",
    "    return x ** y\n",
    "    \n",
    "    \n",
    "# print('-' * 15)\n",
    "# print('called! inner!')\n",
    "# print(add(5,5))\n",
    "# print(subtract(15,5))\n",
    "# print(multiply(5,5))\n",
    "# print(divide(10,2))\n",
    "# print(power(5,3))\n",
    "# print('-' * 15)\n",
    "\n",
    "# __name__ 사용\n",
    "if __name__ == \"__main__\":\n",
    "    print('-' * 15)\n",
    "    print('called! __main__')\n",
    "    print(add(5,5))\n",
    "    print(subtract(15,5))\n",
    "    print(multiply(5,5))\n",
    "    print(divide(10,2))\n",
    "    print(power(5,3))\n",
    "    print('-' * 15)"
   ]
  },
  {
   "cell_type": "markdown",
   "id": "42800eaa",
   "metadata": {},
   "source": [
    "# 파이썬 패키지\n",
    "## 패키지 작성 및 사용법\n",
    "* 파이썬은 패키지로 분할 된 개별적인 모듈로 구성\n",
    "*  __init__.py : Python3.3 부터는 없어도 패키지로 인식 -> 단, 하위 호환을 위해 작성 추천\n",
    "*  상대 경로 : ..(부모 디렉토리), .(현재 디렉토리) -> 모듈 내부에서만 사용"
   ]
  },
  {
   "cell_type": "code",
   "execution_count": 7,
   "id": "34c7c74a",
   "metadata": {},
   "outputs": [
    {
     "ename": "ModuleNotFoundError",
     "evalue": "No module named 'sub'",
     "output_type": "error",
     "traceback": [
      "\u001b[1;31m---------------------------------------------------------------------------\u001b[0m",
      "\u001b[1;31mModuleNotFoundError\u001b[0m                       Traceback (most recent call last)",
      "\u001b[1;32m<ipython-input-7-7487e30662a6>\u001b[0m in \u001b[0;36m<module>\u001b[1;34m\u001b[0m\n\u001b[0;32m      1\u001b[0m \u001b[1;31m# 예제1\u001b[0m\u001b[1;33m\u001b[0m\u001b[1;33m\u001b[0m\u001b[1;33m\u001b[0m\u001b[0m\n\u001b[1;32m----> 2\u001b[1;33m \u001b[1;32mimport\u001b[0m \u001b[0msub\u001b[0m\u001b[1;33m.\u001b[0m\u001b[0msub1\u001b[0m\u001b[1;33m.\u001b[0m\u001b[0mmodule1\u001b[0m\u001b[1;33m\u001b[0m\u001b[1;33m\u001b[0m\u001b[0m\n\u001b[0m\u001b[0;32m      3\u001b[0m \u001b[1;32mimport\u001b[0m \u001b[0msub\u001b[0m\u001b[1;33m.\u001b[0m\u001b[0msub2\u001b[0m\u001b[1;33m.\u001b[0m\u001b[0mmodule2\u001b[0m\u001b[1;33m\u001b[0m\u001b[1;33m\u001b[0m\u001b[0m\n\u001b[0;32m      4\u001b[0m \u001b[1;33m\u001b[0m\u001b[0m\n\u001b[0;32m      5\u001b[0m \u001b[1;31m# 사용\u001b[0m\u001b[1;33m\u001b[0m\u001b[1;33m\u001b[0m\u001b[1;33m\u001b[0m\u001b[0m\n",
      "\u001b[1;31mModuleNotFoundError\u001b[0m: No module named 'sub'"
     ]
    }
   ],
   "source": [
    "# 예제1\n",
    "import sub.sub1.module1\n",
    "import sub.sub2.module2\n",
    "\n",
    "# 사용\n",
    "sub.sub1.module1.mod1_test1()\n",
    "sub.sub1.module1.mod1_test2()\n",
    "\n",
    "# 사용\n",
    "sub.sub2.module2.mod2_test1()\n",
    "sub.sub2.module2.mod2_test2()"
   ]
  },
  {
   "cell_type": "code",
   "execution_count": 8,
   "id": "b8ef1840",
   "metadata": {},
   "outputs": [
    {
     "ename": "ModuleNotFoundError",
     "evalue": "No module named 'sub'",
     "output_type": "error",
     "traceback": [
      "\u001b[1;31m---------------------------------------------------------------------------\u001b[0m",
      "\u001b[1;31mModuleNotFoundError\u001b[0m                       Traceback (most recent call last)",
      "\u001b[1;32m<ipython-input-8-dcf156b0a93c>\u001b[0m in \u001b[0;36m<module>\u001b[1;34m\u001b[0m\n\u001b[0;32m      1\u001b[0m \u001b[1;31m# 예제2\u001b[0m\u001b[1;33m\u001b[0m\u001b[1;33m\u001b[0m\u001b[1;33m\u001b[0m\u001b[0m\n\u001b[1;32m----> 2\u001b[1;33m \u001b[1;32mfrom\u001b[0m \u001b[0msub\u001b[0m\u001b[1;33m.\u001b[0m\u001b[0msub1\u001b[0m \u001b[1;32mimport\u001b[0m \u001b[0mmodule1\u001b[0m\u001b[1;33m\u001b[0m\u001b[1;33m\u001b[0m\u001b[0m\n\u001b[0m\u001b[0;32m      3\u001b[0m \u001b[1;32mfrom\u001b[0m \u001b[0msub\u001b[0m\u001b[1;33m.\u001b[0m\u001b[0msub2\u001b[0m \u001b[1;32mimport\u001b[0m \u001b[0mmodule2\u001b[0m \u001b[1;32mas\u001b[0m \u001b[0mm2\u001b[0m \u001b[1;31m# Alias\u001b[0m\u001b[1;33m\u001b[0m\u001b[1;33m\u001b[0m\u001b[0m\n\u001b[0;32m      4\u001b[0m \u001b[1;33m\u001b[0m\u001b[0m\n\u001b[0;32m      5\u001b[0m \u001b[1;31m# 사용\u001b[0m\u001b[1;33m\u001b[0m\u001b[1;33m\u001b[0m\u001b[1;33m\u001b[0m\u001b[0m\n",
      "\u001b[1;31mModuleNotFoundError\u001b[0m: No module named 'sub'"
     ]
    }
   ],
   "source": [
    "# 예제2\n",
    "from sub.sub1 import module1\n",
    "from sub.sub2 import module2 as m2 # Alias\n",
    "\n",
    "# 사용\n",
    "module1.mod1_test1()\n",
    "module1.mod1_test2()\n",
    "\n",
    "# 사용\n",
    "m2.mod2_test1()\n",
    "m2.mod2_test2()"
   ]
  },
  {
   "cell_type": "code",
   "execution_count": null,
   "id": "92531c3a",
   "metadata": {},
   "outputs": [],
   "source": [
    "# 예제3\n",
    "from sub.sub1 import *\n",
    "from sub.sub2 import *\n",
    "\n",
    "# 사용\n",
    "module1.mod1_test1()\n",
    "module1.mod1_test2()\n",
    "\n",
    "# 사용\n",
    "module2.mod2_test1()\n",
    "module2.mod2_test2()"
   ]
  }
 ],
 "metadata": {
  "kernelspec": {
   "display_name": "Python 3",
   "language": "python",
   "name": "python3"
  },
  "language_info": {
   "codemirror_mode": {
    "name": "ipython",
    "version": 3
   },
   "file_extension": ".py",
   "mimetype": "text/x-python",
   "name": "python",
   "nbconvert_exporter": "python",
   "pygments_lexer": "ipython3",
   "version": "3.8.8"
  }
 },
 "nbformat": 4,
 "nbformat_minor": 5
}
