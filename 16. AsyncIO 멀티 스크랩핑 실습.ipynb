{
 "cells": [
  {
   "cell_type": "code",
   "execution_count": 1,
   "id": "511a5eb4",
   "metadata": {
    "ExecuteTime": {
     "end_time": "2021-09-07T13:04:25.353632Z",
     "start_time": "2021-09-07T13:04:25.195304Z"
    }
   },
   "outputs": [
    {
     "ename": "RuntimeError",
     "evalue": "This event loop is already running",
     "output_type": "error",
     "traceback": [
      "\u001b[1;31m---------------------------------------------------------------------------\u001b[0m",
      "\u001b[1;31mRuntimeError\u001b[0m                              Traceback (most recent call last)",
      "\u001b[1;32m<ipython-input-1-004c778fb3d9>\u001b[0m in \u001b[0;36m<module>\u001b[1;34m\u001b[0m\n\u001b[0;32m     47\u001b[0m     \u001b[0mloop\u001b[0m \u001b[1;33m=\u001b[0m \u001b[0masyncio\u001b[0m\u001b[1;33m.\u001b[0m\u001b[0mget_event_loop\u001b[0m\u001b[1;33m(\u001b[0m\u001b[1;33m)\u001b[0m\u001b[1;33m\u001b[0m\u001b[1;33m\u001b[0m\u001b[0m\n\u001b[0;32m     48\u001b[0m     \u001b[1;31m# 작업 완료 까지 대기\u001b[0m\u001b[1;33m\u001b[0m\u001b[1;33m\u001b[0m\u001b[1;33m\u001b[0m\u001b[0m\n\u001b[1;32m---> 49\u001b[1;33m     \u001b[0mloop\u001b[0m\u001b[1;33m.\u001b[0m\u001b[0mrun_until_complete\u001b[0m\u001b[1;33m(\u001b[0m\u001b[0mmain\u001b[0m\u001b[1;33m(\u001b[0m\u001b[1;33m)\u001b[0m\u001b[1;33m)\u001b[0m\u001b[1;33m\u001b[0m\u001b[1;33m\u001b[0m\u001b[0m\n\u001b[0m\u001b[0;32m     50\u001b[0m     \u001b[1;31m# 수행 시간 계산\u001b[0m\u001b[1;33m\u001b[0m\u001b[1;33m\u001b[0m\u001b[1;33m\u001b[0m\u001b[0m\n\u001b[0;32m     51\u001b[0m     \u001b[0mduration\u001b[0m \u001b[1;33m=\u001b[0m \u001b[0mtimeit\u001b[0m\u001b[1;33m.\u001b[0m\u001b[0mdefault_timer\u001b[0m\u001b[1;33m(\u001b[0m\u001b[1;33m)\u001b[0m \u001b[1;33m-\u001b[0m \u001b[0mstart\u001b[0m\u001b[1;33m\u001b[0m\u001b[1;33m\u001b[0m\u001b[0m\n",
      "\u001b[1;32mC:\\ProgramData\\Anaconda3\\lib\\asyncio\\base_events.py\u001b[0m in \u001b[0;36mrun_until_complete\u001b[1;34m(self, future)\u001b[0m\n\u001b[0;32m    590\u001b[0m         \"\"\"\n\u001b[0;32m    591\u001b[0m         \u001b[0mself\u001b[0m\u001b[1;33m.\u001b[0m\u001b[0m_check_closed\u001b[0m\u001b[1;33m(\u001b[0m\u001b[1;33m)\u001b[0m\u001b[1;33m\u001b[0m\u001b[1;33m\u001b[0m\u001b[0m\n\u001b[1;32m--> 592\u001b[1;33m         \u001b[0mself\u001b[0m\u001b[1;33m.\u001b[0m\u001b[0m_check_running\u001b[0m\u001b[1;33m(\u001b[0m\u001b[1;33m)\u001b[0m\u001b[1;33m\u001b[0m\u001b[1;33m\u001b[0m\u001b[0m\n\u001b[0m\u001b[0;32m    593\u001b[0m \u001b[1;33m\u001b[0m\u001b[0m\n\u001b[0;32m    594\u001b[0m         \u001b[0mnew_task\u001b[0m \u001b[1;33m=\u001b[0m \u001b[1;32mnot\u001b[0m \u001b[0mfutures\u001b[0m\u001b[1;33m.\u001b[0m\u001b[0misfuture\u001b[0m\u001b[1;33m(\u001b[0m\u001b[0mfuture\u001b[0m\u001b[1;33m)\u001b[0m\u001b[1;33m\u001b[0m\u001b[1;33m\u001b[0m\u001b[0m\n",
      "\u001b[1;32mC:\\ProgramData\\Anaconda3\\lib\\asyncio\\base_events.py\u001b[0m in \u001b[0;36m_check_running\u001b[1;34m(self)\u001b[0m\n\u001b[0;32m    550\u001b[0m     \u001b[1;32mdef\u001b[0m \u001b[0m_check_running\u001b[0m\u001b[1;33m(\u001b[0m\u001b[0mself\u001b[0m\u001b[1;33m)\u001b[0m\u001b[1;33m:\u001b[0m\u001b[1;33m\u001b[0m\u001b[1;33m\u001b[0m\u001b[0m\n\u001b[0;32m    551\u001b[0m         \u001b[1;32mif\u001b[0m \u001b[0mself\u001b[0m\u001b[1;33m.\u001b[0m\u001b[0mis_running\u001b[0m\u001b[1;33m(\u001b[0m\u001b[1;33m)\u001b[0m\u001b[1;33m:\u001b[0m\u001b[1;33m\u001b[0m\u001b[1;33m\u001b[0m\u001b[0m\n\u001b[1;32m--> 552\u001b[1;33m             \u001b[1;32mraise\u001b[0m \u001b[0mRuntimeError\u001b[0m\u001b[1;33m(\u001b[0m\u001b[1;34m'This event loop is already running'\u001b[0m\u001b[1;33m)\u001b[0m\u001b[1;33m\u001b[0m\u001b[1;33m\u001b[0m\u001b[0m\n\u001b[0m\u001b[0;32m    553\u001b[0m         \u001b[1;32mif\u001b[0m \u001b[0mevents\u001b[0m\u001b[1;33m.\u001b[0m\u001b[0m_get_running_loop\u001b[0m\u001b[1;33m(\u001b[0m\u001b[1;33m)\u001b[0m \u001b[1;32mis\u001b[0m \u001b[1;32mnot\u001b[0m \u001b[1;32mNone\u001b[0m\u001b[1;33m:\u001b[0m\u001b[1;33m\u001b[0m\u001b[1;33m\u001b[0m\u001b[0m\n\u001b[0;32m    554\u001b[0m             raise RuntimeError(\n",
      "\u001b[1;31mRuntimeError\u001b[0m: This event loop is already running"
     ]
    }
   ],
   "source": [
    "# Chapter07-01\n",
    "# Asyncio\n",
    "# 비동기 I/O Coroutine 작업\n",
    "# Generator -> 반복적인 객체 Return 사용\n",
    "# non-blocking 비동기 처리\n",
    "\n",
    "# Asyncio 웹 스크랩핑 실습\n",
    "# aiohttp 권장\n",
    "import asyncio\n",
    "import timeit\n",
    "from urllib.request import urlopen\n",
    "from concurrent.futures import ThreadPoolExecutor\n",
    "import threading\n",
    "\n",
    "# 실행 시작 시간\n",
    "start = timeit.default_timer()\n",
    "# 서비스 방향이 비슷한 사이트로 실습 권장(예 : 게시판성 커뮤니티)\n",
    "urls = ['http://daum.net', 'https://naver.com', 'http://mlbpark.donga.com/', 'https://tistory.com', 'https://wemakeprice.com/']\n",
    "\n",
    "\n",
    "async def fetch(url, executor):\n",
    "    # 쓰레드명 출력\n",
    "    print('Thread Name :', threading.current_thread().getName(), 'Start', url)\n",
    "    # 실행\n",
    "    res = await loop.run_in_executor(executor, urlopen, url)\n",
    "    print('Thread Name :', threading.current_thread().getName(), 'Done', url)\n",
    "    # 결과 반환\n",
    "    return res.read()[0:5]\n",
    "\n",
    "async def main():\n",
    "    # 쓰레드 풀 생성\n",
    "    executor = ThreadPoolExecutor(max_workers=10)\n",
    "\n",
    "    # future 객체 모아서 gather에서 실행\n",
    "    futures = [\n",
    "        asyncio.ensure_future(fetch(url, executor)) for url in urls\n",
    "    ]\n",
    "    \n",
    "    # 결과 취합\n",
    "    rst = await asyncio.gather(*futures)\n",
    "\n",
    "    print()\n",
    "    print('Result : ', rst)\n",
    "\n",
    "if __name__ == '__main__':\n",
    "    # 루프 초기화\n",
    "    loop = asyncio.get_event_loop()\n",
    "    # 작업 완료 까지 대기\n",
    "    loop.run_until_complete(main())\n",
    "    # 수행 시간 계산\n",
    "    duration = timeit.default_timer() - start\n",
    "    # 총 실행 시간\n",
    "    print('Total Running Time : ', duration)"
   ]
  },
  {
   "cell_type": "code",
   "execution_count": 2,
   "id": "c588ea59",
   "metadata": {
    "ExecuteTime": {
     "end_time": "2021-09-07T13:05:14.834529Z",
     "start_time": "2021-09-07T13:05:14.603475Z"
    }
   },
   "outputs": [
    {
     "ename": "UnsupportedOperation",
     "evalue": "detach",
     "output_type": "error",
     "traceback": [
      "\u001b[1;31m---------------------------------------------------------------------------\u001b[0m",
      "\u001b[1;31mUnsupportedOperation\u001b[0m                      Traceback (most recent call last)",
      "\u001b[1;32m<ipython-input-2-70f444faef3b>\u001b[0m in \u001b[0;36m<module>\u001b[1;34m\u001b[0m\n\u001b[0;32m     18\u001b[0m \u001b[1;32mimport\u001b[0m \u001b[0msys\u001b[0m\u001b[1;33m\u001b[0m\u001b[1;33m\u001b[0m\u001b[0m\n\u001b[0;32m     19\u001b[0m \u001b[1;32mimport\u001b[0m \u001b[0mio\u001b[0m\u001b[1;33m\u001b[0m\u001b[1;33m\u001b[0m\u001b[0m\n\u001b[1;32m---> 20\u001b[1;33m \u001b[0msys\u001b[0m\u001b[1;33m.\u001b[0m\u001b[0mstdout\u001b[0m \u001b[1;33m=\u001b[0m \u001b[0mio\u001b[0m\u001b[1;33m.\u001b[0m\u001b[0mTextIOWrapper\u001b[0m\u001b[1;33m(\u001b[0m\u001b[0msys\u001b[0m\u001b[1;33m.\u001b[0m\u001b[0mstdout\u001b[0m\u001b[1;33m.\u001b[0m\u001b[0mdetach\u001b[0m\u001b[1;33m(\u001b[0m\u001b[1;33m)\u001b[0m\u001b[1;33m,\u001b[0m \u001b[0mencoding\u001b[0m \u001b[1;33m=\u001b[0m \u001b[1;34m'utf-8'\u001b[0m\u001b[1;33m)\u001b[0m\u001b[1;33m\u001b[0m\u001b[1;33m\u001b[0m\u001b[0m\n\u001b[0m\u001b[0;32m     21\u001b[0m \u001b[0msys\u001b[0m\u001b[1;33m.\u001b[0m\u001b[0mstderr\u001b[0m \u001b[1;33m=\u001b[0m \u001b[0mio\u001b[0m\u001b[1;33m.\u001b[0m\u001b[0mTextIOWrapper\u001b[0m\u001b[1;33m(\u001b[0m\u001b[0msys\u001b[0m\u001b[1;33m.\u001b[0m\u001b[0mstderr\u001b[0m\u001b[1;33m.\u001b[0m\u001b[0mdetach\u001b[0m\u001b[1;33m(\u001b[0m\u001b[1;33m)\u001b[0m\u001b[1;33m,\u001b[0m \u001b[0mencoding\u001b[0m \u001b[1;33m=\u001b[0m \u001b[1;34m'utf-8'\u001b[0m\u001b[1;33m)\u001b[0m\u001b[1;33m\u001b[0m\u001b[1;33m\u001b[0m\u001b[0m\n\u001b[0;32m     22\u001b[0m \u001b[1;33m\u001b[0m\u001b[0m\n",
      "\u001b[1;31mUnsupportedOperation\u001b[0m: detach"
     ]
    }
   ],
   "source": [
    "# Chapter07-02\n",
    "# Asyncio\n",
    "# 비동기 I/O Coroutine 작업\n",
    "# Generator -> 반복적인 객체 Return 사용\n",
    "# non-blocking 비동기 처리\n",
    "\n",
    "# Asyncio 웹 스크랩핑 실습\n",
    "# Beautiful Soup 추가\n",
    "# 스케쥴러 사용시 주기적으로 데이터 수집 가능\n",
    "# 수집 정보 DB 저장 -> 파이썬 기초 강의 참고\n",
    "import asyncio\n",
    "import timeit\n",
    "from urllib.request import urlopen\n",
    "from concurrent.futures import ThreadPoolExecutor\n",
    "import threading\n",
    "from bs4 import BeautifulSoup\n",
    "\n",
    "import sys\n",
    "import io\n",
    "sys.stdout = io.TextIOWrapper(sys.stdout.detach(), encoding = 'utf-8')\n",
    "sys.stderr = io.TextIOWrapper(sys.stderr.detach(), encoding = 'utf-8')\n",
    "\n",
    "# 실행 시작 시간\n",
    "start = timeit.default_timer()\n",
    "# 서비스 방향이 비슷한 사이트로 실습 권장(예 : 게시판성 커뮤니티)\n",
    "urls = ['http://daum.net', 'https://naver.com', 'http://mlbpark.donga.com/', 'https://tistory.com', 'https://www.inflearn.com/']\n",
    "\n",
    "\n",
    "async def fetch(url, executor):\n",
    "    # 쓰레드명 출력\n",
    "    print('Thread Name :', threading.current_thread().getName(), 'Start', url)\n",
    "    # 실행\n",
    "    res = await loop.run_in_executor(executor, urlopen, url)\n",
    "    \n",
    "    soup = BeautifulSoup(res.read(), 'html.parser')\n",
    "    \n",
    "    # 전체 페이지 소스 확인\n",
    "    # print(soup.prettify())\n",
    "    # 이 부분에서 BeautifulSoup Selector(선택자)를 활용해서 다양한 정보 가져오기 가능\n",
    "    # 현 예제에서는 페이지 타이틀 정보 수집\n",
    "    result_data = soup.title\n",
    "\n",
    "    print('Thread Name :', threading.current_thread().getName(), 'Done', url)\n",
    "    # 결과 반환\n",
    "    return result_data\n",
    "\n",
    "async def main():\n",
    "    # 쓰레드 풀 생성\n",
    "    executor = ThreadPoolExecutor(max_workers=10)\n",
    "\n",
    "    # future 객체 모아서 gather에서 실행\n",
    "    futures = [\n",
    "        asyncio.ensure_future(fetch(url, executor)) for url in urls\n",
    "    ]\n",
    "    \n",
    "    # 결과 취합\n",
    "    rst = await asyncio.gather(*futures)\n",
    "\n",
    "    print()\n",
    "    print('Result : ', rst)\n",
    "\n",
    "if __name__ == '__main__':\n",
    "    # 루프 초기화\n",
    "    loop = asyncio.get_event_loop()\n",
    "    # 작업 완료 까지 대기\n",
    "    loop.run_until_complete(main())\n",
    "    # 수행 시간 계산\n",
    "    duration = timeit.default_timer() - start\n",
    "    # 총 실행 시간\n",
    "    print('Total Running Time : ', duration)"
   ]
  },
  {
   "cell_type": "code",
   "execution_count": null,
   "id": "24ad2381",
   "metadata": {},
   "outputs": [],
   "source": []
  }
 ],
 "metadata": {
  "kernelspec": {
   "display_name": "Python 3",
   "language": "python",
   "name": "python3"
  },
  "language_info": {
   "codemirror_mode": {
    "name": "ipython",
    "version": 3
   },
   "file_extension": ".py",
   "mimetype": "text/x-python",
   "name": "python",
   "nbconvert_exporter": "python",
   "pygments_lexer": "ipython3",
   "version": "3.8.8"
  },
  "toc": {
   "base_numbering": 1,
   "nav_menu": {},
   "number_sections": true,
   "sideBar": true,
   "skip_h1_title": false,
   "title_cell": "Table of Contents",
   "title_sidebar": "Contents",
   "toc_cell": false,
   "toc_position": {},
   "toc_section_display": true,
   "toc_window_display": false
  },
  "varInspector": {
   "cols": {
    "lenName": 16,
    "lenType": 16,
    "lenVar": 40
   },
   "kernels_config": {
    "python": {
     "delete_cmd_postfix": "",
     "delete_cmd_prefix": "del ",
     "library": "var_list.py",
     "varRefreshCmd": "print(var_dic_list())"
    },
    "r": {
     "delete_cmd_postfix": ") ",
     "delete_cmd_prefix": "rm(",
     "library": "var_list.r",
     "varRefreshCmd": "cat(var_dic_list()) "
    }
   },
   "types_to_exclude": [
    "module",
    "function",
    "builtin_function_or_method",
    "instance",
    "_Feature"
   ],
   "window_display": false
  }
 },
 "nbformat": 4,
 "nbformat_minor": 5
}
