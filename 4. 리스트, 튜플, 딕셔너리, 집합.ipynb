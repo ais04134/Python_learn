{
 "cells": [
  {
   "cell_type": "markdown",
   "id": "ce29d23d",
   "metadata": {},
   "source": [
    "# 파이썬 리스트\n",
    "* 자료구조에서 중요\n",
    "* 파이썬 배열 제공X\n",
    "* 리스트 자료형(순서O, 중복O, 수정O, 삭제O)"
   ]
  },
  {
   "cell_type": "code",
   "execution_count": 1,
   "id": "12831b47",
   "metadata": {},
   "outputs": [],
   "source": [
    "# 선언\n",
    "a = []\n",
    "b = list()\n",
    "c = [70, 75, 80, 85]\n",
    "d = [1000, 10000, 'Ace', 'Base', 'Captine']\n",
    "e = [1000, 10000, ['Ace', 'Base', 'Captine']]\n",
    "f  = [21.42, 'foobar', 3, 4, 'bark', False, 3.14159]"
   ]
  },
  {
   "cell_type": "code",
   "execution_count": 2,
   "id": "f67b37d8",
   "metadata": {},
   "outputs": [
    {
     "name": "stdout",
     "output_type": "stream",
     "text": [
      ">>>>>>\n",
      "d -  <class 'list'> [1000, 10000, 'Ace', 'Base', 'Captine']\n",
      "d -  10000\n",
      "d -  21000\n",
      "d -  Captine\n",
      "e -  Base\n",
      "e -  ['B', 'a', 's', 'e']\n"
     ]
    }
   ],
   "source": [
    "# 인덱싱\n",
    "print('>>>>>>')\n",
    "print('d - ', type(d), d)\n",
    "print('d - ', d[1])\n",
    "print('d - ', d[0] + d[1] + d[1])\n",
    "print('d - ', d[-1])\n",
    "print('e - ', e[-1][1])\n",
    "print('e - ', list(e[-1][1])) # 요거는 좀 신기하네 # 문자열이 시퀀스 이기 때문에 list형태로 바꾸니 이런식으로 적용된다."
   ]
  },
  {
   "cell_type": "code",
   "execution_count": 3,
   "id": "4c52d778",
   "metadata": {},
   "outputs": [
    {
     "name": "stdout",
     "output_type": "stream",
     "text": [
      ">>>>>>\n",
      "d -  [1000, 10000, 'Ace']\n",
      "d -  ['Ace', 'Base', 'Captine']\n",
      "e -  ['Base', 'Captine']\n"
     ]
    }
   ],
   "source": [
    "# 슬라이싱\n",
    "print('>>>>>>')\n",
    "print('d - ', d[0:3])\n",
    "print('d - ', d[2:])\n",
    "print('e - ', e[2][1:3])"
   ]
  },
  {
   "cell_type": "code",
   "execution_count": 4,
   "id": "49b73991",
   "metadata": {},
   "outputs": [
    {
     "name": "stdout",
     "output_type": "stream",
     "text": [
      ">>>>>>\n",
      "c + d -  [70, 75, 80, 85, 1000, 10000, 'Ace', 'Base', 'Captine']\n",
      "c * 3 -  [70, 75, 80, 85, 70, 75, 80, 85, 70, 75, 80, 85]\n",
      "'Test' + c[0] -  Test70\n"
     ]
    }
   ],
   "source": [
    "# 리스트 연산\n",
    "print('>>>>>>')\n",
    "print('c + d - ', c + d)\n",
    "print('c * 3 - ', c * 3)\n",
    "# print(\"c[0] + 'hi' - \",c[0] + 'hi')\n",
    "print(\"'Test' + c[0] - \", 'Test' + str(c[0]))"
   ]
  },
  {
   "cell_type": "code",
   "execution_count": 5,
   "id": "bd026298",
   "metadata": {},
   "outputs": [
    {
     "name": "stdout",
     "output_type": "stream",
     "text": [
      "True\n"
     ]
    }
   ],
   "source": [
    "# 값 비교\n",
    "print(c == c[:3] + c[3:])"
   ]
  },
  {
   "cell_type": "code",
   "execution_count": 6,
   "id": "cf84bd3f",
   "metadata": {},
   "outputs": [
    {
     "name": "stdout",
     "output_type": "stream",
     "text": [
      "True\n"
     ]
    }
   ],
   "source": [
    "# 같은 id 값\n",
    "temp = c\n",
    "print(c == temp)"
   ]
  },
  {
   "cell_type": "code",
   "execution_count": 7,
   "id": "55a82d2f",
   "metadata": {
    "scrolled": true
   },
   "outputs": [
    {
     "name": "stdout",
     "output_type": "stream",
     "text": [
      ">>>>>>\n",
      "c -  [4, 75, 80, 85]\n",
      "c -  [4, 'a', 'b', 'c', 80, 85]\n",
      "c -  [4, ['a', 'b', 'c'], 'b', 'c', 80, 85]\n",
      "c -  [4, 'c', 80, 85]\n",
      "c -  [4, 'c', 80]\n"
     ]
    }
   ],
   "source": [
    "# 리스트 수정, 삭제\n",
    "print('>>>>>>')\n",
    "c[0] = 4\n",
    "print('c - ', c)\n",
    "c[1:2] = ['a', 'b', 'c'] # [['a', 'b', 'c']]\n",
    "print('c - ', c)\n",
    "c[1] = ['a', 'b', 'c']\n",
    "print('c - ', c)\n",
    "c[1:3] = []\n",
    "print('c - ', c)\n",
    "del c[3]\n",
    "print('c - ', c)"
   ]
  },
  {
   "cell_type": "markdown",
   "id": "55832a7e",
   "metadata": {},
   "source": [
    "## 리스트 함수"
   ]
  },
  {
   "cell_type": "code",
   "execution_count": 8,
   "id": "7c404d1f",
   "metadata": {},
   "outputs": [
    {
     "name": "stdout",
     "output_type": "stream",
     "text": [
      "a -  [5, 2, 3, 1, 4]\n",
      "a -  [5, 2, 3, 1, 4, 6]\n",
      "a -  [1, 2, 3, 4, 5, 6]\n",
      "a -  [6, 5, 4, 3, 2, 1]\n",
      "a -  1\n",
      "a -  [6, 5, 7, 4, 3, 2, 1]\n",
      "a -  [2, 3, 4, 7, 5, 6]\n",
      "a -  6\n",
      "a -  5\n",
      "a -  [2, 3, 4, 7]\n",
      "a -  1\n",
      "a -  [2, 3, 4, 7, 8, 9]\n"
     ]
    }
   ],
   "source": [
    "# 리스트 함수\n",
    "a = [5, 2, 3, 1, 4]\n",
    "\n",
    "print('a - ', a)\n",
    "a.append(6)\n",
    "print('a - ', a)\n",
    "a.sort()\n",
    "print('a - ', a)\n",
    "a.reverse()\n",
    "print('a - ', a)\n",
    "print('a - ', a.index(5))\n",
    "a.insert(2, 7)\n",
    "print('a - ', a)\n",
    "a.reverse()\n",
    "a.remove(1)\n",
    "print('a - ', a)\n",
    "print('a - ', a.pop())\n",
    "print('a - ', a.pop())\n",
    "print('a - ', a)\n",
    "print('a - ', a.count(4))\n",
    "ex = [8, 9]\n",
    "a.extend(ex)\n",
    "print('a - ', a)"
   ]
  },
  {
   "cell_type": "code",
   "execution_count": 9,
   "id": "aff81660",
   "metadata": {},
   "outputs": [
    {
     "name": "stdout",
     "output_type": "stream",
     "text": [
      "False\n",
      "False\n",
      "False\n",
      "False\n",
      "False\n",
      "True\n"
     ]
    },
    {
     "name": "stderr",
     "output_type": "stream",
     "text": [
      "<>:6: SyntaxWarning: \"is\" with a literal. Did you mean \"==\"?\n",
      "<>:6: SyntaxWarning: \"is\" with a literal. Did you mean \"==\"?\n",
      "<ipython-input-9-79ce2ea20df6>:6: SyntaxWarning: \"is\" with a literal. Did you mean \"==\"?\n",
      "  print(2 is l)\n"
     ]
    }
   ],
   "source": [
    "# 삭제 remove, pop, del\n",
    "\n",
    "# 반복문 활용\n",
    "while a:\n",
    "    l = a.pop()\n",
    "    print(2 is l)"
   ]
  },
  {
   "cell_type": "markdown",
   "id": "4b3415ee",
   "metadata": {},
   "source": [
    "# 튜플\n",
    "* 리스트와 비교 중요\n",
    "* 튜플 자료형(순서O, 중복O, 수정X,삭제X)"
   ]
  },
  {
   "cell_type": "markdown",
   "id": "e8eed167",
   "metadata": {},
   "source": [
    "tuple(튜플)은 불변한 순서가 있는 객체의 집합입니다.  \n",
    "list형과 비슷하지만 한 번 생성되면 값을 변경할 수 없습니다.  \n",
    "REPL에서 확인해봅니다.  \n",
    "   \n",
    "list와 마찬가지로 다양한 타입이 함께 포함될 수 있습니다.  "
   ]
  },
  {
   "cell_type": "code",
   "execution_count": 40,
   "id": "091de56e",
   "metadata": {},
   "outputs": [
    {
     "name": "stdout",
     "output_type": "stream",
     "text": [
      "<class 'tuple'> <class 'int'> <class 'tuple'>\n"
     ]
    }
   ],
   "source": [
    "a = ()\n",
    "b = (1)\n",
    "c = (2,)\n",
    "\n",
    "print(type(a), type(b), type(c))"
   ]
  },
  {
   "cell_type": "markdown",
   "id": "c604e138",
   "metadata": {},
   "source": [
    "##### 원소 하나만 가질 경우에는 int로 인식하므로 튜플로 만들기 위해서는 뒤에 , 를 붙혀줘야한다."
   ]
  },
  {
   "cell_type": "code",
   "execution_count": 12,
   "id": "1421d173",
   "metadata": {},
   "outputs": [],
   "source": [
    "# 선언\n",
    "a = ()\n",
    "b = (1,)\n",
    "c = (11, 12,13,1, 4)\n",
    "d = (100, 1000,'Ace', 'Base', 'Captine')\n",
    "e = (100, 1000, ('Ace', 'Base', 'Captine'))"
   ]
  },
  {
   "cell_type": "code",
   "execution_count": 13,
   "id": "2d368f4b",
   "metadata": {},
   "outputs": [
    {
     "name": "stdout",
     "output_type": "stream",
     "text": [
      ">>>>>\n",
      "d -  <class 'tuple'> (100, 1000, 'Ace', 'Base', 'Captine')\n",
      "d -  1000\n",
      "d -  2100\n",
      "d -  Captine\n",
      "e -  Base\n",
      "e -  ['B', 'a', 's', 'e']\n"
     ]
    }
   ],
   "source": [
    "# 인덱싱\n",
    "print('>>>>>')\n",
    "print('d - ', type(d), d)\n",
    "print('d - ', d[1])\n",
    "print('d - ', d[0] + d[1] + d[1])\n",
    "print('d - ', d[-1])\n",
    "print('e - ', e[-1][1])\n",
    "print('e - ', list(e[-1][1]))"
   ]
  },
  {
   "cell_type": "code",
   "execution_count": 14,
   "id": "c45714e6",
   "metadata": {},
   "outputs": [
    {
     "ename": "TypeError",
     "evalue": "'tuple' object does not support item assignment",
     "output_type": "error",
     "traceback": [
      "\u001b[1;31m---------------------------------------------------------------------------\u001b[0m",
      "\u001b[1;31mTypeError\u001b[0m                                 Traceback (most recent call last)",
      "\u001b[1;32m<ipython-input-14-1b52787430d6>\u001b[0m in \u001b[0;36m<module>\u001b[1;34m\u001b[0m\n\u001b[0;32m      1\u001b[0m \u001b[1;31m# 수정 X\u001b[0m\u001b[1;33m\u001b[0m\u001b[1;33m\u001b[0m\u001b[1;33m\u001b[0m\u001b[0m\n\u001b[1;32m----> 2\u001b[1;33m \u001b[0md\u001b[0m\u001b[1;33m[\u001b[0m\u001b[1;36m0\u001b[0m\u001b[1;33m]\u001b[0m \u001b[1;33m=\u001b[0m \u001b[1;36m1500\u001b[0m\u001b[1;33m\u001b[0m\u001b[1;33m\u001b[0m\u001b[0m\n\u001b[0m\u001b[0;32m      3\u001b[0m \u001b[0mprint\u001b[0m\u001b[1;33m(\u001b[0m\u001b[1;34m'd - '\u001b[0m\u001b[1;33m,\u001b[0m \u001b[0md\u001b[0m\u001b[1;33m)\u001b[0m\u001b[1;33m\u001b[0m\u001b[1;33m\u001b[0m\u001b[0m\n",
      "\u001b[1;31mTypeError\u001b[0m: 'tuple' object does not support item assignment"
     ]
    }
   ],
   "source": [
    "# 수정 X\n",
    "d[0] = 1500\n",
    "print('d - ', d)"
   ]
  },
  {
   "cell_type": "code",
   "execution_count": 15,
   "id": "ba8cd060",
   "metadata": {},
   "outputs": [
    {
     "name": "stdout",
     "output_type": "stream",
     "text": [
      ">>>>>\n",
      "d -  (100, 1000, 'Ace')\n",
      "d -  ('Ace', 'Base', 'Captine')\n",
      "e -  ('Base', 'Captine')\n"
     ]
    }
   ],
   "source": [
    "# 슬라이싱\n",
    "print('>>>>>')\n",
    "print('d - ', d[0:3])\n",
    "print('d - ', d[2:])\n",
    "print('e - ', e[2][1:3])"
   ]
  },
  {
   "cell_type": "code",
   "execution_count": 16,
   "id": "571e826d",
   "metadata": {},
   "outputs": [
    {
     "name": "stdout",
     "output_type": "stream",
     "text": [
      ">>>>>\n",
      "c + d -  (11, 12, 13, 1, 4, 100, 1000, 'Ace', 'Base', 'Captine')\n",
      "c * 3 -  (11, 12, 13, 1, 4, 11, 12, 13, 1, 4, 11, 12, 13, 1, 4)\n",
      "'Test' + c[0] -  Test11\n"
     ]
    }
   ],
   "source": [
    "# 튜플 연산\n",
    "print('>>>>>')\n",
    "print('c + d - ', c + d)\n",
    "print('c * 3 - ', c * 3)\n",
    "# print(\"c[0] + 'hi' - \",c[0] + 'hi')\n",
    "print(\"'Test' + c[0] - \", 'Test' + str(c[0]))"
   ]
  },
  {
   "cell_type": "code",
   "execution_count": 41,
   "id": "64b45400",
   "metadata": {},
   "outputs": [
    {
     "name": "stdout",
     "output_type": "stream",
     "text": [
      "a -  (5, 2, 3, 1, 4)\n",
      "a -  0\n",
      "a -  1\n"
     ]
    }
   ],
   "source": [
    "# 튜플 함수\n",
    "a = (5, 2, 3, 1, 4)\n",
    "\n",
    "print('a - ', a)\n",
    "print('a - ', a.index(5))\n",
    "print('a - ', a.count(3))"
   ]
  },
  {
   "cell_type": "markdown",
   "id": "8b1b3383",
   "metadata": {},
   "source": [
    "### 팩킹 & 언팩킹(Packing, and Unpacking)"
   ]
  },
  {
   "cell_type": "code",
   "execution_count": 42,
   "id": "a0721f45",
   "metadata": {},
   "outputs": [
    {
     "name": "stdout",
     "output_type": "stream",
     "text": [
      "('foo', 'bar', 'baz', 'qux')\n",
      "foo\n",
      "qux\n"
     ]
    }
   ],
   "source": [
    "# 팩킹\n",
    "t = ('foo', 'bar', 'baz', 'qux')\n",
    "\n",
    "# 출력 확인\n",
    "print(t)\n",
    "print(t[0])\n",
    "print(t[-1])"
   ]
  },
  {
   "cell_type": "markdown",
   "id": "51432cc8",
   "metadata": {},
   "source": [
    "##### 하나로 원소들을 묵는 행위"
   ]
  },
  {
   "cell_type": "code",
   "execution_count": 25,
   "id": "c1848419",
   "metadata": {},
   "outputs": [
    {
     "name": "stdout",
     "output_type": "stream",
     "text": [
      "foo\n",
      "bar\n",
      "baz\n",
      "qux\n"
     ]
    }
   ],
   "source": [
    "# 언팩킹1\n",
    "(x1, x2, x3, x4) = t\n",
    "\n",
    "# 출력확인\n",
    "print(x1)\n",
    "print(x2)\n",
    "print(x3)\n",
    "print(x4)"
   ]
  },
  {
   "cell_type": "markdown",
   "id": "16552f3c",
   "metadata": {},
   "source": [
    "##### 하나로 묶여있던 튜플을 풀어서 각각의 원소로 할당하는 행위"
   ]
  },
  {
   "cell_type": "code",
   "execution_count": 24,
   "id": "3815d166",
   "metadata": {},
   "outputs": [
    {
     "name": "stdout",
     "output_type": "stream",
     "text": [
      "foo\n",
      "bar\n",
      "baz\n",
      "qux\n"
     ]
    }
   ],
   "source": [
    "# 언팩킹2\n",
    "(x1, x2, x3, x4) = ('foo', 'bar', 'baz', 'qux')\n",
    "\n",
    "# 출력 확인\n",
    "print(x1)\n",
    "print(x2)\n",
    "print(x3)\n",
    "print(x4)"
   ]
  },
  {
   "cell_type": "code",
   "execution_count": 26,
   "id": "14dcb520",
   "metadata": {},
   "outputs": [
    {
     "name": "stdout",
     "output_type": "stream",
     "text": [
      "(1, 2, 3)\n",
      "(4,)\n",
      "1 2 3\n",
      "4 5 6\n"
     ]
    }
   ],
   "source": [
    "# 팩킹 & 언팩킹\n",
    "t2  =1, 2, 3  # 튜플에는 괄호를 생략할 수 있다.\n",
    "t3 = 4, \n",
    "x1, x2, x3 = t2\n",
    "x4, x5, x6 = 4, 5, 6\n",
    "\n",
    "# 출력 확인\n",
    "print(t2)\n",
    "print(t3)\n",
    "print(x1,x2,x3)\n",
    "print(x4,x5,x6)\n"
   ]
  },
  {
   "cell_type": "markdown",
   "id": "4beed7b9",
   "metadata": {},
   "source": [
    "# 파이썬 딕셔너리\n",
    "* 범용적으로 가장 많이 사용\n",
    "* 딕셔너리 자료형(순서X, 키 중복X, 수정O, 삭제O)"
   ]
  },
  {
   "cell_type": "code",
   "execution_count": 43,
   "id": "8c5d0335",
   "metadata": {
    "scrolled": false
   },
   "outputs": [
    {
     "name": "stdout",
     "output_type": "stream",
     "text": [
      "a -  <class 'dict'> {'name': 'Kim', 'phone': '01012345678', 'birth': '870124'}\n",
      "b -  <class 'dict'> {0: 'Hello python!'}\n",
      "c -  <class 'dict'> {'arr': [1, 2, 3, 4]}\n",
      "d -  <class 'dict'> {'Name': 'Niceman', 'City': 'Seoul', 'Age': '33', 'Grade': 'A', 'Status': True}\n",
      "e -  <class 'dict'> {'Name': 'Niceman', 'City': 'Seoul', 'Age': '33', 'Grade': 'A', 'Status': True}\n",
      "f -  <class 'dict'> {'Name': 'Niceman', 'City': 'Seoul', 'Age': '33', 'Grade': 'A', 'Status': True}\n"
     ]
    }
   ],
   "source": [
    "# 선언\n",
    "a = {'name': 'Kim', 'phone': '01012345678', 'birth': '870124'}\n",
    "b = {0: 'Hello python!'}\n",
    "c = {'arr': [1, 2, 3, 4]}\n",
    "d = {\n",
    "\t 'Name' : 'Niceman',\n",
    "\t 'City'   : 'Seoul',\n",
    "\t 'Age': '33',\n",
    "\t 'Grade': 'A',\n",
    "\t 'Status'  : True\n",
    "}\n",
    "e =  dict([\n",
    "\t ( 'Name', 'Niceman'),\n",
    "\t ('City', 'Seoul'),\n",
    "\t ('Age', '33'),\n",
    "\t ('Grade', 'A'),\n",
    "\t ('Status', True)\n",
    "]) # 별로임 d 형식처럼 하는게 더 편  함 \n",
    "\n",
    "f =  dict(\n",
    "\t Name='Niceman',\n",
    "\t City='Seoul',\n",
    "\t Age='33',\n",
    "\t Grade='A',\n",
    "\t Status=True\n",
    ") # 이게 젤 편한 스타일이라 생각한다.\n",
    "\n",
    "print('a - ', type(a), a)\n",
    "print('b - ', type(b), b)\n",
    "print('c - ', type(c), c)\n",
    "print('d - ', type(d), d)\n",
    "print('e - ', type(c), e)\n",
    "print('f - ', type(c), f)"
   ]
  },
  {
   "cell_type": "code",
   "execution_count": 61,
   "id": "86bc2866",
   "metadata": {},
   "outputs": [],
   "source": [
    "d = {\n",
    "\t 'Name' : 'Niceman',\n",
    "\t 'City'   : 'Seoul',\n",
    "\t 'Age': '33',\n",
    "\t 'Grade': 'A',\n",
    "\t 'Status'  : True\n",
    "}    # 내용이 많을 경우에는 이렇게 들여쓰기 하나 한 상태로 쭉 쓰는편이 깔끔"
   ]
  },
  {
   "cell_type": "markdown",
   "id": "72d32864",
   "metadata": {},
   "source": [
    "### Tip. 내용이 많을 경우 이러한 형식으로 처리하면 보기가 편하다."
   ]
  },
  {
   "cell_type": "code",
   "execution_count": 44,
   "id": "feb77273",
   "metadata": {
    "scrolled": true
   },
   "outputs": [
    {
     "name": "stdout",
     "output_type": "stream",
     "text": [
      "a -  Kim\n",
      "a -  Kim\n",
      "b -  Hello python!\n",
      "b -  Hello python!\n",
      "c -  [1, 2, 3, 4]\n",
      "c -  4\n",
      "c -  [1, 2, 3, 4]\n",
      "d -  33\n",
      "e -  A\n",
      "f -  Seoul\n"
     ]
    }
   ],
   "source": [
    "# 출력\n",
    "print('a - ', a['name'])  # 존재X -> 에러 발생\n",
    "print('a - ', a.get('name'))  # 존재X -> None 처리\n",
    "print('b - ', b[0])\n",
    "print('b - ', b.get(0))\n",
    "print('c - ', c['arr'])\n",
    "print('c - ', c['arr'][3])\n",
    "print('c - ', c.get('arr'))\n",
    "print('d - ', d.get('Age'))\n",
    "print('e - ', e.get('Grade'))\n",
    "print('f - ', f.get('City'))"
   ]
  },
  {
   "cell_type": "markdown",
   "id": "a67c085c",
   "metadata": {},
   "source": [
    "##### a.get 으로 처리하는편이 보통의 경우에는 좋아보인다."
   ]
  },
  {
   "cell_type": "code",
   "execution_count": 45,
   "id": "80675eda",
   "metadata": {},
   "outputs": [
    {
     "name": "stdout",
     "output_type": "stream",
     "text": [
      "a -  {'name': 'Kim', 'phone': '01012345678', 'birth': '870124', 'address': 'seoul'}\n",
      "a -  {'name': 'Kim', 'phone': '01012345678', 'birth': '870124', 'address': 'seoul', 'rank': [1, 2, 3]}\n"
     ]
    }
   ],
   "source": [
    "# 딕셔너리 추가\n",
    "a['address'] = 'seoul'\n",
    "print('a - ', a)\n",
    "a['rank'] = [1, 2, 3]\n",
    "print('a - ', a)"
   ]
  },
  {
   "cell_type": "code",
   "execution_count": 46,
   "id": "4dc6d4e8",
   "metadata": {},
   "outputs": [
    {
     "name": "stdout",
     "output_type": "stream",
     "text": [
      "5\n",
      "1\n",
      "5\n",
      "5\n"
     ]
    }
   ],
   "source": [
    "# 딕셔너리 길이\n",
    "print(len(a))\n",
    "print(len(b))\n",
    "print(len(d))\n",
    "print(len(e))"
   ]
  },
  {
   "cell_type": "code",
   "execution_count": 47,
   "id": "6e094502",
   "metadata": {},
   "outputs": [
    {
     "name": "stdout",
     "output_type": "stream",
     "text": [
      "a -  dict_keys(['name', 'phone', 'birth', 'address', 'rank'])\n",
      "b -  dict_keys([0])\n",
      "c -  dict_keys(['arr'])\n",
      "d -  dict_keys(['Name', 'City', 'Age', 'Grade', 'Status'])\n",
      "a -  ['name', 'phone', 'birth', 'address', 'rank']\n",
      "b -  [0]\n",
      "c -  ['arr']\n",
      "d -  ['Name', 'City', 'Age', 'Grade', 'Status']\n",
      "a -  dict_values(['Kim', '01012345678', '870124', 'seoul', [1, 2, 3]])\n",
      "b -  dict_values(['Hello python!'])\n",
      "c -  dict_values([[1, 2, 3, 4]])\n",
      "d -  dict_values(['Niceman', 'Seoul', '33', 'A', True])\n",
      "a -  ['Kim', '01012345678', '870124', 'seoul', [1, 2, 3]]\n",
      "b -  ['Hello python!']\n",
      "c -  [[1, 2, 3, 4]]\n",
      "d -  ['Niceman', 'Seoul', '33', 'A', True]\n",
      "a -  dict_items([('name', 'Kim'), ('phone', '01012345678'), ('birth', '870124'), ('address', 'seoul'), ('rank', [1, 2, 3])])\n",
      "b -  dict_items([(0, 'Hello python!')])\n",
      "c -  dict_items([('arr', [1, 2, 3, 4])])\n",
      "d -  dict_items([('Name', 'Niceman'), ('City', 'Seoul'), ('Age', '33'), ('Grade', 'A'), ('Status', True)])\n",
      "a -  [('name', 'Kim'), ('phone', '01012345678'), ('birth', '870124'), ('address', 'seoul'), ('rank', [1, 2, 3])]\n",
      "b -  [(0, 'Hello python!')]\n",
      "c -  [('arr', [1, 2, 3, 4])]\n",
      "d -  [('Name', 'Niceman'), ('City', 'Seoul'), ('Age', '33'), ('Grade', 'A'), ('Status', True)]\n",
      "a -  Kim\n",
      "b -  Hello python!\n",
      "c -  [1, 2, 3, 4]\n",
      "d -  Seoul\n",
      "f -  ('Status', True)\n",
      "f -  ('Grade', 'A')\n",
      "f -  ('Age', '33')\n",
      "f -  ('City', 'Seoul')\n",
      "f -  ('Name', 'Niceman')\n"
     ]
    }
   ],
   "source": [
    "# dict_keys, dict_values, dict_items : 반복문(iterate) 사용 가능\n",
    "print('a - ', a.keys())\n",
    "print('b - ', b.keys())\n",
    "print('c - ', c.keys())\n",
    "print('d - ', d.keys())\n",
    "\n",
    "print('a - ', list(a.keys()))\n",
    "print('b - ', list(b.keys()))\n",
    "print('c - ', list(c.keys()))\n",
    "print('d - ', list(d.keys()))\n",
    "\n",
    "print('a - ', a.values())\n",
    "print('b - ', b.values())\n",
    "print('c - ', c.values())\n",
    "print('d - ', d.values())\n",
    "\n",
    "print('a - ', list(a.values()))\n",
    "print('b - ', list(b.values()))\n",
    "print('c - ', list(c.values()))\n",
    "print('d - ', list(d.values()))\n",
    "\n",
    "print('a - ', a.items())\n",
    "print('b - ', b.items())\n",
    "print('c - ', c.items())\n",
    "print('d - ', d.items())\n",
    "\n",
    "print('a - ', list(a.items()))\n",
    "print('b - ', list(b.items()))\n",
    "print('c - ', list(c.items()))\n",
    "print('d - ', list(d.items()))\n",
    "\n",
    "print('a - ', a.pop('name'))\n",
    "print('b - ', b.pop(0))\n",
    "print('c - ', c.pop('arr'))\n",
    "print('d - ', d.pop('City'))\n",
    "\n",
    "print('f - ', f.popitem())\n",
    "print('f - ', f.popitem())\n",
    "print('f - ', f.popitem())\n",
    "print('f - ', f.popitem())\n",
    "print('f - ', f.popitem())"
   ]
  },
  {
   "cell_type": "code",
   "execution_count": 48,
   "id": "591a9fa2",
   "metadata": {},
   "outputs": [
    {
     "name": "stdout",
     "output_type": "stream",
     "text": [
      "a -  False\n",
      "a -  False\n"
     ]
    }
   ],
   "source": [
    "# 예외\n",
    "# print('f - ', f.popitem())\n",
    "\n",
    "print('a - ', 'name' in a)\n",
    "print('a - ', 'addr' in a)"
   ]
  },
  {
   "cell_type": "code",
   "execution_count": 49,
   "id": "905789fb",
   "metadata": {},
   "outputs": [
    {
     "name": "stdout",
     "output_type": "stream",
     "text": [
      "f -  {'Age': 36}\n",
      "f -  {'Age': 27}\n"
     ]
    }
   ],
   "source": [
    "# 수정\n",
    "f.update(Age=36)\n",
    "\n",
    "temp = {'Age': 27}\n",
    "\n",
    "print('f - ', f)\n",
    "\n",
    "f.update(temp)\n",
    "\n",
    "print('f - ', f)"
   ]
  },
  {
   "cell_type": "markdown",
   "id": "e5987ad0",
   "metadata": {},
   "source": [
    "# 집합(Sets) 특징\n",
    "* 집합(Sets) 자료형(순서X, 중복X)"
   ]
  },
  {
   "cell_type": "code",
   "execution_count": 50,
   "id": "cdc054e5",
   "metadata": {},
   "outputs": [
    {
     "name": "stdout",
     "output_type": "stream",
     "text": [
      "a -  <class 'set'> set()\n",
      "b -  <class 'set'> {1, 2, 3, 4}\n",
      "c -  <class 'set'> {1, 4, 5, 6}\n",
      "d -  <class 'set'> {1, 2, 'Pen', 'Cap', 'Plate'}\n",
      "e -  <class 'set'> {'qux', 'baz', 'foo', 'bar'}\n",
      "f -  <class 'set'> {3.14159, 42, (1, 2, 3), 'foo'}\n"
     ]
    }
   ],
   "source": [
    "# 선언\n",
    "a = set()\n",
    "b = set([1, 2, 3, 4])\n",
    "c = set([1, 4, 5, 6])\n",
    "d = set([1, 2, 'Pen', 'Cap', 'Plate'])\n",
    "e = {'foo', 'bar', 'baz', 'foo', 'qux'}\n",
    "f = {42, 'foo', (1, 2, 3), 3.14159}\n",
    "\n",
    "print('a - ', type(a), a)\n",
    "print('b - ', type(b), b)\n",
    "print('c - ', type(c), c)\n",
    "print('d - ', type(d), d)\n",
    "print('e - ', type(e), e)\n",
    "print('f - ', type(f), f)"
   ]
  },
  {
   "cell_type": "code",
   "execution_count": 51,
   "id": "cf76350f",
   "metadata": {},
   "outputs": [
    {
     "name": "stdout",
     "output_type": "stream",
     "text": [
      "t -  <class 'tuple'> (1, 2, 3, 4)\n",
      "t -  1 (2, 3)\n"
     ]
    }
   ],
   "source": [
    "# 튜플 변환\n",
    "t = tuple(b)\n",
    "print('t - ', type(t), t)\n",
    "print('t - ', t[0], t[1:3])"
   ]
  },
  {
   "cell_type": "code",
   "execution_count": 52,
   "id": "b1a24b85",
   "metadata": {},
   "outputs": [
    {
     "name": "stdout",
     "output_type": "stream",
     "text": [
      "l -  <class 'list'> [1, 4, 5, 6]\n",
      "l -  1 [4, 5]\n",
      "l2 -  <class 'list'> ['qux', 'baz', 'foo', 'bar']\n"
     ]
    }
   ],
   "source": [
    "# 리스트 변환\n",
    "l = list(c)\n",
    "l2 = list(e)\n",
    "print('l - ', type(l), l)\n",
    "print('l - ', l[0], l[1:3])\n",
    "print('l2 - ', type(l2), l2)"
   ]
  },
  {
   "cell_type": "code",
   "execution_count": 53,
   "id": "cc7a0f37",
   "metadata": {},
   "outputs": [
    {
     "name": "stdout",
     "output_type": "stream",
     "text": [
      "0\n",
      "4\n",
      "4\n",
      "5\n",
      "4\n"
     ]
    }
   ],
   "source": [
    "# 길이\n",
    "print(len(a))\n",
    "print(len(b))\n",
    "print(len(c))\n",
    "print(len(d))\n",
    "print(len(e))"
   ]
  },
  {
   "cell_type": "code",
   "execution_count": 54,
   "id": "8679da3e",
   "metadata": {},
   "outputs": [
    {
     "name": "stdout",
     "output_type": "stream",
     "text": [
      "l -  {4, 5, 6}\n",
      "l -  {4, 5, 6}\n",
      "l -  {1, 2, 3, 4, 5, 6, 7, 8, 9}\n",
      "l -  {1, 2, 3, 4, 5, 6, 7, 8, 9}\n",
      "l -  {1, 2, 3}\n",
      "l -  {1, 2, 3}\n"
     ]
    }
   ],
   "source": [
    "# 집합 자료형 활용\n",
    "s1 = set([1, 2, 3, 4, 5, 6])\n",
    "s2 = set([4, 5, 6, 7, 8, 9])\n",
    "\n",
    "print('l - ', s1 & s2)\n",
    "print('l - ', s1.intersection(s2))\n",
    "\n",
    "print('l - ', s1 | s2)\n",
    "print('l - ', s1.union(s2))\n",
    "\n",
    "print('l - ', s1 - s2)\n",
    "print('l - ', s1.difference(s2))\n"
   ]
  },
  {
   "cell_type": "code",
   "execution_count": 55,
   "id": "e70ea4e4",
   "metadata": {},
   "outputs": [
    {
     "name": "stdout",
     "output_type": "stream",
     "text": [
      "l -  False\n"
     ]
    }
   ],
   "source": [
    "# 중복 원소 확인\n",
    "print('l - ', s1.isdisjoint(s2))"
   ]
  },
  {
   "cell_type": "code",
   "execution_count": 56,
   "id": "a3ff4fe8",
   "metadata": {},
   "outputs": [
    {
     "name": "stdout",
     "output_type": "stream",
     "text": [
      "l -  False\n",
      "l -  False\n"
     ]
    }
   ],
   "source": [
    "# 부분 집합 확인\n",
    "print('l - ', s1.issubset(s2))\n",
    "print('l - ', s1.issuperset(s2))"
   ]
  },
  {
   "cell_type": "code",
   "execution_count": 57,
   "id": "026595da",
   "metadata": {},
   "outputs": [
    {
     "name": "stdout",
     "output_type": "stream",
     "text": [
      "s1 -  {1, 2, 3, 4, 5}\n",
      "s1 -  {1, 3, 4, 5}\n"
     ]
    }
   ],
   "source": [
    "# 추가 & 제거\n",
    "s1 = set([1, 2, 3, 4])\n",
    "s1.add(5)\n",
    "print('s1 - ', s1)\n",
    "\n",
    "s1.remove(2)\n",
    "print('s1 - ', s1)"
   ]
  },
  {
   "cell_type": "code",
   "execution_count": 58,
   "id": "0cb84f2c",
   "metadata": {},
   "outputs": [
    {
     "name": "stdout",
     "output_type": "stream",
     "text": [
      "s1 -  {1, 4, 5}\n"
     ]
    }
   ],
   "source": [
    "# s1.remove(7) # 예외 발생한다. 즉, 없으면 error \n",
    "\n",
    "s1.discard(3) # 는 예외를 발생하지 않는다.\n",
    "print('s1 - ', s1)"
   ]
  },
  {
   "cell_type": "code",
   "execution_count": 59,
   "id": "5cfc4889",
   "metadata": {},
   "outputs": [],
   "source": [
    "#s1.discard(7)\n",
    "\n",
    "# 모두 제거\n",
    "s1.clear() # 참고로 list도 .clear로 모두 제거할 수 있다."
   ]
  }
 ],
 "metadata": {
  "kernelspec": {
   "display_name": "Python 3",
   "language": "python",
   "name": "python3"
  },
  "language_info": {
   "codemirror_mode": {
    "name": "ipython",
    "version": 3
   },
   "file_extension": ".py",
   "mimetype": "text/x-python",
   "name": "python",
   "nbconvert_exporter": "python",
   "pygments_lexer": "ipython3",
   "version": "3.8.8"
  }
 },
 "nbformat": 4,
 "nbformat_minor": 5
}
