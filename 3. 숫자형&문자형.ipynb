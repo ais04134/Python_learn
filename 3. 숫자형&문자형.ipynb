{
 "cells": [
  {
   "cell_type": "markdown",
   "id": "aa7b35a7",
   "metadata": {},
   "source": [
    "# 파이썬 지원 자료형\n",
    "'''\n",
    "int : 정수\n",
    "float : 실수\n",
    "complex : 복소수\n",
    "bool : 불린\n",
    "str : 문자열(시퀀스)\n",
    "list : 리스트(시퀀스)\n",
    "tuple : 튜플(시퀀스)\n",
    "set : 집합\n",
    "dict : 사전\n",
    "'''"
   ]
  },
  {
   "cell_type": "code",
   "execution_count": null,
   "id": "bb0662cc",
   "metadata": {},
   "outputs": [],
   "source": []
  }
 ],
 "metadata": {
  "kernelspec": {
   "display_name": "Python 3",
   "language": "python",
   "name": "python3"
  },
  "language_info": {
   "codemirror_mode": {
    "name": "ipython",
    "version": 3
   },
   "file_extension": ".py",
   "mimetype": "text/x-python",
   "name": "python",
   "nbconvert_exporter": "python",
   "pygments_lexer": "ipython3",
   "version": "3.8.8"
  }
 },
 "nbformat": 4,
 "nbformat_minor": 5
}
