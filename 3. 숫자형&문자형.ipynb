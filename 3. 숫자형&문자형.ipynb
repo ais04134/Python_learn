{
 "cells": [
  {
   "cell_type": "markdown",
   "id": "2944bf01",
   "metadata": {},
   "source": [
    "## 파이썬 지원 자료형\n",
    "* int : 정수  \n",
    "* float : 실수  \n",
    "* complex : 복소수  \n",
    "* bool : 불린  \n",
    "* str : 문자열(시퀀스)  \n",
    "* list : 리스트(시퀀스)  \n",
    "* tuple : 튜플(시퀀스)  \n",
    "* set : 집합  \n",
    "* dict : 사전  "
   ]
  },
  {
   "cell_type": "code",
   "execution_count": 22,
   "id": "4a30464a",
   "metadata": {},
   "outputs": [],
   "source": [
    "str1 = \"Python\"\n",
    "bool = True\n",
    "str2 = \"Anaconda\"\n",
    "float_v = 10.0\n",
    "int_v = 7\n",
    "list = [str1, str2]\n",
    "dict = {\n",
    "    \"name\": \"Machine Learning\",\n",
    "    \"version\": 2.0\n",
    "}\n",
    "tuple = (3, 5, 7)\n",
    "set = {7, 8, 9}"
   ]
  },
  {
   "cell_type": "code",
   "execution_count": 23,
   "id": "054cf415",
   "metadata": {},
   "outputs": [
    {
     "name": "stdout",
     "output_type": "stream",
     "text": [
      "<class 'str'>\n",
      "<class 'bool'>\n",
      "<class 'str'>\n",
      "<class 'bool'>\n",
      "<class 'float'>\n",
      "<class 'int'>\n",
      "<class 'dict'>\n",
      "<class 'tuple'>\n",
      "<class 'set'>\n"
     ]
    }
   ],
   "source": [
    "print(type(str1))\n",
    "print(type(bool))\n",
    "print(type(str2))\n",
    "print(type(bool))\n",
    "print(type(float_v))\n",
    "print(type(int_v))\n",
    "print(type(dict))\n",
    "print(type(tuple))\n",
    "print(type(set))"
   ]
  },
  {
   "cell_type": "markdown",
   "id": "5de3be29",
   "metadata": {},
   "source": [
    "# 1. 숫자형"
   ]
  },
  {
   "cell_type": "markdown",
   "id": "a26adb18",
   "metadata": {},
   "source": [
    "* + \n",
    "* - \n",
    "* * \n",
    "* / \n",
    "* // : 몫 \n",
    "* % : 나머지\n",
    "* abs(x) \n",
    "* int(x) \n",
    "* float(x) \n",
    "* complex(x)\n",
    "* pow(x, y) \n",
    "* x ** y : 제곱\n",
    "* ...."
   ]
  },
  {
   "cell_type": "code",
   "execution_count": 6,
   "id": "0f22e3ef",
   "metadata": {},
   "outputs": [],
   "source": [
    "# 정수 선언\n",
    "i = 77\n",
    "i2 = -14\n",
    "big_int = 999999999999999999999999999999999999999"
   ]
  },
  {
   "cell_type": "code",
   "execution_count": 7,
   "id": "5f26ad83",
   "metadata": {},
   "outputs": [
    {
     "name": "stdout",
     "output_type": "stream",
     "text": [
      "77\n",
      "-14\n",
      "999999999999999999999999999999999999999\n"
     ]
    }
   ],
   "source": [
    "# 정수 출력\n",
    "print(i)\n",
    "print(i2)\n",
    "print(big_int)"
   ]
  },
  {
   "cell_type": "code",
   "execution_count": 8,
   "id": "1c92e621",
   "metadata": {},
   "outputs": [],
   "source": [
    "# 실수 선언\n",
    "f = 0.9999\n",
    "f2 = 3.141592\n",
    "f3 = -3.9\n",
    "f4 = 3 / 9"
   ]
  },
  {
   "cell_type": "code",
   "execution_count": 9,
   "id": "beb58c0f",
   "metadata": {},
   "outputs": [
    {
     "name": "stdout",
     "output_type": "stream",
     "text": [
      "0.9999\n",
      "3.141592\n",
      "-3.9\n",
      "0.3333333333333333\n"
     ]
    }
   ],
   "source": [
    "# 실수 출력\n",
    "print(f)\n",
    "print(f2)\n",
    "print(f3)\n",
    "print(f4)"
   ]
  },
  {
   "cell_type": "code",
   "execution_count": 10,
   "id": "8ea6f646",
   "metadata": {},
   "outputs": [],
   "source": [
    "# 연산 실습\n",
    "i1 = 39\n",
    "i2 = 939\n",
    "big_int1 = 123456789123456789012345678901234567890\n",
    "big_int2 = 999999999999999999999999999999999999999\n",
    "f1 = 1.234\n",
    "f2 = 3.939"
   ]
  },
  {
   "cell_type": "code",
   "execution_count": 11,
   "id": "b6dae396",
   "metadata": {},
   "outputs": [
    {
     "name": "stdout",
     "output_type": "stream",
     "text": [
      ">>>>> + \n",
      "i1 + i2 :  978\n",
      "f1 + f2 :  5.173\n",
      "big_int1 + big_int2 :  1123456789123456789012345678901234567889\n"
     ]
    }
   ],
   "source": [
    "# +\n",
    "print(\">>>>> + \")\n",
    "print(\"i1 + i2 : \", i1 + i2) \n",
    "print(\"f1 + f2 : \", f1 + f2) \n",
    "print(\"big_int1 + big_int2 : \", big_int1 + big_int2) "
   ]
  },
  {
   "cell_type": "code",
   "execution_count": 12,
   "id": "cac44058",
   "metadata": {},
   "outputs": [
    {
     "name": "stdout",
     "output_type": "stream",
     "text": [
      ">>>>> -\n",
      "i1 - i2:  -900\n",
      "f1 - f2:  -2.705\n",
      "big_int1 - big_int2:  -876543210876543210987654321098765432109\n"
     ]
    }
   ],
   "source": [
    "# -\n",
    "print(\">>>>> -\")\n",
    "print(\"i1 - i2: \", i1 - i2) \n",
    "print(\"f1 - f2: \", f1 - f2)\n",
    "print(\"big_int1 - big_int2: \", big_int1 - big_int2)"
   ]
  },
  {
   "cell_type": "code",
   "execution_count": 13,
   "id": "e5b7d7f7",
   "metadata": {},
   "outputs": [
    {
     "name": "stdout",
     "output_type": "stream",
     "text": [
      ">>>>> *\n",
      "i1 * i2:  36621\n",
      "f1 * f2:  4.860726\n",
      "big_int1 * big_int2:  123456789123456789012345678901234567889876543210876543210987654321098765432110\n"
     ]
    }
   ],
   "source": [
    "# *\n",
    "print(\">>>>> *\")\n",
    "print(\"i1 * i2: \", i1 * i2)\n",
    "print(\"f1 * f2: \", f1 * f2)\n",
    "print(\"big_int1 * big_int2: \", big_int1 * big_int2)"
   ]
  },
  {
   "cell_type": "code",
   "execution_count": 14,
   "id": "c211622f",
   "metadata": {},
   "outputs": [
    {
     "name": "stdout",
     "output_type": "stream",
     "text": [
      ">>>>> /\n",
      "i2 / i1:  24.076923076923077\n",
      "f2 / f1:  3.1920583468395463\n",
      "big_int2 / big_int1:  8.10000006561\n"
     ]
    }
   ],
   "source": [
    "# /\n",
    "print(\">>>>> /\")\n",
    "print(\"i2 / i1: \", i2 / i1)\n",
    "print(\"f2 / f1: \", f2 / f1)\n",
    "print(\"big_int2 / big_int1: \", big_int2 / big_int1)"
   ]
  },
  {
   "cell_type": "code",
   "execution_count": 15,
   "id": "d6e36602",
   "metadata": {},
   "outputs": [
    {
     "name": "stdout",
     "output_type": "stream",
     "text": [
      ">>>>> //\n",
      "i2 // i1:  24\n",
      "f2 // f1:  3.0\n",
      "big_int2 // big_int1:  8\n"
     ]
    }
   ],
   "source": [
    "# //\n",
    "print(\">>>>> //\")\n",
    "print(\"i2 // i1: \", i2 // i1) \n",
    "print(\"f2 // f1: \", f2 // f1)\n",
    "print(\"big_int2 // big_int1: \", big_int2 // big_int1)"
   ]
  },
  {
   "cell_type": "code",
   "execution_count": 16,
   "id": "0a514203",
   "metadata": {},
   "outputs": [
    {
     "name": "stdout",
     "output_type": "stream",
     "text": [
      ">>>>> %\n",
      "i1 % i2 : 39\n",
      "f1 % f2 : 1.234\n",
      "big_int1 % big_int2 : 123456789123456789012345678901234567890\n"
     ]
    }
   ],
   "source": [
    "# %\n",
    "print(\">>>>> %\")\n",
    "print(\"i1 % i2 :\", i1 % i2)\n",
    "print(\"f1 % f2 :\", f1 % f2)\n",
    "print(\"big_int1 % big_int2 :\", big_int1 % big_int2)"
   ]
  },
  {
   "cell_type": "code",
   "execution_count": 17,
   "id": "1470f11b",
   "metadata": {},
   "outputs": [
    {
     "name": "stdout",
     "output_type": "stream",
     "text": [
      ">>>>> **\n",
      "2 ** 3:  8\n",
      "i1 ** i2:  1022506312626635583804665030439848517886568042318083335883591278398438037288741990566558622100138406141643558158275024105444365536879201660885612644021445261444940742179797251796081892688027914559485473798772396512743732340523023151763660943751019131006308098788307144783696606939051578708338398053028367082638273189192434285150846461558297694776902793801564417306838969109663906055052907811614020360408193312813992026141346881644852197209917516412059364266098525652931099021885382041007793566316514615169179944928856384530132713368424697747100417896428655313414528755698998321671054850811102964679789653723028769348909103153993982582100515416669313157230956389993552417454656410560599758074525741542650281866589385696863929193963058181665847576483338830549810589782953329729597632595024734286078284939382833418335640042579137106857539338373422439805326922155940680240986288345037060969659512427144030964154102951713380645977336411938613440920613823685184818054548437463240254014958456975735050353322662241529452981520149054985517676452974236772432487364293991470964099037797636014730970362515008030368654913029567190786024079384496497756671771817107140203810333022334649590282423942722147721919738626342294242915008528804177851320976364543109216532895238412244610627773269723239459235317671518827568480961721312764409452089860018349101981333363883093727283973691806925736612803559125010274993787069849308224144485220613402198029509103574257814462424323830881877483524940133039777525461756147959\n",
      "f1 ** f2:  2.289235194260789\n"
     ]
    }
   ],
   "source": [
    "# **\n",
    "print(\">>>>> **\")\n",
    "print(\"2 ** 3: \", 2 ** 3)\n",
    "print(\"i1 ** i2: \", i1 ** i2) \n",
    "print(\"f1 ** f2: \", f1 ** f2)"
   ]
  },
  {
   "cell_type": "code",
   "execution_count": 25,
   "id": "3fb44ab9",
   "metadata": {},
   "outputs": [],
   "source": [
    "# 형 변환 실습\n",
    "a = 3.\n",
    "b = 6\n",
    "c = .7\n",
    "d = 12.7"
   ]
  },
  {
   "cell_type": "code",
   "execution_count": 26,
   "id": "4cd4b35c",
   "metadata": {},
   "outputs": [
    {
     "name": "stdout",
     "output_type": "stream",
     "text": [
      "<class 'float'> <class 'int'> <class 'float'> <class 'float'>\n"
     ]
    }
   ],
   "source": [
    "# 타입 출력\n",
    "print(type(a), type(b), type(c), type(d))"
   ]
  },
  {
   "cell_type": "code",
   "execution_count": 31,
   "id": "ec5136c7",
   "metadata": {},
   "outputs": [
    {
     "name": "stdout",
     "output_type": "stream",
     "text": [
      "6.0\n",
      "0\n",
      "12\n",
      "1\n",
      "1.0\n",
      "0\n",
      "0.0\n",
      "(3+0j)\n",
      "(3+0j)\n",
      "0j\n"
     ]
    }
   ],
   "source": [
    "del float\n",
    "del int  # 이전에 에러가 났는거는 이 값들을 변수로 저장해뒀기 때문인듯\n",
    "\n",
    "# 형 변환\n",
    "print(float(b))  # 정수 -> 실수\n",
    "print(int(c))  # 실수 -> 정수\n",
    "print(int(d))  # 실수 -> 정수\n",
    "print(int(True))  # Bool -> 정수\n",
    "print(float(True))  # Bool -> 정수\n",
    "print(int(False))  # Bool -> 정수\n",
    "print(float(False))  # Bool -> 정수\n",
    "print(complex(3))  # 정수 -> 복소수\n",
    "print(complex('3'))  # 문자 -> 복소수\n",
    "print(complex(False))  # Bool -> 복소수"
   ]
  },
  {
   "cell_type": "code",
   "execution_count": 21,
   "id": "4caa38f6",
   "metadata": {},
   "outputs": [
    {
     "name": "stdout",
     "output_type": "stream",
     "text": [
      "7\n",
      "12 4\n",
      "125\n"
     ]
    }
   ],
   "source": [
    "# 수치 연산 함수\n",
    "print(abs(-7))\n",
    "x, y = divmod(100, 8)\n",
    "print(x, y)\n",
    "print(pow(5, 3))"
   ]
  },
  {
   "cell_type": "code",
   "execution_count": 32,
   "id": "a7f1d947",
   "metadata": {},
   "outputs": [
    {
     "name": "stdout",
     "output_type": "stream",
     "text": [
      "7\n",
      "12 4\n",
      "125\n"
     ]
    }
   ],
   "source": [
    "# 수치 연산 함수\n",
    "print(abs(-7))\n",
    "x, y = divmod(100, 8)\n",
    "print(x, y)\n",
    "print(pow(5, 3))"
   ]
  },
  {
   "cell_type": "code",
   "execution_count": 37,
   "id": "ffdfee86",
   "metadata": {},
   "outputs": [
    {
     "name": "stdout",
     "output_type": "stream",
     "text": [
      "6\n"
     ]
    }
   ],
   "source": [
    "#외부 모듈\n",
    "import math\n",
    "\n",
    "#ceil\n",
    "print(math.ceil(5.1))   # x 이상의 수 중에서 가장 작은 정수"
   ]
  },
  {
   "cell_type": "code",
   "execution_count": 35,
   "id": "dc62ce11",
   "metadata": {},
   "outputs": [],
   "source": [
    "#floor"
   ]
  },
  {
   "cell_type": "code",
   "execution_count": 36,
   "id": "28bc26a2",
   "metadata": {},
   "outputs": [
    {
     "name": "stdout",
     "output_type": "stream",
     "text": [
      "3.141592653589793\n"
     ]
    }
   ],
   "source": [
    "#pi\n",
    "print(math.pi)"
   ]
  },
  {
   "cell_type": "markdown",
   "id": "43b5a551",
   "metadata": {},
   "source": [
    "# 2. 문자형"
   ]
  },
  {
   "cell_type": "code",
   "execution_count": 38,
   "id": "8fef34ee",
   "metadata": {},
   "outputs": [],
   "source": [
    "# 문자열 생성\n",
    "str1 = \"I am Python.\"\n",
    "str2 = 'Python'\n",
    "str3 = \"\"\"How are you?\"\"\"\n",
    "str4 = '''Thank you!'''"
   ]
  },
  {
   "cell_type": "code",
   "execution_count": 39,
   "id": "b26c2017",
   "metadata": {},
   "outputs": [
    {
     "name": "stdout",
     "output_type": "stream",
     "text": [
      "<class 'str'>\n",
      "<class 'str'>\n",
      "<class 'str'>\n",
      "<class 'str'>\n"
     ]
    }
   ],
   "source": [
    "# 문자열 출력\n",
    "print(type(str1))\n",
    "print(type(str2))\n",
    "print(type(str3))\n",
    "print(type(str4))"
   ]
  },
  {
   "cell_type": "code",
   "execution_count": 40,
   "id": "64157a70",
   "metadata": {},
   "outputs": [
    {
     "data": {
      "text/plain": [
       "('I am Python.', 'Python', 'How are you?', 'Thank you!')"
      ]
     },
     "execution_count": 40,
     "metadata": {},
     "output_type": "execute_result"
    }
   ],
   "source": [
    "str1, str2, str3, str4"
   ]
  },
  {
   "cell_type": "code",
   "execution_count": 41,
   "id": "a486cf6a",
   "metadata": {},
   "outputs": [
    {
     "name": "stdout",
     "output_type": "stream",
     "text": [
      "12\n",
      "6\n",
      "12\n",
      "10\n"
     ]
    }
   ],
   "source": [
    "# 문자열 길이\n",
    "print(len(str1))\n",
    "print(len(str2))\n",
    "print(len(str3))\n",
    "print(len(str4))"
   ]
  },
  {
   "cell_type": "code",
   "execution_count": 42,
   "id": "cd320fa9",
   "metadata": {},
   "outputs": [],
   "source": [
    "# 빈 문자열\n",
    "str_t1 = ''\n",
    "str_t2 = str()"
   ]
  },
  {
   "cell_type": "code",
   "execution_count": 44,
   "id": "f491446f",
   "metadata": {},
   "outputs": [
    {
     "name": "stdout",
     "output_type": "stream",
     "text": [
      "<class 'str'> 0\n",
      "<class 'str'> 0\n"
     ]
    }
   ],
   "source": [
    "print(type(str_t1), len(str_t1))\n",
    "print(type(str_t2), len(str_t2))"
   ]
  },
  {
   "cell_type": "markdown",
   "id": "c08a1186",
   "metadata": {},
   "source": [
    "## 참고 : Escape 코드"
   ]
  },
  {
   "cell_type": "markdown",
   "id": "6d2657e5",
   "metadata": {},
   "source": [
    "* \\n : 개행\n",
    "* \\t : 탭\n",
    "* \\\\ : 문자\n",
    "* \\' : 문자\n",
    "* \\\" : 문자\n",
    "* \\000 : 널 문자"
   ]
  },
  {
   "cell_type": "code",
   "execution_count": 47,
   "id": "8f1c6efa",
   "metadata": {},
   "outputs": [
    {
     "name": "stdout",
     "output_type": "stream",
     "text": [
      "Do you have a \"retro games\"?\n",
      "What's on TV?\n"
     ]
    }
   ],
   "source": [
    "escape_str1 = \"Do you have a \\\"retro games\\\"?\"\n",
    "escape_str2 = 'What\\'s on TV?'\n",
    "\n",
    "# 출력1\n",
    "print(escape_str1)\n",
    "print(escape_str2)"
   ]
  },
  {
   "cell_type": "code",
   "execution_count": 48,
   "id": "da9cd284",
   "metadata": {},
   "outputs": [
    {
     "name": "stdout",
     "output_type": "stream",
     "text": [
      "Click \tStart!\n",
      "New Line\n",
      " Check!\n"
     ]
    }
   ],
   "source": [
    "# 탭, 줄바꿈\n",
    "t_s1 = \"Click \\tStart!\"\n",
    "t_s2 = \"New Line\\n Check!\"\n",
    "\n",
    "# 출력2\n",
    "print(t_s1)\n",
    "print(t_s2)"
   ]
  },
  {
   "cell_type": "code",
   "execution_count": 50,
   "id": "1ec2f6f4",
   "metadata": {},
   "outputs": [
    {
     "name": "stdout",
     "output_type": "stream",
     "text": [
      "D:\\Python\\python3\n",
      "\\\\x\\y\\z\\q\n"
     ]
    }
   ],
   "source": [
    "# Raw String\n",
    "raw_s1 = r'D:\\Python\\python3'\n",
    "raw_s2 = r\"\\\\x\\y\\z\\q\"\n",
    "\n",
    "# Raw String 출력\n",
    "print(raw_s1)\n",
    "print(raw_s2)"
   ]
  },
  {
   "cell_type": "code",
   "execution_count": 51,
   "id": "dc413ad5",
   "metadata": {},
   "outputs": [
    {
     "ename": "SyntaxError",
     "evalue": "invalid syntax (<ipython-input-51-b3147fe96e04>, line 2)",
     "output_type": "error",
     "traceback": [
      "\u001b[1;36m  File \u001b[1;32m\"<ipython-input-51-b3147fe96e04>\"\u001b[1;36m, line \u001b[1;32m2\u001b[0m\n\u001b[1;33m    \u001b[0m\n\u001b[1;37m    ^\u001b[0m\n\u001b[1;31mSyntaxError\u001b[0m\u001b[1;31m:\u001b[0m invalid syntax\n"
     ]
    }
   ],
   "source": [
    "multi_str1 = \\\n",
    "\n",
    "    \"\"\"\n",
    "    문자열\n",
    "    멀티라인 입력\n",
    "    테스트\n",
    "    \"\"\"\n",
    "# 멀티라인 출력\n",
    "print(multi_str1)"
   ]
  },
  {
   "cell_type": "code",
   "execution_count": null,
   "id": "93f0c620",
   "metadata": {},
   "outputs": [],
   "source": []
  }
 ],
 "metadata": {
  "kernelspec": {
   "display_name": "Python 3",
   "language": "python",
   "name": "python3"
  },
  "language_info": {
   "codemirror_mode": {
    "name": "ipython",
    "version": 3
   },
   "file_extension": ".py",
   "mimetype": "text/x-python",
   "name": "python",
   "nbconvert_exporter": "python",
   "pygments_lexer": "ipython3",
   "version": "3.8.8"
  }
 },
 "nbformat": 4,
 "nbformat_minor": 5
}
