{
 "cells": [
  {
   "cell_type": "markdown",
   "id": "b570184c",
   "metadata": {},
   "source": [
    "# 1. list comprehension <- 리스트 컴프리헨션은 시퀀스의 각 원소에 연산을 적용함으로써 새로운 리스트를 생성한다."
   ]
  },
  {
   "cell_type": "code",
   "execution_count": 1,
   "id": "b839a972",
   "metadata": {},
   "outputs": [
    {
     "data": {
      "text/plain": [
       "[2, 4, 6, 8, 10]"
      ]
     },
     "execution_count": 1,
     "metadata": {},
     "output_type": "execute_result"
    }
   ],
   "source": [
    "a = [1, 2, 3, 4, 5]\n",
    "b = [2*x for x in a] # a에 있는 x의 원소들을 2* 해준 값을 반환하여라.\n",
    "\n",
    "b"
   ]
  },
  {
   "cell_type": "code",
   "execution_count": 2,
   "id": "21fd5ecf",
   "metadata": {},
   "outputs": [
    {
     "data": {
      "text/plain": [
       "['elwood', 'jake']"
      ]
     },
     "execution_count": 2,
     "metadata": {},
     "output_type": "execute_result"
    }
   ],
   "source": [
    "names = ['Elwood', 'Jake']\n",
    "a = [name.lower() for name in names]\n",
    "\n",
    "a"
   ]
  },
  {
   "cell_type": "markdown",
   "id": "24522199",
   "metadata": {},
   "source": [
    "##### [ <표현식> for  <변수명> in <시퀀스> ]  <-  # <시퀀스> 에 있는 <변수명> 의 원소들을  <표현식> 해준 값을 반환하여라."
   ]
  },
  {
   "cell_type": "markdown",
   "id": "d436ccf1",
   "metadata": {},
   "source": [
    "## 1.1 필터링\n",
    "리스트 컴프리헨션을 통해 원소를 거를 수 있다."
   ]
  },
  {
   "cell_type": "code",
   "execution_count": 3,
   "id": "be5daf2e",
   "metadata": {},
   "outputs": [
    {
     "data": {
      "text/plain": [
       "[2, 8, 4, 20]"
      ]
     },
     "execution_count": 3,
     "metadata": {},
     "output_type": "execute_result"
    }
   ],
   "source": [
    "a = [1, -5, 4, 2, -2, 10]\n",
    "b = [2*x for x in a if x> 0] # 에 있는 x의 원소들을 2* 해준 값을 반환하여라. 만약 x> 0이라면\n",
    "\n",
    "b"
   ]
  },
  {
   "cell_type": "markdown",
   "id": "78b3b1f8",
   "metadata": {},
   "source": [
    "##### [ <표현식> for <변수명> in <시퀀스> if <조건>] <- # if x>0인 원소라면, <시퀀스> 에 있는 <변수명> 의 원소들을 <표현식> 해준 값을 반환하여라.\n",
    "\n",
    "뒤에서 부터 읽는 느낌으로 작성하면된다."
   ]
  },
  {
   "cell_type": "code",
   "execution_count": null,
   "id": "f10f3238",
   "metadata": {},
   "outputs": [],
   "source": [
    "# result = []\n",
    "# for 변수명 in 시퀀스:\n",
    "#     if 조건:\n",
    "#         result.append(표현식)"
   ]
  },
  {
   "cell_type": "markdown",
   "id": "93b8f702",
   "metadata": {},
   "source": [
    "이것이 의미하는 바는 다음과 같다."
   ]
  },
  {
   "cell_type": "markdown",
   "id": "226190c1",
   "metadata": {},
   "source": [
    "## 1.2 용례"
   ]
  },
  {
   "cell_type": "code",
   "execution_count": null,
   "id": "d0414446",
   "metadata": {},
   "outputs": [],
   "source": [
    "stocknames = [s['name'] for s in stocks]"
   ]
  },
  {
   "cell_type": "markdown",
   "id": "82130115",
   "metadata": {},
   "source": [
    "리스트 컴프리헨션은 특정 딕셔너리 필드의 값을 수집 할수도 있다."
   ]
  },
  {
   "cell_type": "code",
   "execution_count": null,
   "id": "142961a2",
   "metadata": {},
   "outputs": [],
   "source": [
    "a = [s for s in stocks if s['price'] > 100 and s['shares'] > 50 ]"
   ]
  },
  {
   "cell_type": "markdown",
   "id": "5f530b75",
   "metadata": {},
   "source": [
    "시퀀스에 데이터베이스 질의와  비슷한 것을 수행할 수 있다."
   ]
  },
  {
   "cell_type": "code",
   "execution_count": null,
   "id": "0b83b0db",
   "metadata": {},
   "outputs": [],
   "source": [
    "cost = sum([s['shares']*s['price'] for s in stocks])"
   ]
  },
  {
   "cell_type": "markdown",
   "id": "39fb2931",
   "metadata": {},
   "source": [
    "리스트 컴프리헨션과 시퀀스 축소를 조합할 수도 있다."
   ]
  },
  {
   "cell_type": "markdown",
   "id": "f24ac110",
   "metadata": {},
   "source": [
    "# 2. collections 모듈"
   ]
  },
  {
   "cell_type": "markdown",
   "id": "7d69261d",
   "metadata": {},
   "source": [
    "##### 카운트하기\n",
    "보유한 주식이 다음과 같은 때, 종목별로 합산해 나타내고 싶다고 하자."
   ]
  },
  {
   "cell_type": "code",
   "execution_count": 1,
   "id": "aff50c90",
   "metadata": {},
   "outputs": [],
   "source": [
    "portfolio = [\n",
    "    ('GOOG', 100, 490.1),\n",
    "    ('IBM', 50, 91.1),\n",
    "    ('CAT', 150, 83.44),\n",
    "    ('IBM', 100, 45.23),\n",
    "    ('GOOG', 75, 572.45),\n",
    "    ('AA', 50, 23.15)\n",
    "]"
   ]
  },
  {
   "cell_type": "markdown",
   "id": "809f133b",
   "metadata": {},
   "source": [
    "## Counter"
   ]
  },
  {
   "cell_type": "code",
   "execution_count": 2,
   "id": "d7281989",
   "metadata": {},
   "outputs": [
    {
     "data": {
      "text/plain": [
       "150"
      ]
     },
     "execution_count": 2,
     "metadata": {},
     "output_type": "execute_result"
    }
   ],
   "source": [
    "from collections import Counter\n",
    "\n",
    "total_shares = Counter()\n",
    "\n",
    "for name, shares, price in portfolio:\n",
    "    total_shares[name] += shares\n",
    "\n",
    "total_shares['IBM']     # 150"
   ]
  },
  {
   "cell_type": "markdown",
   "id": "4bf54010",
   "metadata": {},
   "source": [
    "# 일대다(One-Many) 매핑\n",
    "문제: 하나의 키를 여러 개의 값에 매핑하려고 한다."
   ]
  },
  {
   "cell_type": "code",
   "execution_count": 3,
   "id": "e60840cf",
   "metadata": {},
   "outputs": [],
   "source": [
    "portfolio = [\n",
    "    ('GOOG', 100, 490.1),\n",
    "    ('IBM', 50, 91.1),\n",
    "    ('CAT', 150, 83.44),\n",
    "    ('IBM', 100, 45.23),\n",
    "    ('GOOG', 75, 572.45),\n",
    "    ('AA', 50, 23.15)\n",
    "]"
   ]
  },
  {
   "cell_type": "code",
   "execution_count": 4,
   "id": "bba71624",
   "metadata": {},
   "outputs": [
    {
     "data": {
      "text/plain": [
       "[(50, 91.1), (100, 45.23)]"
      ]
     },
     "execution_count": 4,
     "metadata": {},
     "output_type": "execute_result"
    }
   ],
   "source": [
    "from collections import defaultdict\n",
    "holdings = defaultdict(list)\n",
    "for name, shares, price in portfolio:\n",
    "    holdings[name].append((shares, price))\n",
    "holdings['IBM'] # [ (50, 91.1), (100, 45.23) ]"
   ]
  },
  {
   "cell_type": "markdown",
   "id": "dd0d49cc",
   "metadata": {},
   "source": [
    "defaultdict을 사용하면 키에 액세스할 때마다 기본값을 얻는다."
   ]
  },
  {
   "cell_type": "markdown",
   "id": "2ba94e49",
   "metadata": {},
   "source": [
    "# 3. 객체\n",
    "\n",
    "https://wikidocs.net/84394"
   ]
  },
  {
   "cell_type": "code",
   "execution_count": null,
   "id": "539510ca",
   "metadata": {},
   "outputs": [],
   "source": []
  },
  {
   "cell_type": "code",
   "execution_count": null,
   "id": "ba8521bd",
   "metadata": {},
   "outputs": [],
   "source": []
  },
  {
   "cell_type": "code",
   "execution_count": null,
   "id": "08dd2aac",
   "metadata": {},
   "outputs": [],
   "source": []
  }
 ],
 "metadata": {
  "kernelspec": {
   "display_name": "Python 3",
   "language": "python",
   "name": "python3"
  },
  "language_info": {
   "codemirror_mode": {
    "name": "ipython",
    "version": 3
   },
   "file_extension": ".py",
   "mimetype": "text/x-python",
   "name": "python",
   "nbconvert_exporter": "python",
   "pygments_lexer": "ipython3",
   "version": "3.9.6"
  }
 },
 "nbformat": 4,
 "nbformat_minor": 5
}
