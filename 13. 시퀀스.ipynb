{
 "cells": [
  {
   "cell_type": "markdown",
   "id": "e72f9ced",
   "metadata": {
    "ExecuteTime": {
     "end_time": "2021-08-27T08:27:00.653814Z",
     "start_time": "2021-08-27T08:27:00.643805Z"
    }
   },
   "source": [
    "# 시퀀스 \n",
    "\n",
    "* Chapter04-01\n",
    "* 시퀀스형\n",
    "* 컨테이너(Container : 서로다른 자료형[list, tuple, collections.deque])\n",
    "* 플랫(Flat : 한개의 자료형[str, bytes, bytearray, array.array, memoryview])  \n",
    "  \n",
    "  \n",
    "* 가변(list, bytearray, array.array, memoryview, deque)\n",
    "* 불변(tuple, str, bytes)    <- 이런 식으로 나눠볼 수 있다."
   ]
  },
  {
   "cell_type": "markdown",
   "id": "7504fd6d",
   "metadata": {},
   "source": [
    "## 리스트 및 튜플 고급\n",
    "### 지능형 리스트(Comprehending Lists)\n"
   ]
  },
  {
   "cell_type": "code",
   "execution_count": 2,
   "id": "ccac4677",
   "metadata": {
    "ExecuteTime": {
     "end_time": "2021-08-29T06:50:05.964769Z",
     "start_time": "2021-08-29T06:50:05.947825Z"
    },
    "scrolled": true
   },
   "outputs": [
    {
     "ename": "TypeError",
     "evalue": "'str' object does not support item assignment",
     "output_type": "error",
     "traceback": [
      "\u001b[1;31m---------------------------------------------------------------------------\u001b[0m",
      "\u001b[1;31mTypeError\u001b[0m                                 Traceback (most recent call last)",
      "\u001b[1;32m<ipython-input-2-b6ab00951d0d>\u001b[0m in \u001b[0;36m<module>\u001b[1;34m\u001b[0m\n\u001b[0;32m      1\u001b[0m \u001b[0mchars\u001b[0m \u001b[1;33m=\u001b[0m \u001b[1;34m'+_)(*&^%$#@!~)'\u001b[0m\u001b[1;33m\u001b[0m\u001b[1;33m\u001b[0m\u001b[0m\n\u001b[0;32m      2\u001b[0m \u001b[1;33m\u001b[0m\u001b[0m\n\u001b[1;32m----> 3\u001b[1;33m \u001b[0mchars\u001b[0m\u001b[1;33m[\u001b[0m\u001b[1;36m2\u001b[0m\u001b[1;33m]\u001b[0m \u001b[1;33m=\u001b[0m \u001b[1;34m'h'\u001b[0m\u001b[1;33m\u001b[0m\u001b[1;33m\u001b[0m\u001b[0m\n\u001b[0m",
      "\u001b[1;31mTypeError\u001b[0m: 'str' object does not support item assignment"
     ]
    }
   ],
   "source": [
    "chars = '+_)(*&^%$#@!~)'\n",
    "\n",
    "chars[2] = 'h'"
   ]
  },
  {
   "cell_type": "markdown",
   "id": "4f0d0e64",
   "metadata": {},
   "source": [
    "불변형이므로 변경이 불가능하다."
   ]
  },
  {
   "cell_type": "code",
   "execution_count": 3,
   "id": "a3fbaa86",
   "metadata": {
    "ExecuteTime": {
     "end_time": "2021-08-29T06:50:06.310116Z",
     "start_time": "2021-08-29T06:50:06.293326Z"
    },
    "scrolled": true
   },
   "outputs": [
    {
     "name": "stdout",
     "output_type": "stream",
     "text": [
      "[43, 95, 41, 40, 42, 38, 94, 37, 36, 35, 64, 33, 126, 41]\n"
     ]
    }
   ],
   "source": [
    "code_list1 = []\n",
    "\n",
    "for s in chars:\n",
    "    # 유니코드 리스트\n",
    "    code_list1.append(ord(s))\n",
    "    \n",
    "print(code_list1) # 확인해보면, 문자 하나하나가 순서대로 나열되어 있음을 알 수 있다."
   ]
  },
  {
   "cell_type": "code",
   "execution_count": 4,
   "id": "61707c4f",
   "metadata": {
    "ExecuteTime": {
     "end_time": "2021-08-29T06:50:06.459415Z",
     "start_time": "2021-08-29T06:50:06.447454Z"
    }
   },
   "outputs": [],
   "source": [
    "code_list2 = [ord(s) for s in chars] # 리스트 컴프레이션으로 한줄로 만들 수 있다."
   ]
  },
  {
   "cell_type": "code",
   "execution_count": 5,
   "id": "4b0d855a",
   "metadata": {
    "ExecuteTime": {
     "end_time": "2021-08-29T06:50:06.609027Z",
     "start_time": "2021-08-29T06:50:06.597066Z"
    }
   },
   "outputs": [],
   "source": [
    "code_list3 = [ord(s) for s in chars if ord(s) > 40]"
   ]
  },
  {
   "cell_type": "code",
   "execution_count": 6,
   "id": "25b5c2c5",
   "metadata": {
    "ExecuteTime": {
     "end_time": "2021-08-29T06:50:06.773985Z",
     "start_time": "2021-08-29T06:50:06.758527Z"
    }
   },
   "outputs": [],
   "source": [
    "code_list4 = list(filter(lambda x : x > 40, map(ord, chars))) # 이런식으로 사용할 수 있다."
   ]
  },
  {
   "cell_type": "markdown",
   "id": "885a73d5",
   "metadata": {},
   "source": [
    "리스트 컴프리헨션을 활용하면 좀 더 깔끔하고, 속도 측면으로 봤을때도 좀 더 빠르다."
   ]
  },
  {
   "cell_type": "code",
   "execution_count": 7,
   "id": "129be28b",
   "metadata": {
    "ExecuteTime": {
     "end_time": "2021-08-29T06:50:07.089123Z",
     "start_time": "2021-08-29T06:50:07.074171Z"
    }
   },
   "outputs": [
    {
     "name": "stdout",
     "output_type": "stream",
     "text": [
      "[43, 95, 41, 40, 42, 38, 94, 37, 36, 35, 64, 33, 126, 41]\n",
      "[43, 95, 41, 40, 42, 38, 94, 37, 36, 35, 64, 33, 126, 41]\n",
      "[43, 95, 41, 42, 94, 64, 126, 41]\n",
      "[43, 95, 41, 42, 94, 64, 126, 41]\n",
      "['+', '_', ')', '(', '*', '&', '^', '%', '$', '#', '@', '!', '~', ')']\n",
      "['+', '_', ')', '(', '*', '&', '^', '%', '$', '#', '@', '!', '~', ')']\n",
      "['+', '_', ')', '*', '^', '@', '~', ')']\n",
      "['+', '_', ')', '*', '^', '@', '~', ')']\n"
     ]
    }
   ],
   "source": [
    "# 전체 출력\n",
    "print(code_list1)\n",
    "print(code_list2)\n",
    "print(code_list3)\n",
    "print(code_list4)\n",
    "print([chr(s) for s in code_list1])\n",
    "print([chr(s) for s in code_list2])\n",
    "print([chr(s) for s in code_list3])\n",
    "print([chr(s) for s in code_list4])"
   ]
  },
  {
   "cell_type": "markdown",
   "id": "168496b6",
   "metadata": {},
   "source": [
    "### Generator "
   ]
  },
  {
   "cell_type": "code",
   "execution_count": 10,
   "id": "789f9306",
   "metadata": {
    "ExecuteTime": {
     "end_time": "2021-08-29T06:50:24.148807Z",
     "start_time": "2021-08-29T06:50:24.140834Z"
    }
   },
   "outputs": [
    {
     "name": "stdout",
     "output_type": "stream",
     "text": [
      "[43, 95, 41, 40, 42, 38, 94, 37, 36, 35, 64, 33, 126, 41]\n",
      "<class 'generator'>\n",
      "43\n",
      "<class 'array.array'>\n",
      "[43, 95, 41, 40, 42, 38, 94, 37, 36, 35, 64, 33, 126, 41]\n"
     ]
    }
   ],
   "source": [
    "# Generator 생성 \n",
    "import array\n",
    "\n",
    "tuple_g_list = [ord(s) for s in chars]\n",
    "\n",
    "print(tuple_g_list) # list 형태로 만들면 값을 다 할당해 버린다.\n",
    "\n",
    "# Generator : 한 번에 한 개의 항목을 생성(메모리 유지X)\n",
    "tuple_g = (ord(s) for s in chars) # 이런식으로 소괄호로 바꾸면 generator로 바뀐다.\n",
    "# Array\n",
    "array_g = array.array('I',  (ord(s) for s in chars))\n",
    "\n",
    "print(type(tuple_g))\n",
    "print(next(tuple_g))\n",
    "print(type(array_g))\n",
    "print(array_g.tolist())"
   ]
  },
  {
   "cell_type": "code",
   "execution_count": 12,
   "id": "3e4db926",
   "metadata": {
    "ExecuteTime": {
     "end_time": "2021-08-29T06:58:09.581390Z",
     "start_time": "2021-08-29T06:58:09.562487Z"
    }
   },
   "outputs": [
    {
     "name": "stdout",
     "output_type": "stream",
     "text": [
      "<generator object <genexpr> at 0x0000014B67562120>\n",
      "A1\n",
      "A2\n",
      "A3\n",
      "A4\n",
      "A5\n",
      "A6\n",
      "A7\n",
      "A8\n",
      "A9\n",
      "A10\n",
      "A11\n",
      "A12\n",
      "A13\n",
      "A14\n",
      "A15\n",
      "A16\n",
      "A17\n",
      "A18\n",
      "A19\n",
      "A20\n",
      "B1\n",
      "B2\n",
      "B3\n",
      "B4\n",
      "B5\n",
      "B6\n",
      "B7\n",
      "B8\n",
      "B9\n",
      "B10\n",
      "B11\n",
      "B12\n",
      "B13\n",
      "B14\n",
      "B15\n",
      "B16\n",
      "B17\n",
      "B18\n",
      "B19\n",
      "B20\n",
      "C1\n",
      "C2\n",
      "C3\n",
      "C4\n",
      "C5\n",
      "C6\n",
      "C7\n",
      "C8\n",
      "C9\n",
      "C10\n",
      "C11\n",
      "C12\n",
      "C13\n",
      "C14\n",
      "C15\n",
      "C16\n",
      "C17\n",
      "C18\n",
      "C19\n",
      "C20\n",
      "D1\n",
      "D2\n",
      "D3\n",
      "D4\n",
      "D5\n",
      "D6\n",
      "D7\n",
      "D8\n",
      "D9\n",
      "D10\n",
      "D11\n",
      "D12\n",
      "D13\n",
      "D14\n",
      "D15\n",
      "D16\n",
      "D17\n",
      "D18\n",
      "D19\n",
      "D20\n"
     ]
    }
   ],
   "source": [
    "# 제네레이터 예제\n",
    "print(('%s' % c + str(n) for c in ['A', 'B', 'C', 'D'] for n in range(1,21)))\n",
    "\n",
    "for s in ('%s' % c + str(n) for c in ['A', 'B', 'C', 'D'] for n in range(1,21)):\n",
    "    print(s)"
   ]
  },
  {
   "cell_type": "markdown",
   "id": "419ed66b",
   "metadata": {},
   "source": [
    "### 리스트 주의 - shallow copy, deep copy"
   ]
  },
  {
   "cell_type": "code",
   "execution_count": 1,
   "id": "b48d7683",
   "metadata": {
    "ExecuteTime": {
     "end_time": "2021-08-31T06:14:27.456636Z",
     "start_time": "2021-08-31T06:14:27.444743Z"
    }
   },
   "outputs": [
    {
     "name": "stdout",
     "output_type": "stream",
     "text": [
      "[['~', '~', '~'], ['~', '~', '~'], ['~', '~', '~'], ['~', '~', '~']]\n",
      "[['~', '~', '~'], ['~', '~', '~'], ['~', '~', '~'], ['~', '~', '~']]\n"
     ]
    }
   ],
   "source": [
    "marks1 = [['~'] * 3 for n in range(4)]\n",
    "# marks1 = [['~'] * 3 for _ in range(4)]  <- 사용하지 않는 원소는 _ 로 표시해도 된다. \n",
    "# 즉, 반복은 할껀데 원소를 사용하지 않을꺼야..\n",
    "\n",
    "\n",
    "\n",
    "marks2 = [['~'] * 3] * 4 # <- 이러한 참조형 구조형의 경우 실수할 수 있으니 주의하자\n",
    "\n",
    "print(marks1)\n",
    "print(marks2) # 둘다 동일해 보인다 뭐가 다른걸까 ?"
   ]
  },
  {
   "cell_type": "code",
   "execution_count": 2,
   "id": "571cc3a1",
   "metadata": {
    "ExecuteTime": {
     "end_time": "2021-08-31T06:14:32.088953Z",
     "start_time": "2021-08-31T06:14:32.077990Z"
    }
   },
   "outputs": [],
   "source": [
    "# 수정\n",
    "marks1[0][1] = 'X'\n",
    "marks2[0][1] = 'X'"
   ]
  },
  {
   "cell_type": "code",
   "execution_count": 3,
   "id": "5c6815ca",
   "metadata": {
    "ExecuteTime": {
     "end_time": "2021-08-31T06:14:32.269765Z",
     "start_time": "2021-08-31T06:14:32.257804Z"
    }
   },
   "outputs": [
    {
     "name": "stdout",
     "output_type": "stream",
     "text": [
      "[['~', 'X', '~'], ['~', '~', '~'], ['~', '~', '~'], ['~', '~', '~']]\n",
      "[['~', 'X', '~'], ['~', 'X', '~'], ['~', 'X', '~'], ['~', 'X', '~']]\n"
     ]
    }
   ],
   "source": [
    "print(marks1)\n",
    "print(marks2)"
   ]
  },
  {
   "cell_type": "code",
   "execution_count": 17,
   "id": "a299d27f",
   "metadata": {
    "ExecuteTime": {
     "end_time": "2021-08-29T07:00:02.331494Z",
     "start_time": "2021-08-29T07:00:02.326511Z"
    }
   },
   "outputs": [
    {
     "name": "stdout",
     "output_type": "stream",
     "text": [
      "[1423361415424, 1423361337408, 1423360215552, 1423361325376, 1423361269696]\n",
      "[1423359644608, 1423359644608, 1423359644608, 1423359644608, 1423359644608]\n"
     ]
    }
   ],
   "source": [
    "# 증명\n",
    "print([id(i) for i in marks1]) # 각자의 객체가 생성된 것 \n",
    "print([id(i) for i in marks2]) # 하나의 값을 복사한 것"
   ]
  },
  {
   "cell_type": "markdown",
   "id": "74bbb316",
   "metadata": {},
   "source": [
    "## 튜플(Tuple) 고급 사용"
   ]
  },
  {
   "cell_type": "markdown",
   "id": "8475431c",
   "metadata": {},
   "source": [
    "### Unpacking\n",
    "* b, a = a, b"
   ]
  },
  {
   "cell_type": "code",
   "execution_count": 7,
   "id": "694fbaf2",
   "metadata": {
    "ExecuteTime": {
     "end_time": "2021-08-31T06:30:31.122387Z",
     "start_time": "2021-08-31T06:30:31.118401Z"
    },
    "scrolled": true
   },
   "outputs": [
    {
     "name": "stdout",
     "output_type": "stream",
     "text": [
      "(11, 1)\n",
      "(11, 1)\n",
      "11 1\n"
     ]
    }
   ],
   "source": [
    "print(divmod(100, 9))\n",
    "print(divmod(*(100,9)))\n",
    "print(*(divmod(100,9)))"
   ]
  },
  {
   "cell_type": "code",
   "execution_count": 10,
   "id": "5d89318a",
   "metadata": {
    "ExecuteTime": {
     "end_time": "2021-08-31T06:31:14.774510Z",
     "start_time": "2021-08-31T06:31:14.762476Z"
    }
   },
   "outputs": [
    {
     "name": "stdout",
     "output_type": "stream",
     "text": [
      "0 1 [2, 3, 4, 5, 6, 7, 8, 9]\n"
     ]
    }
   ],
   "source": [
    "x, y, *rest = range(10)\n",
    "\n",
    "print(x, y, rest)"
   ]
  },
  {
   "cell_type": "code",
   "execution_count": 11,
   "id": "f3d925ff",
   "metadata": {
    "ExecuteTime": {
     "end_time": "2021-08-31T06:31:57.570407Z",
     "start_time": "2021-08-31T06:31:57.557450Z"
    }
   },
   "outputs": [
    {
     "name": "stdout",
     "output_type": "stream",
     "text": [
      "0 1 []\n"
     ]
    }
   ],
   "source": [
    "x, y, *rest = range(2)\n",
    "print(x, y, rest)"
   ]
  },
  {
   "cell_type": "code",
   "execution_count": 12,
   "id": "d7bcb83e",
   "metadata": {
    "ExecuteTime": {
     "end_time": "2021-08-31T06:32:21.405250Z",
     "start_time": "2021-08-31T06:32:21.392365Z"
    }
   },
   "outputs": [
    {
     "name": "stdout",
     "output_type": "stream",
     "text": [
      "1 2 [3, 4, 5]\n"
     ]
    }
   ],
   "source": [
    "x, y, *rest = 1,2,3,4,5\n",
    "print(x, y, rest)"
   ]
  },
  {
   "cell_type": "markdown",
   "id": "cbf0356b",
   "metadata": {},
   "source": [
    "## Mutable(가변), lmmutable(불변)"
   ]
  },
  {
   "cell_type": "code",
   "execution_count": 16,
   "id": "54e9ac1b",
   "metadata": {
    "ExecuteTime": {
     "end_time": "2021-08-31T07:02:40.674994Z",
     "start_time": "2021-08-31T07:02:40.657089Z"
    }
   },
   "outputs": [
    {
     "name": "stdout",
     "output_type": "stream",
     "text": [
      "(15, 20, 25) 1691123962880\n",
      "[15, 20, 25] 1691131454720\n",
      "(15, 20, 25, 15, 20, 25) 1691124393344\n",
      "[15, 20, 25, 15, 20, 25] 1691099241216\n",
      "(15, 20, 25, 15, 20, 25, 15, 20, 25, 15, 20, 25) 1691122134464\n",
      "[15, 20, 25, 15, 20, 25, 15, 20, 25, 15, 20, 25] 1691099241216\n"
     ]
    }
   ],
   "source": [
    "l = (15, 20, 25)\n",
    "m = [15, 20, 25]\n",
    "\n",
    "print(l, id(l))\n",
    "print(m, id(m))\n",
    "\n",
    "l = l*2\n",
    "m = m*2\n",
    "\n",
    "print(l, id(l))\n",
    "print(m, id(m))\n",
    "l *= 2\n",
    "m *= 2\n",
    "\n",
    "print(l, id(l))\n",
    "print(m, id(m))"
   ]
  },
  {
   "cell_type": "markdown",
   "id": "dfcc0898",
   "metadata": {},
   "source": [
    "## Sort vs Sorted 실습\n",
    "* Sorted : 정렬 후 새로운 객체 반환\n",
    "* Sort : 정렬 후 객체 직접 변경"
   ]
  },
  {
   "cell_type": "code",
   "execution_count": 17,
   "id": "819c944d",
   "metadata": {
    "ExecuteTime": {
     "end_time": "2021-08-31T07:07:06.008559Z",
     "start_time": "2021-08-31T07:07:05.997525Z"
    }
   },
   "outputs": [
    {
     "name": "stdout",
     "output_type": "stream",
     "text": [
      "sorted - ['apple', 'coconut', 'lemon', 'mango', 'orange', 'papaya', 'strawberry']\n",
      "sorted - ['strawberry', 'papaya', 'orange', 'mango', 'lemon', 'coconut', 'apple']\n",
      "sorted - ['apple', 'mango', 'lemon', 'orange', 'papaya', 'coconut', 'strawberry']\n",
      "sorted - ['papaya', 'orange', 'apple', 'lemon', 'mango', 'coconut', 'strawberry']\n",
      "sorted - ['strawberry', 'coconut', 'mango', 'lemon', 'orange', 'apple', 'papaya']\n"
     ]
    }
   ],
   "source": [
    "# reverse, key=len, key=str.lower, key=func..\n",
    "\n",
    "# sorted : 정렬 후 새로운 객체 반환\n",
    "f_list = ['orange', 'apple', 'mango', 'papaya', 'lemon', 'strawberry', 'coconut']\n",
    "\n",
    "print('sorted -', sorted(f_list))\n",
    "print('sorted -', sorted(f_list, reverse=True))\n",
    "print('sorted -', sorted(f_list, key=len))\n",
    "print('sorted -', sorted(f_list, key=lambda x: x[-1])) # 끝에 글자를 기준으로 정렬한다. # 핵꿀팁\n",
    "print('sorted -', sorted(f_list, key=lambda x: x[-1], reverse=True))"
   ]
  },
  {
   "cell_type": "code",
   "execution_count": 18,
   "id": "e456fc3d",
   "metadata": {
    "ExecuteTime": {
     "end_time": "2021-08-31T07:08:48.775549Z",
     "start_time": "2021-08-31T07:08:48.760598Z"
    }
   },
   "outputs": [
    {
     "name": "stdout",
     "output_type": "stream",
     "text": [
      "sorted - ['orange', 'apple', 'mango', 'papaya', 'lemon', 'strawberry', 'coconut']\n"
     ]
    }
   ],
   "source": [
    "print('sorted -', f_list)"
   ]
  },
  {
   "cell_type": "code",
   "execution_count": 19,
   "id": "ed34dd0b",
   "metadata": {
    "ExecuteTime": {
     "end_time": "2021-08-31T07:09:01.354833Z",
     "start_time": "2021-08-31T07:09:01.339883Z"
    }
   },
   "outputs": [
    {
     "name": "stdout",
     "output_type": "stream",
     "text": [
      "sort - None ['apple', 'coconut', 'lemon', 'mango', 'orange', 'papaya', 'strawberry']\n",
      "sort - None ['strawberry', 'papaya', 'orange', 'mango', 'lemon', 'coconut', 'apple']\n",
      "sort - None ['mango', 'lemon', 'apple', 'papaya', 'orange', 'coconut', 'strawberry']\n",
      "sort - None ['papaya', 'apple', 'orange', 'lemon', 'mango', 'coconut', 'strawberry']\n",
      "sort - None ['strawberry', 'coconut', 'mango', 'lemon', 'apple', 'orange', 'papaya']\n"
     ]
    }
   ],
   "source": [
    "# sort : 정렬 후 객체 직접 변경\n",
    "\n",
    "# 반환 값 확인(None)\n",
    "print('sort -', f_list.sort(), f_list)\n",
    "print('sort -', f_list.sort(reverse=True), f_list)\n",
    "print('sort -', f_list.sort(key=len), f_list)\n",
    "print('sort -', f_list.sort(key=lambda x: x[-1]), f_list)\n",
    "print('sort -', f_list.sort(key=lambda x: x[-1], reverse=True), f_list)"
   ]
  },
  {
   "cell_type": "markdown",
   "id": "41902e65",
   "metadata": {},
   "source": [
    "* sort 의 경우 원본이 직접 변환되었음을 알 수 있다."
   ]
  },
  {
   "cell_type": "markdown",
   "id": "7a574097",
   "metadata": {},
   "source": [
    "### List vs Array 적합 한 사용법 설명\n",
    "### 리스트 기반 : 융통성, 다양한 자료형, 범용적 사용\n",
    "### 숫자 기반 : 배열(리스트와 거의 호환)"
   ]
  },
  {
   "cell_type": "markdown",
   "id": "b50852f8",
   "metadata": {},
   "source": [
    "## 해쉬테이블\n",
    "* Key에 Value를 저장하는 구조\n",
    "* Python의 dict은 해쉬 테이블의 예이다.\n",
    "* 키 값의 연산 결과에 따라 직접 접근이 가능한 구조 (중요)\n",
    "* key 값은 해싱 함수 -> 해쉬 주소 -> key 에 대한 value 참조\n",
    "* 해쉬테이블(hashtable) -> 적은 리소스로 많은 데이터를 효율적으로 관리"
   ]
  },
  {
   "cell_type": "code",
   "execution_count": 20,
   "id": "ad32cc1f",
   "metadata": {
    "ExecuteTime": {
     "end_time": "2021-09-01T05:06:42.623277Z",
     "start_time": "2021-09-01T05:06:42.612760Z"
    }
   },
   "outputs": [
    {
     "name": "stdout",
     "output_type": "stream",
     "text": [
      "{'__name__': 'builtins', '__doc__': \"Built-in functions, exceptions, and other objects.\\n\\nNoteworthy: None is the `nil' object; Ellipsis represents `...' in slices.\", '__package__': '', '__loader__': <class '_frozen_importlib.BuiltinImporter'>, '__spec__': ModuleSpec(name='builtins', loader=<class '_frozen_importlib.BuiltinImporter'>), '__build_class__': <built-in function __build_class__>, '__import__': <built-in function __import__>, 'abs': <built-in function abs>, 'all': <built-in function all>, 'any': <built-in function any>, 'ascii': <built-in function ascii>, 'bin': <built-in function bin>, 'breakpoint': <built-in function breakpoint>, 'callable': <built-in function callable>, 'chr': <built-in function chr>, 'compile': <built-in function compile>, 'delattr': <built-in function delattr>, 'dir': <built-in function dir>, 'divmod': <built-in function divmod>, 'eval': <built-in function eval>, 'exec': <built-in function exec>, 'format': <built-in function format>, 'getattr': <built-in function getattr>, 'globals': <built-in function globals>, 'hasattr': <built-in function hasattr>, 'hash': <built-in function hash>, 'hex': <built-in function hex>, 'id': <built-in function id>, 'input': <bound method Kernel.raw_input of <ipykernel.ipkernel.IPythonKernel object at 0x00000189BD546880>>, 'isinstance': <built-in function isinstance>, 'issubclass': <built-in function issubclass>, 'iter': <built-in function iter>, 'len': <built-in function len>, 'locals': <built-in function locals>, 'max': <built-in function max>, 'min': <built-in function min>, 'next': <built-in function next>, 'oct': <built-in function oct>, 'ord': <built-in function ord>, 'pow': <built-in function pow>, 'print': <built-in function print>, 'repr': <built-in function repr>, 'round': <built-in function round>, 'setattr': <built-in function setattr>, 'sorted': <built-in function sorted>, 'sum': <built-in function sum>, 'vars': <built-in function vars>, 'None': None, 'Ellipsis': Ellipsis, 'NotImplemented': NotImplemented, 'False': False, 'True': True, 'bool': <class 'bool'>, 'memoryview': <class 'memoryview'>, 'bytearray': <class 'bytearray'>, 'bytes': <class 'bytes'>, 'classmethod': <class 'classmethod'>, 'complex': <class 'complex'>, 'dict': <class 'dict'>, 'enumerate': <class 'enumerate'>, 'filter': <class 'filter'>, 'float': <class 'float'>, 'frozenset': <class 'frozenset'>, 'property': <class 'property'>, 'int': <class 'int'>, 'list': <class 'list'>, 'map': <class 'map'>, 'object': <class 'object'>, 'range': <class 'range'>, 'reversed': <class 'reversed'>, 'set': <class 'set'>, 'slice': <class 'slice'>, 'staticmethod': <class 'staticmethod'>, 'str': <class 'str'>, 'super': <class 'super'>, 'tuple': <class 'tuple'>, 'type': <class 'type'>, 'zip': <class 'zip'>, '__debug__': True, 'BaseException': <class 'BaseException'>, 'Exception': <class 'Exception'>, 'TypeError': <class 'TypeError'>, 'StopAsyncIteration': <class 'StopAsyncIteration'>, 'StopIteration': <class 'StopIteration'>, 'GeneratorExit': <class 'GeneratorExit'>, 'SystemExit': <class 'SystemExit'>, 'KeyboardInterrupt': <class 'KeyboardInterrupt'>, 'ImportError': <class 'ImportError'>, 'ModuleNotFoundError': <class 'ModuleNotFoundError'>, 'OSError': <class 'OSError'>, 'EnvironmentError': <class 'OSError'>, 'IOError': <class 'OSError'>, 'WindowsError': <class 'OSError'>, 'EOFError': <class 'EOFError'>, 'RuntimeError': <class 'RuntimeError'>, 'RecursionError': <class 'RecursionError'>, 'NotImplementedError': <class 'NotImplementedError'>, 'NameError': <class 'NameError'>, 'UnboundLocalError': <class 'UnboundLocalError'>, 'AttributeError': <class 'AttributeError'>, 'SyntaxError': <class 'SyntaxError'>, 'IndentationError': <class 'IndentationError'>, 'TabError': <class 'TabError'>, 'LookupError': <class 'LookupError'>, 'IndexError': <class 'IndexError'>, 'KeyError': <class 'KeyError'>, 'ValueError': <class 'ValueError'>, 'UnicodeError': <class 'UnicodeError'>, 'UnicodeEncodeError': <class 'UnicodeEncodeError'>, 'UnicodeDecodeError': <class 'UnicodeDecodeError'>, 'UnicodeTranslateError': <class 'UnicodeTranslateError'>, 'AssertionError': <class 'AssertionError'>, 'ArithmeticError': <class 'ArithmeticError'>, 'FloatingPointError': <class 'FloatingPointError'>, 'OverflowError': <class 'OverflowError'>, 'ZeroDivisionError': <class 'ZeroDivisionError'>, 'SystemError': <class 'SystemError'>, 'ReferenceError': <class 'ReferenceError'>, 'MemoryError': <class 'MemoryError'>, 'BufferError': <class 'BufferError'>, 'Warning': <class 'Warning'>, 'UserWarning': <class 'UserWarning'>, 'DeprecationWarning': <class 'DeprecationWarning'>, 'PendingDeprecationWarning': <class 'PendingDeprecationWarning'>, 'SyntaxWarning': <class 'SyntaxWarning'>, 'RuntimeWarning': <class 'RuntimeWarning'>, 'FutureWarning': <class 'FutureWarning'>, 'ImportWarning': <class 'ImportWarning'>, 'UnicodeWarning': <class 'UnicodeWarning'>, 'BytesWarning': <class 'BytesWarning'>, 'ResourceWarning': <class 'ResourceWarning'>, 'ConnectionError': <class 'ConnectionError'>, 'BlockingIOError': <class 'BlockingIOError'>, 'BrokenPipeError': <class 'BrokenPipeError'>, 'ChildProcessError': <class 'ChildProcessError'>, 'ConnectionAbortedError': <class 'ConnectionAbortedError'>, 'ConnectionRefusedError': <class 'ConnectionRefusedError'>, 'ConnectionResetError': <class 'ConnectionResetError'>, 'FileExistsError': <class 'FileExistsError'>, 'FileNotFoundError': <class 'FileNotFoundError'>, 'IsADirectoryError': <class 'IsADirectoryError'>, 'NotADirectoryError': <class 'NotADirectoryError'>, 'InterruptedError': <class 'InterruptedError'>, 'PermissionError': <class 'PermissionError'>, 'ProcessLookupError': <class 'ProcessLookupError'>, 'TimeoutError': <class 'TimeoutError'>, 'open': <built-in function open>, 'copyright': Copyright (c) 2001-2021 Python Software Foundation.\n",
      "All Rights Reserved.\n",
      "\n",
      "Copyright (c) 2000 BeOpen.com.\n",
      "All Rights Reserved.\n",
      "\n",
      "Copyright (c) 1995-2001 Corporation for National Research Initiatives.\n",
      "All Rights Reserved.\n",
      "\n",
      "Copyright (c) 1991-1995 Stichting Mathematisch Centrum, Amsterdam.\n",
      "All Rights Reserved., 'credits':     Thanks to CWI, CNRI, BeOpen.com, Zope Corporation and a cast of thousands\n",
      "    for supporting Python development.  See www.python.org for more information., 'license': See https://www.python.org/psf/license/, 'help': Type help() for interactive help, or help(object) for help about object., '__IPYTHON__': True, 'display': <function display at 0x00000189BB74F3A0>, 'get_ipython': <bound method InteractiveShell.get_ipython of <ipykernel.zmqshell.ZMQInteractiveShell object at 0x00000189BD525FA0>>}\n"
     ]
    }
   ],
   "source": [
    "# Dict 구조\n",
    "print(__builtins__.__dict__)"
   ]
  },
  {
   "cell_type": "markdown",
   "id": "5cd9adc5",
   "metadata": {},
   "source": [
    "확인해보면, python은 기본적으로 해쉬 형태를 띄고 있다."
   ]
  },
  {
   "cell_type": "code",
   "execution_count": 22,
   "id": "44235271",
   "metadata": {
    "ExecuteTime": {
     "end_time": "2021-09-01T05:08:56.191867Z",
     "start_time": "2021-09-01T05:08:56.123293Z"
    }
   },
   "outputs": [
    {
     "name": "stdout",
     "output_type": "stream",
     "text": [
      "465510690262297113\n"
     ]
    },
    {
     "ename": "TypeError",
     "evalue": "unhashable type: 'list'",
     "output_type": "error",
     "traceback": [
      "\u001b[1;31m---------------------------------------------------------------------------\u001b[0m",
      "\u001b[1;31mTypeError\u001b[0m                                 Traceback (most recent call last)",
      "\u001b[1;32m<ipython-input-22-ad14567bc5ec>\u001b[0m in \u001b[0;36m<module>\u001b[1;34m\u001b[0m\n\u001b[0;32m      5\u001b[0m \u001b[1;33m\u001b[0m\u001b[0m\n\u001b[0;32m      6\u001b[0m \u001b[0mprint\u001b[0m\u001b[1;33m(\u001b[0m\u001b[0mhash\u001b[0m\u001b[1;33m(\u001b[0m\u001b[0mt1\u001b[0m\u001b[1;33m)\u001b[0m\u001b[1;33m)\u001b[0m\u001b[1;33m\u001b[0m\u001b[1;33m\u001b[0m\u001b[0m\n\u001b[1;32m----> 7\u001b[1;33m \u001b[0mprint\u001b[0m\u001b[1;33m(\u001b[0m\u001b[0mhash\u001b[0m\u001b[1;33m(\u001b[0m\u001b[0mt2\u001b[0m\u001b[1;33m)\u001b[0m\u001b[1;33m)\u001b[0m\u001b[1;33m\u001b[0m\u001b[1;33m\u001b[0m\u001b[0m\n\u001b[0m",
      "\u001b[1;31mTypeError\u001b[0m: unhashable type: 'list'"
     ]
    }
   ],
   "source": [
    "# Hash 값 확인\n",
    "\n",
    "t1 = (10, 20, (30,40,50))\n",
    "t2 = (10, 20, [30,40,50])\n",
    "\n",
    "print(hash(t1))\n",
    "print(hash(t2))# <- list는 값이 수정이 가능하기 때문에 hash를 사용할 수 없다.\n",
    "# 즉 불변형이여야 hash를 사용할 수 있다."
   ]
  },
  {
   "cell_type": "code",
   "execution_count": 33,
   "id": "e3ae2ff5",
   "metadata": {
    "ExecuteTime": {
     "end_time": "2021-09-01T05:21:17.768111Z",
     "start_time": "2021-09-01T05:21:17.750959Z"
    },
    "scrolled": false
   },
   "outputs": [
    {
     "name": "stdout",
     "output_type": "stream",
     "text": [
      "new_dict1: {'k1': ['val1', 'val2'], 'k2': ['val3', 'val4', 'val5']}\n",
      "\n",
      "new_dict2: {'k1': ['val1', 'val2'], 'k2': ['val3', 'val4', 'val5']}\n",
      "\n",
      "new_dict3: {'k1': 'val2', 'k2': 'val5'}\n"
     ]
    }
   ],
   "source": [
    "# Dict Setdefault 예제 \n",
    "\n",
    "source = (('k1','val1'),\n",
    "          ('k1','val2'),\n",
    "          ('k2','val3'),\n",
    "          ('k2','val4'),\n",
    "          ('k2','val5'))\n",
    "\n",
    "new_dict1 = {}\n",
    "new_dict2 = {}\n",
    "\n",
    "# No use Setdefault\n",
    "\n",
    "for k, v in source:\n",
    "    if k in new_dict1:\n",
    "        new_dict1[k].append(v)\n",
    "    else:\n",
    "        new_dict1[k] = [v]\n",
    "        \n",
    "print(\"new_dict1:\",new_dict1)\n",
    "        \n",
    "print()\n",
    "# Use Setdefault\n",
    "\n",
    "for k, v in source:\n",
    "    new_dict2.setdefault(k,[]).append(v) # 이런식으로 setdefault 사용할 수 있다.\n",
    "    \n",
    "print(\"new_dict2:\",new_dict2)\n",
    "\n",
    "print()\n",
    "# 주의사항\n",
    "\n",
    "new_dict3 = {k: v for k, v in source}\n",
    "\n",
    "print(\"new_dict3:\",new_dict3)"
   ]
  },
  {
   "cell_type": "markdown",
   "id": "f3635ff9",
   "metadata": {},
   "source": [
    "## Python 시퀀스 실습"
   ]
  },
  {
   "cell_type": "code",
   "execution_count": 36,
   "id": "eb841d41",
   "metadata": {
    "ExecuteTime": {
     "end_time": "2021-09-01T06:28:46.260807Z",
     "start_time": "2021-09-01T06:28:46.256893Z"
    }
   },
   "outputs": [
    {
     "name": "stdout",
     "output_type": "stream",
     "text": [
      "{'Key1': 'value1'} 1691134235008\n",
      "{'Key1': 'value1'} 1691125331136\n"
     ]
    }
   ],
   "source": [
    "# immutable Dict\n",
    "\n",
    "from types import MappingProxyType\n",
    "\n",
    "d = {'Key1': 'value1'}\n",
    "\n",
    "# Read Only\n",
    "d_frozen = MappingProxyType(d) # 이러면 이 값은 수정이 불가능하다.\n",
    "\n",
    "print(d, id(d))\n",
    "print(d_frozen, id(d_frozen))"
   ]
  },
  {
   "cell_type": "code",
   "execution_count": 39,
   "id": "4881fd15",
   "metadata": {
    "ExecuteTime": {
     "end_time": "2021-09-01T06:36:37.717604Z",
     "start_time": "2021-09-01T06:36:37.712621Z"
    }
   },
   "outputs": [
    {
     "name": "stdout",
     "output_type": "stream",
     "text": [
      "{'Orange', 'Melon', 'Apple', 'Kiwi'}\n",
      "frozenset({'Orange', 'Apple', 'Kiwi'})\n"
     ]
    }
   ],
   "source": [
    "s1 = {'Apple', 'Orange', 'Apple', 'Orange', 'Kiwi'}\n",
    "s2 = set(['Apple', 'Orange', 'Apple', 'Orange', 'Kiwi'])\n",
    "s3 = {3}\n",
    "s4 = set()\n",
    "s5 = frozenset({'Apple', 'Orange', 'Apple', 'Orange', 'Kiwi'})\n",
    "\n",
    "s1.add('Melon')\n",
    "# s5.add('Melon') # frozenset 으로, set 형식에도 지원한다. 수정 불가능\n",
    "\n",
    "\n",
    "print(s1)\n",
    "print(s5)\n"
   ]
  },
  {
   "cell_type": "code",
   "execution_count": 41,
   "id": "3455bb46",
   "metadata": {
    "ExecuteTime": {
     "end_time": "2021-09-01T06:39:25.129937Z",
     "start_time": "2021-09-01T06:39:25.124943Z"
    },
    "scrolled": false
   },
   "outputs": [
    {
     "name": "stdout",
     "output_type": "stream",
     "text": [
      "------\n",
      "  1           0 LOAD_CONST               0 (10)\n",
      "              2 BUILD_SET                1\n",
      "              4 RETURN_VALUE\n",
      "None\n",
      "------\n",
      "  1           0 LOAD_NAME                0 (set)\n",
      "              2 LOAD_CONST               0 (10)\n",
      "              4 BUILD_LIST               1\n",
      "              6 CALL_FUNCTION            1\n",
      "              8 RETURN_VALUE\n",
      "None\n"
     ]
    }
   ],
   "source": [
    "# 선언 최적화\n",
    "# python은 실행할때 바이트 코드 -> python 인터프리터 실행 하는것\n",
    "\n",
    "from dis import dis\n",
    "\n",
    "print('------')\n",
    "print(dis('{10}'))\n",
    "print('------')\n",
    "print(dis('set([10])'))"
   ]
  },
  {
   "cell_type": "code",
   "execution_count": 43,
   "id": "87532e6d",
   "metadata": {
    "ExecuteTime": {
     "end_time": "2021-09-01T06:42:00.351525Z",
     "start_time": "2021-09-01T06:42:00.347539Z"
    }
   },
   "outputs": [
    {
     "name": "stdout",
     "output_type": "stream",
     "text": [
      "-----\n",
      "{'', 'RIGHT SQUARE BRACKET', 'LATIN SMALL LETTER H', 'VULGAR FRACTION ONE QUARTER', 'GRAVE ACCENT', 'LATIN CAPITAL LETTER E WITH CIRCUMFLEX', 'BROKEN BAR', 'LATIN SMALL LETTER U WITH ACUTE', 'LATIN SMALL LETTER A WITH RING ABOVE', 'LATIN SMALL LETTER R', 'LATIN SMALL LETTER I WITH ACUTE', 'LATIN SMALL LETTER O WITH DIAERESIS', 'DIGIT NINE', 'LATIN CAPITAL LETTER F', 'LATIN CAPITAL LETTER U WITH DIAERESIS', 'DOLLAR SIGN', 'LATIN SMALL LETTER S', 'LATIN SMALL LETTER Y', 'LATIN CAPITAL LETTER THORN', 'LATIN SMALL LETTER E WITH GRAVE', 'LATIN CAPITAL LETTER U WITH GRAVE', 'LATIN CAPITAL LETTER U', 'COMMA', 'LATIN CAPITAL LETTER U WITH ACUTE', 'LATIN SMALL LETTER AE', 'SUPERSCRIPT TWO', 'DIGIT SEVEN', 'LATIN CAPITAL LETTER S', 'LATIN CAPITAL LETTER C', 'LATIN SMALL LETTER E WITH ACUTE', 'NO-BREAK SPACE', 'LATIN CAPITAL LETTER W', 'LATIN SMALL LETTER I WITH CIRCUMFLEX', 'SUPERSCRIPT THREE', 'LATIN SMALL LETTER W', 'LATIN SMALL LETTER A WITH ACUTE', 'LATIN CAPITAL LETTER Y', 'LATIN CAPITAL LETTER I WITH DIAERESIS', 'PLUS-MINUS SIGN', 'MASCULINE ORDINAL INDICATOR', 'DIGIT ONE', 'LATIN CAPITAL LETTER E', 'DIGIT EIGHT', 'PILCROW SIGN', 'LATIN CAPITAL LETTER I WITH CIRCUMFLEX', 'LATIN CAPITAL LETTER E WITH GRAVE', 'LATIN CAPITAL LETTER O WITH ACUTE', 'LATIN SMALL LETTER O WITH ACUTE', 'RIGHT-POINTING DOUBLE ANGLE QUOTATION MARK', 'NOT SIGN', 'LATIN CAPITAL LETTER O WITH STROKE', 'LATIN CAPITAL LETTER O WITH GRAVE', 'LATIN SMALL LETTER SHARP S', 'LATIN SMALL LETTER ETH', 'LATIN SMALL LETTER U WITH DIAERESIS', 'LATIN CAPITAL LETTER V', 'LATIN SMALL LETTER D', 'LATIN SMALL LETTER N WITH TILDE', 'LATIN CAPITAL LETTER Y WITH ACUTE', 'LATIN SMALL LETTER U WITH CIRCUMFLEX', 'SPACE', 'LATIN SMALL LETTER O WITH GRAVE', 'CENT SIGN', 'LATIN CAPITAL LETTER A WITH CIRCUMFLEX', 'GREATER-THAN SIGN', 'SECTION SIGN', 'DIGIT THREE', 'LATIN CAPITAL LETTER T', 'EXCLAMATION MARK', 'LATIN SMALL LETTER E', 'LATIN CAPITAL LETTER AE', 'LATIN SMALL LETTER Z', 'SEMICOLON', 'LEFT PARENTHESIS', 'DIGIT FIVE', 'YEN SIGN', 'LATIN CAPITAL LETTER I WITH ACUTE', 'LATIN SMALL LETTER I WITH DIAERESIS', 'LATIN CAPITAL LETTER O WITH TILDE', 'POUND SIGN', 'VULGAR FRACTION THREE QUARTERS', 'LATIN SMALL LETTER THORN', 'HYPHEN-MINUS', 'LATIN CAPITAL LETTER Z', 'INVERTED EXCLAMATION MARK', 'LATIN CAPITAL LETTER G', 'LATIN SMALL LETTER P', 'LATIN SMALL LETTER V', 'LATIN SMALL LETTER Y WITH ACUTE', 'LATIN SMALL LETTER T', 'LATIN CAPITAL LETTER P', 'DEGREE SIGN', 'LESS-THAN SIGN', 'LATIN SMALL LETTER B', 'REGISTERED SIGN', 'SUPERSCRIPT ONE', 'COPYRIGHT SIGN', 'LATIN SMALL LETTER E WITH CIRCUMFLEX', 'LATIN CAPITAL LETTER C WITH CEDILLA', 'PERCENT SIGN', 'LATIN SMALL LETTER C', 'LATIN SMALL LETTER G', 'FULL STOP', 'LATIN CAPITAL LETTER N WITH TILDE', 'VULGAR FRACTION ONE HALF', 'LATIN SMALL LETTER A', 'MIDDLE DOT', 'LOW LINE', 'LEFT CURLY BRACKET', 'MICRO SIGN', 'LATIN CAPITAL LETTER A WITH RING ABOVE', 'PLUS SIGN', 'MACRON', 'LATIN SMALL LETTER C WITH CEDILLA', 'COMMERCIAL AT', 'LATIN CAPITAL LETTER H', 'VERTICAL LINE', 'SOLIDUS', 'LATIN CAPITAL LETTER O', 'LATIN SMALL LETTER I', 'LATIN SMALL LETTER L', 'LATIN CAPITAL LETTER I', 'LATIN CAPITAL LETTER O WITH CIRCUMFLEX', 'LATIN SMALL LETTER U', 'RIGHT PARENTHESIS', 'ACUTE ACCENT', 'LATIN SMALL LETTER O WITH CIRCUMFLEX', 'LATIN CAPITAL LETTER E WITH ACUTE', 'LATIN SMALL LETTER O WITH TILDE', 'LATIN CAPITAL LETTER M', 'LATIN SMALL LETTER A WITH DIAERESIS', 'LATIN CAPITAL LETTER ETH', 'LATIN SMALL LETTER A WITH GRAVE', 'COLON', 'LATIN CAPITAL LETTER K', 'EQUALS SIGN', 'LATIN CAPITAL LETTER A WITH DIAERESIS', 'LATIN SMALL LETTER A WITH TILDE', 'LATIN CAPITAL LETTER A WITH ACUTE', 'LATIN SMALL LETTER J', 'DIGIT ZERO', 'LATIN CAPITAL LETTER X', 'LATIN SMALL LETTER X', 'LEFT-POINTING DOUBLE ANGLE QUOTATION MARK', 'DIGIT SIX', 'LATIN CAPITAL LETTER N', 'DIGIT TWO', 'DIAERESIS', 'LATIN SMALL LETTER F', 'LATIN CAPITAL LETTER I WITH GRAVE', 'NUMBER SIGN', 'LATIN CAPITAL LETTER O WITH DIAERESIS', 'MULTIPLICATION SIGN', 'LATIN CAPITAL LETTER D', 'RIGHT CURLY BRACKET', 'LATIN CAPITAL LETTER A', 'QUOTATION MARK', 'LATIN SMALL LETTER K', 'CURRENCY SIGN', 'TILDE', 'SOFT HYPHEN', 'LATIN CAPITAL LETTER B', 'INVERTED QUESTION MARK', 'REVERSE SOLIDUS', 'LATIN SMALL LETTER N', 'LATIN CAPITAL LETTER E WITH DIAERESIS', 'LATIN CAPITAL LETTER A WITH GRAVE', 'LATIN CAPITAL LETTER Q', 'LATIN SMALL LETTER I WITH GRAVE', 'DIGIT FOUR', 'CEDILLA', 'DIVISION SIGN', 'LATIN SMALL LETTER Y WITH DIAERESIS', 'LATIN SMALL LETTER M', 'LATIN SMALL LETTER A WITH CIRCUMFLEX', 'LATIN SMALL LETTER O', 'LATIN SMALL LETTER E WITH DIAERESIS', 'LATIN CAPITAL LETTER R', 'ASTERISK', 'LATIN CAPITAL LETTER U WITH CIRCUMFLEX', 'LATIN CAPITAL LETTER L', 'LATIN SMALL LETTER O WITH STROKE', 'CIRCUMFLEX ACCENT', 'LATIN CAPITAL LETTER A WITH TILDE', 'LEFT SQUARE BRACKET', 'LATIN CAPITAL LETTER J', 'QUESTION MARK', 'FEMININE ORDINAL INDICATOR', 'AMPERSAND', 'APOSTROPHE', 'LATIN SMALL LETTER Q', 'LATIN SMALL LETTER U WITH GRAVE'}\n"
     ]
    }
   ],
   "source": [
    "# 지능형 집합(Comprehending Set)\n",
    "\n",
    "print('-----')\n",
    "\n",
    "from unicodedata import name\n",
    "\n",
    "print({name(chr(i), '') for i in range(0,256)})"
   ]
  },
  {
   "cell_type": "markdown",
   "id": "c19c4106",
   "metadata": {},
   "source": [
    "1.6 이런 부분까지 이해하기에는 투 머치인 듯 하다."
   ]
  },
  {
   "cell_type": "markdown",
   "id": "3b356e77",
   "metadata": {},
   "source": [
    "##### setdefault, list 컴프리헨션 배워보자."
   ]
  }
 ],
 "metadata": {
  "kernelspec": {
   "display_name": "Python 3",
   "language": "python",
   "name": "python3"
  },
  "language_info": {
   "codemirror_mode": {
    "name": "ipython",
    "version": 3
   },
   "file_extension": ".py",
   "mimetype": "text/x-python",
   "name": "python",
   "nbconvert_exporter": "python",
   "pygments_lexer": "ipython3",
   "version": "3.8.8"
  },
  "toc": {
   "base_numbering": 1,
   "nav_menu": {},
   "number_sections": true,
   "sideBar": true,
   "skip_h1_title": false,
   "title_cell": "Table of Contents",
   "title_sidebar": "Contents",
   "toc_cell": false,
   "toc_position": {},
   "toc_section_display": true,
   "toc_window_display": false
  },
  "varInspector": {
   "cols": {
    "lenName": 16,
    "lenType": 16,
    "lenVar": 40
   },
   "kernels_config": {
    "python": {
     "delete_cmd_postfix": "",
     "delete_cmd_prefix": "del ",
     "library": "var_list.py",
     "varRefreshCmd": "print(var_dic_list())"
    },
    "r": {
     "delete_cmd_postfix": ") ",
     "delete_cmd_prefix": "rm(",
     "library": "var_list.r",
     "varRefreshCmd": "cat(var_dic_list()) "
    }
   },
   "types_to_exclude": [
    "module",
    "function",
    "builtin_function_or_method",
    "instance",
    "_Feature"
   ],
   "window_display": false
  }
 },
 "nbformat": 4,
 "nbformat_minor": 5
}
