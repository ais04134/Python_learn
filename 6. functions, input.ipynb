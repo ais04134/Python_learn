{
 "cells": [
  {
   "cell_type": "markdown",
   "id": "ffe82e07",
   "metadata": {},
   "source": [
    "# 파이썬 함수 및 중요성\n",
    "## 파이썬 함수식 및 람다(lambda)"
   ]
  },
  {
   "cell_type": "code",
   "execution_count": 1,
   "id": "f331f12e",
   "metadata": {},
   "outputs": [],
   "source": [
    "# 함수 정의 방법\n",
    "# def function_name(parameter):\n",
    "#     code"
   ]
  },
  {
   "cell_type": "code",
   "execution_count": 1,
   "id": "47ca1150",
   "metadata": {},
   "outputs": [
    {
     "name": "stdout",
     "output_type": "stream",
     "text": [
      "Hello,  Goodboy\n"
     ]
    }
   ],
   "source": [
    "# 예제1\n",
    "def first_func(w1):\n",
    "    print(\"Hello, \", w1)\n",
    "\n",
    "word = \"Goodboy\"\n",
    "\n",
    "first_func(word)"
   ]
  },
  {
   "cell_type": "markdown",
   "id": "edb326f2",
   "metadata": {},
   "source": [
    "#### print, return의 차이점"
   ]
  },
  {
   "cell_type": "code",
   "execution_count": 9,
   "id": "a28f19e9",
   "metadata": {},
   "outputs": [
    {
     "name": "stdout",
     "output_type": "stream",
     "text": [
      "Hello, Goodboy2\n"
     ]
    }
   ],
   "source": [
    "# 예제2-1\n",
    "def return_func(w1):\n",
    "    value = \"Hello, \" + str(w1)\n",
    "    return value #  value 값을 반환한다.\n",
    "\n",
    "x = return_func('Goodboy2')\n",
    "print(x)"
   ]
  },
  {
   "cell_type": "code",
   "execution_count": 11,
   "id": "db16dea6",
   "metadata": {},
   "outputs": [
    {
     "name": "stdout",
     "output_type": "stream",
     "text": [
      "Hello, geon\n"
     ]
    }
   ],
   "source": [
    "# 예제2-2\n",
    "def print_func(w1):\n",
    "    value = \"Hello, \" + str(w1)\n",
    "    print(value) #  value 값을 출력한다.\n",
    "    \n",
    "print_func(\"geon\")"
   ]
  },
  {
   "cell_type": "code",
   "execution_count": 12,
   "id": "02161674",
   "metadata": {},
   "outputs": [
    {
     "name": "stdout",
     "output_type": "stream",
     "text": [
      "Hello, geon_hyeon\n",
      "None\n"
     ]
    }
   ],
   "source": [
    "# 예제2-3\n",
    "\n",
    "x = print_func(\"geon_hyeon\")\n",
    "print(x)"
   ]
  },
  {
   "cell_type": "markdown",
   "id": "1cb4685b",
   "metadata": {},
   "source": [
    "##### 예제2-3에서 보면 알 수 있듯 값을 반환해주는 return과는 다르게, print의 경우 다른 변수에 저장을 할 수 없다.\n",
    "* print - 값을 출력해준다.\n",
    "* return - 값을 반환해주어 변수에 저장할 수 있도록 해준다."
   ]
  },
  {
   "cell_type": "code",
   "execution_count": 4,
   "id": "cf3e1957",
   "metadata": {},
   "outputs": [
    {
     "name": "stdout",
     "output_type": "stream",
     "text": [
      "100 200 300\n"
     ]
    }
   ],
   "source": [
    "# 예제3(다중반환)\n",
    "\n",
    "def func_mul(x):\n",
    "    y1 = x * 10\n",
    "    y2 = x * 20\n",
    "    y3 = x * 30\n",
    "    return y1, y2, y3\n",
    "\n",
    "x, y, z = func_mul(10)\n",
    "\n",
    "print(x, y ,z)"
   ]
  },
  {
   "cell_type": "markdown",
   "id": "efb3cf9b",
   "metadata": {},
   "source": [
    "##### Python의 경우 이런식으로 다중반환을 수행할 수 있다."
   ]
  },
  {
   "cell_type": "code",
   "execution_count": 5,
   "id": "dbab4a82",
   "metadata": {},
   "outputs": [
    {
     "name": "stdout",
     "output_type": "stream",
     "text": [
      "<class 'tuple'> (200, 400, 600) [200, 400, 600]\n"
     ]
    }
   ],
   "source": [
    "# 튜플 리턴\n",
    "def func_mul2(x):\n",
    "    y1 = x * 10\n",
    "    y2 = x * 20\n",
    "    y3 = x * 30\n",
    "    return (y1, y2, y3)\n",
    "\n",
    "q = func_mul2(20)\n",
    "\n",
    "print(type(q), q, list(q))"
   ]
  },
  {
   "cell_type": "markdown",
   "id": "81713a24",
   "metadata": {},
   "source": [
    "##### 이런식으로 응용할 수 있다. 필요의 경우 list나 다른 형변환을 통해 활용할 수 있다."
   ]
  },
  {
   "cell_type": "code",
   "execution_count": 7,
   "id": "bb514520",
   "metadata": {},
   "outputs": [
    {
     "name": "stdout",
     "output_type": "stream",
     "text": [
      "<class 'list'> [300, 600, 900] {200, 600, 400}\n"
     ]
    }
   ],
   "source": [
    "# 리스트 리턴\n",
    "def func_mul2(x):\n",
    "    y1 = x * 10\n",
    "    y2 = x * 20\n",
    "    y3 = x * 30\n",
    "    return [y1, y2, y3]\n",
    "\n",
    "\n",
    "p = func_mul2(30)\n",
    "\n",
    "print(type(p), p, set(q))"
   ]
  },
  {
   "cell_type": "code",
   "execution_count": 8,
   "id": "b1582e89",
   "metadata": {},
   "outputs": [
    {
     "name": "stdout",
     "output_type": "stream",
     "text": [
      "<class 'dict'> {'v1': 300, 'v2': 600, 'v3': 900} 600 dict_items([('v1', 300), ('v2', 600), ('v3', 900)]) dict_keys(['v1', 'v2', 'v3'])\n"
     ]
    }
   ],
   "source": [
    "# 딕셔너리 리턴\n",
    "def func_mul3(x):\n",
    "    y1 = x * 10\n",
    "    y2 = x * 20\n",
    "    y3 = x * 30\n",
    "    return {'v1': y1, 'v2': y2, 'v3': y3}\n",
    "\n",
    "\n",
    "d = func_mul3(30)\n",
    "print(type(d), d, d.get('v2'), d.items(), d.keys())"
   ]
  },
  {
   "cell_type": "markdown",
   "id": "ec3d693c",
   "metadata": {},
   "source": [
    "# 중요"
   ]
  },
  {
   "cell_type": "code",
   "execution_count": 9,
   "id": "bae9ed66",
   "metadata": {
    "scrolled": false
   },
   "outputs": [
    {
     "name": "stdout",
     "output_type": "stream",
     "text": [
      "Result : 0 Lee\n",
      "-----\n",
      "Result : 0 Lee\n",
      "Result : 1 Park\n",
      "-----\n",
      "Result : 0 Lee\n",
      "Result : 1 Park\n",
      "Result : 2 Kim\n",
      "-----\n",
      "name1 Lee\n",
      "-----\n",
      "name1 Lee\n",
      "name2 Park\n",
      "-----\n",
      "name1 Lee\n",
      "name2 Park\n",
      "name3 Cho\n",
      "-----\n"
     ]
    }
   ],
   "source": [
    "# *args, **kwargs\n",
    "\n",
    "# *args(언팩킹) - 튜플형태\n",
    "def args_func(*args): # 매개변수 명 자유\n",
    "    for i, v in enumerate(args):\n",
    "        print('Result : {}'.format(i), v)\n",
    "    print('-----')\n",
    "\n",
    "args_func('Lee')\n",
    "args_func('Lee', 'Park')\n",
    "args_func('Lee', 'Park', 'Kim')\n",
    "\n",
    "# **kwargs(언팩킹) - 딕셔너리\n",
    "def kwargs_func(**kwargs): # 매개변수 명 자유\n",
    "    for v in kwargs.keys():\n",
    "        print(\"{}\".format(v), kwargs[v])\n",
    "    print('-----')\n",
    "\n",
    "kwargs_func(name1='Lee')\n",
    "kwargs_func(name1='Lee', name2='Park')\n",
    "kwargs_func(name1='Lee', name2='Park', name3='Cho')"
   ]
  },
  {
   "cell_type": "code",
   "execution_count": 20,
   "id": "1ab35cc9",
   "metadata": {},
   "outputs": [
    {
     "name": "stdout",
     "output_type": "stream",
     "text": [
      "10 20 ('Lee', 'Kim', 'Park', 'Cho') {'age1': 20, 'age2': 30, 'age3': 40}\n",
      "10 Lee (10, 'Kim', 'Park', 'Cho') {'age1': 20, 'age2': 30, 'age3': 40}\n",
      "20 Lee ('Kim', 'Park', 'Cho') {'age3': 40, 'age2': 30}\n"
     ]
    }
   ],
   "source": [
    "# 전체 혼합_ver1\n",
    "def example_ver1(args_1, args_2, *args, **kwargs):\n",
    "    print(args_1, args_2, args, kwargs)\n",
    "\n",
    "example_ver1(10, 20, 'Lee', 'Kim', 'Park', 'Cho', age1=20, age2=30, age3=40)\n",
    "\n",
    "# 전체 혼합_ver2\n",
    "def example_ver2(args_1, args_2, *args, **kwargs):\n",
    "    print(args_1, args_2, args, kwargs)\n",
    "\n",
    "example_ver2(10, 'Lee', 10, 'Kim', 'Park', 'Cho', age1=20, age2=30, age3=40)\n",
    "\n",
    "# 전체 혼합_ver3\n",
    "def example_ver3(args_1, args_2, *args, **kwargs):\n",
    "    print(args_1, args_2, args, kwargs)\n",
    "\n",
    "example_ver3(20,'Lee', 'Kim', 'Park', 'Cho',age3=40, age2=30)"
   ]
  },
  {
   "cell_type": "markdown",
   "id": "649b9646",
   "metadata": {},
   "source": [
    "##### 변수들이 어떤식으로 할당이 되었는지 생각해보자.\n",
    "##### args_1, args_2 의 경우 처음 들어온 변수에 할당이 되는걸 알 수 있다. "
   ]
  },
  {
   "cell_type": "code",
   "execution_count": 28,
   "id": "88dabf22",
   "metadata": {},
   "outputs": [
    {
     "ename": "SyntaxError",
     "evalue": "positional argument follows keyword argument (<ipython-input-28-4229c4b944fb>, line 4)",
     "output_type": "error",
     "traceback": [
      "\u001b[1;36m  File \u001b[1;32m\"<ipython-input-28-4229c4b944fb>\"\u001b[1;36m, line \u001b[1;32m4\u001b[0m\n\u001b[1;33m    example_ver4(age1 = 10, age2 = 20, 'Lee', 'Kim',age3 = 30, 'Park')\u001b[0m\n\u001b[1;37m                                       ^\u001b[0m\n\u001b[1;31mSyntaxError\u001b[0m\u001b[1;31m:\u001b[0m positional argument follows keyword argument\n"
     ]
    }
   ],
   "source": [
    "def example_ver4(*args, **kwargs):\n",
    "    print(args, kwargs)\n",
    "    \n",
    "example_ver4(age1 = 10, age2 = 20, 'Lee', 'Kim',age3 = 30, 'Park')"
   ]
  },
  {
   "cell_type": "code",
   "execution_count": 26,
   "id": "dfff19b9",
   "metadata": {},
   "outputs": [
    {
     "name": "stdout",
     "output_type": "stream",
     "text": [
      "(('Kim', 'Park', 'Cho'), {'age1': 10, 'age2': 20, 'age3': 30}) {}\n"
     ]
    }
   ],
   "source": [
    "def example_ver5(*args, **kwargs):\n",
    "    print(args, kwargs)\n",
    "\n",
    "tuple_set = 'Kim', 'Park', 'Cho'\n",
    "dictionary_set = {'age1': 10, 'age2': 20, 'age3': 30}\n",
    " \n",
    "example_ver5(tuple_set,dictionary_set) \n",
    "# 이런식으로 하니깐 *args 변수에 튜플 형태로 계산되고, **kwargs의 경우에는 딕셔너리 형태가 없어서 빈 값으로 나온듯"
   ]
  },
  {
   "cell_type": "markdown",
   "id": "ed509978",
   "metadata": {},
   "source": [
    "##### 순서가 섞이는 경우에는 딕셔너리와 튜플 값을 이해하지 못하는것 같다. 이건 언팩킹의 성질이 아니라 자료구조의 문제인듯.."
   ]
  },
  {
   "cell_type": "code",
   "execution_count": 11,
   "id": "16526a1c",
   "metadata": {},
   "outputs": [
    {
     "name": "stdout",
     "output_type": "stream",
     "text": [
      "In func\n",
      "200\n"
     ]
    }
   ],
   "source": [
    "# 중첩함수\n",
    "\n",
    "def nested_func(num): \n",
    "    def func_in_func(num): \n",
    "        print(num) \n",
    "    print(\"In func\") \n",
    "    func_in_func(num + 100) \n",
    "\n",
    "nested_func(100)"
   ]
  },
  {
   "cell_type": "markdown",
   "id": "9c6aa4e9",
   "metadata": {},
   "source": [
    "순서1 함수를 정의하였다.  \n",
    "순서 2 함수 안에서 함수가 정의만 되었다.  \n",
    "print(\"In func\") # 순서 3 이 출력되고  \n",
    "func_in_func(num + 100) # 순서 4 num으로 들어온 변수 값에 100을 더한 값을 함수안의 함수 의 변수로 할당한다.  \n",
    "print(num) # 순서 5 함수 안의 함수에 있는 print문이 출력된다."
   ]
  },
  {
   "cell_type": "code",
   "execution_count": 29,
   "id": "c1b550b1",
   "metadata": {
    "scrolled": true
   },
   "outputs": [
    {
     "ename": "NameError",
     "evalue": "name 'func_in_func' is not defined",
     "output_type": "error",
     "traceback": [
      "\u001b[1;31m---------------------------------------------------------------------------\u001b[0m",
      "\u001b[1;31mNameError\u001b[0m                                 Traceback (most recent call last)",
      "\u001b[1;32m<ipython-input-29-92c3ddd09239>\u001b[0m in \u001b[0;36m<module>\u001b[1;34m\u001b[0m\n\u001b[1;32m----> 1\u001b[1;33m \u001b[0mfunc_in_func\u001b[0m\u001b[1;33m(\u001b[0m\u001b[1;36m1000\u001b[0m\u001b[1;33m)\u001b[0m\u001b[1;33m\u001b[0m\u001b[1;33m\u001b[0m\u001b[0m\n\u001b[0m",
      "\u001b[1;31mNameError\u001b[0m: name 'func_in_func' is not defined"
     ]
    }
   ],
   "source": [
    "func_in_func(1000)  "
   ]
  },
  {
   "cell_type": "markdown",
   "id": "58e216a7",
   "metadata": {},
   "source": [
    "##### 부모함수를 호출하기 전에는 자식함수를 호출할 수 없다.\n",
    "* 위에 중첩함수가 어떤식으로 돌아가는지 이해하기\n",
    "\n"
   ]
  },
  {
   "cell_type": "markdown",
   "id": "9af759f3",
   "metadata": {},
   "source": [
    "-------------------------"
   ]
  },
  {
   "cell_type": "markdown",
   "id": "659888d5",
   "metadata": {},
   "source": [
    "# 람다식 예제\n",
    "* 메모리 절약, 가독성 향상, 코드 간결\n",
    "* 함수는 객체 생성 -> 리소스(메모리) 할당\n",
    "* 람다는 즉시 실행 함수(Heap 초기화) -> 메모리 초기화\n",
    "* 남발 시 가독성 오히려 감소"
   ]
  },
  {
   "cell_type": "code",
   "execution_count": 13,
   "id": "88fd6c01",
   "metadata": {},
   "outputs": [],
   "source": [
    "#def mul_func(x, y):\n",
    "#    return x * y\n",
    "    \n",
    "#lambda x, y:x*y"
   ]
  },
  {
   "cell_type": "code",
   "execution_count": 14,
   "id": "b6825db7",
   "metadata": {},
   "outputs": [
    {
     "name": "stdout",
     "output_type": "stream",
     "text": [
      "500\n",
      "1000\n"
     ]
    }
   ],
   "source": [
    "# 일반적함수 -> 할당\n",
    "def mul_func(x, y):\n",
    "    return x * y\n",
    "\n",
    "print(mul_func(10, 50))\n",
    "\n",
    "mul_func_var = mul_func\n",
    "print(mul_func_var(20,50))"
   ]
  },
  {
   "cell_type": "code",
   "execution_count": 15,
   "id": "1a83b8ac",
   "metadata": {},
   "outputs": [
    {
     "name": "stdout",
     "output_type": "stream",
     "text": [
      "2500\n",
      ">>>> 2000000\n"
     ]
    }
   ],
   "source": [
    "# 람다 함수 -> 할당\n",
    "lambda_mul_func = lambda x,y:x*y # 람다식이 메모리 효율성은 좋은데..음..확실히 가독성이 떨어지는듯\n",
    "print(lambda_mul_func(50,50))\n",
    "\n",
    "def func_final(x, y, func):\n",
    "    print('>>>>', x * y * func(100, 100))\n",
    "\n",
    "func_final(10, 20, lambda_mul_func)"
   ]
  },
  {
   "cell_type": "code",
   "execution_count": 16,
   "id": "40edb8e7",
   "metadata": {},
   "outputs": [
    {
     "name": "stdout",
     "output_type": "stream",
     "text": [
      "hint exam1 :  100\n",
      "hint exam2 :  70\n"
     ]
    }
   ],
   "source": [
    "# Hint\n",
    "def tot_length1(word: str, num: int) -> int:\n",
    "    return len(word) * num\n",
    "\n",
    "\n",
    "print('hint exam1 : ', tot_length1(\"i love you\", 10))\n",
    "\n",
    "\n",
    "def tot_length2(word: str, num: int) -> None:\n",
    "    print('hint exam2 : ', len(word) * num)\n",
    "\n",
    "\n",
    "tot_length2(\"niceman\", 10)"
   ]
  },
  {
   "cell_type": "markdown",
   "id": "eff43d0a",
   "metadata": {},
   "source": [
    "## 파이썬 사용자 입력\n",
    "## Input 사용법\n",
    "* input으로 받은 값의 기본 타입은 문자열(str)이다."
   ]
  },
  {
   "cell_type": "code",
   "execution_count": 30,
   "id": "433dcb82",
   "metadata": {},
   "outputs": [
    {
     "name": "stdout",
     "output_type": "stream",
     "text": [
      "Enter Your Name : ㄹ\n",
      "Enter Your Grade : ㄹ\n",
      "Enter Your Company name : ㄹ\n",
      "ㄹ ㄹ ㄹ\n"
     ]
    }
   ],
   "source": [
    "# 예제1\n",
    "name = input(\"Enter Your Name : \")\n",
    "grade = input(\"Enter Your Grade : \")\n",
    "company = input(\"Enter Your Company name : \")\n",
    "\n",
    "print(name, grade, company)"
   ]
  },
  {
   "cell_type": "code",
   "execution_count": null,
   "id": "d154fc9b",
   "metadata": {},
   "outputs": [],
   "source": [
    "# 예제2\n",
    "number = input(\"Enter number : \")\n",
    "name = input(\"Enter name : \")\n",
    "\n",
    "print(\"type of number\", type(number), number * 3)\n",
    "print(\"type of nanme\", type(name))"
   ]
  },
  {
   "cell_type": "code",
   "execution_count": null,
   "id": "ed07670f",
   "metadata": {},
   "outputs": [],
   "source": [
    "# 예제3(계산)\n",
    "first_number = int(input(\"Enter number1 : \"))\n",
    "second_number = int(input(\"Enter number2 : \"))\n",
    "\n",
    "total = first_number + second_number\n",
    "print(\"first_number + second_number : \", total)"
   ]
  },
  {
   "cell_type": "code",
   "execution_count": null,
   "id": "a4c48d55",
   "metadata": {},
   "outputs": [],
   "source": [
    "# 예제4\n",
    "float_number = float(input(\"Enter a float number : \"))\n",
    "\n",
    "print(\"input float : \", float_number)\n",
    "print(\"input type : \", type(float_number))"
   ]
  },
  {
   "cell_type": "code",
   "execution_count": 31,
   "id": "89f5bd70",
   "metadata": {},
   "outputs": [
    {
     "name": "stdout",
     "output_type": "stream",
     "text": [
      "Enter first name : geon\n",
      "Enter second name : hyeon\n",
      "FirstName - geon, LastName - hyeon\n"
     ]
    }
   ],
   "source": [
    "# 예제5\n",
    "print(\"FirstName - {0}, LastName - {1}\".format(input(\"Enter first name : \"), input(\"Enter second name : \")))"
   ]
  },
  {
   "cell_type": "markdown",
   "id": "d1572205",
   "metadata": {},
   "source": [
    "##### 이 부분 배웠던건데!!! 복습하기~!"
   ]
  },
  {
   "cell_type": "code",
   "execution_count": null,
   "id": "ef62c767",
   "metadata": {},
   "outputs": [],
   "source": []
  }
 ],
 "metadata": {
  "kernelspec": {
   "display_name": "Python 3",
   "language": "python",
   "name": "python3"
  },
  "language_info": {
   "codemirror_mode": {
    "name": "ipython",
    "version": 3
   },
   "file_extension": ".py",
   "mimetype": "text/x-python",
   "name": "python",
   "nbconvert_exporter": "python",
   "pygments_lexer": "ipython3",
   "version": "3.8.8"
  }
 },
 "nbformat": 4,
 "nbformat_minor": 5
}
