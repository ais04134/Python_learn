{
 "cells": [
  {
   "cell_type": "markdown",
   "metadata": {
    "collapsed": true
   },
   "source": [
    "# Python으로 정규표현식 사용해보기"
   ]
  },
  {
   "cell_type": "code",
   "execution_count": 3,
   "metadata": {
    "ExecuteTime": {
     "end_time": "2021-09-25T13:14:48.857941Z",
     "start_time": "2021-09-25T13:14:48.835943Z"
    }
   },
   "outputs": [
    {
     "data": {
      "text/plain": [
       "['a', 'b', 'c', 'd', 'e', 'f']"
      ]
     },
     "execution_count": 3,
     "metadata": {},
     "output_type": "execute_result"
    }
   ],
   "source": [
    "import re\n",
    "\n",
    "regex = re.compile('[a-f]')\n",
    "s = 'abcdefghijklmnopqrstuvwxyzABCDEFGHIJKLMNOPQRSTUVWXYZ01234567891011121314151617181920'\n",
    "\n",
    "regex.findall(s)"
   ]
  },
  {
   "cell_type": "markdown",
   "metadata": {},
   "source": [
    "## 연습문제 1"
   ]
  },
  {
   "cell_type": "code",
   "execution_count": 4,
   "metadata": {
    "ExecuteTime": {
     "end_time": "2021-09-25T13:15:03.012363Z",
     "start_time": "2021-09-25T13:15:02.998606Z"
    },
    "scrolled": true
   },
   "outputs": [
    {
     "name": "stdout",
     "output_type": "stream",
     "text": [
      "<class 're.Match'>\n",
      "['__class__', '__copy__', '__deepcopy__', '__delattr__', '__dir__', '__doc__', '__eq__', '__format__', '__ge__', '__getattribute__', '__getitem__', '__gt__', '__hash__', '__init__', '__init_subclass__', '__le__', '__lt__', '__ne__', '__new__', '__reduce__', '__reduce_ex__', '__repr__', '__setattr__', '__sizeof__', '__str__', '__subclasshook__', 'end', 'endpos', 'expand', 'group', 'groupdict', 'groups', 'lastgroup', 'lastindex', 'pos', 're', 'regs', 'span', 'start', 'string']\n"
     ]
    },
    {
     "data": {
      "text/plain": [
       "\"\\n<class 're.Match'>\\n'end', 'endpos', 'expand', 'group', 'groupdict', 'groups', 'lastgroup', \\n'lastindex', 'pos', 're', 'regs', 'span', 'start', 'string'\\n\""
      ]
     },
     "execution_count": 4,
     "metadata": {},
     "output_type": "execute_result"
    }
   ],
   "source": [
    "import re\n",
    "\n",
    "정규표현식 = r'([a-zA-Z]+) : (\\d+)'\n",
    "문자열 = 'name : leehojun, age : 10, height : 180, email : paul-lab@naver.com'\n",
    "\n",
    "결과 = re.search(정규표현식, 문자열)\n",
    "\n",
    "print(type(결과))\n",
    "print(dir(결과))\n",
    "'''\n",
    "<class 're.Match'>\n",
    "'end', 'endpos', 'expand', 'group', 'groupdict', 'groups', 'lastgroup', \n",
    "'lastindex', 'pos', 're', 'regs', 'span', 'start', 'string'\n",
    "'''     "
   ]
  },
  {
   "cell_type": "code",
   "execution_count": 5,
   "metadata": {
    "ExecuteTime": {
     "end_time": "2021-09-25T13:15:16.825263Z",
     "start_time": "2021-09-25T13:15:16.822227Z"
    }
   },
   "outputs": [
    {
     "data": {
      "text/plain": [
       "25"
      ]
     },
     "execution_count": 5,
     "metadata": {},
     "output_type": "execute_result"
    }
   ],
   "source": [
    "결과.start()\n",
    "결과.end()"
   ]
  },
  {
   "cell_type": "code",
   "execution_count": 6,
   "metadata": {
    "ExecuteTime": {
     "end_time": "2021-09-25T13:15:33.029492Z",
     "start_time": "2021-09-25T13:15:33.016393Z"
    }
   },
   "outputs": [
    {
     "data": {
      "text/plain": [
       "'age : 10'"
      ]
     },
     "execution_count": 6,
     "metadata": {},
     "output_type": "execute_result"
    }
   ],
   "source": [
    "문자열[결과.start(): 결과.end()]"
   ]
  },
  {
   "cell_type": "code",
   "execution_count": 7,
   "metadata": {
    "ExecuteTime": {
     "end_time": "2021-09-25T13:15:37.129183Z",
     "start_time": "2021-09-25T13:15:37.120184Z"
    }
   },
   "outputs": [
    {
     "data": {
      "text/plain": [
       "'10'"
      ]
     },
     "execution_count": 7,
     "metadata": {},
     "output_type": "execute_result"
    }
   ],
   "source": [
    "결과.group(2)"
   ]
  },
  {
   "cell_type": "markdown",
   "metadata": {},
   "source": [
    "## 연습문제 2"
   ]
  },
  {
   "cell_type": "code",
   "execution_count": 8,
   "metadata": {
    "ExecuteTime": {
     "end_time": "2021-09-25T13:15:47.489668Z",
     "start_time": "2021-09-25T13:15:47.485667Z"
    }
   },
   "outputs": [
    {
     "data": {
      "text/plain": [
       "[('age', '10'), ('height', '180')]"
      ]
     },
     "execution_count": 8,
     "metadata": {},
     "output_type": "execute_result"
    }
   ],
   "source": [
    "import re\n",
    "\n",
    "정규표현식 = r'([a-zA-Z]+) : (\\d+)'\n",
    "문자열 = 'name : leehojun, age : 10, height : 180, email : paul-lab@naver.com'\n",
    "\n",
    "결과 = re.findall(정규표현식, 문자열)\n",
    "결과"
   ]
  },
  {
   "cell_type": "code",
   "execution_count": 9,
   "metadata": {
    "ExecuteTime": {
     "end_time": "2021-09-25T13:15:51.324235Z",
     "start_time": "2021-09-25T13:15:51.309306Z"
    }
   },
   "outputs": [
    {
     "data": {
      "text/plain": [
       "{'age': '10', 'height': '180'}"
      ]
     },
     "execution_count": 9,
     "metadata": {},
     "output_type": "execute_result"
    }
   ],
   "source": [
    "d = dict(결과)\n",
    "d"
   ]
  },
  {
   "cell_type": "code",
   "execution_count": 10,
   "metadata": {
    "ExecuteTime": {
     "end_time": "2021-09-25T13:15:54.719998Z",
     "start_time": "2021-09-25T13:15:54.707083Z"
    }
   },
   "outputs": [
    {
     "name": "stdout",
     "output_type": "stream",
     "text": [
      "<class 'list'>\n",
      "['__add__', '__class__', '__contains__', '__delattr__', '__delitem__', '__dir__', '__doc__', '__eq__', '__format__', '__ge__', '__getattribute__', '__getitem__', '__gt__', '__hash__', '__iadd__', '__imul__', '__init__', '__init_subclass__', '__iter__', '__le__', '__len__', '__lt__', '__mul__', '__ne__', '__new__', '__reduce__', '__reduce_ex__', '__repr__', '__reversed__', '__rmul__', '__setattr__', '__setitem__', '__sizeof__', '__str__', '__subclasshook__', 'append', 'clear', 'copy', 'count', 'extend', 'index', 'insert', 'pop', 'remove', 'reverse', 'sort']\n"
     ]
    }
   ],
   "source": [
    "print(type(결과))\n",
    "print(dir(결과))"
   ]
  },
  {
   "cell_type": "code",
   "execution_count": 11,
   "metadata": {
    "ExecuteTime": {
     "end_time": "2021-09-25T13:15:58.628394Z",
     "start_time": "2021-09-25T13:15:58.616395Z"
    }
   },
   "outputs": [
    {
     "data": {
      "text/plain": [
       "<callable_iterator at 0x1c2e6977820>"
      ]
     },
     "execution_count": 11,
     "metadata": {},
     "output_type": "execute_result"
    }
   ],
   "source": [
    "import re\n",
    "\n",
    "정규표현식 = r'([a-zA-Z]+) : (\\d+)'\n",
    "문자열 = 'name : leehojun, age : 10, height : 180, email : paul-lab@naver.com'\n",
    "\n",
    "결과 = re.finditer(정규표현식, 문자열)\n",
    "결과"
   ]
  },
  {
   "cell_type": "code",
   "execution_count": 12,
   "metadata": {
    "ExecuteTime": {
     "end_time": "2021-09-25T13:16:01.543915Z",
     "start_time": "2021-09-25T13:16:01.540915Z"
    }
   },
   "outputs": [
    {
     "name": "stdout",
     "output_type": "stream",
     "text": [
      "<class 'callable_iterator'>\n",
      "['__class__', '__delattr__', '__dir__', '__doc__', '__eq__', '__format__', '__ge__', '__getattribute__', '__gt__', '__hash__', '__init__', '__init_subclass__', '__iter__', '__le__', '__lt__', '__ne__', '__new__', '__next__', '__reduce__', '__reduce_ex__', '__repr__', '__setattr__', '__sizeof__', '__str__', '__subclasshook__']\n"
     ]
    }
   ],
   "source": [
    "print(type(결과)) #<class 'callable_iterator'>\n",
    "print(dir(결과))"
   ]
  },
  {
   "cell_type": "code",
   "execution_count": 13,
   "metadata": {
    "ExecuteTime": {
     "end_time": "2021-09-25T13:16:04.850030Z",
     "start_time": "2021-09-25T13:16:04.847030Z"
    }
   },
   "outputs": [
    {
     "name": "stdout",
     "output_type": "stream",
     "text": [
      "<re.Match object; span=(17, 25), match='age : 10'>\n",
      "<class 're.Match'>\n",
      "['__class__', '__copy__', '__deepcopy__', '__delattr__', '__dir__', '__doc__', '__eq__', '__format__', '__ge__', '__getattribute__', '__getitem__', '__gt__', '__hash__', '__init__', '__init_subclass__', '__le__', '__lt__', '__ne__', '__new__', '__reduce__', '__reduce_ex__', '__repr__', '__setattr__', '__sizeof__', '__str__', '__subclasshook__', 'end', 'endpos', 'expand', 'group', 'groupdict', 'groups', 'lastgroup', 'lastindex', 'pos', 're', 'regs', 'span', 'start', 'string']\n",
      "<re.Match object; span=(27, 39), match='height : 180'>\n",
      "<class 're.Match'>\n",
      "['__class__', '__copy__', '__deepcopy__', '__delattr__', '__dir__', '__doc__', '__eq__', '__format__', '__ge__', '__getattribute__', '__getitem__', '__gt__', '__hash__', '__init__', '__init_subclass__', '__le__', '__lt__', '__ne__', '__new__', '__reduce__', '__reduce_ex__', '__repr__', '__setattr__', '__sizeof__', '__str__', '__subclasshook__', 'end', 'endpos', 'expand', 'group', 'groupdict', 'groups', 'lastgroup', 'lastindex', 'pos', 're', 'regs', 'span', 'start', 'string']\n"
     ]
    }
   ],
   "source": [
    "for i in 결과:\n",
    "    print(i)\n",
    "    print(type(i)) #앞선 Tutorial 1 결과 <class 're.Match'>와 같습니다.\n",
    "    print(dir(i))"
   ]
  },
  {
   "cell_type": "code",
   "execution_count": 15,
   "metadata": {
    "ExecuteTime": {
     "end_time": "2021-09-25T13:16:13.658211Z",
     "start_time": "2021-09-25T13:16:13.642210Z"
    }
   },
   "outputs": [],
   "source": [
    "for i in 결과:\n",
    "    print(i)\n",
    "    # print(type(i)) #앞선 Tutorial 1 결과 <class 're.Match'>와 같습니다.\n",
    "    # print(dir(i))\n",
    "    print(i.start(), i.end())\n",
    "    print(i.group())"
   ]
  },
  {
   "cell_type": "markdown",
   "metadata": {},
   "source": [
    "## 연습문제 3"
   ]
  },
  {
   "cell_type": "code",
   "execution_count": 16,
   "metadata": {
    "ExecuteTime": {
     "end_time": "2021-09-25T13:16:56.573991Z",
     "start_time": "2021-09-25T13:16:56.555993Z"
    }
   },
   "outputs": [
    {
     "data": {
      "text/plain": [
       "['name : leehojun, ',\n",
       " 'age',\n",
       " '10',\n",
       " ', ',\n",
       " 'height',\n",
       " '180',\n",
       " ', email : paul-lab@naver.com']"
      ]
     },
     "execution_count": 16,
     "metadata": {},
     "output_type": "execute_result"
    }
   ],
   "source": [
    "import re\n",
    "\n",
    "정규표현식 = r'([a-zA-Z]+) : (\\d+)'\n",
    "문자열 = 'name : leehojun, age : 10, height : 180, email : paul-lab@naver.com'\n",
    "\n",
    "결과 = re.split(정규표현식, 문자열)\n",
    "결과"
   ]
  },
  {
   "cell_type": "code",
   "execution_count": 17,
   "metadata": {
    "ExecuteTime": {
     "end_time": "2021-09-25T13:17:01.093248Z",
     "start_time": "2021-09-25T13:17:01.082165Z"
    }
   },
   "outputs": [
    {
     "name": "stdout",
     "output_type": "stream",
     "text": [
      "<class 'list'>\n"
     ]
    }
   ],
   "source": [
    "import re\n",
    "\n",
    "정규표현식 = r','\n",
    "문자열 = 'name : leehojun, age : 10, height : 180, email : paul-lab@naver.com'\n",
    "\n",
    "결과 = re.split(정규표현식, 문자열)\n",
    "# split(정규표현식, 문자열, [최대분할수])\n",
    "결과\n",
    "print(type(결과))"
   ]
  },
  {
   "cell_type": "markdown",
   "metadata": {},
   "source": [
    "## 연습문제 4"
   ]
  },
  {
   "cell_type": "code",
   "execution_count": 18,
   "metadata": {
    "ExecuteTime": {
     "end_time": "2021-09-25T13:17:11.630973Z",
     "start_time": "2021-09-25T13:17:11.626972Z"
    }
   },
   "outputs": [
    {
     "data": {
      "text/plain": [
       "'name : leehojun !!! age : 10 !!! height : 180 !!! email : paul-lab@naver.com'"
      ]
     },
     "execution_count": 18,
     "metadata": {},
     "output_type": "execute_result"
    }
   ],
   "source": [
    "import re\n",
    "\n",
    "정규표현식 = r','\n",
    "문자열 = 'name : leehojun, age : 10, height : 180, email : paul-lab@naver.com'\n",
    "\n",
    "결과 = re.sub(정규표현식, \" !!!\", 문자열)\n",
    "결과"
   ]
  },
  {
   "cell_type": "code",
   "execution_count": 19,
   "metadata": {
    "ExecuteTime": {
     "end_time": "2021-09-25T13:17:15.594888Z",
     "start_time": "2021-09-25T13:17:15.577889Z"
    }
   },
   "outputs": [
    {
     "data": {
      "text/plain": [
       "'name : leehojun !-! age : 10 !-! height : 180 !-! email : paul-lab@naver.com'"
      ]
     },
     "execution_count": 19,
     "metadata": {},
     "output_type": "execute_result"
    }
   ],
   "source": [
    "import re\n",
    "\n",
    "문자열 = 'name : leehojun, age : 10, height : 180, email : paul-lab@naver.com'\n",
    "결과 = re.compile(',').sub(\" !-!\", 문자열)\n",
    "\n",
    "결과"
   ]
  },
  {
   "cell_type": "code",
   "execution_count": 20,
   "metadata": {
    "ExecuteTime": {
     "end_time": "2021-09-25T13:17:19.731466Z",
     "start_time": "2021-09-25T13:17:19.716468Z"
    }
   },
   "outputs": [
    {
     "data": {
      "text/plain": [
       "'name : leehojun !-! age : 10 !-! height : 180 !-! email : paul-lab@naver.com'"
      ]
     },
     "execution_count": 20,
     "metadata": {},
     "output_type": "execute_result"
    }
   ],
   "source": [
    "import re\n",
    "\n",
    "정규표현식 = re.compile(',')\n",
    "\n",
    "문자열 = 'name : leehojun, age : 10, height : 180, email : paul-lab@naver.com'\n",
    "결과 = 정규표현식.sub(\" !-!\", 문자열)\n",
    "\n",
    "결과"
   ]
  },
  {
   "cell_type": "code",
   "execution_count": 21,
   "metadata": {
    "ExecuteTime": {
     "end_time": "2021-09-25T13:17:22.844623Z",
     "start_time": "2021-09-25T13:17:22.830509Z"
    }
   },
   "outputs": [
    {
     "name": "stdout",
     "output_type": "stream",
     "text": [
      "<class 'str'>\n"
     ]
    }
   ],
   "source": [
    "import re\n",
    "\n",
    "정규표현식 = re.compile(',')\n",
    "\n",
    "문자열 = 'name : leehojun, age : 10, height : 180, email : paul-lab@naver.com'\n",
    "결과 = re.sub(정규표현식, \" !~!\", 문자열)\n",
    "\n",
    "결과\n",
    "print(type(결과))"
   ]
  },
  {
   "cell_type": "code",
   "execution_count": null,
   "metadata": {},
   "outputs": [],
   "source": []
  }
 ],
 "metadata": {
  "kernelspec": {
   "display_name": "Python 3",
   "language": "python",
   "name": "python3"
  },
  "language_info": {
   "codemirror_mode": {
    "name": "ipython",
    "version": 3
   },
   "file_extension": ".py",
   "mimetype": "text/x-python",
   "name": "python",
   "nbconvert_exporter": "python",
   "pygments_lexer": "ipython3",
   "version": "3.8.8"
  },
  "toc": {
   "base_numbering": 1,
   "nav_menu": {},
   "number_sections": true,
   "sideBar": true,
   "skip_h1_title": false,
   "title_cell": "Table of Contents",
   "title_sidebar": "Contents",
   "toc_cell": false,
   "toc_position": {},
   "toc_section_display": true,
   "toc_window_display": false
  },
  "varInspector": {
   "cols": {
    "lenName": 16,
    "lenType": 16,
    "lenVar": 40
   },
   "kernels_config": {
    "python": {
     "delete_cmd_postfix": "",
     "delete_cmd_prefix": "del ",
     "library": "var_list.py",
     "varRefreshCmd": "print(var_dic_list())"
    },
    "r": {
     "delete_cmd_postfix": ") ",
     "delete_cmd_prefix": "rm(",
     "library": "var_list.r",
     "varRefreshCmd": "cat(var_dic_list()) "
    }
   },
   "types_to_exclude": [
    "module",
    "function",
    "builtin_function_or_method",
    "instance",
    "_Feature"
   ],
   "window_display": false
  }
 },
 "nbformat": 4,
 "nbformat_minor": 1
}