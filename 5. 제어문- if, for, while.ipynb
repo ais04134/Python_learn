{
 "cells": [
  {
   "cell_type": "markdown",
   "id": "7ddde025",
   "metadata": {},
   "source": [
    "# 파이썬 제어문\n",
    "## IF 실습"
   ]
  },
  {
   "cell_type": "code",
   "execution_count": 1,
   "id": "e1c4a1d9",
   "metadata": {},
   "outputs": [
    {
     "name": "stdout",
     "output_type": "stream",
     "text": [
      "<class 'bool'>\n",
      "<class 'bool'>\n"
     ]
    }
   ],
   "source": [
    "# 기본 형식\n",
    "\n",
    "print(type(True)) # 0이 아닌 수, \"abc\", [1,2,3..], (1,2,3..) ...\n",
    "print(type(False)) # 0, \"\", [], (), {} ... "
   ]
  },
  {
   "cell_type": "code",
   "execution_count": 2,
   "id": "69995537",
   "metadata": {},
   "outputs": [
    {
     "name": "stdout",
     "output_type": "stream",
     "text": [
      "Good\n"
     ]
    }
   ],
   "source": [
    "# 예1\n",
    "if True:\n",
    "    print(\"Good\")  # 들여쓰기(Indent)"
   ]
  },
  {
   "cell_type": "code",
   "execution_count": 3,
   "id": "159cb2db",
   "metadata": {},
   "outputs": [],
   "source": [
    "if False:\n",
    "    # 실행 X\n",
    "    print(\"Bad\")"
   ]
  },
  {
   "cell_type": "code",
   "execution_count": 4,
   "id": "171ee26b",
   "metadata": {},
   "outputs": [
    {
     "name": "stdout",
     "output_type": "stream",
     "text": [
      "Good\n"
     ]
    }
   ],
   "source": [
    "# 예2\n",
    "if False:\n",
    "    # 여기는 실행되지 않음.\n",
    "    print(\"Bad\")\n",
    "else:\n",
    "    # 여기가 실행된다.\n",
    "    print(\"Good\")"
   ]
  },
  {
   "cell_type": "markdown",
   "id": "5121468e",
   "metadata": {},
   "source": [
    "## 관계연산자 종류\n",
    "*  ,>, >=, <, <=, ==, !="
   ]
  },
  {
   "cell_type": "code",
   "execution_count": 6,
   "id": "76c70e77",
   "metadata": {},
   "outputs": [
    {
     "name": "stdout",
     "output_type": "stream",
     "text": [
      "False\n",
      "True\n",
      "True\n",
      "True\n",
      "False\n",
      "False\n"
     ]
    }
   ],
   "source": [
    "x = 15\n",
    "y = 10\n",
    "\n",
    "# == 양 변이 같을 때 참.\n",
    "print(x == y)\n",
    "\n",
    "# != 양 변이 다를 때 참.\n",
    "print(x != y)\n",
    "\n",
    "# > 왼쪽이 클때 참.\n",
    "print(x > y)\n",
    "\n",
    "# >= 왼쪽이 크거나 같을 때 참.\n",
    "print(x >= y)\n",
    "\n",
    "# < 오른쪽이 클 때 참.\n",
    "print(x < y)\n",
    "\n",
    "# <= 오른쪽이 크거나 같을 때 참.\n",
    "print(x <= y)"
   ]
  },
  {
   "cell_type": "markdown",
   "id": "227ae69c",
   "metadata": {},
   "source": [
    "* 참 거짓 판별 종류\n",
    "* 참 : \"values\", [values], (values), {values}, 1\n",
    "* 거짓 : \"\", [], (), {}, 0, None"
   ]
  },
  {
   "cell_type": "code",
   "execution_count": 7,
   "id": "8dc4fdd9",
   "metadata": {},
   "outputs": [
    {
     "name": "stdout",
     "output_type": "stream",
     "text": [
      "Please enter your city\n",
      "You are in: Seoul\n"
     ]
    }
   ],
   "source": [
    "city = \"\"\n",
    "if city:\n",
    "    print(\"You are in:\", city)\n",
    "else:\n",
    "    # 출력\n",
    "    print(\"Please enter your city\")\n",
    "\n",
    "city = \"Seoul\"\n",
    "if city:\n",
    "    print(\"You are in:\", city)\n",
    "else:\n",
    "    # 출력\n",
    "    print(\"Please enter your city\")\n"
   ]
  },
  {
   "cell_type": "markdown",
   "id": "9df80afc",
   "metadata": {},
   "source": [
    "* 논리연산자(중요)\n",
    "* and, or, not\n",
    "* 참고 : https://www.tutorialspoint.com/python/python_basic_operators.htm"
   ]
  },
  {
   "cell_type": "code",
   "execution_count": 8,
   "id": "63ad148f",
   "metadata": {},
   "outputs": [
    {
     "name": "stdout",
     "output_type": "stream",
     "text": [
      "and :  True\n",
      "or :  True\n",
      "not :  False\n",
      "not :  False\n",
      "False\n",
      "True\n"
     ]
    }
   ],
   "source": [
    "a = 75\n",
    "b = 40\n",
    "c = 10\n",
    "\n",
    "print('and : ', a > b and b > c)  # a > b > c\n",
    "print('or : ', a > b or b > c)\n",
    "print('not : ', not a > b)\n",
    "print('not : ', not b > c)\n",
    "print(not True)\n",
    "print(not False)"
   ]
  },
  {
   "cell_type": "markdown",
   "id": "f28cde51",
   "metadata": {},
   "source": [
    "### 산술, 관계, 논리 우선순위\n",
    "### 산술 > 관계 > 논리 순서로 적용\n"
   ]
  },
  {
   "cell_type": "code",
   "execution_count": 9,
   "id": "e4fa9b0f",
   "metadata": {},
   "outputs": [
    {
     "name": "stdout",
     "output_type": "stream",
     "text": [
      "e1 :  True\n",
      "e2 :  False\n",
      "e3 :  True\n",
      "e4 :  False\n"
     ]
    }
   ],
   "source": [
    "print('e1 : ', 3 + 12 > 7 + 3)\n",
    "print('e2 : ', 5 + 10 * 3 > 7 + 3 * 20)\n",
    "print('e3 : ', 5 + 10 > 3 and 7 + 3 == 10)\n",
    "print('e4 : ', 5 + 10 > 0 and not 7 + 3 == 10)"
   ]
  },
  {
   "cell_type": "code",
   "execution_count": 10,
   "id": "104df1b2",
   "metadata": {},
   "outputs": [
    {
     "name": "stdout",
     "output_type": "stream",
     "text": [
      "Pass.\n"
     ]
    }
   ],
   "source": [
    "score1 = 90\n",
    "score2 = 'A'\n",
    "\n",
    "# 복수의 조건이 모두 참일 경우에 실행.\n",
    "if score1 >= 90 and score2 == 'A':\n",
    "    print(\"Pass.\")\n",
    "else:\n",
    "    print(\"Fail.\")"
   ]
  },
  {
   "cell_type": "code",
   "execution_count": 11,
   "id": "f63fe3b0",
   "metadata": {},
   "outputs": [
    {
     "name": "stdout",
     "output_type": "stream",
     "text": [
      "관리자 인증\n",
      "최상위 관리자\n"
     ]
    }
   ],
   "source": [
    "# 예제\n",
    "\n",
    "id1 = \"vip\"\n",
    "id2 = \"admin\"\n",
    "grade = 'platinum'\n",
    "\n",
    "if id1 == \"vip\" or id2 == \"admin\":\n",
    "    print(\"관리자 인증\")\n",
    "\n",
    "if id2 == \"admin\" and grade == \"platinum\":\n",
    "    print(\"최상위 관리자\")"
   ]
  },
  {
   "cell_type": "code",
   "execution_count": 12,
   "id": "b02e47cb",
   "metadata": {},
   "outputs": [
    {
     "name": "stdout",
     "output_type": "stream",
     "text": [
      "Grade : A\n"
     ]
    }
   ],
   "source": [
    "# 다중 조건문\n",
    "num = 90\n",
    "\n",
    "if num >= 90:\n",
    "    print('Grade : A')\n",
    "elif num >= 80:\n",
    "    print('Grade : B')\n",
    "elif num >= 70:\n",
    "    print('Grade : C')\n",
    "else:\n",
    "    print('과락')"
   ]
  },
  {
   "cell_type": "code",
   "execution_count": 13,
   "id": "2c4edd37",
   "metadata": {},
   "outputs": [
    {
     "name": "stdout",
     "output_type": "stream",
     "text": [
      "장학금 100%\n"
     ]
    }
   ],
   "source": [
    "# 중첩 조건문\n",
    "\n",
    "grade = 'A'\n",
    "total = 95\n",
    "\n",
    "if grade == 'A':\n",
    "    if total >= 90:\n",
    "        print(\"장학금 100%\")\n",
    "    elif total >= 80:\n",
    "        print(\"장학금 80%\")\n",
    "    else:\n",
    "        print(\"장학금 70%\")\n",
    "else:\n",
    "    print(\"장학금 50%\")"
   ]
  },
  {
   "cell_type": "code",
   "execution_count": 14,
   "id": "dbc4f787",
   "metadata": {},
   "outputs": [
    {
     "name": "stdout",
     "output_type": "stream",
     "text": [
      "False\n",
      "True\n",
      "False\n",
      "True\n",
      "False\n"
     ]
    }
   ],
   "source": [
    "# in, not in\n",
    "\n",
    "q = [10, 20, 30]\n",
    "w = {70, 80, 90, 90}\n",
    "e = {\"name\": 'Lee', \"city\": \"Seoul\", \"grade\": \"A\"}\n",
    "r = (10, 12, 14)\n",
    "\n",
    "print(15 in q)\n",
    "print(90 in w)\n",
    "print(12 not in r)\n",
    "print(\"name\" in e)  # key 검색\n",
    "print(\"seoul\" in e.values())  # value 검색"
   ]
  },
  {
   "cell_type": "markdown",
   "id": "ffd88962",
   "metadata": {},
   "source": [
    "# 파이썬 반복문\n",
    "## FOR 실습"
   ]
  },
  {
   "cell_type": "code",
   "execution_count": 16,
   "id": "0fe50feb",
   "metadata": {},
   "outputs": [],
   "source": [
    "# 코딩의 핵심 \n",
    "# for i in <collection>\n",
    "#     <loop body>"
   ]
  },
  {
   "cell_type": "code",
   "execution_count": 18,
   "id": "72444e43",
   "metadata": {},
   "outputs": [
    {
     "name": "stdout",
     "output_type": "stream",
     "text": [
      "v1 is : 0\n",
      "v1 is : 1\n",
      "v1 is : 2\n",
      "v1 is : 3\n",
      "v1 is : 4\n",
      "v1 is : 5\n",
      "v1 is : 6\n",
      "v1 is : 7\n",
      "v1 is : 8\n",
      "v1 is : 9\n",
      "\n",
      "v2 is : 1\n",
      "v2 is : 2\n",
      "v2 is : 3\n",
      "v2 is : 4\n",
      "v2 is : 5\n",
      "v2 is : 6\n",
      "v2 is : 7\n",
      "v2 is : 8\n",
      "v2 is : 9\n",
      "v2 is : 10\n",
      "\n",
      "v3 is : 1\n",
      "v3 is : 3\n",
      "v3 is : 5\n",
      "v3 is : 7\n",
      "v3 is : 9\n",
      "\n"
     ]
    }
   ],
   "source": [
    "for v1 in range(10):\n",
    "    print(\"v1 is :\", v1)\n",
    "\n",
    "print()\n",
    "\n",
    "for v2 in range(1, 11):\n",
    "    print(\"v2 is :\", v2)\n",
    "\n",
    "print()\n",
    "\n",
    "for v3 in range(1, 11, 2):\n",
    "    print(\"v3 is :\", v3)\n",
    "\n",
    "print()"
   ]
  },
  {
   "cell_type": "code",
   "execution_count": 19,
   "id": "c28cb06f",
   "metadata": {},
   "outputs": [
    {
     "name": "stdout",
     "output_type": "stream",
     "text": [
      "1 ~ 1000 Sum :  500500\n",
      "1 ~ 1000 Sum :  500500\n",
      "1 ~ 1000 Sum :  500500\n",
      "1 ~ 1000 안에 4의 배수의 합 :  124750\n"
     ]
    }
   ],
   "source": [
    "# 1 ~ 1000합\n",
    "\n",
    "sum1 = 0\n",
    "\n",
    "for v in range(1, 1001):\n",
    "    sum1 += v\n",
    "\n",
    "print('1 ~ 1000 Sum : ', sum1)\n",
    "\n",
    "print('1 ~ 1000 Sum : ', sum1)\n",
    "print('1 ~ 1000 Sum : ', sum(range(1, 1001)))  # sum(리스트)\n",
    "print('1 ~ 1000 안에 4의 배수의 합 : ', sum(range(1, 1001, 4)))"
   ]
  },
  {
   "cell_type": "markdown",
   "id": "48870c49",
   "metadata": {},
   "source": [
    "* Iterables 자료형 반복\n",
    "* 문자열, 리스트, 튜플, 집합, 사전\n",
    "* iterable 리턴 함수 : range, reversed, enumerate, filter, map, zip"
   ]
  },
  {
   "cell_type": "code",
   "execution_count": 20,
   "id": "9893b366",
   "metadata": {},
   "outputs": [
    {
     "name": "stdout",
     "output_type": "stream",
     "text": [
      "You are Kim\n",
      "You are Park\n",
      "You are Cho\n",
      "You are Lee\n",
      "You are Choi\n",
      "You are Yoo\n"
     ]
    }
   ],
   "source": [
    "# 예제1\n",
    "names = [\"Kim\", \"Park\", \"Cho\", \"Lee\", \"Choi\", \"Yoo\"]\n",
    "\n",
    "for name in names:\n",
    "    print(\"You are\", name)"
   ]
  },
  {
   "cell_type": "code",
   "execution_count": 21,
   "id": "1e552b0c",
   "metadata": {},
   "outputs": [
    {
     "name": "stdout",
     "output_type": "stream",
     "text": [
      "Current number :  11\n",
      "Current number :  19\n",
      "Current number :  21\n",
      "Current number :  28\n",
      "Current number :  36\n",
      "Current number :  37\n"
     ]
    }
   ],
   "source": [
    "# 예제2\n",
    "lotto_numbers = [11, 19, 21, 28, 36, 37]\n",
    "\n",
    "for number in lotto_numbers:\n",
    "    print(\"Current number : \", number)"
   ]
  },
  {
   "cell_type": "code",
   "execution_count": 22,
   "id": "5a25837b",
   "metadata": {
    "scrolled": true
   },
   "outputs": [
    {
     "name": "stdout",
     "output_type": "stream",
     "text": [
      "word :  B\n",
      "word :  e\n",
      "word :  a\n",
      "word :  u\n",
      "word :  t\n",
      "word :  i\n",
      "word :  f\n",
      "word :  u\n",
      "word :  l\n"
     ]
    }
   ],
   "source": [
    "# 예제3\n",
    "word = 'Beautiful'\n",
    "\n",
    "for s in word:\n",
    "    print('word : ', s)"
   ]
  },
  {
   "cell_type": "code",
   "execution_count": 23,
   "id": "ca3b20d0",
   "metadata": {},
   "outputs": [
    {
     "name": "stdout",
     "output_type": "stream",
     "text": [
      "name : Lee\n",
      "Age : 33\n",
      "City : Seoul\n",
      "Lee\n",
      "33\n",
      "Seoul\n"
     ]
    }
   ],
   "source": [
    "# 예제4\n",
    "my_info = {\n",
    "    \"name\": \"Lee\",\n",
    "    \"Age\": 33,\n",
    "    \"City\": \"Seoul\"\n",
    "}\n",
    "\n",
    "for key in my_info:\n",
    "    print(key, \":\", my_info[key])\n",
    "\n",
    "for val in my_info.values():\n",
    "    print(val)"
   ]
  },
  {
   "cell_type": "code",
   "execution_count": 24,
   "id": "0bd1d997",
   "metadata": {},
   "outputs": [
    {
     "name": "stdout",
     "output_type": "stream",
     "text": [
      "F\n",
      "I\n",
      "N\n",
      "E\n",
      "A\n",
      "P\n",
      "P\n",
      "L\n",
      "E\n"
     ]
    }
   ],
   "source": [
    "# 예제5\n",
    "name = 'FineApplE'\n",
    "\n",
    "for n in name:\n",
    "    if n.isupper():\n",
    "        print(n)\n",
    "    else:\n",
    "        print(n.upper())\n",
    "\n",
    "numbers = [14, 3, 4, 7, 10, 24, 17, 2, 33, 15, 34, 36, 38]"
   ]
  },
  {
   "cell_type": "code",
   "execution_count": 25,
   "id": "016051c2",
   "metadata": {},
   "outputs": [
    {
     "name": "stdout",
     "output_type": "stream",
     "text": [
      "Not found :  14\n",
      "Not found :  3\n",
      "Not found :  4\n",
      "Not found :  7\n",
      "Not found :  10\n",
      "Not found :  24\n",
      "Not found :  17\n",
      "Not found :  2\n",
      "Not found :  33\n",
      "Not found :  15\n",
      "Found : 34!\n"
     ]
    }
   ],
   "source": [
    "# break\n",
    "for num in numbers:\n",
    "    if num == 34:\n",
    "        print(\"Found : 34!\")\n",
    "        break\n",
    "    else:\n",
    "        print(\"Not found : \", num)"
   ]
  },
  {
   "cell_type": "code",
   "execution_count": 26,
   "id": "0361e46d",
   "metadata": {},
   "outputs": [
    {
     "name": "stdout",
     "output_type": "stream",
     "text": [
      "current type :  <class 'str'>\n",
      "multiply by 2: 111\n",
      "current type :  <class 'int'>\n",
      "multiply by 2: 6\n",
      "current type :  <class 'int'>\n",
      "multiply by 2: 15\n",
      "current type :  <class 'float'>\n",
      "multiply by 2: 12.899999999999999\n",
      "current type :  <class 'complex'>\n",
      "multiply by 2: (12+0j)\n"
     ]
    }
   ],
   "source": [
    "# continue\n",
    "lt = [\"1\", 2, 5, True, 4.3, complex(4)]\n",
    "\n",
    "for v in lt:\n",
    "    if type(v) is bool:\n",
    "        continue\n",
    "\n",
    "    print(\"current type : \", type(v))\n",
    "    print(\"multiply by 2:\", v * 3)"
   ]
  },
  {
   "cell_type": "code",
   "execution_count": 27,
   "id": "a988f549",
   "metadata": {},
   "outputs": [
    {
     "name": "stdout",
     "output_type": "stream",
     "text": [
      "Found : 34!\n"
     ]
    }
   ],
   "source": [
    "# else 구문\n",
    "numbers = [14, 3, 4, 7, 10, 24, 17, 2, 33, 15, 34, 36, 38]\n",
    "\n",
    "for num in numbers:\n",
    "    if num == 34:  # 45\n",
    "        print(\"Found : 34!\")\n",
    "        break\n",
    "else:\n",
    "    print(\"Not Found 45...\")"
   ]
  },
  {
   "cell_type": "code",
   "execution_count": 28,
   "id": "bd1e4ed7",
   "metadata": {},
   "outputs": [
    {
     "name": "stdout",
     "output_type": "stream",
     "text": [
      "   4   6   8  10  12  14  16  18\n",
      "   6   9  12  15  18  21  24  27\n",
      "   8  12  16  20  24  28  32  36\n",
      "  10  15  20  25  30  35  40  45\n",
      "  12  18  24  30  36  42  48  54\n",
      "  14  21  28  35  42  49  56  63\n",
      "  16  24  32  40  48  56  64  72\n",
      "  18  27  36  45  54  63  72  81\n"
     ]
    }
   ],
   "source": [
    "# 구구단 출력\n",
    "\n",
    "for i in range(2, 10):\n",
    "    for j in range(2, 10):\n",
    "        print('{:4d}'.format(i * j), end='')\n",
    "    print()"
   ]
  },
  {
   "cell_type": "code",
   "execution_count": 29,
   "id": "db6bdc2a",
   "metadata": {},
   "outputs": [
    {
     "name": "stdout",
     "output_type": "stream",
     "text": [
      "Reversed :  <reversed object at 0x0000029B2DB686A0>\n",
      "List :  ['n', 'a', 'm', 'e', 'c', 'A']\n",
      "Tuple :  ('n', 'a', 'm', 'e', 'c', 'A')\n",
      "Set :  {'m', 'A', 'a', 'e', 'n', 'c'}\n"
     ]
    }
   ],
   "source": [
    "# 변환 예제\n",
    "name = 'Aceman'\n",
    "print('Reversed : ', reversed(name))\n",
    "print('List : ', list(reversed(name)))\n",
    "print('Tuple : ', tuple(reversed(name)))\n",
    "print('Set : ', set(reversed(name)))  # 순서X"
   ]
  },
  {
   "cell_type": "markdown",
   "id": "867da3c0",
   "metadata": {},
   "source": [
    "## While 실습"
   ]
  },
  {
   "cell_type": "code",
   "execution_count": 15,
   "id": "817b7c12",
   "metadata": {},
   "outputs": [],
   "source": [
    "# while <expr>:  \n",
    "#     <statement(s)>  "
   ]
  },
  {
   "cell_type": "code",
   "execution_count": 30,
   "id": "9d4219eb",
   "metadata": {},
   "outputs": [
    {
     "name": "stdout",
     "output_type": "stream",
     "text": [
      "5\n",
      "4\n",
      "3\n",
      "2\n",
      "1\n"
     ]
    }
   ],
   "source": [
    "# 예제1\n",
    "n = 5\n",
    "while n > 0:\n",
    "    print(n)\n",
    "    n = n - 1"
   ]
  },
  {
   "cell_type": "code",
   "execution_count": 31,
   "id": "743c2a46",
   "metadata": {},
   "outputs": [
    {
     "name": "stdout",
     "output_type": "stream",
     "text": [
      "baz\n",
      "bar\n",
      "foo\n"
     ]
    }
   ],
   "source": [
    "# 예제2\n",
    "a = ['foo', 'bar', 'baz']\n",
    "\n",
    "while a:\n",
    "    print(a.pop())"
   ]
  },
  {
   "cell_type": "markdown",
   "id": "5b3a31c3",
   "metadata": {},
   "source": [
    "### if 중첩\n",
    "#### 예제3\n",
    "* break , continue"
   ]
  },
  {
   "cell_type": "code",
   "execution_count": 32,
   "id": "647d8503",
   "metadata": {},
   "outputs": [
    {
     "name": "stdout",
     "output_type": "stream",
     "text": [
      "4\n",
      "3\n",
      "Loop Ended.\n",
      "\n"
     ]
    }
   ],
   "source": [
    "n = 5\n",
    "while n > 0:\n",
    "    n -= 1\n",
    "    if n == 2:\n",
    "        break\n",
    "    print(n)\n",
    "print('Loop Ended.')  \n",
    "print()"
   ]
  },
  {
   "cell_type": "code",
   "execution_count": 33,
   "id": "c6e1d80c",
   "metadata": {},
   "outputs": [
    {
     "name": "stdout",
     "output_type": "stream",
     "text": [
      "4\n",
      "3\n",
      "1\n",
      "0\n",
      "Loop Ended.\n"
     ]
    }
   ],
   "source": [
    "# 예제4\n",
    "m = 5\n",
    "while m > 0:\n",
    "    m -= 1\n",
    "    if m == 2:\n",
    "        continue\n",
    "    print(m)\n",
    "print('Loop Ended.')   "
   ]
  },
  {
   "cell_type": "code",
   "execution_count": 34,
   "id": "dd3b09f1",
   "metadata": {},
   "outputs": [
    {
     "name": "stdout",
     "output_type": "stream",
     "text": [
      "i: 1\n",
      "i: 2\n",
      "i: 3\n",
      "i: 4\n",
      "i: 5\n",
      "i: 6\n"
     ]
    }
   ],
   "source": [
    "# 예제5\n",
    "i = 1\n",
    "\n",
    "while i <= 10:\n",
    "    print('i:',i)\n",
    "    if i == 6:\n",
    "        break\n",
    "    i += 1"
   ]
  },
  {
   "cell_type": "markdown",
   "id": "dd5fe7c7",
   "metadata": {},
   "source": [
    "### While - else 구문"
   ]
  },
  {
   "cell_type": "code",
   "execution_count": 35,
   "id": "2103181a",
   "metadata": {},
   "outputs": [
    {
     "name": "stdout",
     "output_type": "stream",
     "text": [
      "9\n",
      "8\n",
      "7\n",
      "6\n",
      "5\n"
     ]
    }
   ],
   "source": [
    "# 예제6\n",
    "n = 10\n",
    "while n > 0:\n",
    "    n -= 1\n",
    "    print(n)\n",
    "    if n == 5:\n",
    "        break\n",
    "else:\n",
    "    print('else out.')"
   ]
  },
  {
   "cell_type": "code",
   "execution_count": 36,
   "id": "2c24b354",
   "metadata": {},
   "outputs": [],
   "source": [
    "# 예제7 \n",
    "a = ['foo', 'bar', 'baz', 'qux']\n",
    "s = 'qux'\n",
    "\n",
    "i = 0\n",
    "\n",
    "while i < len(a):\n",
    "    if a[i] == s:\n",
    "        break\n",
    "    i += 1\n",
    "else:\n",
    "    print(s, 'not found in list.')"
   ]
  },
  {
   "cell_type": "code",
   "execution_count": 37,
   "id": "42720842",
   "metadata": {},
   "outputs": [],
   "source": [
    "# 무한반복\n",
    "# while True:\n",
    "#     print('Foo')"
   ]
  },
  {
   "cell_type": "code",
   "execution_count": 38,
   "id": "6faf42b6",
   "metadata": {},
   "outputs": [
    {
     "name": "stdout",
     "output_type": "stream",
     "text": [
      "baz\n",
      "bar\n",
      "foo\n"
     ]
    }
   ],
   "source": [
    "# 예제8\n",
    "a = ['foo', 'bar', 'baz']\n",
    "while True:\n",
    "    if not a:\n",
    "        break\n",
    "    print(a.pop())\n"
   ]
  },
  {
   "cell_type": "code",
   "execution_count": null,
   "id": "3f477484",
   "metadata": {},
   "outputs": [],
   "source": []
  }
 ],
 "metadata": {
  "kernelspec": {
   "display_name": "Python 3",
   "language": "python",
   "name": "python3"
  },
  "language_info": {
   "codemirror_mode": {
    "name": "ipython",
    "version": 3
   },
   "file_extension": ".py",
   "mimetype": "text/x-python",
   "name": "python",
   "nbconvert_exporter": "python",
   "pygments_lexer": "ipython3",
   "version": "3.8.8"
  }
 },
 "nbformat": 4,
 "nbformat_minor": 5
}
