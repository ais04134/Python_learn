{
 "cells": [
  {
   "cell_type": "markdown",
   "id": "6d08fd6e",
   "metadata": {},
   "source": [
    "# 복권 생성기"
   ]
  },
  {
   "cell_type": "code",
   "execution_count": 3,
   "id": "abe982da",
   "metadata": {
    "ExecuteTime": {
     "end_time": "2021-07-22T09:20:17.559319Z",
     "start_time": "2021-07-22T09:20:16.544534Z"
    },
    "scrolled": true
   },
   "outputs": [
    {
     "name": "stdout",
     "output_type": "stream",
     "text": [
      "<로또 번호 자동 생성기>\n",
      "----------------------------------\n",
      "게임 수를 입력하세요(숫자만 입력).\n",
      "게임 수 : 5\n",
      "----------------------------------\n",
      "[4, 16, 24, 26, 34, 37]\n",
      "[10, 11, 20, 30, 33, 40]\n",
      "[6, 15, 18, 19, 22, 40]\n",
      "[1, 2, 16, 30, 31, 44]\n",
      "[8, 14, 15, 26, 40, 42]\n",
      "----------------------------------\n",
      "로또 번호 자동 생성 완료\n",
      "----------------------------------\n"
     ]
    }
   ],
   "source": [
    "import random\n",
    "\n",
    "\n",
    "print(\"<로또 번호 자동 생성기>\")\n",
    "print(\"----------------------------------\")\n",
    "print(\"게임 수를 입력하세요(숫자만 입력).\")\n",
    "\n",
    "num = input(\"게임 수 : \")\n",
    "\n",
    "print(\"----------------------------------\")\n",
    "\n",
    "for i in range(0,int(5)):\n",
    "    lotto = random.sample(range(1,46),6)\n",
    "    lotto.sort()\n",
    "    print(lotto)\n",
    "\n",
    "print(\"----------------------------------\")\n",
    "print(\"로또 번호 자동 생성 완료\")\n",
    "print(\"----------------------------------\")\n",
    "\n"
   ]
  },
  {
   "cell_type": "markdown",
   "id": "158c3f4f",
   "metadata": {},
   "source": [
    "# 연금복권 생성기"
   ]
  },
  {
   "cell_type": "code",
   "execution_count": 6,
   "id": "b5338695",
   "metadata": {
    "ExecuteTime": {
     "end_time": "2021-07-22T09:33:21.736737Z",
     "start_time": "2021-07-22T09:33:20.063625Z"
    }
   },
   "outputs": [
    {
     "name": "stdout",
     "output_type": "stream",
     "text": [
      "<연금복권 번호 자동 생성기>\n",
      "----------------------------------\n",
      "게임 수를 입력하세요(숫자만 입력).\n",
      "게임 수 : 5\n",
      "----------------------------------\n",
      "5 조 9608786\n",
      "3 조 5390815\n",
      "5 조 4765772\n",
      "5 조 3155050\n",
      "2 조 1652959\n",
      "----------------------------------\n",
      "연금복권 번호 자동 생성 완료\n",
      "----------------------------------\n"
     ]
    }
   ],
   "source": [
    "import random\n",
    "\n",
    "\n",
    "print(\"<연금복권 번호 자동 생성기>\")\n",
    "print(\"----------------------------------\")\n",
    "print(\"게임 수를 입력하세요(숫자만 입력).\")\n",
    "\n",
    "num = input(\"게임 수 : \")\n",
    "\n",
    "print(\"----------------------------------\")\n",
    "\n",
    "for i in range(0,int(5)):\n",
    "    pension_lotto_tim = random.randrange(1,6)\n",
    "    pension_lotto = random.randrange(1,10000000)\n",
    "    print(pension_lotto_tim,'조', pension_lotto)\n",
    "\n",
    "print(\"----------------------------------\")\n",
    "print(\"연금복권 번호 자동 생성 완료\")\n",
    "print(\"----------------------------------\")\n"
   ]
  },
  {
   "cell_type": "code",
   "execution_count": null,
   "id": "8d527327",
   "metadata": {},
   "outputs": [],
   "source": []
  }
 ],
 "metadata": {
  "kernelspec": {
   "display_name": "Python 3",
   "language": "python",
   "name": "python3"
  },
  "language_info": {
   "codemirror_mode": {
    "name": "ipython",
    "version": 3
   },
   "file_extension": ".py",
   "mimetype": "text/x-python",
   "name": "python",
   "nbconvert_exporter": "python",
   "pygments_lexer": "ipython3",
   "version": "3.8.8"
  },
  "toc": {
   "base_numbering": 1,
   "nav_menu": {},
   "number_sections": true,
   "sideBar": true,
   "skip_h1_title": false,
   "title_cell": "Table of Contents",
   "title_sidebar": "Contents",
   "toc_cell": false,
   "toc_position": {},
   "toc_section_display": true,
   "toc_window_display": false
  },
  "varInspector": {
   "cols": {
    "lenName": 16,
    "lenType": 16,
    "lenVar": 40
   },
   "kernels_config": {
    "python": {
     "delete_cmd_postfix": "",
     "delete_cmd_prefix": "del ",
     "library": "var_list.py",
     "varRefreshCmd": "print(var_dic_list())"
    },
    "r": {
     "delete_cmd_postfix": ") ",
     "delete_cmd_prefix": "rm(",
     "library": "var_list.r",
     "varRefreshCmd": "cat(var_dic_list()) "
    }
   },
   "types_to_exclude": [
    "module",
    "function",
    "builtin_function_or_method",
    "instance",
    "_Feature"
   ],
   "window_display": false
  }
 },
 "nbformat": 4,
 "nbformat_minor": 5
}
