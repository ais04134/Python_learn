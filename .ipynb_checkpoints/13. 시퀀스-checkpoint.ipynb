{
 "cells": [
  {
   "cell_type": "markdown",
   "id": "e72f9ced",
   "metadata": {
    "ExecuteTime": {
     "end_time": "2021-08-27T08:27:00.653814Z",
     "start_time": "2021-08-27T08:27:00.643805Z"
    }
   },
   "source": [
    "# 시퀀스 \n",
    "\n",
    "* Chapter04-01\n",
    "* 시퀀스형\n",
    "* 컨테이너(Container : 서로다른 자료형[list, tuple, collections.deque])\n",
    "* 플랫(Flat : 한개의 자료형[str, bytes, bytearray, array.array, memoryview])  \n",
    "  \n",
    "  \n",
    "* 가변(list, bytearray, array.array, memoryview, deque)\n",
    "* 불변(tuple, str, bytes)    <- 이런 식으로 나눠볼 수 있다."
   ]
  },
  {
   "cell_type": "markdown",
   "id": "7504fd6d",
   "metadata": {},
   "source": [
    "## 리스트 및 튜플 고급\n",
    "### 지능형 리스트(Comprehending Lists)\n"
   ]
  },
  {
   "cell_type": "code",
   "execution_count": 2,
   "id": "ccac4677",
   "metadata": {
    "ExecuteTime": {
     "end_time": "2021-08-29T06:50:05.964769Z",
     "start_time": "2021-08-29T06:50:05.947825Z"
    },
    "scrolled": true
   },
   "outputs": [
    {
     "ename": "TypeError",
     "evalue": "'str' object does not support item assignment",
     "output_type": "error",
     "traceback": [
      "\u001b[1;31m---------------------------------------------------------------------------\u001b[0m",
      "\u001b[1;31mTypeError\u001b[0m                                 Traceback (most recent call last)",
      "\u001b[1;32m<ipython-input-2-b6ab00951d0d>\u001b[0m in \u001b[0;36m<module>\u001b[1;34m\u001b[0m\n\u001b[0;32m      1\u001b[0m \u001b[0mchars\u001b[0m \u001b[1;33m=\u001b[0m \u001b[1;34m'+_)(*&^%$#@!~)'\u001b[0m\u001b[1;33m\u001b[0m\u001b[1;33m\u001b[0m\u001b[0m\n\u001b[0;32m      2\u001b[0m \u001b[1;33m\u001b[0m\u001b[0m\n\u001b[1;32m----> 3\u001b[1;33m \u001b[0mchars\u001b[0m\u001b[1;33m[\u001b[0m\u001b[1;36m2\u001b[0m\u001b[1;33m]\u001b[0m \u001b[1;33m=\u001b[0m \u001b[1;34m'h'\u001b[0m\u001b[1;33m\u001b[0m\u001b[1;33m\u001b[0m\u001b[0m\n\u001b[0m",
      "\u001b[1;31mTypeError\u001b[0m: 'str' object does not support item assignment"
     ]
    }
   ],
   "source": [
    "chars = '+_)(*&^%$#@!~)'\n",
    "\n",
    "chars[2] = 'h'"
   ]
  },
  {
   "cell_type": "markdown",
   "id": "4f0d0e64",
   "metadata": {},
   "source": [
    "불변형이므로 변경이 불가능하다."
   ]
  },
  {
   "cell_type": "code",
   "execution_count": 3,
   "id": "a3fbaa86",
   "metadata": {
    "ExecuteTime": {
     "end_time": "2021-08-29T06:50:06.310116Z",
     "start_time": "2021-08-29T06:50:06.293326Z"
    },
    "scrolled": true
   },
   "outputs": [
    {
     "name": "stdout",
     "output_type": "stream",
     "text": [
      "[43, 95, 41, 40, 42, 38, 94, 37, 36, 35, 64, 33, 126, 41]\n"
     ]
    }
   ],
   "source": [
    "code_list1 = []\n",
    "\n",
    "for s in chars:\n",
    "    # 유니코드 리스트\n",
    "    code_list1.append(ord(s))\n",
    "    \n",
    "print(code_list1) # 확인해보면, 문자 하나하나가 순서대로 나열되어 있음을 알 수 있다."
   ]
  },
  {
   "cell_type": "code",
   "execution_count": 4,
   "id": "61707c4f",
   "metadata": {
    "ExecuteTime": {
     "end_time": "2021-08-29T06:50:06.459415Z",
     "start_time": "2021-08-29T06:50:06.447454Z"
    }
   },
   "outputs": [],
   "source": [
    "code_list2 = [ord(s) for s in chars] # 리스트 컴프레이션으로 한줄로 만들 수 있다."
   ]
  },
  {
   "cell_type": "code",
   "execution_count": 5,
   "id": "4b0d855a",
   "metadata": {
    "ExecuteTime": {
     "end_time": "2021-08-29T06:50:06.609027Z",
     "start_time": "2021-08-29T06:50:06.597066Z"
    }
   },
   "outputs": [],
   "source": [
    "code_list3 = [ord(s) for s in chars if ord(s) > 40]"
   ]
  },
  {
   "cell_type": "code",
   "execution_count": 6,
   "id": "25b5c2c5",
   "metadata": {
    "ExecuteTime": {
     "end_time": "2021-08-29T06:50:06.773985Z",
     "start_time": "2021-08-29T06:50:06.758527Z"
    }
   },
   "outputs": [],
   "source": [
    "code_list4 = list(filter(lambda x : x > 40, map(ord, chars))) # 이런식으로 사용할 수 있다."
   ]
  },
  {
   "cell_type": "markdown",
   "id": "885a73d5",
   "metadata": {},
   "source": [
    "리스트 컴프리헨션을 활용하면 좀 더 깔끔하고, 속도 측면으로 봤을때도 좀 더 빠르다."
   ]
  },
  {
   "cell_type": "code",
   "execution_count": 7,
   "id": "129be28b",
   "metadata": {
    "ExecuteTime": {
     "end_time": "2021-08-29T06:50:07.089123Z",
     "start_time": "2021-08-29T06:50:07.074171Z"
    }
   },
   "outputs": [
    {
     "name": "stdout",
     "output_type": "stream",
     "text": [
      "[43, 95, 41, 40, 42, 38, 94, 37, 36, 35, 64, 33, 126, 41]\n",
      "[43, 95, 41, 40, 42, 38, 94, 37, 36, 35, 64, 33, 126, 41]\n",
      "[43, 95, 41, 42, 94, 64, 126, 41]\n",
      "[43, 95, 41, 42, 94, 64, 126, 41]\n",
      "['+', '_', ')', '(', '*', '&', '^', '%', '$', '#', '@', '!', '~', ')']\n",
      "['+', '_', ')', '(', '*', '&', '^', '%', '$', '#', '@', '!', '~', ')']\n",
      "['+', '_', ')', '*', '^', '@', '~', ')']\n",
      "['+', '_', ')', '*', '^', '@', '~', ')']\n"
     ]
    }
   ],
   "source": [
    "# 전체 출력\n",
    "print(code_list1)\n",
    "print(code_list2)\n",
    "print(code_list3)\n",
    "print(code_list4)\n",
    "print([chr(s) for s in code_list1])\n",
    "print([chr(s) for s in code_list2])\n",
    "print([chr(s) for s in code_list3])\n",
    "print([chr(s) for s in code_list4])"
   ]
  },
  {
   "cell_type": "markdown",
   "id": "168496b6",
   "metadata": {},
   "source": [
    "### Generator "
   ]
  },
  {
   "cell_type": "code",
   "execution_count": 10,
   "id": "789f9306",
   "metadata": {
    "ExecuteTime": {
     "end_time": "2021-08-29T06:50:24.148807Z",
     "start_time": "2021-08-29T06:50:24.140834Z"
    }
   },
   "outputs": [
    {
     "name": "stdout",
     "output_type": "stream",
     "text": [
      "[43, 95, 41, 40, 42, 38, 94, 37, 36, 35, 64, 33, 126, 41]\n",
      "<class 'generator'>\n",
      "43\n",
      "<class 'array.array'>\n",
      "[43, 95, 41, 40, 42, 38, 94, 37, 36, 35, 64, 33, 126, 41]\n"
     ]
    }
   ],
   "source": [
    "# Generator 생성 \n",
    "import array\n",
    "\n",
    "tuple_g_list = [ord(s) for s in chars]\n",
    "\n",
    "print(tuple_g_list) # list 형태로 만들면 값을 다 할당해 버린다.\n",
    "\n",
    "# Generator : 한 번에 한 개의 항목을 생성(메모리 유지X)\n",
    "tuple_g = (ord(s) for s in chars) # 이런식으로 소괄호로 바꾸면 generator로 바뀐다.\n",
    "# Array\n",
    "array_g = array.array('I',  (ord(s) for s in chars))\n",
    "\n",
    "print(type(tuple_g))\n",
    "print(next(tuple_g))\n",
    "print(type(array_g))\n",
    "print(array_g.tolist())"
   ]
  },
  {
   "cell_type": "code",
   "execution_count": 12,
   "id": "3e4db926",
   "metadata": {
    "ExecuteTime": {
     "end_time": "2021-08-29T06:58:09.581390Z",
     "start_time": "2021-08-29T06:58:09.562487Z"
    }
   },
   "outputs": [
    {
     "name": "stdout",
     "output_type": "stream",
     "text": [
      "<generator object <genexpr> at 0x0000014B67562120>\n",
      "A1\n",
      "A2\n",
      "A3\n",
      "A4\n",
      "A5\n",
      "A6\n",
      "A7\n",
      "A8\n",
      "A9\n",
      "A10\n",
      "A11\n",
      "A12\n",
      "A13\n",
      "A14\n",
      "A15\n",
      "A16\n",
      "A17\n",
      "A18\n",
      "A19\n",
      "A20\n",
      "B1\n",
      "B2\n",
      "B3\n",
      "B4\n",
      "B5\n",
      "B6\n",
      "B7\n",
      "B8\n",
      "B9\n",
      "B10\n",
      "B11\n",
      "B12\n",
      "B13\n",
      "B14\n",
      "B15\n",
      "B16\n",
      "B17\n",
      "B18\n",
      "B19\n",
      "B20\n",
      "C1\n",
      "C2\n",
      "C3\n",
      "C4\n",
      "C5\n",
      "C6\n",
      "C7\n",
      "C8\n",
      "C9\n",
      "C10\n",
      "C11\n",
      "C12\n",
      "C13\n",
      "C14\n",
      "C15\n",
      "C16\n",
      "C17\n",
      "C18\n",
      "C19\n",
      "C20\n",
      "D1\n",
      "D2\n",
      "D3\n",
      "D4\n",
      "D5\n",
      "D6\n",
      "D7\n",
      "D8\n",
      "D9\n",
      "D10\n",
      "D11\n",
      "D12\n",
      "D13\n",
      "D14\n",
      "D15\n",
      "D16\n",
      "D17\n",
      "D18\n",
      "D19\n",
      "D20\n"
     ]
    }
   ],
   "source": [
    "# 제네레이터 예제\n",
    "print(('%s' % c + str(n) for c in ['A', 'B', 'C', 'D'] for n in range(1,21)))\n",
    "\n",
    "for s in ('%s' % c + str(n) for c in ['A', 'B', 'C', 'D'] for n in range(1,21)):\n",
    "    print(s)"
   ]
  },
  {
   "cell_type": "markdown",
   "id": "419ed66b",
   "metadata": {},
   "source": [
    "### 리스트 주의 - shallow copy, deep copy"
   ]
  },
  {
   "cell_type": "code",
   "execution_count": 14,
   "id": "b48d7683",
   "metadata": {
    "ExecuteTime": {
     "end_time": "2021-08-29T06:59:49.276913Z",
     "start_time": "2021-08-29T06:59:49.257975Z"
    }
   },
   "outputs": [
    {
     "name": "stdout",
     "output_type": "stream",
     "text": [
      "[['~', '~', '~', '~', '~'], ['~', '~', '~', '~', '~'], ['~', '~', '~', '~', '~'], ['~', '~', '~', '~', '~'], ['~', '~', '~', '~', '~']]\n",
      "[['~', '~', '~', '~', '~'], ['~', '~', '~', '~', '~'], ['~', '~', '~', '~', '~'], ['~', '~', '~', '~', '~'], ['~', '~', '~', '~', '~']]\n"
     ]
    }
   ],
   "source": [
    "marks1 = [['~'] * 3 for n in range(\"4. 리스트, 튜플, 딕셔너리, 집합.ipynb\")]\n",
    "# marks1 = [['~'] * 5 for _ in range(5)]  <- 사용하지 않는 원소는 _ 로 표시해도 된다. \n",
    "# 즉, 반복은 할껀데 원소를 사용하지 않을꺼야..\n",
    "\n",
    "marks2 = [['~'] * 5] * 5\n",
    "\n",
    "print(marks1)\n",
    "print(marks2) # 둘다 동일해 보인다 뭐가 다른걸까 ?"
   ]
  },
  {
   "cell_type": "code",
   "execution_count": 15,
   "id": "571cc3a1",
   "metadata": {
    "ExecuteTime": {
     "end_time": "2021-08-29T06:59:54.167201Z",
     "start_time": "2021-08-29T06:59:54.162218Z"
    }
   },
   "outputs": [],
   "source": [
    "# 수정\n",
    "marks1[0][1] = 'X'\n",
    "marks2[0][1] = 'X'"
   ]
  },
  {
   "cell_type": "code",
   "execution_count": 16,
   "id": "5c6815ca",
   "metadata": {
    "ExecuteTime": {
     "end_time": "2021-08-29T06:59:58.183941Z",
     "start_time": "2021-08-29T06:59:58.168992Z"
    }
   },
   "outputs": [
    {
     "name": "stdout",
     "output_type": "stream",
     "text": [
      "[['~', 'X', '~', '~', '~'], ['~', '~', '~', '~', '~'], ['~', '~', '~', '~', '~'], ['~', '~', '~', '~', '~'], ['~', '~', '~', '~', '~']]\n",
      "[['~', 'X', '~', '~', '~'], ['~', 'X', '~', '~', '~'], ['~', 'X', '~', '~', '~'], ['~', 'X', '~', '~', '~'], ['~', 'X', '~', '~', '~']]\n"
     ]
    }
   ],
   "source": [
    "print(marks1)\n",
    "print(marks2)"
   ]
  },
  {
   "cell_type": "code",
   "execution_count": 17,
   "id": "a299d27f",
   "metadata": {
    "ExecuteTime": {
     "end_time": "2021-08-29T07:00:02.331494Z",
     "start_time": "2021-08-29T07:00:02.326511Z"
    }
   },
   "outputs": [
    {
     "name": "stdout",
     "output_type": "stream",
     "text": [
      "[1423361415424, 1423361337408, 1423360215552, 1423361325376, 1423361269696]\n",
      "[1423359644608, 1423359644608, 1423359644608, 1423359644608, 1423359644608]\n"
     ]
    }
   ],
   "source": [
    "# 증명\n",
    "print([id(i) for i in marks1])\n",
    "print([id(i) for i in marks2])"
   ]
  },
  {
   "cell_type": "code",
   "execution_count": null,
   "id": "d001c6b9",
   "metadata": {},
   "outputs": [],
   "source": []
  }
 ],
 "metadata": {
  "kernelspec": {
   "display_name": "Python 3",
   "language": "python",
   "name": "python3"
  },
  "language_info": {
   "codemirror_mode": {
    "name": "ipython",
    "version": 3
   },
   "file_extension": ".py",
   "mimetype": "text/x-python",
   "name": "python",
   "nbconvert_exporter": "python",
   "pygments_lexer": "ipython3",
   "version": "3.8.8"
  },
  "toc": {
   "base_numbering": 1,
   "nav_menu": {},
   "number_sections": true,
   "sideBar": true,
   "skip_h1_title": false,
   "title_cell": "Table of Contents",
   "title_sidebar": "Contents",
   "toc_cell": false,
   "toc_position": {},
   "toc_section_display": true,
   "toc_window_display": false
  },
  "varInspector": {
   "cols": {
    "lenName": 16,
    "lenType": 16,
    "lenVar": 40
   },
   "kernels_config": {
    "python": {
     "delete_cmd_postfix": "",
     "delete_cmd_prefix": "del ",
     "library": "var_list.py",
     "varRefreshCmd": "print(var_dic_list())"
    },
    "r": {
     "delete_cmd_postfix": ") ",
     "delete_cmd_prefix": "rm(",
     "library": "var_list.r",
     "varRefreshCmd": "cat(var_dic_list()) "
    }
   },
   "types_to_exclude": [
    "module",
    "function",
    "builtin_function_or_method",
    "instance",
    "_Feature"
   ],
   "window_display": false
  }
 },
 "nbformat": 4,
 "nbformat_minor": 5
}
