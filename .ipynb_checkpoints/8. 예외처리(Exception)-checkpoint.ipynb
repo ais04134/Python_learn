{
 "cells": [
  {
   "cell_type": "markdown",
   "id": "5cd59c36",
   "metadata": {},
   "source": [
    "# 예외처리(Exception)"
   ]
  },
  {
   "cell_type": "markdown",
   "id": "fb27cb46",
   "metadata": {},
   "source": [
    "## 오류는 어떤 때 발생하는가?"
   ]
  },
  {
   "cell_type": "markdown",
   "id": "c6f690db",
   "metadata": {},
   "source": [
    "* 디렉터리 안에 없는 파일을 열려고 시도했을 때 발생하는 오류"
   ]
  },
  {
   "cell_type": "code",
   "execution_count": 1,
   "id": "b8294637",
   "metadata": {},
   "outputs": [
    {
     "ename": "FileNotFoundError",
     "evalue": "[Errno 2] No such file or directory: '나없는파일'",
     "output_type": "error",
     "traceback": [
      "\u001b[1;31m---------------------------------------------------------------------------\u001b[0m",
      "\u001b[1;31mFileNotFoundError\u001b[0m                         Traceback (most recent call last)",
      "\u001b[1;32m<ipython-input-1-9c14a73c8317>\u001b[0m in \u001b[0;36m<module>\u001b[1;34m\u001b[0m\n\u001b[1;32m----> 1\u001b[1;33m \u001b[0mf\u001b[0m \u001b[1;33m=\u001b[0m \u001b[0mopen\u001b[0m\u001b[1;33m(\u001b[0m\u001b[1;34m\"나없는파일\"\u001b[0m\u001b[1;33m,\u001b[0m \u001b[1;34m'r'\u001b[0m\u001b[1;33m)\u001b[0m\u001b[1;33m\u001b[0m\u001b[1;33m\u001b[0m\u001b[0m\n\u001b[0m",
      "\u001b[1;31mFileNotFoundError\u001b[0m: [Errno 2] No such file or directory: '나없는파일'"
     ]
    }
   ],
   "source": [
    "f = open(\"나없는파일\", 'r')"
   ]
  },
  {
   "cell_type": "markdown",
   "id": "12e6cbdc",
   "metadata": {},
   "source": [
    "* 0으로 다른 숫자를 나누는 경우"
   ]
  },
  {
   "cell_type": "code",
   "execution_count": 2,
   "id": "b8ec12ce",
   "metadata": {},
   "outputs": [
    {
     "ename": "ZeroDivisionError",
     "evalue": "division by zero",
     "output_type": "error",
     "traceback": [
      "\u001b[1;31m---------------------------------------------------------------------------\u001b[0m",
      "\u001b[1;31mZeroDivisionError\u001b[0m                         Traceback (most recent call last)",
      "\u001b[1;32m<ipython-input-2-221068dc2815>\u001b[0m in \u001b[0;36m<module>\u001b[1;34m\u001b[0m\n\u001b[1;32m----> 1\u001b[1;33m \u001b[1;36m4\u001b[0m\u001b[1;33m/\u001b[0m\u001b[1;36m0\u001b[0m\u001b[1;33m\u001b[0m\u001b[1;33m\u001b[0m\u001b[0m\n\u001b[0m",
      "\u001b[1;31mZeroDivisionError\u001b[0m: division by zero"
     ]
    }
   ],
   "source": [
    "4/0"
   ]
  },
  {
   "cell_type": "code",
   "execution_count": 3,
   "id": "f85d1c08",
   "metadata": {},
   "outputs": [
    {
     "ename": "IndexError",
     "evalue": "list index out of range",
     "output_type": "error",
     "traceback": [
      "\u001b[1;31m---------------------------------------------------------------------------\u001b[0m",
      "\u001b[1;31mIndexError\u001b[0m                                Traceback (most recent call last)",
      "\u001b[1;32m<ipython-input-3-59fd82b1af02>\u001b[0m in \u001b[0;36m<module>\u001b[1;34m\u001b[0m\n\u001b[0;32m      1\u001b[0m \u001b[0ma\u001b[0m \u001b[1;33m=\u001b[0m \u001b[1;33m[\u001b[0m\u001b[1;36m1\u001b[0m\u001b[1;33m,\u001b[0m\u001b[1;36m2\u001b[0m\u001b[1;33m,\u001b[0m\u001b[1;36m3\u001b[0m\u001b[1;33m]\u001b[0m\u001b[1;33m\u001b[0m\u001b[1;33m\u001b[0m\u001b[0m\n\u001b[1;32m----> 2\u001b[1;33m \u001b[0ma\u001b[0m\u001b[1;33m[\u001b[0m\u001b[1;36m4\u001b[0m\u001b[1;33m]\u001b[0m\u001b[1;33m\u001b[0m\u001b[1;33m\u001b[0m\u001b[0m\n\u001b[0m",
      "\u001b[1;31mIndexError\u001b[0m: list index out of range"
     ]
    }
   ],
   "source": [
    "a = [1,2,3]\n",
    "a[4]"
   ]
  },
  {
   "cell_type": "markdown",
   "id": "3f3a6a5d",
   "metadata": {},
   "source": [
    "##### 이러한 여러 오류들이 발생했을때, 예외처리를 하는 방법이 어떤게 있을까??"
   ]
  },
  {
   "cell_type": "markdown",
   "id": "ace0e225",
   "metadata": {},
   "source": [
    "* try : 에러가 발생 할 가능성이 있는 코드 실행\n",
    "* except 에러명1 : 여러개 가능\n",
    "* except 에러명2\n",
    "* else : try 블록의 에러가 없을 경우 실행\n",
    "* finally : 항상 실행"
   ]
  },
  {
   "cell_type": "markdown",
   "id": "567a3bcd",
   "metadata": {},
   "source": [
    "## try, except 문"
   ]
  },
  {
   "cell_type": "code",
   "execution_count": null,
   "id": "0af715f6",
   "metadata": {},
   "outputs": [],
   "source": [
    "try:  # 에러가 발생 할 가능성이 있는 코드 실행\n",
    "    ...\n",
    "except [발생 오류[as 오류 메세지 변수]]: # 여러개 가능 \n",
    "    ..."
   ]
  },
  {
   "cell_type": "markdown",
   "id": "b01a0bec",
   "metadata": {},
   "source": [
    "* try 블록 수행 중 오류가 발생하면 except 블록이 수행된다. 하지만 try 블록에서 오류가 발생하지 않는다면 excepy 블록은 수행되지 않는다."
   ]
  },
  {
   "cell_type": "markdown",
   "id": "18216e8c",
   "metadata": {},
   "source": [
    "###  try, except만 사용하는 방법"
   ]
  },
  {
   "cell_type": "code",
   "execution_count": 2,
   "id": "f6a67822",
   "metadata": {
    "ExecuteTime": {
     "end_time": "2021-07-21T08:15:49.283476Z",
     "start_time": "2021-07-21T08:15:49.275721Z"
    }
   },
   "outputs": [],
   "source": [
    "try:\n",
    "    ...\n",
    "except:\n",
    "    ..."
   ]
  },
  {
   "cell_type": "markdown",
   "id": "9803e6ce",
   "metadata": {},
   "source": [
    "* 이 경우에는 오류 종류와 상관없이 오류가 발생하면 excepy 블록을 수행한다."
   ]
  },
  {
   "cell_type": "markdown",
   "id": "829f3220",
   "metadata": {},
   "source": [
    "### 발생 오류만 포함한 except문"
   ]
  },
  {
   "cell_type": "code",
   "execution_count": null,
   "id": "7fa50dfb",
   "metadata": {},
   "outputs": [],
   "source": [
    "try:\n",
    "    ...\n",
    "except 발생 오류:\n",
    "    ..."
   ]
  },
  {
   "cell_type": "markdown",
   "id": "c78ef551",
   "metadata": {},
   "source": [
    "* 이 경우는 오류가 발생했을 때 except문에 미리 정해 놓은 오류 이름과 일치할 때만 excepy 블록을 수행한다는 뜻이다."
   ]
  },
  {
   "cell_type": "markdown",
   "id": "2d86bf05",
   "metadata": {},
   "source": [
    "### 발생 오류와 오류 메세지 변수까지 포함한 except 문"
   ]
  },
  {
   "cell_type": "code",
   "execution_count": 3,
   "id": "1e6497bc",
   "metadata": {
    "ExecuteTime": {
     "end_time": "2021-07-21T08:19:07.419554Z",
     "start_time": "2021-07-21T08:19:07.402160Z"
    }
   },
   "outputs": [
    {
     "ename": "SyntaxError",
     "evalue": "invalid syntax (<ipython-input-3-f7ff136200b9>, line 3)",
     "output_type": "error",
     "traceback": [
      "\u001b[1;36m  File \u001b[1;32m\"<ipython-input-3-f7ff136200b9>\"\u001b[1;36m, line \u001b[1;32m3\u001b[0m\n\u001b[1;33m    except 발생 오류 as 오류 메세지 변수:\u001b[0m\n\u001b[1;37m              ^\u001b[0m\n\u001b[1;31mSyntaxError\u001b[0m\u001b[1;31m:\u001b[0m invalid syntax\n"
     ]
    }
   ],
   "source": [
    "try:\n",
    "    ...\n",
    "except 발생 오류 as 오류 메세지 변수:\n",
    "    ..."
   ]
  },
  {
   "cell_type": "markdown",
   "id": "0ff201f4",
   "metadata": {},
   "source": [
    "* 이 경우는 두 번째 경우에서 오류 메세지의 내용까지 알고 싶을 때 사용하는 방법이다."
   ]
  },
  {
   "cell_type": "code",
   "execution_count": 4,
   "id": "052b1f85",
   "metadata": {
    "ExecuteTime": {
     "end_time": "2021-07-21T08:20:24.872179Z",
     "start_time": "2021-07-21T08:20:24.864134Z"
    }
   },
   "outputs": [
    {
     "name": "stdout",
     "output_type": "stream",
     "text": [
      "division by zero\n"
     ]
    }
   ],
   "source": [
    "try:\n",
    "    4 / 0\n",
    "except ZeroDivisionError as e:\n",
    "    print(e)"
   ]
  },
  {
   "cell_type": "markdown",
   "id": "184a24f8",
   "metadata": {},
   "source": [
    "* 위의 예시 처럼 4를 0으로 나누려고 하면 ZeroDivisionError가 발생하여 excepy 블록이 실행되고 변수 e 에 담기는 오류 메세지를 출력한다."
   ]
  },
  {
   "cell_type": "markdown",
   "id": "80e96ada",
   "metadata": {},
   "source": [
    "## try .. finally"
   ]
  },
  {
   "cell_type": "markdown",
   "id": "f6efac2d",
   "metadata": {},
   "source": [
    "* try문에는 finally절을 사용할 수 있다. finally절은 try문 수행 도중 예외 발생 여부에 상관없이 항상 수행된다. \n",
    "* 보통 finally절은 사용한 리소스를 close해야 할 때에 많이 사용한다."
   ]
  },
  {
   "cell_type": "code",
   "execution_count": 5,
   "id": "c8d65c1d",
   "metadata": {
    "ExecuteTime": {
     "end_time": "2021-07-21T08:22:56.383416Z",
     "start_time": "2021-07-21T08:22:56.365162Z"
    }
   },
   "outputs": [
    {
     "ename": "IndentationError",
     "evalue": "expected an indented block (<ipython-input-5-ab246074e4da>, line 4)",
     "output_type": "error",
     "traceback": [
      "\u001b[1;36m  File \u001b[1;32m\"<ipython-input-5-ab246074e4da>\"\u001b[1;36m, line \u001b[1;32m4\u001b[0m\n\u001b[1;33m    finally:\u001b[0m\n\u001b[1;37m    ^\u001b[0m\n\u001b[1;31mIndentationError\u001b[0m\u001b[1;31m:\u001b[0m expected an indented block\n"
     ]
    }
   ],
   "source": [
    "f = open('foo.txt','w')\n",
    "try:\n",
    "    # 무언가를 수행한다.\n",
    "finally:\n",
    "    f,close()"
   ]
  },
  {
   "cell_type": "markdown",
   "id": "8e0654bc",
   "metadata": {},
   "source": [
    "* foo.txt 파일을 쓰기 모드로 연 후에 try문을 수행한 후 예외 발생 여부와 상관없이 finally절에서 f.close()로 열린 파일을 닫을 수 있다."
   ]
  },
  {
   "cell_type": "markdown",
   "id": "6c730148",
   "metadata": {},
   "source": [
    "## 여러개의 오류처리하기"
   ]
  },
  {
   "cell_type": "code",
   "execution_count": 6,
   "id": "8d0821ab",
   "metadata": {
    "ExecuteTime": {
     "end_time": "2021-07-21T08:23:57.199763Z",
     "start_time": "2021-07-21T08:23:57.180272Z"
    }
   },
   "outputs": [
    {
     "ename": "SyntaxError",
     "evalue": "invalid syntax (<ipython-input-6-f98db7bc83ae>, line 3)",
     "output_type": "error",
     "traceback": [
      "\u001b[1;36m  File \u001b[1;32m\"<ipython-input-6-f98db7bc83ae>\"\u001b[1;36m, line \u001b[1;32m3\u001b[0m\n\u001b[1;33m    except 발생 오류1:\u001b[0m\n\u001b[1;37m              ^\u001b[0m\n\u001b[1;31mSyntaxError\u001b[0m\u001b[1;31m:\u001b[0m invalid syntax\n"
     ]
    }
   ],
   "source": [
    "try:\n",
    "    ...\n",
    "except 발생 오류1:\n",
    "   ... \n",
    "except 발생 오류2:\n",
    "   ..."
   ]
  },
  {
   "cell_type": "code",
   "execution_count": 7,
   "id": "0f8519a3",
   "metadata": {
    "ExecuteTime": {
     "end_time": "2021-07-21T08:24:03.951963Z",
     "start_time": "2021-07-21T08:24:03.934898Z"
    }
   },
   "outputs": [
    {
     "name": "stdout",
     "output_type": "stream",
     "text": [
      "인덱싱 할 수 없습니다.\n"
     ]
    }
   ],
   "source": [
    "try:\n",
    "    a = [1,2]\n",
    "    print(a[3])\n",
    "    4/0\n",
    "except ZeroDivisionError:\n",
    "    print(\"0으로 나눌 수 없습니다.\")\n",
    "except IndexError:\n",
    "    print(\"인덱싱 할 수 없습니다.\")"
   ]
  },
  {
   "cell_type": "markdown",
   "id": "395049ee",
   "metadata": {},
   "source": [
    "* a는 2개의 요솟값을 가지고 있기 때문에 a[3]은 IndexError를 발생시키므로 \"인덱싱할 수 없습니다.\"라는 문자열이 출력될 것이다. \n",
    "* 인덱싱 오류가 먼저 발생했으므로 4/0으로 발생되는 ZeroDivisionError 오류는 발생하지 않았다."
   ]
  },
  {
   "cell_type": "code",
   "execution_count": 8,
   "id": "b7d54550",
   "metadata": {
    "ExecuteTime": {
     "end_time": "2021-07-21T08:25:20.965379Z",
     "start_time": "2021-07-21T08:25:20.949290Z"
    }
   },
   "outputs": [
    {
     "name": "stdout",
     "output_type": "stream",
     "text": [
      "list index out of range\n"
     ]
    }
   ],
   "source": [
    "try:\n",
    "    a = [1,2]\n",
    "    print(a[3])\n",
    "    4/0\n",
    "except ZeroDivisionError as e:\n",
    "    print(e)\n",
    "except IndexError as e:\n",
    "    print(e)"
   ]
  },
  {
   "cell_type": "code",
   "execution_count": 9,
   "id": "e61e49ec",
   "metadata": {
    "ExecuteTime": {
     "end_time": "2021-07-21T08:25:33.123598Z",
     "start_time": "2021-07-21T08:25:33.107195Z"
    }
   },
   "outputs": [
    {
     "name": "stdout",
     "output_type": "stream",
     "text": [
      "list index out of range\n"
     ]
    }
   ],
   "source": [
    "try:\n",
    "    a = [1,2]\n",
    "    print(a[3])\n",
    "    4/0\n",
    "except (ZeroDivisionError, IndexError) as e:\n",
    "    print(e)"
   ]
  },
  {
   "cell_type": "markdown",
   "id": "9929fa39",
   "metadata": {},
   "source": [
    "* 이런식으로 2개 이상의 오류를 동일하게 처리할 수 있다."
   ]
  },
  {
   "cell_type": "markdown",
   "id": "e41e0c79",
   "metadata": {},
   "source": [
    "## try문에 else절 사용하기"
   ]
  },
  {
   "cell_type": "markdown",
   "id": "805eb00f",
   "metadata": {},
   "source": [
    "* try문에는 다음처럼 else절을 사용할 수 있다."
   ]
  },
  {
   "cell_type": "code",
   "execution_count": 10,
   "id": "26d813b2",
   "metadata": {
    "ExecuteTime": {
     "end_time": "2021-07-21T08:27:33.460403Z",
     "start_time": "2021-07-21T08:27:33.445792Z"
    }
   },
   "outputs": [
    {
     "ename": "SyntaxError",
     "evalue": "invalid syntax (<ipython-input-10-b38c6b29b2c4>, line 3)",
     "output_type": "error",
     "traceback": [
      "\u001b[1;36m  File \u001b[1;32m\"<ipython-input-10-b38c6b29b2c4>\"\u001b[1;36m, line \u001b[1;32m3\u001b[0m\n\u001b[1;33m    except [발생 오류[as 오류 메시지 변수]]:\u001b[0m\n\u001b[1;37m               ^\u001b[0m\n\u001b[1;31mSyntaxError\u001b[0m\u001b[1;31m:\u001b[0m invalid syntax\n"
     ]
    }
   ],
   "source": [
    "try:\n",
    "    ...\n",
    "except [발생 오류[as 오류 메시지 변수]]:\n",
    "    ...\n",
    "else:  # 오류가 없을 경우에만 수행된다.\n",
    "    ..."
   ]
  },
  {
   "cell_type": "markdown",
   "id": "630b0ad5",
   "metadata": {},
   "source": [
    "* try문 수행중 오류가 발생하면 except절이 수행되고 오류가 없으면 else절이 수행된다."
   ]
  },
  {
   "cell_type": "code",
   "execution_count": 11,
   "id": "9e78107a",
   "metadata": {
    "ExecuteTime": {
     "end_time": "2021-07-21T08:28:26.216364Z",
     "start_time": "2021-07-21T08:28:24.186012Z"
    }
   },
   "outputs": [
    {
     "name": "stdout",
     "output_type": "stream",
     "text": [
      "나이를 입력하세요: 40\n",
      "환영합니다.\n"
     ]
    }
   ],
   "source": [
    "try:\n",
    "    age=int(input('나이를 입력하세요: '))\n",
    "except:\n",
    "    print('입력이 정확하지 않습니다.')\n",
    "else:\n",
    "    if age <= 18:\n",
    "        print('미성년자는 출입금지입니다.')\n",
    "    else:\n",
    "        print('환영합니다.')"
   ]
  },
  {
   "cell_type": "markdown",
   "id": "d82aba42",
   "metadata": {
    "ExecuteTime": {
     "end_time": "2021-07-21T08:28:47.334225Z",
     "start_time": "2021-07-21T08:28:47.317892Z"
    }
   },
   "source": [
    "* 만약 '나이를 입력하세요:' 라는 질문에 숫자가 아닌 다른 값을 입력하면 오류가 발생하여 '입력이 정확하지 않습니다.'라는 문장을 출력한다. 오류가 없을 경우에만 else절이 수행된다."
   ]
  },
  {
   "cell_type": "markdown",
   "id": "45b2e273",
   "metadata": {},
   "source": [
    "## 오류 회피하기"
   ]
  },
  {
   "cell_type": "code",
   "execution_count": 13,
   "id": "803642dc",
   "metadata": {
    "ExecuteTime": {
     "end_time": "2021-07-21T08:29:06.065850Z",
     "start_time": "2021-07-21T08:29:06.049695Z"
    }
   },
   "outputs": [],
   "source": [
    "try:\n",
    "    f = open(\"나없는파일\", 'r')\n",
    "except FileNotFoundError:\n",
    "    pass"
   ]
  },
  {
   "cell_type": "markdown",
   "id": "9d00c1cb",
   "metadata": {},
   "source": [
    "* pass를 통하여 try문 안에서 FileNotFoundError가 발생할 경우에, 오류들을 그냥 회피하도록 하였다."
   ]
  },
  {
   "cell_type": "markdown",
   "id": "18bf1dd9",
   "metadata": {},
   "source": [
    "## 오류 일부로 발생시키기"
   ]
  },
  {
   "cell_type": "markdown",
   "id": "78c97e99",
   "metadata": {},
   "source": [
    "* 이상하게 들리겠지만 프로그래밍을 하다 보면 종종 오류를 일부러 발생시켜야 할 경우도 생긴다. 파이썬은 raise 명령어를 사용해 오류를 강제로 발생시킬 수 있다.  \n",
    "----\n",
    "* 예를 들어 Bird 클래스를 상속받는 자식 클래스는 반드시 fly라는 함수를 구현하도록 만들고 싶은 경우(강제로 그렇게 하고 싶은 경우)가 있을 수 있다. 다음 예를 보자.\n",
    "\n"
   ]
  },
  {
   "cell_type": "code",
   "execution_count": 14,
   "id": "c5f18604",
   "metadata": {
    "ExecuteTime": {
     "end_time": "2021-07-21T08:32:33.415171Z",
     "start_time": "2021-07-21T08:32:33.398827Z"
    }
   },
   "outputs": [],
   "source": [
    "class Bird:\n",
    "    def fly(self):\n",
    "        raise NotImplementedError"
   ]
  },
  {
   "cell_type": "markdown",
   "id": "83b29429",
   "metadata": {},
   "source": [
    "* 위 예제는 Bird 클래스를 상속받는 자식 클래스는 반드시 fly 함수를 구현해야 한다는 의지를 보여 준다. 만약 자식 클래스가 fly 함수를 구현하지 않은 상태로 fly 함수를 호출한다면 어떻게 될까?\n",
    "\n",
    "※ NotImplementedError는 파이썬 내장 오류로, 꼭 작성해야 하는 부분이 구현되지 않았을 경우 일부러 오류를 일으키기 위해 사용한다.\n",
    "\n"
   ]
  },
  {
   "cell_type": "code",
   "execution_count": 15,
   "id": "b26ca6e1",
   "metadata": {
    "ExecuteTime": {
     "end_time": "2021-07-21T08:33:25.738348Z",
     "start_time": "2021-07-21T08:33:25.352032Z"
    }
   },
   "outputs": [
    {
     "ename": "NotImplementedError",
     "evalue": "",
     "output_type": "error",
     "traceback": [
      "\u001b[1;31m---------------------------------------------------------------------------\u001b[0m",
      "\u001b[1;31mNotImplementedError\u001b[0m                       Traceback (most recent call last)",
      "\u001b[1;32m<ipython-input-15-01256a26320c>\u001b[0m in \u001b[0;36m<module>\u001b[1;34m\u001b[0m\n\u001b[0;32m      3\u001b[0m \u001b[1;33m\u001b[0m\u001b[0m\n\u001b[0;32m      4\u001b[0m \u001b[0meagle\u001b[0m \u001b[1;33m=\u001b[0m \u001b[0mEagle\u001b[0m\u001b[1;33m(\u001b[0m\u001b[1;33m)\u001b[0m\u001b[1;33m\u001b[0m\u001b[1;33m\u001b[0m\u001b[0m\n\u001b[1;32m----> 5\u001b[1;33m \u001b[0meagle\u001b[0m\u001b[1;33m.\u001b[0m\u001b[0mfly\u001b[0m\u001b[1;33m(\u001b[0m\u001b[1;33m)\u001b[0m\u001b[1;33m\u001b[0m\u001b[1;33m\u001b[0m\u001b[0m\n\u001b[0m",
      "\u001b[1;32m<ipython-input-14-e8d1e4453b08>\u001b[0m in \u001b[0;36mfly\u001b[1;34m(self)\u001b[0m\n\u001b[0;32m      1\u001b[0m \u001b[1;32mclass\u001b[0m \u001b[0mBird\u001b[0m\u001b[1;33m:\u001b[0m\u001b[1;33m\u001b[0m\u001b[1;33m\u001b[0m\u001b[0m\n\u001b[0;32m      2\u001b[0m     \u001b[1;32mdef\u001b[0m \u001b[0mfly\u001b[0m\u001b[1;33m(\u001b[0m\u001b[0mself\u001b[0m\u001b[1;33m)\u001b[0m\u001b[1;33m:\u001b[0m\u001b[1;33m\u001b[0m\u001b[1;33m\u001b[0m\u001b[0m\n\u001b[1;32m----> 3\u001b[1;33m         \u001b[1;32mraise\u001b[0m \u001b[0mNotImplementedError\u001b[0m\u001b[1;33m\u001b[0m\u001b[1;33m\u001b[0m\u001b[0m\n\u001b[0m",
      "\u001b[1;31mNotImplementedError\u001b[0m: "
     ]
    }
   ],
   "source": [
    "class Eagle(Bird):\n",
    "    pass\n",
    "\n",
    "eagle = Eagle()\n",
    "eagle.fly()"
   ]
  },
  {
   "cell_type": "markdown",
   "id": "84efd3d9",
   "metadata": {},
   "source": [
    "* Eagle 클래스는 Bird 클래스를 상속받는다. 그런데 Eagle 클래스에서 fly 함수를 구현하지 않았기 때문에 Bird 클래스의 fly 함수가 호출된다. 그리고 raise문에 의해 NotImplemented Error가 발생할 것이다.\n",
    "\n",
    "※ 상속받는 클래스에서 함수를 재구현하는 것을 메서드 오버라이딩이라고 부른다."
   ]
  },
  {
   "cell_type": "code",
   "execution_count": 16,
   "id": "138a0fcf",
   "metadata": {
    "ExecuteTime": {
     "end_time": "2021-07-21T08:33:49.747489Z",
     "start_time": "2021-07-21T08:33:49.729440Z"
    }
   },
   "outputs": [
    {
     "ename": "SyntaxError",
     "evalue": "invalid syntax (<ipython-input-16-118a12142734>, line 1)",
     "output_type": "error",
     "traceback": [
      "\u001b[1;36m  File \u001b[1;32m\"<ipython-input-16-118a12142734>\"\u001b[1;36m, line \u001b[1;32m1\u001b[0m\n\u001b[1;33m    Traceback (most recent call last):\u001b[0m\n\u001b[1;37m                    ^\u001b[0m\n\u001b[1;31mSyntaxError\u001b[0m\u001b[1;31m:\u001b[0m invalid syntax\n"
     ]
    }
   ],
   "source": [
    "Traceback (most recent call last):\n",
    "  File \"...\", line 33, in <module>\n",
    "    eagle.fly()\n",
    "  File \"...\", line 26, in fly\n",
    "    raise NotImplementedError\n",
    "NotImplementedError"
   ]
  },
  {
   "cell_type": "markdown",
   "id": "97163c66",
   "metadata": {},
   "source": [
    "NotImplementedError가 발생되지 않게 하려면 다음과 같이 Eagle 클래스에 fly 함수를 반드시 구현해야 한다.\n",
    "\n"
   ]
  },
  {
   "cell_type": "code",
   "execution_count": 17,
   "id": "e1eeec55",
   "metadata": {
    "ExecuteTime": {
     "end_time": "2021-07-21T08:33:58.955544Z",
     "start_time": "2021-07-21T08:33:58.938770Z"
    }
   },
   "outputs": [
    {
     "name": "stdout",
     "output_type": "stream",
     "text": [
      "very fast\n"
     ]
    }
   ],
   "source": [
    "class Eagle(Bird):\n",
    "    def fly(self):\n",
    "        print(\"very fast\")\n",
    "\n",
    "eagle = Eagle()\n",
    "eagle.fly()"
   ]
  },
  {
   "cell_type": "markdown",
   "id": "9eb1c683",
   "metadata": {},
   "source": [
    "위 예처럼 fly 함수를 구현한 후 프로그램을 실행하면 오류 없이 다음 문장이 출력된다.\n",
    "\n"
   ]
  },
  {
   "cell_type": "markdown",
   "id": "fc247e37",
   "metadata": {},
   "source": [
    "## 예외 만들기\n",
    "\n",
    "프로그램 수행 도중 특수한 경우에만 예외 처리를 하기 위해서 종종 예외를 만들어서 사용한다. 직접 예외를 만들어 보자. 예외는 다음과 같이 파이썬 내장 클래스인 Exception 클래스를 상속하여 만들 수 있다.\n",
    "\n"
   ]
  },
  {
   "cell_type": "code",
   "execution_count": 19,
   "id": "18f56dda",
   "metadata": {
    "ExecuteTime": {
     "end_time": "2021-07-21T08:34:31.908146Z",
     "start_time": "2021-07-21T08:34:31.900739Z"
    }
   },
   "outputs": [],
   "source": [
    "class MyError(Exception):\n",
    "    pass"
   ]
  },
  {
   "cell_type": "markdown",
   "id": "27003849",
   "metadata": {},
   "source": [
    "그리고 별명을 출력해 주는 함수를 다음과 같이 작성한다.\n",
    "\n"
   ]
  },
  {
   "cell_type": "code",
   "execution_count": 20,
   "id": "3bf57297",
   "metadata": {
    "ExecuteTime": {
     "end_time": "2021-07-21T08:35:03.962851Z",
     "start_time": "2021-07-21T08:35:03.947583Z"
    }
   },
   "outputs": [],
   "source": [
    "def say_nick(nick):\n",
    "    if nick == '바보':\n",
    "        raise MyError()\n",
    "    print(nick)"
   ]
  },
  {
   "cell_type": "code",
   "execution_count": 21,
   "id": "aed561da",
   "metadata": {
    "ExecuteTime": {
     "end_time": "2021-07-21T08:35:09.750037Z",
     "start_time": "2021-07-21T08:35:09.711933Z"
    }
   },
   "outputs": [
    {
     "name": "stdout",
     "output_type": "stream",
     "text": [
      "천사\n"
     ]
    },
    {
     "ename": "MyError",
     "evalue": "",
     "output_type": "error",
     "traceback": [
      "\u001b[1;31m---------------------------------------------------------------------------\u001b[0m",
      "\u001b[1;31mMyError\u001b[0m                                   Traceback (most recent call last)",
      "\u001b[1;32m<ipython-input-21-eb0b6e3b065b>\u001b[0m in \u001b[0;36m<module>\u001b[1;34m\u001b[0m\n\u001b[0;32m      1\u001b[0m \u001b[0msay_nick\u001b[0m\u001b[1;33m(\u001b[0m\u001b[1;34m\"천사\"\u001b[0m\u001b[1;33m)\u001b[0m\u001b[1;33m\u001b[0m\u001b[1;33m\u001b[0m\u001b[0m\n\u001b[1;32m----> 2\u001b[1;33m \u001b[0msay_nick\u001b[0m\u001b[1;33m(\u001b[0m\u001b[1;34m\"바보\"\u001b[0m\u001b[1;33m)\u001b[0m\u001b[1;33m\u001b[0m\u001b[1;33m\u001b[0m\u001b[0m\n\u001b[0m",
      "\u001b[1;32m<ipython-input-20-3c5d9303005c>\u001b[0m in \u001b[0;36msay_nick\u001b[1;34m(nick)\u001b[0m\n\u001b[0;32m      1\u001b[0m \u001b[1;32mdef\u001b[0m \u001b[0msay_nick\u001b[0m\u001b[1;33m(\u001b[0m\u001b[0mnick\u001b[0m\u001b[1;33m)\u001b[0m\u001b[1;33m:\u001b[0m\u001b[1;33m\u001b[0m\u001b[1;33m\u001b[0m\u001b[0m\n\u001b[0;32m      2\u001b[0m     \u001b[1;32mif\u001b[0m \u001b[0mnick\u001b[0m \u001b[1;33m==\u001b[0m \u001b[1;34m'바보'\u001b[0m\u001b[1;33m:\u001b[0m\u001b[1;33m\u001b[0m\u001b[1;33m\u001b[0m\u001b[0m\n\u001b[1;32m----> 3\u001b[1;33m         \u001b[1;32mraise\u001b[0m \u001b[0mMyError\u001b[0m\u001b[1;33m(\u001b[0m\u001b[1;33m)\u001b[0m\u001b[1;33m\u001b[0m\u001b[1;33m\u001b[0m\u001b[0m\n\u001b[0m\u001b[0;32m      4\u001b[0m     \u001b[0mprint\u001b[0m\u001b[1;33m(\u001b[0m\u001b[0mnick\u001b[0m\u001b[1;33m)\u001b[0m\u001b[1;33m\u001b[0m\u001b[1;33m\u001b[0m\u001b[0m\n",
      "\u001b[1;31mMyError\u001b[0m: "
     ]
    }
   ],
   "source": [
    "say_nick(\"천사\")\n",
    "say_nick(\"바보\")"
   ]
  },
  {
   "cell_type": "markdown",
   "id": "31034704",
   "metadata": {},
   "source": [
    "저장한 뒤 프로그램을 실행해 보면 다음과 같이 \"천사\"가 한 번 출력된 후 MyError가 발생한다.\n",
    "\n"
   ]
  },
  {
   "cell_type": "code",
   "execution_count": 22,
   "id": "fdb05012",
   "metadata": {
    "ExecuteTime": {
     "end_time": "2021-07-21T08:35:22.289764Z",
     "start_time": "2021-07-21T08:35:22.275079Z"
    }
   },
   "outputs": [
    {
     "ename": "SyntaxError",
     "evalue": "invalid syntax (<ipython-input-22-e46dff3bddbc>, line 2)",
     "output_type": "error",
     "traceback": [
      "\u001b[1;36m  File \u001b[1;32m\"<ipython-input-22-e46dff3bddbc>\"\u001b[1;36m, line \u001b[1;32m2\u001b[0m\n\u001b[1;33m    Traceback (most recent call last):\u001b[0m\n\u001b[1;37m                    ^\u001b[0m\n\u001b[1;31mSyntaxError\u001b[0m\u001b[1;31m:\u001b[0m invalid syntax\n"
     ]
    }
   ],
   "source": [
    "천사\n",
    "Traceback (most recent call last):\n",
    "  File \"...\", line 11, in <module>\n",
    "    say_nick(\"바보\")\n",
    "  File \"...\", line 7, in say_nick\n",
    "    raise MyError()\n",
    "__main__.MyError"
   ]
  },
  {
   "cell_type": "markdown",
   "id": "2f0db1a4",
   "metadata": {},
   "source": [
    "이번에는 예외 처리 기법을 사용하여 MyError 발생을 예외 처리해 보자.\n",
    "\n"
   ]
  },
  {
   "cell_type": "code",
   "execution_count": 23,
   "id": "dadfcabd",
   "metadata": {
    "ExecuteTime": {
     "end_time": "2021-07-21T08:36:12.301439Z",
     "start_time": "2021-07-21T08:36:12.293468Z"
    },
    "scrolled": true
   },
   "outputs": [
    {
     "name": "stdout",
     "output_type": "stream",
     "text": [
      "천사\n",
      "허용되지 않는 별명입니다.\n"
     ]
    }
   ],
   "source": [
    "try:\n",
    "    say_nick(\"천사\")\n",
    "    say_nick(\"바보\")\n",
    "except MyError:\n",
    "    print(\"허용되지 않는 별명입니다.\")"
   ]
  },
  {
   "cell_type": "markdown",
   "id": "e758b73c",
   "metadata": {},
   "source": [
    "만약 오류 메시지를 사용하고 싶다면 다음처럼 예외 처리를 하면 된다.\n",
    "\n"
   ]
  },
  {
   "cell_type": "code",
   "execution_count": 24,
   "id": "bd7d72d5",
   "metadata": {
    "ExecuteTime": {
     "end_time": "2021-07-21T08:38:06.768292Z",
     "start_time": "2021-07-21T08:38:06.751487Z"
    }
   },
   "outputs": [
    {
     "name": "stdout",
     "output_type": "stream",
     "text": [
      "천사\n",
      "\n"
     ]
    }
   ],
   "source": [
    "try:\n",
    "    say_nick(\"천사\")\n",
    "    say_nick(\"바보\")\n",
    "except MyError as e:\n",
    "    print(e)"
   ]
  },
  {
   "cell_type": "markdown",
   "id": "1ad3ba0d",
   "metadata": {},
   "source": [
    "하지만 프로그램을 실행해 보면 print(e)로 오류 메시지가 출력되지 않는 것을 확인할 수 있다. 오류 메시지를 출력했을 때 오류 메시지가 보이게 하려면 오류 클래스에 다음과 같은 __str__ 메서드를 구현해야 한다. __str__ 메서드는 print(e)처럼 오류 메시지를 print문으로 출력할 경우에 호출되는 메서드이다.\n",
    "\n"
   ]
  },
  {
   "cell_type": "code",
   "execution_count": 25,
   "id": "300f341e",
   "metadata": {
    "ExecuteTime": {
     "end_time": "2021-07-21T08:38:27.832772Z",
     "start_time": "2021-07-21T08:38:27.822507Z"
    }
   },
   "outputs": [],
   "source": [
    "class MyError(Exception):\n",
    "    def __str__(self):\n",
    "        return \"허용되지 않는 별명입니다.\""
   ]
  },
  {
   "cell_type": "markdown",
   "id": "9778cddb",
   "metadata": {},
   "source": [
    "프로그램을 다시 실행해 보면 \"허용되지 않는 별명입니다.\"라는 오류메시지가 출력되는 것을 확인할 수 있다.\n",
    "\n"
   ]
  },
  {
   "cell_type": "code",
   "execution_count": null,
   "id": "40cb66e0",
   "metadata": {},
   "outputs": [],
   "source": []
  }
 ],
 "metadata": {
  "kernelspec": {
   "display_name": "Python 3",
   "language": "python",
   "name": "python3"
  },
  "language_info": {
   "codemirror_mode": {
    "name": "ipython",
    "version": 3
   },
   "file_extension": ".py",
   "mimetype": "text/x-python",
   "name": "python",
   "nbconvert_exporter": "python",
   "pygments_lexer": "ipython3",
   "version": "3.8.8"
  },
  "toc": {
   "base_numbering": 1,
   "nav_menu": {},
   "number_sections": true,
   "sideBar": true,
   "skip_h1_title": false,
   "title_cell": "Table of Contents",
   "title_sidebar": "Contents",
   "toc_cell": false,
   "toc_position": {
    "height": "calc(100% - 180px)",
    "left": "10px",
    "top": "150px",
    "width": "157.33px"
   },
   "toc_section_display": true,
   "toc_window_display": false
  },
  "varInspector": {
   "cols": {
    "lenName": 16,
    "lenType": 16,
    "lenVar": 40
   },
   "kernels_config": {
    "python": {
     "delete_cmd_postfix": "",
     "delete_cmd_prefix": "del ",
     "library": "var_list.py",
     "varRefreshCmd": "print(var_dic_list())"
    },
    "r": {
     "delete_cmd_postfix": ") ",
     "delete_cmd_prefix": "rm(",
     "library": "var_list.r",
     "varRefreshCmd": "cat(var_dic_list()) "
    }
   },
   "types_to_exclude": [
    "module",
    "function",
    "builtin_function_or_method",
    "instance",
    "_Feature"
   ],
   "window_display": false
  }
 },
 "nbformat": 4,
 "nbformat_minor": 5
}
