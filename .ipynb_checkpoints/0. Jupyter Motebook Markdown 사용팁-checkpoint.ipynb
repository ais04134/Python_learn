{
 "cells": [
  {
   "cell_type": "markdown",
   "id": "3c0be9d3",
   "metadata": {},
   "source": [
    "# Jupyter Motebook Markdown 사용팁"
   ]
  },
  {
   "cell_type": "markdown",
   "id": "6e435287",
   "metadata": {},
   "source": [
    "# 1. 제목"
   ]
  },
  {
   "cell_type": "markdown",
   "id": "a78aae7f",
   "metadata": {},
   "source": [
    "# Jupyter Motebook Markdown 사용팁\n",
    "## Jupyter Motebook Markdown 사용팁\n",
    "### Jupyter Motebook Markdown 사용팁\n",
    "#### Jupyter Motebook Markdown 사용팁\n",
    "##### Jupyter Motebook Markdown 사용팁\n",
    "##### Jupyter Motebook Markdown 사용팁"
   ]
  },
  {
   "cell_type": "markdown",
   "id": "69e72624",
   "metadata": {},
   "source": [
    "# 2. 줄바꿈"
   ]
  },
  {
   "cell_type": "markdown",
   "id": "308f4554",
   "metadata": {},
   "source": [
    "첫 번째 문장입니다.  \n",
    "두 번째 문장입니다."
   ]
  },
  {
   "cell_type": "markdown",
   "id": "137b33b4",
   "metadata": {},
   "source": [
    "##### 줄을 바꿀려면 띄어쓰기를 두번 하면된다."
   ]
  },
  {
   "cell_type": "markdown",
   "id": "a6c9c58e",
   "metadata": {},
   "source": [
    "# 3. 목록"
   ]
  },
  {
   "cell_type": "markdown",
   "id": "1849090d",
   "metadata": {},
   "source": [
    "1. 첫번째  \n",
    "2. 두번째  \n",
    "3. 세번째"
   ]
  },
  {
   "cell_type": "markdown",
   "id": "9460a90d",
   "metadata": {},
   "source": [
    "1. 첫번째  \n",
    "2. 두번째  \n",
    "3. 세번째"
   ]
  },
  {
   "cell_type": "markdown",
   "id": "c58d5cc5",
   "metadata": {},
   "source": [
    "- 첫번째  \n",
    "- 두번째  \n",
    "- 세번째"
   ]
  },
  {
   "cell_type": "markdown",
   "id": "4389d623",
   "metadata": {},
   "source": [
    "- 첫번째  \n",
    "- 두번째  \n",
    "- 세번째"
   ]
  },
  {
   "cell_type": "markdown",
   "id": "561cf8df",
   "metadata": {},
   "source": [
    "* 첫번째  \n",
    "* 두번째  \n",
    "* 세번째"
   ]
  },
  {
   "cell_type": "markdown",
   "id": "9ebf7b75",
   "metadata": {},
   "source": [
    "* 첫번째  \n",
    "* 두번째  \n",
    "* 세번째"
   ]
  },
  {
   "cell_type": "markdown",
   "id": "a4b9a111",
   "metadata": {},
   "source": [
    "##### 글머리 기호를 쓴 후 내용을 쓸 때 띄어쓰기를 해야한다."
   ]
  },
  {
   "cell_type": "markdown",
   "id": "93687a63",
   "metadata": {},
   "source": [
    "1. 첫번째  \n",
    "    2. 두번째  \n",
    "        3. 세번째"
   ]
  },
  {
   "cell_type": "markdown",
   "id": "f49bb9f0",
   "metadata": {},
   "source": [
    "1. 첫번째  \n",
    "    2. 두번째  \n",
    "        3. 세번째"
   ]
  },
  {
   "cell_type": "markdown",
   "id": "15018e6a",
   "metadata": {},
   "source": [
    "##### 목록 안의 목록을 사용하고 싶으면 tab을 한 번 하고 사용해보자"
   ]
  },
  {
   "cell_type": "markdown",
   "id": "d7eb2989",
   "metadata": {},
   "source": [
    "# 4. 수평선"
   ]
  },
  {
   "cell_type": "markdown",
   "id": "1401aa9d",
   "metadata": {},
   "source": [
    "* * *\n",
    "***\n",
    "*****\n",
    "- - - \n",
    "------------"
   ]
  },
  {
   "cell_type": "markdown",
   "id": "9c31766b",
   "metadata": {},
   "source": [
    "* * *\n",
    "***\n",
    "*****\n",
    "- - - \n",
    "------------"
   ]
  },
  {
   "cell_type": "markdown",
   "id": "b0278550",
   "metadata": {},
   "source": [
    "# 5. 강조"
   ]
  },
  {
   "cell_type": "markdown",
   "id": "51889c57",
   "metadata": {},
   "source": [
    "*기울어진 글씨*  \n",
    "_기울어진 글씨_  \n",
    "**굵은 글씨**  \n",
    "__굵은 글씨__  \n",
    "~~줄그어진 글씨~~"
   ]
  },
  {
   "cell_type": "markdown",
   "id": "c9bb9ba5",
   "metadata": {},
   "source": [
    "*기울어진 글씨*  \n",
    "_기울어진 글씨_  \n",
    "**굵은 글씨**  \n",
    "__굵은 글씨__  \n",
    "~~줄그어진 글씨~~"
   ]
  }
 ],
 "metadata": {
  "kernelspec": {
   "display_name": "Python 3",
   "language": "python",
   "name": "python3"
  },
  "language_info": {
   "codemirror_mode": {
    "name": "ipython",
    "version": 3
   },
   "file_extension": ".py",
   "mimetype": "text/x-python",
   "name": "python",
   "nbconvert_exporter": "python",
   "pygments_lexer": "ipython3",
   "version": "3.8.8"
  }
 },
 "nbformat": 4,
 "nbformat_minor": 5
}
