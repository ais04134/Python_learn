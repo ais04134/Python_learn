{
 "cells": [
  {
   "cell_type": "markdown",
   "id": "2bb5205e",
   "metadata": {},
   "source": [
    "# 파이썬 변수"
   ]
  },
  {
   "cell_type": "markdown",
   "id": "a9e72090",
   "metadata": {},
   "source": [
    "## 1.1 기본 선언"
   ]
  },
  {
   "cell_type": "code",
   "execution_count": null,
   "id": "7a9476f0",
   "metadata": {},
   "outputs": [],
   "source": []
  },
  {
   "cell_type": "markdown",
   "id": "d17d3d03",
   "metadata": {},
   "source": [
    "## 1.2 출력"
   ]
  },
  {
   "cell_type": "code",
   "execution_count": null,
   "id": "971fda71",
   "metadata": {},
   "outputs": [],
   "source": []
  }
 ],
 "metadata": {
  "kernelspec": {
   "display_name": "Python 3",
   "language": "python",
   "name": "python3"
  },
  "language_info": {
   "codemirror_mode": {
    "name": "ipython",
    "version": 3
   },
   "file_extension": ".py",
   "mimetype": "text/x-python",
   "name": "python",
   "nbconvert_exporter": "python",
   "pygments_lexer": "ipython3",
   "version": "3.8.8"
  }
 },
 "nbformat": 4,
 "nbformat_minor": 5
}
