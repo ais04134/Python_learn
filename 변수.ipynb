{
 "cells": [
  {
   "cell_type": "markdown",
   "id": "2bb5205e",
   "metadata": {},
   "source": [
    "# Python 변수"
   ]
  },
  {
   "cell_type": "markdown",
   "id": "a9e72090",
   "metadata": {},
   "source": [
    "## 1.1 기본 선언"
   ]
  },
  {
   "cell_type": "code",
   "execution_count": 1,
   "id": "7a9476f0",
   "metadata": {},
   "outputs": [],
   "source": [
    "n = 700"
   ]
  },
  {
   "cell_type": "markdown",
   "id": "d17d3d03",
   "metadata": {},
   "source": [
    "## 1.2 출력"
   ]
  },
  {
   "cell_type": "code",
   "execution_count": 2,
   "id": "971fda71",
   "metadata": {},
   "outputs": [
    {
     "name": "stdout",
     "output_type": "stream",
     "text": [
      "700\n"
     ]
    }
   ],
   "source": [
    "print(n)"
   ]
  },
  {
   "cell_type": "code",
   "execution_count": 3,
   "id": "76d45b5c",
   "metadata": {},
   "outputs": [
    {
     "name": "stdout",
     "output_type": "stream",
     "text": [
      "<class 'int'>\n"
     ]
    }
   ],
   "source": [
    "print(type(n))"
   ]
  },
  {
   "cell_type": "markdown",
   "id": "5e51ff52",
   "metadata": {},
   "source": [
    "## 1.3 동시 선언"
   ]
  },
  {
   "cell_type": "code",
   "execution_count": 4,
   "id": "2daffdf0",
   "metadata": {},
   "outputs": [],
   "source": [
    "x = y = z = 700"
   ]
  },
  {
   "cell_type": "code",
   "execution_count": 5,
   "id": "6e215f33",
   "metadata": {},
   "outputs": [
    {
     "data": {
      "text/plain": [
       "700"
      ]
     },
     "execution_count": 5,
     "metadata": {},
     "output_type": "execute_result"
    }
   ],
   "source": [
    "x"
   ]
  },
  {
   "cell_type": "code",
   "execution_count": 6,
   "id": "10ce8312",
   "metadata": {},
   "outputs": [
    {
     "data": {
      "text/plain": [
       "700"
      ]
     },
     "execution_count": 6,
     "metadata": {},
     "output_type": "execute_result"
    }
   ],
   "source": [
    "y"
   ]
  },
  {
   "cell_type": "markdown",
   "id": "d303966f",
   "metadata": {},
   "source": [
    "##### 개인적으로 좋아하는 스타일은 아니지만, 쓰일때가 있을 수 있으니깐..!"
   ]
  },
  {
   "cell_type": "code",
   "execution_count": 7,
   "id": "8ac56a85",
   "metadata": {},
   "outputs": [
    {
     "name": "stdout",
     "output_type": "stream",
     "text": [
      "700 700 700\n"
     ]
    }
   ],
   "source": [
    "print(x, y, z)"
   ]
  },
  {
   "cell_type": "code",
   "execution_count": 8,
   "id": "e21630a8",
   "metadata": {},
   "outputs": [],
   "source": [
    "n = \"Change Value\" # 재 선언"
   ]
  },
  {
   "cell_type": "code",
   "execution_count": 10,
   "id": "f1d9355f",
   "metadata": {},
   "outputs": [
    {
     "data": {
      "text/plain": [
       "'Change Value'"
      ]
     },
     "execution_count": 10,
     "metadata": {},
     "output_type": "execute_result"
    }
   ],
   "source": [
    "n # 덮어쓰게된다."
   ]
  },
  {
   "cell_type": "markdown",
   "id": "bf52cb30",
   "metadata": {},
   "source": [
    "## 2. Object References"
   ]
  },
  {
   "cell_type": "markdown",
   "id": "821bf259",
   "metadata": {},
   "source": [
    "### 2.1 변수 값 할당 상태"
   ]
  },
  {
   "cell_type": "markdown",
   "id": "bcd38d74",
   "metadata": {},
   "source": [
    " #### 1. 타입에 맞는 오브젝트 생성"
   ]
  },
  {
   "cell_type": "markdown",
   "id": "1ac3605a",
   "metadata": {},
   "source": [
    "#### 2. 값 생성"
   ]
  },
  {
   "cell_type": "markdown",
   "id": "2a5088db",
   "metadata": {},
   "source": [
    "#### 3. 콘솔에 출력"
   ]
  },
  {
   "cell_type": "code",
   "execution_count": 11,
   "id": "3b04cfd9",
   "metadata": {},
   "outputs": [
    {
     "name": "stdout",
     "output_type": "stream",
     "text": [
      "300\n",
      "<class 'int'>\n"
     ]
    }
   ],
   "source": [
    "print(300)\n",
    "print(type(300))"
   ]
  },
  {
   "cell_type": "code",
   "execution_count": 1,
   "id": "a99830a8",
   "metadata": {},
   "outputs": [],
   "source": [
    "n = 777 "
   ]
  },
  {
   "cell_type": "code",
   "execution_count": 2,
   "id": "62686f51",
   "metadata": {
    "scrolled": false
   },
   "outputs": [
    {
     "name": "stdout",
     "output_type": "stream",
     "text": [
      "777\n",
      "<class 'int'>\n"
     ]
    }
   ],
   "source": [
    "print(n)\n",
    "print(type(n))"
   ]
  },
  {
   "cell_type": "code",
   "execution_count": 5,
   "id": "1aece5e9",
   "metadata": {},
   "outputs": [
    {
     "name": "stdout",
     "output_type": "stream",
     "text": [
      "777 777\n"
     ]
    }
   ],
   "source": [
    "m = n  # m-> 777 <- n\n",
    "\n",
    "print(m, n)"
   ]
  },
  {
   "cell_type": "code",
   "execution_count": 6,
   "id": "b7a319b6",
   "metadata": {},
   "outputs": [
    {
     "name": "stdout",
     "output_type": "stream",
     "text": [
      "400 777\n"
     ]
    }
   ],
   "source": [
    "m = 400  # m-> 400, 777 <-n\n",
    "\n",
    "print(m, n)"
   ]
  },
  {
   "cell_type": "markdown",
   "id": "c02e047d",
   "metadata": {},
   "source": [
    "### 2.2 id(identity)확인 : 객체의 고유값 확인"
   ]
  },
  {
   "cell_type": "code",
   "execution_count": 7,
   "id": "8253974b",
   "metadata": {},
   "outputs": [],
   "source": [
    "m = 800\n",
    "n = 655"
   ]
  },
  {
   "cell_type": "code",
   "execution_count": 9,
   "id": "7992a935",
   "metadata": {},
   "outputs": [
    {
     "name": "stdout",
     "output_type": "stream",
     "text": [
      "2734389801264\n",
      "2734389801904\n"
     ]
    }
   ],
   "source": [
    "print(id(m)) # 객체의 오브젝트( 메모리에 저장되어 있는 값)을 출력해준다.\n",
    "print(id(n))"
   ]
  },
  {
   "cell_type": "code",
   "execution_count": 14,
   "id": "afdbbff1",
   "metadata": {},
   "outputs": [
    {
     "name": "stdout",
     "output_type": "stream",
     "text": [
      "2734389802992\n",
      "2734389802832\n"
     ]
    }
   ],
   "source": [
    "x = 500\n",
    "y = 500\n",
    "\n",
    "print(id(x))\n",
    "print(id(y))  # 같은 값일지라도, 메모리상에서는 각자 다른 객체로 존재함을 알 수 있다."
   ]
  },
  {
   "cell_type": "code",
   "execution_count": 13,
   "id": "651bc23f",
   "metadata": {},
   "outputs": [
    {
     "name": "stdout",
     "output_type": "stream",
     "text": [
      "False\n"
     ]
    }
   ],
   "source": [
    "print(id(x) == id(y))"
   ]
  },
  {
   "cell_type": "markdown",
   "id": "e279364e",
   "metadata": {},
   "source": [
    "##### 파이참과 주피터노트북에서의 결과가 다른데, 이는 한꺼번에 처리하는지 한줄씩 처리하는지 컴파일러 형태인지 인터프리터 형테인지?? 의 차이로 생각된다."
   ]
  },
  {
   "cell_type": "markdown",
   "id": "4a9925fa",
   "metadata": {},
   "source": [
    "### 2.3 같은 오브젝트 참조"
   ]
  },
  {
   "cell_type": "markdown",
   "id": "b6494933",
   "metadata": {},
   "source": [
    "### 2.4 다양한 변수 선언"
   ]
  },
  {
   "cell_type": "markdown",
   "id": "13490a7e",
   "metadata": {},
   "source": [
    "#### 2.4.1 Camel Case : numberOfCollegeGraduates # 처음에는 소문자 이후에 연결되는 첫글자를 대문자로 시작하는 방식\n",
    "\n",
    "-> Method를 생성할때 이러한 규칙을 많이 사용한다."
   ]
  },
  {
   "cell_type": "markdown",
   "id": "3ea01ae6",
   "metadata": {},
   "source": [
    "#### 2.4.2 Pascal Case :  NumberOfColLegeGraduates # 처음에도 대문자 이후에 연결되는 글자를 대문자로 시작하는 방식\n",
    "-> Class를 생성할때 이러한 규칙을 많이 사용한다."
   ]
  },
  {
   "cell_type": "markdown",
   "id": "a3e9805e",
   "metadata": {},
   "source": [
    "### 2.4.3 Snake Case : number_of_college_graduates #  소문자로 시작하고 단어마다 _ 를 가지고 끊어준다.\n",
    "-> 보통 Python에서 많이 사용하고, 변수를 지정해줄때 많이 이용한다."
   ]
  },
  {
   "cell_type": "markdown",
   "id": "27288660",
   "metadata": {},
   "source": [
    "### 2.5 허용하는 변수 선언 법"
   ]
  },
  {
   "cell_type": "code",
   "execution_count": 21,
   "id": "97344f9b",
   "metadata": {},
   "outputs": [],
   "source": [
    "age = 1\n",
    "Age = 2\n",
    "aGe = 3\n",
    "AGE = 4\n",
    "a_g_e = 5\n",
    "_age = 6\n",
    "age_ = 7\n",
    "_AGE_ = 8 # 에러가 안난다."
   ]
  },
  {
   "cell_type": "code",
   "execution_count": 22,
   "id": "b1d00af0",
   "metadata": {
    "scrolled": true
   },
   "outputs": [
    {
     "ename": "SyntaxError",
     "evalue": "invalid syntax (<ipython-input-22-01b8359ee8cf>, line 1)",
     "output_type": "error",
     "traceback": [
      "\u001b[1;36m  File \u001b[1;32m\"<ipython-input-22-01b8359ee8cf>\"\u001b[1;36m, line \u001b[1;32m1\u001b[0m\n\u001b[1;33m    ^a = 7\u001b[0m\n\u001b[1;37m    ^\u001b[0m\n\u001b[1;31mSyntaxError\u001b[0m\u001b[1;31m:\u001b[0m invalid syntax\n"
     ]
    }
   ],
   "source": [
    "^a = 7"
   ]
  },
  {
   "cell_type": "code",
   "execution_count": 23,
   "id": "736812a7",
   "metadata": {
    "scrolled": true
   },
   "outputs": [
    {
     "ename": "SyntaxError",
     "evalue": "invalid syntax (<ipython-input-23-b269e87e7081>, line 1)",
     "output_type": "error",
     "traceback": [
      "\u001b[1;36m  File \u001b[1;32m\"<ipython-input-23-b269e87e7081>\"\u001b[1;36m, line \u001b[1;32m1\u001b[0m\n\u001b[1;33m    &g = 3\u001b[0m\n\u001b[1;37m    ^\u001b[0m\n\u001b[1;31mSyntaxError\u001b[0m\u001b[1;31m:\u001b[0m invalid syntax\n"
     ]
    }
   ],
   "source": [
    "&g = 3"
   ]
  },
  {
   "cell_type": "code",
   "execution_count": 24,
   "id": "525516ee",
   "metadata": {
    "scrolled": true
   },
   "outputs": [
    {
     "ename": "SyntaxError",
     "evalue": "invalid syntax (<ipython-input-24-597003ca88ba>, line 1)",
     "output_type": "error",
     "traceback": [
      "\u001b[1;36m  File \u001b[1;32m\"<ipython-input-24-597003ca88ba>\"\u001b[1;36m, line \u001b[1;32m1\u001b[0m\n\u001b[1;33m    4fe = 6\u001b[0m\n\u001b[1;37m     ^\u001b[0m\n\u001b[1;31mSyntaxError\u001b[0m\u001b[1;31m:\u001b[0m invalid syntax\n"
     ]
    }
   ],
   "source": [
    "4fe = 6"
   ]
  },
  {
   "cell_type": "markdown",
   "id": "4f0b5e73",
   "metadata": {},
   "source": [
    "##### 변수의 맨 앞에 숫자가 오거나, 특수문자가 오는 경우($, _ 제외한) 출력이 안된다."
   ]
  },
  {
   "cell_type": "markdown",
   "id": "e7425ea4",
   "metadata": {},
   "source": [
    "### 2.6 예약어는 변수명으로 불가능"
   ]
  },
  {
   "cell_type": "code",
   "execution_count": 26,
   "id": "fcbc1488",
   "metadata": {},
   "outputs": [
    {
     "ename": "SyntaxError",
     "evalue": "invalid syntax (<ipython-input-26-74c98f66ff7f>, line 1)",
     "output_type": "error",
     "traceback": [
      "\u001b[1;36m  File \u001b[1;32m\"<ipython-input-26-74c98f66ff7f>\"\u001b[1;36m, line \u001b[1;32m1\u001b[0m\n\u001b[1;33m    as = 5\u001b[0m\n\u001b[1;37m    ^\u001b[0m\n\u001b[1;31mSyntaxError\u001b[0m\u001b[1;31m:\u001b[0m invalid syntax\n"
     ]
    }
   ],
   "source": [
    "as = 5"
   ]
  },
  {
   "cell_type": "code",
   "execution_count": 27,
   "id": "d46394ab",
   "metadata": {
    "scrolled": true
   },
   "outputs": [
    {
     "ename": "SyntaxError",
     "evalue": "invalid syntax (<ipython-input-27-7264ce9a29c4>, line 1)",
     "output_type": "error",
     "traceback": [
      "\u001b[1;36m  File \u001b[1;32m\"<ipython-input-27-7264ce9a29c4>\"\u001b[1;36m, line \u001b[1;32m1\u001b[0m\n\u001b[1;33m    class = 4\u001b[0m\n\u001b[1;37m          ^\u001b[0m\n\u001b[1;31mSyntaxError\u001b[0m\u001b[1;31m:\u001b[0m invalid syntax\n"
     ]
    }
   ],
   "source": [
    "class = 4"
   ]
  }
 ],
 "metadata": {
  "kernelspec": {
   "display_name": "Python 3",
   "language": "python",
   "name": "python3"
  },
  "language_info": {
   "codemirror_mode": {
    "name": "ipython",
    "version": 3
   },
   "file_extension": ".py",
   "mimetype": "text/x-python",
   "name": "python",
   "nbconvert_exporter": "python",
   "pygments_lexer": "ipython3",
   "version": "3.8.8"
  }
 },
 "nbformat": 4,
 "nbformat_minor": 5
}
