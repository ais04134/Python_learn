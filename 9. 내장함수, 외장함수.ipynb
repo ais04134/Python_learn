{
 "cells": [
  {
   "cell_type": "markdown",
   "id": "6b9d2369",
   "metadata": {},
   "source": [
    "# 내장함수"
   ]
  },
  {
   "cell_type": "markdown",
   "id": "bc7767b3",
   "metadata": {},
   "source": [
    "## abs\n",
    "\n",
    "abs(x)는 어떤 숫자를 입력받았을 때, 그 숫자의 절댓값을 돌려주는 함수이다.\n",
    "\n"
   ]
  },
  {
   "cell_type": "code",
   "execution_count": 1,
   "id": "c8e1e3da",
   "metadata": {
    "ExecuteTime": {
     "end_time": "2021-07-22T12:45:06.493028Z",
     "start_time": "2021-07-22T12:45:06.474488Z"
    }
   },
   "outputs": [
    {
     "data": {
      "text/plain": [
       "3"
      ]
     },
     "execution_count": 1,
     "metadata": {},
     "output_type": "execute_result"
    }
   ],
   "source": [
    "abs(-3)"
   ]
  },
  {
   "cell_type": "code",
   "execution_count": 2,
   "id": "f3c17ac8",
   "metadata": {
    "ExecuteTime": {
     "end_time": "2021-07-22T12:45:10.701678Z",
     "start_time": "2021-07-22T12:45:10.687727Z"
    }
   },
   "outputs": [
    {
     "data": {
      "text/plain": [
       "1.2"
      ]
     },
     "execution_count": 2,
     "metadata": {},
     "output_type": "execute_result"
    }
   ],
   "source": [
    "abs(-1.2)"
   ]
  },
  {
   "cell_type": "markdown",
   "id": "a01cd25c",
   "metadata": {},
   "source": [
    "## all\n",
    "\n",
    "all(x)는 반복 가능한(iterable) 자료형 x를 입력 인수로 받으며 이 x의 요소가 모두 참이면 True, 거짓이 하나라도 있으면 False를 돌려준다.  \n",
    "  \n",
    "  ※ 반복 가능한 자료형이란 for문으로 그 값을 출력할 수 있는 것을 의미한다. 리스트, 튜플, 문자열, 딕셔너리, 집합 등이 있다.\n",
    "\n",
    "\n",
    "\n"
   ]
  },
  {
   "cell_type": "code",
   "execution_count": 3,
   "id": "b617fa54",
   "metadata": {
    "ExecuteTime": {
     "end_time": "2021-07-22T12:46:17.030652Z",
     "start_time": "2021-07-22T12:46:17.017695Z"
    }
   },
   "outputs": [
    {
     "data": {
      "text/plain": [
       "True"
      ]
     },
     "execution_count": 3,
     "metadata": {},
     "output_type": "execute_result"
    }
   ],
   "source": [
    "all([1, 2, 3])"
   ]
  },
  {
   "cell_type": "code",
   "execution_count": 4,
   "id": "782cb497",
   "metadata": {
    "ExecuteTime": {
     "end_time": "2021-07-22T12:46:21.924403Z",
     "start_time": "2021-07-22T12:46:21.893632Z"
    }
   },
   "outputs": [
    {
     "data": {
      "text/plain": [
       "False"
      ]
     },
     "execution_count": 4,
     "metadata": {},
     "output_type": "execute_result"
    }
   ],
   "source": [
    "all([1, 2, 3, 0]) # 0은 거짓이므로 False를 돌려준다."
   ]
  },
  {
   "cell_type": "code",
   "execution_count": 5,
   "id": "94a02e8e",
   "metadata": {
    "ExecuteTime": {
     "end_time": "2021-07-22T12:46:52.800760Z",
     "start_time": "2021-07-22T12:46:52.785883Z"
    }
   },
   "outputs": [
    {
     "data": {
      "text/plain": [
       "True"
      ]
     },
     "execution_count": 5,
     "metadata": {},
     "output_type": "execute_result"
    }
   ],
   "source": [
    "all([]) # 빈 값의 경우 True를 리턴한다."
   ]
  },
  {
   "cell_type": "markdown",
   "id": "20f4543e",
   "metadata": {},
   "source": [
    "## any\n",
    "\n",
    "any(x)는 반복 가능한(iterable) 자료형 x를 입력 인수로 받으며 이 x의 요소 중 하나라도 참이 있으면 True를 돌려주고, x가 모두 거짓일 때에만 False를 돌려준다. all(x)의 반대이다.\n",
    "\n"
   ]
  },
  {
   "cell_type": "code",
   "execution_count": 7,
   "id": "a341ed0b",
   "metadata": {
    "ExecuteTime": {
     "end_time": "2021-07-22T12:47:19.873062Z",
     "start_time": "2021-07-22T12:47:19.842236Z"
    }
   },
   "outputs": [
    {
     "data": {
      "text/plain": [
       "True"
      ]
     },
     "execution_count": 7,
     "metadata": {},
     "output_type": "execute_result"
    }
   ],
   "source": [
    "any([1, 2, 3, 0])"
   ]
  },
  {
   "cell_type": "code",
   "execution_count": 8,
   "id": "7d2a0722",
   "metadata": {
    "ExecuteTime": {
     "end_time": "2021-07-22T12:47:24.054427Z",
     "start_time": "2021-07-22T12:47:24.042470Z"
    }
   },
   "outputs": [
    {
     "data": {
      "text/plain": [
       "False"
      ]
     },
     "execution_count": 8,
     "metadata": {},
     "output_type": "execute_result"
    }
   ],
   "source": [
    "any([0, \"\"])"
   ]
  },
  {
   "cell_type": "code",
   "execution_count": 9,
   "id": "fc0b74dd",
   "metadata": {
    "ExecuteTime": {
     "end_time": "2021-07-22T12:47:48.833309Z",
     "start_time": "2021-07-22T12:47:48.818361Z"
    }
   },
   "outputs": [
    {
     "data": {
      "text/plain": [
       "False"
      ]
     },
     "execution_count": 9,
     "metadata": {},
     "output_type": "execute_result"
    }
   ],
   "source": [
    "any([])"
   ]
  },
  {
   "cell_type": "markdown",
   "id": "448794b9",
   "metadata": {},
   "source": [
    "## dir\n",
    "\n",
    "dir은 객체가 자체적으로 가지고 있는 변수나 함수를 보여 준다. 다음 예는 리스트와 딕셔너리 객체 관련 함수(메서드)를 보여 주는 예이다.\n",
    "\n"
   ]
  },
  {
   "cell_type": "code",
   "execution_count": 10,
   "id": "459f5546",
   "metadata": {
    "ExecuteTime": {
     "end_time": "2021-07-22T13:01:13.917464Z",
     "start_time": "2021-07-22T13:01:13.901839Z"
    }
   },
   "outputs": [
    {
     "data": {
      "text/plain": [
       "['__add__',\n",
       " '__class__',\n",
       " '__contains__',\n",
       " '__delattr__',\n",
       " '__delitem__',\n",
       " '__dir__',\n",
       " '__doc__',\n",
       " '__eq__',\n",
       " '__format__',\n",
       " '__ge__',\n",
       " '__getattribute__',\n",
       " '__getitem__',\n",
       " '__gt__',\n",
       " '__hash__',\n",
       " '__iadd__',\n",
       " '__imul__',\n",
       " '__init__',\n",
       " '__init_subclass__',\n",
       " '__iter__',\n",
       " '__le__',\n",
       " '__len__',\n",
       " '__lt__',\n",
       " '__mul__',\n",
       " '__ne__',\n",
       " '__new__',\n",
       " '__reduce__',\n",
       " '__reduce_ex__',\n",
       " '__repr__',\n",
       " '__reversed__',\n",
       " '__rmul__',\n",
       " '__setattr__',\n",
       " '__setitem__',\n",
       " '__sizeof__',\n",
       " '__str__',\n",
       " '__subclasshook__',\n",
       " 'append',\n",
       " 'clear',\n",
       " 'copy',\n",
       " 'count',\n",
       " 'extend',\n",
       " 'index',\n",
       " 'insert',\n",
       " 'pop',\n",
       " 'remove',\n",
       " 'reverse',\n",
       " 'sort']"
      ]
     },
     "execution_count": 10,
     "metadata": {},
     "output_type": "execute_result"
    }
   ],
   "source": [
    "dir([1, 2, 3])"
   ]
  },
  {
   "cell_type": "markdown",
   "id": "0a31a3c6",
   "metadata": {},
   "source": [
    "## divmod\n",
    "\n",
    "divmod(a, b)는 2개의 숫자를 입력으로 받는다. 그리고 a를 b로 나눈 몫과 나머지를 튜플 형태로 돌려주는 함수이다.\n",
    "\n"
   ]
  },
  {
   "cell_type": "code",
   "execution_count": 12,
   "id": "162ed1b0",
   "metadata": {
    "ExecuteTime": {
     "end_time": "2021-07-22T13:02:15.999730Z",
     "start_time": "2021-07-22T13:02:15.985778Z"
    }
   },
   "outputs": [
    {
     "data": {
      "text/plain": [
       "(2, 1)"
      ]
     },
     "execution_count": 12,
     "metadata": {},
     "output_type": "execute_result"
    }
   ],
   "source": [
    "divmod(7, 3)"
   ]
  },
  {
   "cell_type": "markdown",
   "id": "4803fa83",
   "metadata": {},
   "source": [
    "## enumerate\n",
    "\n",
    "enumerate는 \"열거하다\"라는 뜻이다. 이 함수는 순서가 있는 자료형(리스트, 튜플, 문자열)을 입력으로 받아 인덱스 값을 포함하는 enumerate 객체를 돌려준다.\n",
    "  \n",
    "  ※ 보통 enumerate 함수는 다음 예제처럼 for문과 함께 자주 사용한다.\n",
    "\n",
    "\n",
    "  "
   ]
  },
  {
   "cell_type": "code",
   "execution_count": 13,
   "id": "3bf40e77",
   "metadata": {
    "ExecuteTime": {
     "end_time": "2021-07-22T13:02:43.879078Z",
     "start_time": "2021-07-22T13:02:43.862225Z"
    }
   },
   "outputs": [
    {
     "name": "stdout",
     "output_type": "stream",
     "text": [
      "0 body\n",
      "1 foo\n",
      "2 bar\n"
     ]
    }
   ],
   "source": [
    "for i, name in enumerate(['body', 'foo', 'bar']):\n",
    "     print(i, name)\n",
    "        \n",
    "        # enumerate를 for문과 함께 사용하면 자료형의 현재 순서(index)와 그 값을 쉽게 알 수 있다."
   ]
  },
  {
   "cell_type": "markdown",
   "id": "e0b279a2",
   "metadata": {},
   "source": [
    "## filter\n",
    "\n",
    "filter란 무엇인가를 걸러낸다는 뜻으로 filter 함수도 동일한 의미를 가진다.\n",
    "\n",
    "filter 함수는 첫 번째 인수로 함수 이름을, 두 번째 인수로 그 함수에 차례로 들어갈 반복 가능한 자료형을 받는다. 그리고 두 번째 인수인 반복 가능한 자료형 요소가 첫 번째 인수인 함수에 입력되었을 때 반환 값이 참인 것만 묶어서(걸러 내서) 돌려준다.\n",
    "\n"
   ]
  },
  {
   "cell_type": "code",
   "execution_count": 14,
   "id": "f2dc149e",
   "metadata": {
    "ExecuteTime": {
     "end_time": "2021-07-22T13:04:15.372265Z",
     "start_time": "2021-07-22T13:04:15.360211Z"
    }
   },
   "outputs": [
    {
     "name": "stdout",
     "output_type": "stream",
     "text": [
      "[1, 2, 6]\n"
     ]
    }
   ],
   "source": [
    "#positive.py \n",
    "def positive(l): \n",
    "    result = [] \n",
    "    for i in l: \n",
    "        if i > 0: \n",
    "            result.append(i) \n",
    "    return result\n",
    "\n",
    "print(positive([1,-3,2,0,-5,6]))"
   ]
  },
  {
   "cell_type": "code",
   "execution_count": 15,
   "id": "1a5c56cb",
   "metadata": {
    "ExecuteTime": {
     "end_time": "2021-07-22T13:04:20.437254Z",
     "start_time": "2021-07-22T13:04:20.431259Z"
    }
   },
   "outputs": [
    {
     "name": "stdout",
     "output_type": "stream",
     "text": [
      "[1, 2, 6]\n"
     ]
    }
   ],
   "source": [
    "#filter1.py\n",
    "def positive(x):\n",
    "    return x > 0\n",
    "\n",
    "print(list(filter(positive, [1, -3, 2, 0, -5, 6])))"
   ]
  },
  {
   "cell_type": "code",
   "execution_count": 16,
   "id": "794dedc9",
   "metadata": {
    "ExecuteTime": {
     "end_time": "2021-07-22T13:05:11.833471Z",
     "start_time": "2021-07-22T13:05:11.816528Z"
    }
   },
   "outputs": [
    {
     "data": {
      "text/plain": [
       "[1, 2, 6]"
      ]
     },
     "execution_count": 16,
     "metadata": {},
     "output_type": "execute_result"
    }
   ],
   "source": [
    "list(filter(lambda x: x > 0, [1, -3, 2, 0, -5, 6]))"
   ]
  },
  {
   "cell_type": "markdown",
   "id": "d94b59e4",
   "metadata": {},
   "source": [
    "## input\n",
    "\n",
    "input([prompt])은 사용자 입력을 받는 함수이다. 매개변수로 문자열을 주면 다음 세 번째 예에서 볼 수 있듯이 그 문자열은 프롬프트가 된다.\n",
    "\n"
   ]
  },
  {
   "cell_type": "markdown",
   "id": "f0e08dbf",
   "metadata": {},
   "source": [
    "## id\n",
    "\n",
    "id(object)는 객체를 입력받아 객체의 고유 주소 값(레퍼런스)을 돌려주는 함수이다.\n",
    "\n"
   ]
  },
  {
   "cell_type": "markdown",
   "id": "5e1ad179",
   "metadata": {},
   "source": [
    "## int\n",
    "\n",
    "int(x)는 문자열 형태의 숫자나 소수점이 있는 숫자 등을 정수 형태로 돌려주는 함수로, 정수를 입력으로 받으면 그대로 돌려준다.\n",
    "\n"
   ]
  },
  {
   "cell_type": "markdown",
   "id": "df30b456",
   "metadata": {
    "ExecuteTime": {
     "end_time": "2021-07-22T13:06:50.014322Z",
     "start_time": "2021-07-22T13:06:48.370533Z"
    }
   },
   "source": [
    "## len\n",
    "\n",
    "len(s)은 입력값 s의 길이(요소의 전체 개수)를 돌려주는 함수이다.\n",
    "\n"
   ]
  },
  {
   "cell_type": "markdown",
   "id": "db8b98a2",
   "metadata": {},
   "source": [
    "## list\n",
    "\n",
    "list(s)는 반복 가능한 자료형 s를 입력받아 리스트로 만들어 돌려주는 함수이다.\n",
    "\n"
   ]
  },
  {
   "cell_type": "markdown",
   "id": "10800ce6",
   "metadata": {},
   "source": [
    "## map\n",
    "\n",
    "map(f, iterable)은 함수(f)와 반복 가능한(iterable) 자료형을 입력으로 받는다. map은 입력받은 자료형의 각 요소를 함수 f가 수행한 결과를 묶어서 돌려주는 함수이다.\n",
    "\n"
   ]
  },
  {
   "cell_type": "code",
   "execution_count": 20,
   "id": "6d7003c1",
   "metadata": {
    "ExecuteTime": {
     "end_time": "2021-07-22T13:15:55.550438Z",
     "start_time": "2021-07-22T13:15:55.534814Z"
    }
   },
   "outputs": [
    {
     "name": "stdout",
     "output_type": "stream",
     "text": [
      "[2, 4, 6, 8]\n"
     ]
    }
   ],
   "source": [
    "# two_times.py\n",
    "def two_times(numberList):\n",
    "    result = [ ]\n",
    "    for number in numberList:\n",
    "        result.append(number*2)\n",
    "    return result\n",
    "\n",
    "result = two_times([1, 2, 3, 4])\n",
    "print(result)"
   ]
  },
  {
   "cell_type": "code",
   "execution_count": 26,
   "id": "5ff0d876",
   "metadata": {
    "ExecuteTime": {
     "end_time": "2021-07-22T13:16:50.687819Z",
     "start_time": "2021-07-22T13:16:50.678692Z"
    }
   },
   "outputs": [
    {
     "data": {
      "text/plain": [
       "[2, 4, 6, 8]"
      ]
     },
     "execution_count": 26,
     "metadata": {},
     "output_type": "execute_result"
    }
   ],
   "source": [
    "def two_times(x): \n",
    "     return x*2\n",
    "\n",
    "list(map(two_times, [1, 2, 3, 4]))"
   ]
  },
  {
   "cell_type": "code",
   "execution_count": 27,
   "id": "27db829c",
   "metadata": {
    "ExecuteTime": {
     "end_time": "2021-07-22T13:16:57.800659Z",
     "start_time": "2021-07-22T13:16:57.785037Z"
    }
   },
   "outputs": [
    {
     "data": {
      "text/plain": [
       "[2, 4, 6, 8]"
      ]
     },
     "execution_count": 27,
     "metadata": {},
     "output_type": "execute_result"
    }
   ],
   "source": [
    "list(map(lambda a: a*2, [1, 2, 3, 4]))"
   ]
  },
  {
   "cell_type": "markdown",
   "id": "cd327278",
   "metadata": {},
   "source": [
    "## max\n",
    "\n",
    "max(iterable)는 인수로 반복 가능한 자료형을 입력받아 그 최댓값을 돌려주는 함수이다.\n",
    "\n"
   ]
  },
  {
   "cell_type": "markdown",
   "id": "49c52e4f",
   "metadata": {},
   "source": [
    "## min\n",
    "\n",
    "min(iterable)은 max 함수와 반대로, 인수로 반복 가능한 자료형을 입력받아 그 최솟값을 돌려주는 함수이다.\n",
    "\n"
   ]
  },
  {
   "cell_type": "markdown",
   "id": "4f3489e9",
   "metadata": {},
   "source": [
    "## sorted\n",
    "\n",
    "sorted(iterable) 함수는 입력값을 정렬한 후 그 결과를 리스트로 돌려주는 함수이다.\n",
    "\n"
   ]
  },
  {
   "cell_type": "markdown",
   "id": "c466b88a",
   "metadata": {},
   "source": [
    "## range\n",
    "range([start,] stop [,step] )는 for문과 함께 자주 사용하는 함수이다. 이 함수는 입력받은 숫자에 해당하는 범위 값을 반복 가능한 객체로 만들어 돌려준다.\n",
    "\n"
   ]
  },
  {
   "cell_type": "markdown",
   "id": "aad968d4",
   "metadata": {},
   "source": [
    "# 외장함수\n",
    "\n",
    "종류 : sys, pickle, shutil, temfile, time, random 등"
   ]
  },
  {
   "cell_type": "markdown",
   "id": "abd3edf3",
   "metadata": {},
   "source": [
    "## sys\n",
    "\n",
    "sys 모듈은 파이썬 인터프리터가 제공하는 변수와 함수를 직접 제어할 수 있게 해주는 모듈이다.\n",
    "\n"
   ]
  },
  {
   "cell_type": "code",
   "execution_count": 28,
   "id": "b50db4e8",
   "metadata": {
    "ExecuteTime": {
     "end_time": "2021-07-22T13:33:34.941723Z",
     "start_time": "2021-07-22T13:33:34.928769Z"
    }
   },
   "outputs": [
    {
     "name": "stdout",
     "output_type": "stream",
     "text": [
      "['C:\\\\ProgramData\\\\Anaconda3\\\\lib\\\\site-packages\\\\ipykernel_launcher.py', '-f', 'C:\\\\Users\\\\is041\\\\AppData\\\\Roaming\\\\jupyter\\\\runtime\\\\kernel-7125f5eb-0e27-4d89-b8e6-1a2d15e15458.json']\n"
     ]
    }
   ],
   "source": [
    "import sys\n",
    "print(sys.argv)"
   ]
  },
  {
   "cell_type": "code",
   "execution_count": 29,
   "id": "9c11635c",
   "metadata": {
    "ExecuteTime": {
     "end_time": "2021-07-22T13:34:29.005748Z",
     "start_time": "2021-07-22T13:34:28.998723Z"
    }
   },
   "outputs": [],
   "source": [
    "# 강제 종료\n",
    "# sys.exit()"
   ]
  },
  {
   "cell_type": "code",
   "execution_count": null,
   "id": "22eeb0c4",
   "metadata": {},
   "outputs": [],
   "source": [
    "#python 패키지 위치\n",
    "print(sys.path)"
   ]
  }
 ],
 "metadata": {
  "kernelspec": {
   "display_name": "Python 3",
   "language": "python",
   "name": "python3"
  },
  "language_info": {
   "codemirror_mode": {
    "name": "ipython",
    "version": 3
   },
   "file_extension": ".py",
   "mimetype": "text/x-python",
   "name": "python",
   "nbconvert_exporter": "python",
   "pygments_lexer": "ipython3",
   "version": "3.8.8"
  },
  "toc": {
   "base_numbering": 1,
   "nav_menu": {},
   "number_sections": true,
   "sideBar": true,
   "skip_h1_title": false,
   "title_cell": "Table of Contents",
   "title_sidebar": "Contents",
   "toc_cell": false,
   "toc_position": {},
   "toc_section_display": true,
   "toc_window_display": false
  },
  "varInspector": {
   "cols": {
    "lenName": 16,
    "lenType": 16,
    "lenVar": 40
   },
   "kernels_config": {
    "python": {
     "delete_cmd_postfix": "",
     "delete_cmd_prefix": "del ",
     "library": "var_list.py",
     "varRefreshCmd": "print(var_dic_list())"
    },
    "r": {
     "delete_cmd_postfix": ") ",
     "delete_cmd_prefix": "rm(",
     "library": "var_list.r",
     "varRefreshCmd": "cat(var_dic_list()) "
    }
   },
   "types_to_exclude": [
    "module",
    "function",
    "builtin_function_or_method",
    "instance",
    "_Feature"
   ],
   "window_display": false
  }
 },
 "nbformat": 4,
 "nbformat_minor": 5
}
