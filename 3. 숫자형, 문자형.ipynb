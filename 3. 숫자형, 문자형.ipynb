{
 "cells": [
  {
   "cell_type": "markdown",
   "id": "9b2ab4ed",
   "metadata": {},
   "source": [
    "## 파이썬 지원 자료형\n",
    "* int : 정수  \n",
    "* float : 실수  \n",
    "* complex : 복소수  \n",
    "* bool : 불린  \n",
    "* str : 문자열(시퀀스)  \n",
    "* list : 리스트(시퀀스)  \n",
    "* tuple : 튜플(시퀀스)  \n",
    "* set : 집합  \n",
    "* dict : 사전  "
   ]
  },
  {
   "cell_type": "code",
   "execution_count": 22,
   "id": "7d734843",
   "metadata": {},
   "outputs": [],
   "source": [
    "str1 = \"Python\"\n",
    "bool = True\n",
    "str2 = \"Anaconda\"\n",
    "float_v = 10.0\n",
    "int_v = 7\n",
    "list = [str1, str2]\n",
    "dict = {\n",
    "    \"name\": \"Machine Learning\",\n",
    "    \"version\": 2.0\n",
    "}\n",
    "tuple = (3, 5, 7)\n",
    "set = {7, 8, 9}"
   ]
  },
  {
   "cell_type": "code",
   "execution_count": 23,
   "id": "3b551df6",
   "metadata": {},
   "outputs": [
    {
     "name": "stdout",
     "output_type": "stream",
     "text": [
      "<class 'str'>\n",
      "<class 'bool'>\n",
      "<class 'str'>\n",
      "<class 'bool'>\n",
      "<class 'float'>\n",
      "<class 'int'>\n",
      "<class 'dict'>\n",
      "<class 'tuple'>\n",
      "<class 'set'>\n"
     ]
    }
   ],
   "source": [
    "print(type(str1))\n",
    "print(type(bool))\n",
    "print(type(str2))\n",
    "print(type(bool))\n",
    "print(type(float_v))\n",
    "print(type(int_v))\n",
    "print(type(dict))\n",
    "print(type(tuple))\n",
    "print(type(set))"
   ]
  },
  {
   "cell_type": "markdown",
   "id": "211fd2df",
   "metadata": {},
   "source": [
    "# 1. 숫자형"
   ]
  },
  {
   "cell_type": "markdown",
   "id": "9490798a",
   "metadata": {},
   "source": [
    "* + \n",
    "* - \n",
    "* * \n",
    "* / \n",
    "* // : 몫 \n",
    "* % : 나머지\n",
    "* abs(x) \n",
    "* int(x) \n",
    "* float(x) \n",
    "* complex(x)\n",
    "* pow(x, y) \n",
    "* x ** y : 제곱\n",
    "* ...."
   ]
  },
  {
   "cell_type": "code",
   "execution_count": 6,
   "id": "d8fafc95",
   "metadata": {},
   "outputs": [],
   "source": [
    "# 정수 선언\n",
    "i = 77\n",
    "i2 = -14\n",
    "big_int = 999999999999999999999999999999999999999"
   ]
  },
  {
   "cell_type": "code",
   "execution_count": 7,
   "id": "ab8a9fd9",
   "metadata": {},
   "outputs": [
    {
     "name": "stdout",
     "output_type": "stream",
     "text": [
      "77\n",
      "-14\n",
      "999999999999999999999999999999999999999\n"
     ]
    }
   ],
   "source": [
    "# 정수 출력\n",
    "print(i)\n",
    "print(i2)\n",
    "print(big_int)"
   ]
  },
  {
   "cell_type": "code",
   "execution_count": 8,
   "id": "f49673d0",
   "metadata": {},
   "outputs": [],
   "source": [
    "# 실수 선언\n",
    "f = 0.9999\n",
    "f2 = 3.141592\n",
    "f3 = -3.9\n",
    "f4 = 3 / 9"
   ]
  },
  {
   "cell_type": "code",
   "execution_count": 9,
   "id": "521fa917",
   "metadata": {},
   "outputs": [
    {
     "name": "stdout",
     "output_type": "stream",
     "text": [
      "0.9999\n",
      "3.141592\n",
      "-3.9\n",
      "0.3333333333333333\n"
     ]
    }
   ],
   "source": [
    "# 실수 출력\n",
    "print(f)\n",
    "print(f2)\n",
    "print(f3)\n",
    "print(f4)"
   ]
  },
  {
   "cell_type": "code",
   "execution_count": 10,
   "id": "02e3d956",
   "metadata": {},
   "outputs": [],
   "source": [
    "# 연산 실습\n",
    "i1 = 39\n",
    "i2 = 939\n",
    "big_int1 = 123456789123456789012345678901234567890\n",
    "big_int2 = 999999999999999999999999999999999999999\n",
    "f1 = 1.234\n",
    "f2 = 3.939"
   ]
  },
  {
   "cell_type": "code",
   "execution_count": 11,
   "id": "69282fc5",
   "metadata": {},
   "outputs": [
    {
     "name": "stdout",
     "output_type": "stream",
     "text": [
      ">>>>> + \n",
      "i1 + i2 :  978\n",
      "f1 + f2 :  5.173\n",
      "big_int1 + big_int2 :  1123456789123456789012345678901234567889\n"
     ]
    }
   ],
   "source": [
    "# +\n",
    "print(\">>>>> + \")\n",
    "print(\"i1 + i2 : \", i1 + i2) \n",
    "print(\"f1 + f2 : \", f1 + f2) \n",
    "print(\"big_int1 + big_int2 : \", big_int1 + big_int2) "
   ]
  },
  {
   "cell_type": "code",
   "execution_count": 12,
   "id": "fc36c397",
   "metadata": {},
   "outputs": [
    {
     "name": "stdout",
     "output_type": "stream",
     "text": [
      ">>>>> -\n",
      "i1 - i2:  -900\n",
      "f1 - f2:  -2.705\n",
      "big_int1 - big_int2:  -876543210876543210987654321098765432109\n"
     ]
    }
   ],
   "source": [
    "# -\n",
    "print(\">>>>> -\")\n",
    "print(\"i1 - i2: \", i1 - i2) \n",
    "print(\"f1 - f2: \", f1 - f2)\n",
    "print(\"big_int1 - big_int2: \", big_int1 - big_int2)"
   ]
  },
  {
   "cell_type": "code",
   "execution_count": 13,
   "id": "07d2a700",
   "metadata": {},
   "outputs": [
    {
     "name": "stdout",
     "output_type": "stream",
     "text": [
      ">>>>> *\n",
      "i1 * i2:  36621\n",
      "f1 * f2:  4.860726\n",
      "big_int1 * big_int2:  123456789123456789012345678901234567889876543210876543210987654321098765432110\n"
     ]
    }
   ],
   "source": [
    "# *\n",
    "print(\">>>>> *\")\n",
    "print(\"i1 * i2: \", i1 * i2)\n",
    "print(\"f1 * f2: \", f1 * f2)\n",
    "print(\"big_int1 * big_int2: \", big_int1 * big_int2)"
   ]
  },
  {
   "cell_type": "code",
   "execution_count": 14,
   "id": "4690a267",
   "metadata": {},
   "outputs": [
    {
     "name": "stdout",
     "output_type": "stream",
     "text": [
      ">>>>> /\n",
      "i2 / i1:  24.076923076923077\n",
      "f2 / f1:  3.1920583468395463\n",
      "big_int2 / big_int1:  8.10000006561\n"
     ]
    }
   ],
   "source": [
    "# /\n",
    "print(\">>>>> /\")\n",
    "print(\"i2 / i1: \", i2 / i1)\n",
    "print(\"f2 / f1: \", f2 / f1)\n",
    "print(\"big_int2 / big_int1: \", big_int2 / big_int1)"
   ]
  },
  {
   "cell_type": "code",
   "execution_count": 15,
   "id": "695e167b",
   "metadata": {},
   "outputs": [
    {
     "name": "stdout",
     "output_type": "stream",
     "text": [
      ">>>>> //\n",
      "i2 // i1:  24\n",
      "f2 // f1:  3.0\n",
      "big_int2 // big_int1:  8\n"
     ]
    }
   ],
   "source": [
    "# //\n",
    "print(\">>>>> //\")\n",
    "print(\"i2 // i1: \", i2 // i1) \n",
    "print(\"f2 // f1: \", f2 // f1)\n",
    "print(\"big_int2 // big_int1: \", big_int2 // big_int1)"
   ]
  },
  {
   "cell_type": "code",
   "execution_count": 16,
   "id": "d28e8c4d",
   "metadata": {},
   "outputs": [
    {
     "name": "stdout",
     "output_type": "stream",
     "text": [
      ">>>>> %\n",
      "i1 % i2 : 39\n",
      "f1 % f2 : 1.234\n",
      "big_int1 % big_int2 : 123456789123456789012345678901234567890\n"
     ]
    }
   ],
   "source": [
    "# %\n",
    "print(\">>>>> %\")\n",
    "print(\"i1 % i2 :\", i1 % i2)\n",
    "print(\"f1 % f2 :\", f1 % f2)\n",
    "print(\"big_int1 % big_int2 :\", big_int1 % big_int2)"
   ]
  },
  {
   "cell_type": "code",
   "execution_count": 17,
   "id": "f396eb10",
   "metadata": {},
   "outputs": [
    {
     "name": "stdout",
     "output_type": "stream",
     "text": [
      ">>>>> **\n",
      "2 ** 3:  8\n",
      "i1 ** i2:  1022506312626635583804665030439848517886568042318083335883591278398438037288741990566558622100138406141643558158275024105444365536879201660885612644021445261444940742179797251796081892688027914559485473798772396512743732340523023151763660943751019131006308098788307144783696606939051578708338398053028367082638273189192434285150846461558297694776902793801564417306838969109663906055052907811614020360408193312813992026141346881644852197209917516412059364266098525652931099021885382041007793566316514615169179944928856384530132713368424697747100417896428655313414528755698998321671054850811102964679789653723028769348909103153993982582100515416669313157230956389993552417454656410560599758074525741542650281866589385696863929193963058181665847576483338830549810589782953329729597632595024734286078284939382833418335640042579137106857539338373422439805326922155940680240986288345037060969659512427144030964154102951713380645977336411938613440920613823685184818054548437463240254014958456975735050353322662241529452981520149054985517676452974236772432487364293991470964099037797636014730970362515008030368654913029567190786024079384496497756671771817107140203810333022334649590282423942722147721919738626342294242915008528804177851320976364543109216532895238412244610627773269723239459235317671518827568480961721312764409452089860018349101981333363883093727283973691806925736612803559125010274993787069849308224144485220613402198029509103574257814462424323830881877483524940133039777525461756147959\n",
      "f1 ** f2:  2.289235194260789\n"
     ]
    }
   ],
   "source": [
    "# **\n",
    "print(\">>>>> **\")\n",
    "print(\"2 ** 3: \", 2 ** 3)\n",
    "print(\"i1 ** i2: \", i1 ** i2) \n",
    "print(\"f1 ** f2: \", f1 ** f2)"
   ]
  },
  {
   "cell_type": "code",
   "execution_count": 25,
   "id": "9345b158",
   "metadata": {},
   "outputs": [],
   "source": [
    "# 형 변환 실습\n",
    "a = 3.\n",
    "b = 6\n",
    "c = .7\n",
    "d = 12.7"
   ]
  },
  {
   "cell_type": "code",
   "execution_count": 26,
   "id": "57b703aa",
   "metadata": {},
   "outputs": [
    {
     "name": "stdout",
     "output_type": "stream",
     "text": [
      "<class 'float'> <class 'int'> <class 'float'> <class 'float'>\n"
     ]
    }
   ],
   "source": [
    "# 타입 출력\n",
    "print(type(a), type(b), type(c), type(d))"
   ]
  },
  {
   "cell_type": "code",
   "execution_count": 31,
   "id": "43f4be2e",
   "metadata": {},
   "outputs": [
    {
     "name": "stdout",
     "output_type": "stream",
     "text": [
      "6.0\n",
      "0\n",
      "12\n",
      "1\n",
      "1.0\n",
      "0\n",
      "0.0\n",
      "(3+0j)\n",
      "(3+0j)\n",
      "0j\n"
     ]
    }
   ],
   "source": [
    "del float\n",
    "del int  # 이전에 에러가 났는거는 이 값들을 변수로 저장해뒀기 때문인듯\n",
    "\n",
    "# 형 변환\n",
    "print(float(b))  # 정수 -> 실수\n",
    "print(int(c))  # 실수 -> 정수\n",
    "print(int(d))  # 실수 -> 정수\n",
    "print(int(True))  # Bool -> 정수\n",
    "print(float(True))  # Bool -> 정수\n",
    "print(int(False))  # Bool -> 정수\n",
    "print(float(False))  # Bool -> 정수\n",
    "print(complex(3))  # 정수 -> 복소수\n",
    "print(complex('3'))  # 문자 -> 복소수\n",
    "print(complex(False))  # Bool -> 복소수"
   ]
  },
  {
   "cell_type": "code",
   "execution_count": 21,
   "id": "2b2cfa8a",
   "metadata": {},
   "outputs": [
    {
     "name": "stdout",
     "output_type": "stream",
     "text": [
      "7\n",
      "12 4\n",
      "125\n"
     ]
    }
   ],
   "source": [
    "# 수치 연산 함수\n",
    "print(abs(-7))\n",
    "x, y = divmod(100, 8)\n",
    "print(x, y)\n",
    "print(pow(5, 3))"
   ]
  },
  {
   "cell_type": "code",
   "execution_count": 32,
   "id": "af9505a9",
   "metadata": {},
   "outputs": [
    {
     "name": "stdout",
     "output_type": "stream",
     "text": [
      "7\n",
      "12 4\n",
      "125\n"
     ]
    }
   ],
   "source": [
    "# 수치 연산 함수\n",
    "print(abs(-7))\n",
    "x, y = divmod(100, 8)\n",
    "print(x, y)\n",
    "print(pow(5, 3))"
   ]
  },
  {
   "cell_type": "code",
   "execution_count": 37,
   "id": "73251cf5",
   "metadata": {},
   "outputs": [
    {
     "name": "stdout",
     "output_type": "stream",
     "text": [
      "6\n"
     ]
    }
   ],
   "source": [
    "#외부 모듈\n",
    "import math\n",
    "\n",
    "#ceil\n",
    "print(math.ceil(5.1))   # x 이상의 수 중에서 가장 작은 정수"
   ]
  },
  {
   "cell_type": "code",
   "execution_count": 35,
   "id": "31759f94",
   "metadata": {},
   "outputs": [],
   "source": [
    "#floor"
   ]
  },
  {
   "cell_type": "code",
   "execution_count": 36,
   "id": "0b1ee978",
   "metadata": {},
   "outputs": [
    {
     "name": "stdout",
     "output_type": "stream",
     "text": [
      "3.141592653589793\n"
     ]
    }
   ],
   "source": [
    "#pi\n",
    "print(math.pi)"
   ]
  },
  {
   "cell_type": "markdown",
   "id": "41354ad2",
   "metadata": {},
   "source": [
    "# 2. 문자형"
   ]
  },
  {
   "cell_type": "code",
   "execution_count": 38,
   "id": "e52ba626",
   "metadata": {},
   "outputs": [],
   "source": [
    "# 문자열 생성\n",
    "str1 = \"I am Python.\"\n",
    "str2 = 'Python'\n",
    "str3 = \"\"\"How are you?\"\"\"\n",
    "str4 = '''Thank you!'''"
   ]
  },
  {
   "cell_type": "code",
   "execution_count": 39,
   "id": "9abeeb94",
   "metadata": {},
   "outputs": [
    {
     "name": "stdout",
     "output_type": "stream",
     "text": [
      "<class 'str'>\n",
      "<class 'str'>\n",
      "<class 'str'>\n",
      "<class 'str'>\n"
     ]
    }
   ],
   "source": [
    "# 문자열 출력\n",
    "print(type(str1))\n",
    "print(type(str2))\n",
    "print(type(str3))\n",
    "print(type(str4))"
   ]
  },
  {
   "cell_type": "code",
   "execution_count": 40,
   "id": "f4d30294",
   "metadata": {},
   "outputs": [
    {
     "data": {
      "text/plain": [
       "('I am Python.', 'Python', 'How are you?', 'Thank you!')"
      ]
     },
     "execution_count": 40,
     "metadata": {},
     "output_type": "execute_result"
    }
   ],
   "source": [
    "str1, str2, str3, str4"
   ]
  },
  {
   "cell_type": "code",
   "execution_count": 41,
   "id": "0add9673",
   "metadata": {},
   "outputs": [
    {
     "name": "stdout",
     "output_type": "stream",
     "text": [
      "12\n",
      "6\n",
      "12\n",
      "10\n"
     ]
    }
   ],
   "source": [
    "# 문자열 길이\n",
    "print(len(str1))\n",
    "print(len(str2))\n",
    "print(len(str3))\n",
    "print(len(str4))"
   ]
  },
  {
   "cell_type": "code",
   "execution_count": 42,
   "id": "8baf2986",
   "metadata": {},
   "outputs": [],
   "source": [
    "# 빈 문자열\n",
    "str_t1 = ''\n",
    "str_t2 = str()"
   ]
  },
  {
   "cell_type": "code",
   "execution_count": 44,
   "id": "b3d56c8d",
   "metadata": {},
   "outputs": [
    {
     "name": "stdout",
     "output_type": "stream",
     "text": [
      "<class 'str'> 0\n",
      "<class 'str'> 0\n"
     ]
    }
   ],
   "source": [
    "print(type(str_t1), len(str_t1))\n",
    "print(type(str_t2), len(str_t2))"
   ]
  },
  {
   "cell_type": "markdown",
   "id": "b7255d2e",
   "metadata": {},
   "source": [
    "## 참고 : Escape 코드"
   ]
  },
  {
   "cell_type": "markdown",
   "id": "277e9a1e",
   "metadata": {},
   "source": [
    "* \\n : 개행\n",
    "* \\t : 탭\n",
    "* \\\\ : 문자\n",
    "* \\' : 문자\n",
    "* \\\" : 문자\n",
    "* \\000 : 널 문자"
   ]
  },
  {
   "cell_type": "code",
   "execution_count": 47,
   "id": "9423d631",
   "metadata": {},
   "outputs": [
    {
     "name": "stdout",
     "output_type": "stream",
     "text": [
      "Do you have a \"retro games\"?\n",
      "What's on TV?\n"
     ]
    }
   ],
   "source": [
    "escape_str1 = \"Do you have a \\\"retro games\\\"?\"\n",
    "escape_str2 = 'What\\'s on TV?'\n",
    "\n",
    "# 출력1\n",
    "print(escape_str1)\n",
    "print(escape_str2)"
   ]
  },
  {
   "cell_type": "code",
   "execution_count": 48,
   "id": "4cdb0ea2",
   "metadata": {},
   "outputs": [
    {
     "name": "stdout",
     "output_type": "stream",
     "text": [
      "Click \tStart!\n",
      "New Line\n",
      " Check!\n"
     ]
    }
   ],
   "source": [
    "# 탭, 줄바꿈\n",
    "t_s1 = \"Click \\tStart!\"\n",
    "t_s2 = \"New Line\\n Check!\"\n",
    "\n",
    "# 출력2\n",
    "print(t_s1)\n",
    "print(t_s2)"
   ]
  },
  {
   "cell_type": "code",
   "execution_count": 50,
   "id": "dd0740ea",
   "metadata": {},
   "outputs": [
    {
     "name": "stdout",
     "output_type": "stream",
     "text": [
      "D:\\Python\\python3\n",
      "\\\\x\\y\\z\\q\n"
     ]
    }
   ],
   "source": [
    "# Raw String\n",
    "raw_s1 = r'D:\\Python\\python3'\n",
    "raw_s2 = r\"\\\\x\\y\\z\\q\"\n",
    "\n",
    "# Raw String 출력\n",
    "print(raw_s1)\n",
    "print(raw_s2)"
   ]
  },
  {
   "cell_type": "code",
   "execution_count": 52,
   "id": "3fea4e1a",
   "metadata": {},
   "outputs": [
    {
     "name": "stdout",
     "output_type": "stream",
     "text": [
      "\n",
      "    문자열\n",
      "    멀티라인 입력\n",
      "    테스트\n",
      "    \n"
     ]
    }
   ],
   "source": [
    "multi_str1 = \\\n",
    "    \"\"\"\n",
    "    문자열\n",
    "    멀티라인 입력\n",
    "    테스트\n",
    "    \"\"\"\n",
    "# 멀티라인 출력\n",
    "print(multi_str1)"
   ]
  },
  {
   "cell_type": "code",
   "execution_count": 53,
   "id": "a9fa5b90",
   "metadata": {},
   "outputs": [
    {
     "name": "stdout",
     "output_type": "stream",
     "text": [
      "\n",
      "    문자열 멀티라인 \n",
      "    역슬래시(\\)     테스트\n",
      "    \n"
     ]
    }
   ],
   "source": [
    "multi_str2 = \\\n",
    "    '''\n",
    "    문자열 멀티라인 \n",
    "    역슬래시(\\) \\\n",
    "    테스트\n",
    "    '''\n",
    "# 멀티라인(역슬래시) 출력\n",
    "print(multi_str2)"
   ]
  },
  {
   "cell_type": "code",
   "execution_count": 54,
   "id": "87568150",
   "metadata": {},
   "outputs": [],
   "source": [
    "# 문자열 연산\n",
    "str_o1 = \"Python\"\n",
    "str_o2 = \"Apple\"\n",
    "str_o3 = \"How are you doing?\"\n",
    "str_o4 = \"Seoul Deajeon Busan Jinju\""
   ]
  },
  {
   "cell_type": "code",
   "execution_count": 55,
   "id": "edd87c0c",
   "metadata": {},
   "outputs": [
    {
     "name": "stdout",
     "output_type": "stream",
     "text": [
      "PythonPythonPython\n",
      "PythonApple\n",
      "['__add__', '__class__', '__contains__', '__delattr__', '__dir__', '__doc__', '__eq__', '__format__', '__ge__', '__getattribute__', '__getitem__', '__getnewargs__', '__gt__', '__hash__', '__init__', '__init_subclass__', '__iter__', '__le__', '__len__', '__lt__', '__mod__', '__mul__', '__ne__', '__new__', '__reduce__', '__reduce_ex__', '__repr__', '__rmod__', '__rmul__', '__setattr__', '__sizeof__', '__str__', '__subclasshook__', 'capitalize', 'casefold', 'center', 'count', 'encode', 'endswith', 'expandtabs', 'find', 'format', 'format_map', 'index', 'isalnum', 'isalpha', 'isascii', 'isdecimal', 'isdigit', 'isidentifier', 'islower', 'isnumeric', 'isprintable', 'isspace', 'istitle', 'isupper', 'join', 'ljust', 'lower', 'lstrip', 'maketrans', 'partition', 'replace', 'rfind', 'rindex', 'rjust', 'rpartition', 'rsplit', 'rstrip', 'split', 'splitlines', 'startswith', 'strip', 'swapcase', 'title', 'translate', 'upper', 'zfill']\n",
      "True\n",
      "True\n",
      "True\n"
     ]
    }
   ],
   "source": [
    "print(3 * str_o1)\n",
    "print(str_o1 + str_o2)\n",
    "print(dir(str_o1))\n",
    "print('y' in str_o1)\n",
    "print('n' in str_o1)\n",
    "print('P' not in str_o2)"
   ]
  },
  {
   "cell_type": "code",
   "execution_count": 56,
   "id": "fa075417",
   "metadata": {},
   "outputs": [
    {
     "name": "stdout",
     "output_type": "stream",
     "text": [
      "66\n",
      "10.1\n",
      "True\n",
      "(12+0j)\n"
     ]
    }
   ],
   "source": [
    "# 문자열 형 변환\n",
    "print(str(66))  # type 확인\n",
    "print(str(10.1))\n",
    "print(str(True))\n",
    "print(str(complex(12)))"
   ]
  },
  {
   "cell_type": "code",
   "execution_count": 66,
   "id": "a62f8b7c",
   "metadata": {},
   "outputs": [
    {
     "name": "stdout",
     "output_type": "stream",
     "text": [
      "Capitalize:  Python\n",
      "endswith?:  False\n",
      "join str:  I'm Python!\n",
      "replace1:  Py Good\n",
      "replace2:  How was you doing?\n",
      "split:  ['Seoul', 'Deajeon', 'Busan', 'Jinju']\n",
      "sorted:  ['P', 'h', 'n', 'o', 't', 'y']\n",
      "reversed1:  <reversed object at 0x00000163DD8C2DF0>\n",
      "reversed2:  ['e', 'l', 'p', 'p', 'A']\n"
     ]
    }
   ],
   "source": [
    "del list\n",
    "\n",
    "# 문자열 함수(upper, isalnum, startswith, count, endswith, isalpha 등)\n",
    "print(\"Capitalize: \", str_o1.capitalize())\n",
    "print(\"endswith?: \", str_o2.endswith(\"s\"))\n",
    "print(\"join str: \", str_o1.join([\"I'm \", \"!\"]))\n",
    "print(\"replace1: \", str_o1.replace('thon', ' Good'))\n",
    "print(\"replace2: \", str_o3.replace(\"are\", \"was\"))\n",
    "print(\"split: \", str_o4.split(' '))  # Type 확인\n",
    "print(\"sorted: \", sorted(str_o1))  # reverse=True\n",
    "print(\"reversed1: \", reversed(str_o2)) #list 형 변환\n",
    "print(\"reversed2: \", list(reversed(str_o2)))"
   ]
  },
  {
   "cell_type": "code",
   "execution_count": 58,
   "id": "9f55b169",
   "metadata": {},
   "outputs": [],
   "source": [
    "# 반복(시퀀스) 설명\n",
    "im_str = \"Good Boy!\""
   ]
  },
  {
   "cell_type": "code",
   "execution_count": 59,
   "id": "e6c65e94",
   "metadata": {},
   "outputs": [
    {
     "name": "stdout",
     "output_type": "stream",
     "text": [
      "['__add__', '__class__', '__contains__', '__delattr__', '__dir__', '__doc__', '__eq__', '__format__', '__ge__', '__getattribute__', '__getitem__', '__getnewargs__', '__gt__', '__hash__', '__init__', '__init_subclass__', '__iter__', '__le__', '__len__', '__lt__', '__mod__', '__mul__', '__ne__', '__new__', '__reduce__', '__reduce_ex__', '__repr__', '__rmod__', '__rmul__', '__setattr__', '__sizeof__', '__str__', '__subclasshook__', 'capitalize', 'casefold', 'center', 'count', 'encode', 'endswith', 'expandtabs', 'find', 'format', 'format_map', 'index', 'isalnum', 'isalpha', 'isascii', 'isdecimal', 'isdigit', 'isidentifier', 'islower', 'isnumeric', 'isprintable', 'isspace', 'istitle', 'isupper', 'join', 'ljust', 'lower', 'lstrip', 'maketrans', 'partition', 'replace', 'rfind', 'rindex', 'rjust', 'rpartition', 'rsplit', 'rstrip', 'split', 'splitlines', 'startswith', 'strip', 'swapcase', 'title', 'translate', 'upper', 'zfill']\n"
     ]
    }
   ],
   "source": [
    "print(dir(im_str))  # __iter__ 확인"
   ]
  },
  {
   "cell_type": "code",
   "execution_count": 60,
   "id": "0bc8184a",
   "metadata": {
    "scrolled": true
   },
   "outputs": [
    {
     "name": "stdout",
     "output_type": "stream",
     "text": [
      "G\n",
      "o\n",
      "o\n",
      "d\n",
      " \n",
      "B\n",
      "o\n",
      "y\n",
      "!\n"
     ]
    }
   ],
   "source": [
    "# 출력\n",
    "for i in im_str:\n",
    "    print(i)"
   ]
  },
  {
   "cell_type": "markdown",
   "id": "4ef3376f",
   "metadata": {},
   "source": [
    "## 슬라이싱"
   ]
  },
  {
   "cell_type": "code",
   "execution_count": 65,
   "id": "0435beb7",
   "metadata": {},
   "outputs": [],
   "source": [
    "str_sl = 'Nice Python'"
   ]
  },
  {
   "cell_type": "code",
   "execution_count": 62,
   "id": "6105e762",
   "metadata": {},
   "outputs": [
    {
     "name": "stdout",
     "output_type": "stream",
     "text": [
      "Nic\n",
      "Nice Python\n",
      "Nice Pytho\n",
      "Nice Python\n",
      "ie\n",
      "th\n",
      "ice Pyth\n",
      "nohtyP eciN\n",
      "Nc yhn\n"
     ]
    }
   ],
   "source": [
    "# 슬라이싱 연습\n",
    "print(str_sl[0:3])\n",
    "print(str_sl[:len(str_sl)])\n",
    "print(str_sl[:len(str_sl) - 1])\n",
    "print(str_sl[:])\n",
    "print(str_sl[1:4:2])\n",
    "print(str_sl[-4:-2])\n",
    "print(str_sl[1:-2])\n",
    "print(str_sl[::-1])\n",
    "print(str_sl[::2])"
   ]
  },
  {
   "cell_type": "code",
   "execution_count": 63,
   "id": "5cde9865",
   "metadata": {},
   "outputs": [],
   "source": [
    "# 아스키코드\n",
    "a = 'z'"
   ]
  },
  {
   "cell_type": "code",
   "execution_count": 64,
   "id": "3997e8d9",
   "metadata": {},
   "outputs": [
    {
     "name": "stdout",
     "output_type": "stream",
     "text": [
      "122\n",
      "z\n"
     ]
    }
   ],
   "source": [
    "print(ord(a))\n",
    "print(chr(122))"
   ]
  },
  {
   "cell_type": "markdown",
   "id": "22a36f47",
   "metadata": {},
   "source": [
    "------------------"
   ]
  },
  {
   "cell_type": "markdown",
   "id": "7bf489e2",
   "metadata": {},
   "source": [
    "### format"
   ]
  },
  {
   "cell_type": "code",
   "execution_count": 9,
   "id": "9db2c012",
   "metadata": {},
   "outputs": [
    {
     "name": "stdout",
     "output_type": "stream",
     "text": [
      "25 번 손님 안녕하세요. 문자열 포맷의 세계 에 오신 것을 환영합니다 !\n",
      "{}번 손님, {}{}에 오신 것을 {}!\n",
      "25번 손님, 안녕하세요.문자열 포맷의 세계에 오신 것을 환영합니다!\n",
      "25번 손님, 안녕하세요.문자열 포맷의 세계에 오신 것을 환영합니다!\n"
     ]
    }
   ],
   "source": [
    "from IPython.core.interactiveshell import InteractiveShell\n",
    "InteractiveShell.ast_node_interactivity = \"all\"\n",
    "\n",
    "# 인사 플롯\n",
    "number = 25\n",
    "greeting = '안녕하세요.'\n",
    "place = '문자열 포맷의 세계'\n",
    "welcome = '환영합니다'\n",
    "\n",
    "# Case1\n",
    "print(number,\"번 손님\", greeting, place, '에 오신 것을', welcome, \"!\")\n",
    "\n",
    "\n",
    "base = '{}번 손님, {}{}에 오신 것을 {}!'\n",
    "new_way = base.format(number, greeting, place,welcome) # 이런식으로 format을 활용할 수 있다.\n",
    "\n",
    "print(base)\n",
    "print(new_way)\n",
    "\n",
    "print('{}번 손님, {}{}에 오신 것을 {}!'.format(number, greeting, place,welcome)) # 이런식으로도 사용할 수 있다."
   ]
  },
  {
   "cell_type": "markdown",
   "id": "4db9590c",
   "metadata": {},
   "source": [
    "### .format을 활용하면, 중괄호를 만들어서 쌍을 만들면 변수가 순서대로 들어가게된다."
   ]
  },
  {
   "cell_type": "markdown",
   "id": "463881ed",
   "metadata": {},
   "source": [
    "#### . ~~~ \n",
    "#### base.format <- .을 찍는 이유는 format은 base에 속해있는 기능이라는 의미이다."
   ]
  },
  {
   "cell_type": "markdown",
   "id": "4e633e87",
   "metadata": {},
   "source": [
    "## 예제1"
   ]
  },
  {
   "cell_type": "markdown",
   "id": "68a538ce",
   "metadata": {},
   "source": [
    "변수 name과 color에 자신의 이름과 좋아하는 색상을 문자열로 입력하고,  \n",
    "3번째줄 .format()의 괄호 안을 수정해서 자신의 이름과 좋아하는 색상을 출력해 보세요."
   ]
  },
  {
   "cell_type": "code",
   "execution_count": 11,
   "id": "3cd4f63a",
   "metadata": {},
   "outputs": [
    {
     "name": "stdout",
     "output_type": "stream",
     "text": [
      "안녕하세요. 제 이름은 박건현이고 좋아하는 색상은 rad 입니다.\n"
     ]
    }
   ],
   "source": [
    "name = '박건현'\n",
    "color = 'rad'\n",
    "print('안녕하세요. 제 이름은 {}이고 좋아하는 색상은 {} 입니다.'.format(name, color ))"
   ]
  },
  {
   "cell_type": "code",
   "execution_count": null,
   "id": "f42c300a",
   "metadata": {},
   "outputs": [],
   "source": []
  }
 ],
 "metadata": {
  "kernelspec": {
   "display_name": "Python 3",
   "language": "python",
   "name": "python3"
  },
  "language_info": {
   "codemirror_mode": {
    "name": "ipython",
    "version": 3
   },
   "file_extension": ".py",
   "mimetype": "text/x-python",
   "name": "python",
   "nbconvert_exporter": "python",
   "pygments_lexer": "ipython3",
   "version": "3.8.8"
  }
 },
 "nbformat": 4,
 "nbformat_minor": 5
}
