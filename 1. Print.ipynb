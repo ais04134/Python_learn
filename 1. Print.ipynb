{
 "cells": [
  {
   "cell_type": "markdown",
   "id": "3748b2ea",
   "metadata": {},
   "source": [
    "# Print"
   ]
  },
  {
   "cell_type": "markdown",
   "id": "0616b776",
   "metadata": {},
   "source": [
    "## 1.1 기본 출력"
   ]
  },
  {
   "cell_type": "code",
   "execution_count": 1,
   "id": "969b2812",
   "metadata": {},
   "outputs": [
    {
     "name": "stdout",
     "output_type": "stream",
     "text": [
      "Python Start!\n"
     ]
    }
   ],
   "source": [
    "print('Python Start!')"
   ]
  },
  {
   "cell_type": "code",
   "execution_count": 2,
   "id": "023700cf",
   "metadata": {},
   "outputs": [
    {
     "name": "stdout",
     "output_type": "stream",
     "text": [
      "Python Start!\n"
     ]
    }
   ],
   "source": [
    "print(\"Python Start!\")"
   ]
  },
  {
   "cell_type": "code",
   "execution_count": 3,
   "id": "46224271",
   "metadata": {},
   "outputs": [
    {
     "name": "stdout",
     "output_type": "stream",
     "text": [
      "\n"
     ]
    }
   ],
   "source": [
    "print()"
   ]
  },
  {
   "cell_type": "code",
   "execution_count": 4,
   "id": "a2e51389",
   "metadata": {},
   "outputs": [
    {
     "name": "stdout",
     "output_type": "stream",
     "text": [
      "Python Start!\n",
      "\n",
      "Python Start!\n"
     ]
    }
   ],
   "source": [
    "print('Python Start!')\n",
    "print()  # 한칸 줄바꿈을 위해 사용할 수도 있다. \n",
    "print('Python Start!')"
   ]
  },
  {
   "cell_type": "markdown",
   "id": "0d6850aa",
   "metadata": {},
   "source": [
    "## 1.2 separator 옵션 사용\n",
    "    ~으로 분리하여라\n",
    "    Tip. '' <- 공백으로 분리하면 값끼리 붙히는 효과가 된다."
   ]
  },
  {
   "cell_type": "code",
   "execution_count": 5,
   "id": "1a7d9ecc",
   "metadata": {
    "scrolled": true
   },
   "outputs": [
    {
     "name": "stdout",
     "output_type": "stream",
     "text": [
      "PYTHON\n"
     ]
    }
   ],
   "source": [
    "print('P','Y','T','H','O','N', sep='') # "
   ]
  },
  {
   "cell_type": "code",
   "execution_count": 6,
   "id": "ddd23688",
   "metadata": {},
   "outputs": [
    {
     "name": "stdout",
     "output_type": "stream",
     "text": [
      "010-7777-7777\n"
     ]
    }
   ],
   "source": [
    "print('010','7777','7777', sep='-')"
   ]
  },
  {
   "cell_type": "code",
   "execution_count": 7,
   "id": "c9b2b78d",
   "metadata": {
    "scrolled": true
   },
   "outputs": [
    {
     "name": "stdout",
     "output_type": "stream",
     "text": [
      "ais04134@naver.com\n"
     ]
    }
   ],
   "source": [
    "print('ais04134','naver.com', sep = '@')"
   ]
  },
  {
   "cell_type": "markdown",
   "id": "5c140482",
   "metadata": {},
   "source": [
    "##### 시퀀스는 Python에서 연속형 자료형을 뜻한다. 크게 문자열, 튜플, 리스트가 있다. \n",
    "##### sep = \"~ \" : ~을 기준으로 문자열이나 시퀀스를 붙혀준다."
   ]
  },
  {
   "cell_type": "markdown",
   "id": "e3ac28ef",
   "metadata": {},
   "source": [
    "## 1.3 end 옵션 사용\n",
    "    end 옵션을 통하여 하나의 라인으로 연결할 수 있다. \n",
    "    Tip. 반복문에서 글자가 밑으로 쭉 내려가는 경우 읽기 쉽게 할 수 있다."
   ]
  },
  {
   "cell_type": "code",
   "execution_count": 13,
   "id": "fb49ce77",
   "metadata": {},
   "outputs": [
    {
     "name": "stdout",
     "output_type": "stream",
     "text": [
      "Welcome To IT News Web Site\n"
     ]
    }
   ],
   "source": [
    "print('Welcome To', end = ' ')\n",
    "print('IT News', end=' ')\n",
    "print('Web Site')"
   ]
  },
  {
   "cell_type": "code",
   "execution_count": 1,
   "id": "74a875fc",
   "metadata": {},
   "outputs": [
    {
     "name": "stdout",
     "output_type": "stream",
     "text": [
      "Welcome To-IT News-Web Site\n"
     ]
    }
   ],
   "source": [
    "print('Welcome To', end = '-')\n",
    "print('IT News', end='-')\n",
    "print('Web Site')"
   ]
  },
  {
   "cell_type": "markdown",
   "id": "eadda2a9",
   "metadata": {},
   "source": [
    "##### end = \"~\" : ~을 기준으로 하나의 라인으로 연결한다. "
   ]
  },
  {
   "cell_type": "markdown",
   "id": "cce94834",
   "metadata": {},
   "source": [
    "## 1.4 file 옵션 사용\n",
    "    print문으로 적은 내용을 외부에 특정 파일에 쓸 거다. <- 이럴때 file 옵션을 사용한다."
   ]
  },
  {
   "cell_type": "code",
   "execution_count": null,
   "id": "09127e15",
   "metadata": {},
   "outputs": [],
   "source": [
    "import sys\n",
    "\n",
    "print('Learn Python', file = sys.stdout)"
   ]
  },
  {
   "cell_type": "markdown",
   "id": "4a396a1c",
   "metadata": {},
   "source": [
    "## 1.5 format 사용(s, d, f)  -> ex)  s: 'python', d : 3, f : 3.1445454 "
   ]
  },
  {
   "cell_type": "code",
   "execution_count": 14,
   "id": "47847d6b",
   "metadata": {},
   "outputs": [
    {
     "name": "stdout",
     "output_type": "stream",
     "text": [
      "one two\n"
     ]
    }
   ],
   "source": [
    "print('%s %s' % ('one', 'two'))"
   ]
  },
  {
   "cell_type": "code",
   "execution_count": 15,
   "id": "6d3a6be1",
   "metadata": {},
   "outputs": [
    {
     "name": "stdout",
     "output_type": "stream",
     "text": [
      "one two\n"
     ]
    }
   ],
   "source": [
    "print('{} {}'.format('one', 'two')) # 개인적으로 좋은 스타일! "
   ]
  },
  {
   "cell_type": "code",
   "execution_count": 16,
   "id": "45b37f8a",
   "metadata": {},
   "outputs": [
    {
     "name": "stdout",
     "output_type": "stream",
     "text": [
      "two one\n"
     ]
    }
   ],
   "source": [
    "print('{1} {0}'.format('one', 'two')) # 이런식으로 응용 가능하다."
   ]
  },
  {
   "cell_type": "markdown",
   "id": "f0fed90f",
   "metadata": {},
   "source": [
    "### 1.5.1 %s <- 문자열을 의미함"
   ]
  },
  {
   "cell_type": "code",
   "execution_count": 18,
   "id": "2b18365c",
   "metadata": {},
   "outputs": [
    {
     "name": "stdout",
     "output_type": "stream",
     "text": [
      "      nice\n"
     ]
    }
   ],
   "source": [
    "print('%10s' % ('nice')) # 숫자가 오면 자리수를 의미함"
   ]
  },
  {
   "cell_type": "code",
   "execution_count": 19,
   "id": "d4cb0fb7",
   "metadata": {},
   "outputs": [
    {
     "name": "stdout",
     "output_type": "stream",
     "text": [
      " nice12345\n"
     ]
    }
   ],
   "source": [
    "print('%10s' % ('nice12345'))"
   ]
  },
  {
   "cell_type": "code",
   "execution_count": 22,
   "id": "c7c9a58b",
   "metadata": {},
   "outputs": [
    {
     "name": "stdout",
     "output_type": "stream",
     "text": [
      "      nice\n"
     ]
    }
   ],
   "source": [
    "print('{:>10}'.format('nice')) # ??"
   ]
  },
  {
   "cell_type": "code",
   "execution_count": 21,
   "id": "665b9fc2",
   "metadata": {
    "scrolled": true
   },
   "outputs": [
    {
     "name": "stdout",
     "output_type": "stream",
     "text": [
      " nice12345\n"
     ]
    }
   ],
   "source": [
    "print('{:>10}'.format('nice12345')) # 가로 익스프레션에서는 s 를 생략해도 된다. but 정수나 실수일때는 명시해줘야한다."
   ]
  },
  {
   "cell_type": "code",
   "execution_count": 26,
   "id": "e2c2577c",
   "metadata": {},
   "outputs": [
    {
     "name": "stdout",
     "output_type": "stream",
     "text": [
      "nice      \n"
     ]
    }
   ],
   "source": [
    "print('%-10s' % ('nice')) # 반대쪽 기준으로 카운트"
   ]
  },
  {
   "cell_type": "code",
   "execution_count": 27,
   "id": "ef76b314",
   "metadata": {},
   "outputs": [
    {
     "name": "stdout",
     "output_type": "stream",
     "text": [
      "nice      \n"
     ]
    }
   ],
   "source": [
    "print('{:10}'.format('nice')) "
   ]
  },
  {
   "cell_type": "code",
   "execution_count": 29,
   "id": "90db34a3",
   "metadata": {},
   "outputs": [
    {
     "name": "stdout",
     "output_type": "stream",
     "text": [
      "______nice\n"
     ]
    }
   ],
   "source": [
    "print('{:_>10}'.format('nice')) # 이런식으로 빈 값을 특정 값으로 채워넣을 수 있다."
   ]
  },
  {
   "cell_type": "code",
   "execution_count": 30,
   "id": "f6064701",
   "metadata": {},
   "outputs": [
    {
     "name": "stdout",
     "output_type": "stream",
     "text": [
      "   nice   \n"
     ]
    }
   ],
   "source": [
    "print('{:^10}'.format('nice')) # 중앙정렬"
   ]
  },
  {
   "cell_type": "code",
   "execution_count": 35,
   "id": "ebed915f",
   "metadata": {},
   "outputs": [
    {
     "name": "stdout",
     "output_type": "stream",
     "text": [
      "pytho\n"
     ]
    }
   ],
   "source": [
    "print('%.5s' % ('pythonstudy')) # 절삭을 하여 원하는 자리수대로 글자를 출력한다."
   ]
  },
  {
   "cell_type": "code",
   "execution_count": 33,
   "id": "6e0a2b88",
   "metadata": {
    "scrolled": true
   },
   "outputs": [
    {
     "name": "stdout",
     "output_type": "stream",
     "text": [
      "pythonstudy\n"
     ]
    }
   ],
   "source": [
    "print('%5s' % ('pythonstudy'))"
   ]
  },
  {
   "cell_type": "code",
   "execution_count": 36,
   "id": "fa975deb",
   "metadata": {
    "scrolled": true
   },
   "outputs": [
    {
     "name": "stdout",
     "output_type": "stream",
     "text": [
      "pytho\n"
     ]
    }
   ],
   "source": [
    "print('{:.5}'.format('pythonstudy'))"
   ]
  },
  {
   "cell_type": "code",
   "execution_count": 37,
   "id": "a5c5bb68",
   "metadata": {},
   "outputs": [
    {
     "name": "stdout",
     "output_type": "stream",
     "text": [
      "pytho     \n"
     ]
    }
   ],
   "source": [
    "print('{:10.5}'.format('pythonstudy'))"
   ]
  },
  {
   "cell_type": "markdown",
   "id": "79370e87",
   "metadata": {},
   "source": [
    "### 1.5.2 %d <- 정수를 의미함"
   ]
  },
  {
   "cell_type": "code",
   "execution_count": 38,
   "id": "dacb9801",
   "metadata": {},
   "outputs": [
    {
     "name": "stdout",
     "output_type": "stream",
     "text": [
      "1 2\n"
     ]
    }
   ],
   "source": [
    "print('%d %d' % (1, 2))"
   ]
  },
  {
   "cell_type": "code",
   "execution_count": 39,
   "id": "7aaf813f",
   "metadata": {},
   "outputs": [
    {
     "name": "stdout",
     "output_type": "stream",
     "text": [
      "1 2\n"
     ]
    }
   ],
   "source": [
    "print('{} {}'.format(1, 2))"
   ]
  },
  {
   "cell_type": "code",
   "execution_count": 40,
   "id": "13043fa5",
   "metadata": {},
   "outputs": [
    {
     "name": "stdout",
     "output_type": "stream",
     "text": [
      "  42\n"
     ]
    }
   ],
   "source": [
    "print('%4d' % (42,))"
   ]
  },
  {
   "cell_type": "code",
   "execution_count": 41,
   "id": "d76daf9b",
   "metadata": {},
   "outputs": [
    {
     "name": "stdout",
     "output_type": "stream",
     "text": [
      "  42\n"
     ]
    }
   ],
   "source": [
    "print('{:4d}'.format(42))"
   ]
  },
  {
   "cell_type": "markdown",
   "id": "f0e3ac71",
   "metadata": {},
   "source": [
    "### 1.5.3 %f  <- 실수를 의미함"
   ]
  },
  {
   "cell_type": "code",
   "execution_count": 42,
   "id": "6fecca66",
   "metadata": {},
   "outputs": [
    {
     "name": "stdout",
     "output_type": "stream",
     "text": [
      "3.141593\n"
     ]
    }
   ],
   "source": [
    "print('%f' % (3.141592653589793,))"
   ]
  },
  {
   "cell_type": "code",
   "execution_count": 43,
   "id": "b7088e09",
   "metadata": {},
   "outputs": [
    {
     "name": "stdout",
     "output_type": "stream",
     "text": [
      "3.141593\n"
     ]
    }
   ],
   "source": [
    "print('{:f}'.format(3.141592653589793))"
   ]
  },
  {
   "cell_type": "code",
   "execution_count": 44,
   "id": "743bc3d8",
   "metadata": {},
   "outputs": [
    {
     "name": "stdout",
     "output_type": "stream",
     "text": [
      "003.14\n"
     ]
    }
   ],
   "source": [
    "print('%06.2f' % (3.141592653589793,)) # 소수부, 정수부 고려해서 접근해야된다."
   ]
  },
  {
   "cell_type": "code",
   "execution_count": 45,
   "id": "b46830f5",
   "metadata": {},
   "outputs": [
    {
     "name": "stdout",
     "output_type": "stream",
     "text": [
      "003.14\n"
     ]
    }
   ],
   "source": [
    "print('{:06.2f}'.format(3.141592653589793))"
   ]
  },
  {
   "cell_type": "code",
   "execution_count": null,
   "id": "bd44e402",
   "metadata": {},
   "outputs": [],
   "source": []
  }
 ],
 "metadata": {
  "kernelspec": {
   "display_name": "Python 3",
   "language": "python",
   "name": "python3"
  },
  "language_info": {
   "codemirror_mode": {
    "name": "ipython",
    "version": 3
   },
   "file_extension": ".py",
   "mimetype": "text/x-python",
   "name": "python",
   "nbconvert_exporter": "python",
   "pygments_lexer": "ipython3",
   "version": "3.8.8"
  }
 },
 "nbformat": 4,
 "nbformat_minor": 5
}
