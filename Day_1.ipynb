{
 "cells": [
  {
   "cell_type": "markdown",
   "id": "4ec34fc1",
   "metadata": {},
   "source": [
    "# Print"
   ]
  },
  {
   "cell_type": "code",
   "execution_count": 1,
   "id": "f752bc0e",
   "metadata": {},
   "outputs": [
    {
     "name": "stdout",
     "output_type": "stream",
     "text": [
      "Python Start!\n"
     ]
    }
   ],
   "source": [
    "print('Python Start!')"
   ]
  },
  {
   "cell_type": "code",
   "execution_count": 2,
   "id": "392ea930",
   "metadata": {},
   "outputs": [
    {
     "name": "stdout",
     "output_type": "stream",
     "text": [
      "Python Start!\n"
     ]
    }
   ],
   "source": [
    "print(\"Python Start!\")"
   ]
  },
  {
   "cell_type": "code",
   "execution_count": 3,
   "id": "c896f484",
   "metadata": {},
   "outputs": [
    {
     "name": "stdout",
     "output_type": "stream",
     "text": [
      "\n"
     ]
    }
   ],
   "source": [
    "print()"
   ]
  },
  {
   "cell_type": "code",
   "execution_count": 4,
   "id": "44d5dd95",
   "metadata": {},
   "outputs": [
    {
     "name": "stdout",
     "output_type": "stream",
     "text": [
      "Python Start!\n",
      "\n",
      "Python Start!\n"
     ]
    }
   ],
   "source": [
    "print('Python Start!')\n",
    "print()  # 한칸 들여쓰기를 위해 사용할 수도 있다. \n",
    "print('Python Start!')"
   ]
  },
  {
   "cell_type": "code",
   "execution_count": null,
   "id": "1b14fb1f",
   "metadata": {},
   "outputs": [],
   "source": []
  }
 ],
 "metadata": {
  "kernelspec": {
   "display_name": "Python 3",
   "language": "python",
   "name": "python3"
  },
  "language_info": {
   "codemirror_mode": {
    "name": "ipython",
    "version": 3
   },
   "file_extension": ".py",
   "mimetype": "text/x-python",
   "name": "python",
   "nbconvert_exporter": "python",
   "pygments_lexer": "ipython3",
   "version": "3.8.8"
  }
 },
 "nbformat": 4,
 "nbformat_minor": 5
}
