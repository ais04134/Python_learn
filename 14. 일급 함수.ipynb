{
 "cells": [
  {
   "cell_type": "markdown",
   "id": "ab296a66",
   "metadata": {},
   "source": [
    "# Python 일급 함수(객체) - 기본 특징\n",
    "* 런타임 초기화\n",
    "* 변수 할당 가능\n",
    "* 함수 인수 전달 가능\n",
    "* 함수 결과 반환 가능(return)"
   ]
  },
  {
   "cell_type": "code",
   "execution_count": 15,
   "id": "63553190",
   "metadata": {
    "ExecuteTime": {
     "end_time": "2021-09-02T04:26:53.254271Z",
     "start_time": "2021-09-02T04:26:53.246296Z"
    }
   },
   "outputs": [
    {
     "name": "stdout",
     "output_type": "stream",
     "text": [
      "120\n",
      "\n",
      "Factorial Function -> n : int\n",
      "\n",
      "<class 'function'> <class 'type'>\n",
      "\n",
      "{'__closure__', '__kwdefaults__', '__name__', '__globals__', '__qualname__', '__defaults__', '__annotations__', '__get__', '__code__', '__call__'}\n",
      "\n",
      "factorial\n",
      "\n",
      "<code object factorial at 0x000001295B41BB30, file \"<ipython-input-15-5d37f1e17c2b>\", line 3>\n"
     ]
    }
   ],
   "source": [
    "# 함수 객체\n",
    "\n",
    "def factorial(n):\n",
    "    '''Factorial Function -> n : int'''\n",
    "    if n == 1: # n <2\n",
    "        return 1\n",
    "    return n*factorial(n-1)\n",
    "\n",
    "class A:\n",
    "    pass\n",
    "\n",
    "print(factorial(5)) # 이런식으로 재귀함수를 통하여 팩토리얼을 구현할 수 있다,\n",
    "print()\n",
    "print(factorial.__doc__)\n",
    "print()\n",
    "print(type(factorial), type(A)) \n",
    "print()\n",
    "print(set(sorted(dir(factorial))) - set(sorted(dir(A)))) # 뭐.. 이렇게 차이가 있구먼~ 정도로\n",
    "print()\n",
    "print(factorial.__name__)\n",
    "print()\n",
    "print(factorial.__code__) # 이런식으로 속성 값들을 들여다 볼 수 있다.\n",
    "\n",
    "# => 즉, 함수는 객체 취급을 하고 있다."
   ]
  },
  {
   "cell_type": "code",
   "execution_count": 19,
   "id": "cce26208",
   "metadata": {
    "ExecuteTime": {
     "end_time": "2021-09-02T04:28:25.775017Z",
     "start_time": "2021-09-02T04:28:25.757071Z"
    },
    "scrolled": true
   },
   "outputs": [
    {
     "name": "stdout",
     "output_type": "stream",
     "text": [
      "<function factorial at 0x000001295E51C550>\n",
      "\n",
      "3628800\n",
      "\n",
      "<map object at 0x000001295D9042B0>\n",
      "\n",
      "[1, 2, 6, 24, 120, 720, 5040, 40320, 362880, 3628800]\n"
     ]
    }
   ],
   "source": [
    "var_func = factorial # 함수 자체를 변수로 할당하였다.\n",
    "\n",
    "print(var_func)\n",
    "print()\n",
    "print(var_func(10))\n",
    "print()\n",
    "print(map(var_func, range(1,11)))\n",
    "print()\n",
    "print(list(map(var_func, range(1,11))))"
   ]
  },
  {
   "cell_type": "markdown",
   "id": "152c0179",
   "metadata": {},
   "source": [
    "## 함수 인수 전달 및 함수로 결과 반환 -> 고위 함수(Higher-order function)\n",
    "* map, filter, reduce 등"
   ]
  },
  {
   "cell_type": "code",
   "execution_count": 20,
   "id": "6db51c62",
   "metadata": {
    "ExecuteTime": {
     "end_time": "2021-09-02T04:29:03.180250Z",
     "start_time": "2021-09-02T04:29:03.174202Z"
    },
    "scrolled": true
   },
   "outputs": [
    {
     "name": "stdout",
     "output_type": "stream",
     "text": [
      "[1, 6, 120]\n",
      "[1, 6, 120]\n"
     ]
    }
   ],
   "source": [
    "print(list(map(var_func, filter(lambda x: x % 2, range(1,6)))))\n",
    "print([var_func(i) for i in range(1,6) if i % 2])"
   ]
  },
  {
   "cell_type": "markdown",
   "id": "d1608ad6",
   "metadata": {},
   "source": [
    "### reduce()"
   ]
  },
  {
   "cell_type": "code",
   "execution_count": 23,
   "id": "3f461f89",
   "metadata": {
    "ExecuteTime": {
     "end_time": "2021-09-02T04:35:03.126289Z",
     "start_time": "2021-09-02T04:35:03.110342Z"
    }
   },
   "outputs": [
    {
     "name": "stdout",
     "output_type": "stream",
     "text": [
      "55\n",
      "55\n"
     ]
    }
   ],
   "source": [
    "from functools import reduce\n",
    "from operator import add\n",
    "\n",
    "print(reduce(add, range(1,11))) # 감소하면서 누적된다.\n",
    "print(sum(range(1,11)))"
   ]
  },
  {
   "cell_type": "markdown",
   "id": "b2a96c0e",
   "metadata": {},
   "source": [
    " ### 익명함수(lambda)\n",
    "* 가급적 주석 작성\n",
    "* 가급적 함수 사용\n",
    "* 일반 함수 형태로 리팩토링 권장"
   ]
  },
  {
   "cell_type": "code",
   "execution_count": 24,
   "id": "00b6e383",
   "metadata": {
    "ExecuteTime": {
     "end_time": "2021-09-02T04:35:26.374500Z",
     "start_time": "2021-09-02T04:35:26.368520Z"
    }
   },
   "outputs": [
    {
     "name": "stdout",
     "output_type": "stream",
     "text": [
      "55\n"
     ]
    }
   ],
   "source": [
    "print(reduce(lambda x, t: x + t, range(1,11)))"
   ]
  },
  {
   "cell_type": "markdown",
   "id": "ac2e5c57",
   "metadata": {},
   "source": [
    "### Callable : 호출 연산자 -> 메소드 형태로 호출 가능한지 확인\n",
    "* 호출 가능 확인"
   ]
  },
  {
   "cell_type": "code",
   "execution_count": 30,
   "id": "36522cf8",
   "metadata": {
    "ExecuteTime": {
     "end_time": "2021-09-02T04:43:07.028121Z",
     "start_time": "2021-09-02T04:43:07.018225Z"
    },
    "scrolled": true
   },
   "outputs": [
    {
     "name": "stdout",
     "output_type": "stream",
     "text": [
      "True True True False\n"
     ]
    }
   ],
   "source": [
    "print(callable(str), callable(list), callable(var_func), callable(3.14))"
   ]
  },
  {
   "cell_type": "markdown",
   "id": "0fd058d5",
   "metadata": {},
   "source": [
    "### partial 사용법 : 인수 고정 -> 콜백 함수에 사용"
   ]
  },
  {
   "cell_type": "code",
   "execution_count": 29,
   "id": "a356a8b5",
   "metadata": {
    "ExecuteTime": {
     "end_time": "2021-09-02T04:42:06.268551Z",
     "start_time": "2021-09-02T04:42:06.252599Z"
    }
   },
   "outputs": [
    {
     "name": "stdout",
     "output_type": "stream",
     "text": [
      "100\n",
      "50\n",
      "30\n",
      "[5, 10, 15, 20, 25, 30, 35, 40, 45, 50]\n",
      "[5, 10, 15, 20, 25, 30, 35, 40, 45, 50]\n"
     ]
    }
   ],
   "source": [
    "from operator import mul\n",
    "from functools import partial\n",
    "\n",
    "print(mul(10,10))\n",
    "\n",
    "# 인수 고정\n",
    "five = partial(mul, 5)\n",
    "\n",
    "# 고정 추가\n",
    "six = partial(five, 6)\n",
    "\n",
    "print(five(10))\n",
    "print(six())\n",
    "print([five(i) for i in range(1,11)])\n",
    "print(list(map(five, range(1,11))))"
   ]
  },
  {
   "cell_type": "markdown",
   "id": "7ce5cf91",
   "metadata": {},
   "source": [
    "# 일급함수- 클로저"
   ]
  },
  {
   "cell_type": "code",
   "execution_count": 31,
   "id": "a7857db2",
   "metadata": {
    "ExecuteTime": {
     "end_time": "2021-09-02T05:33:40.648405Z",
     "start_time": "2021-09-02T05:33:40.629476Z"
    }
   },
   "outputs": [
    {
     "name": "stdout",
     "output_type": "stream",
     "text": [
      "10\n"
     ]
    },
    {
     "ename": "NameError",
     "evalue": "name 'b' is not defined",
     "output_type": "error",
     "traceback": [
      "\u001b[1;31m---------------------------------------------------------------------------\u001b[0m",
      "\u001b[1;31mNameError\u001b[0m                                 Traceback (most recent call last)",
      "\u001b[1;32m<ipython-input-31-cb247d83a284>\u001b[0m in \u001b[0;36m<module>\u001b[1;34m\u001b[0m\n\u001b[0;32m      4\u001b[0m     \u001b[0mprint\u001b[0m\u001b[1;33m(\u001b[0m\u001b[0mb\u001b[0m\u001b[1;33m)\u001b[0m\u001b[1;33m\u001b[0m\u001b[1;33m\u001b[0m\u001b[0m\n\u001b[0;32m      5\u001b[0m \u001b[1;33m\u001b[0m\u001b[0m\n\u001b[1;32m----> 6\u001b[1;33m \u001b[0mfunc_v1\u001b[0m\u001b[1;33m(\u001b[0m\u001b[1;36m10\u001b[0m\u001b[1;33m)\u001b[0m\u001b[1;33m\u001b[0m\u001b[1;33m\u001b[0m\u001b[0m\n\u001b[0m",
      "\u001b[1;32m<ipython-input-31-cb247d83a284>\u001b[0m in \u001b[0;36mfunc_v1\u001b[1;34m(a)\u001b[0m\n\u001b[0;32m      2\u001b[0m \u001b[1;32mdef\u001b[0m \u001b[0mfunc_v1\u001b[0m\u001b[1;33m(\u001b[0m\u001b[0ma\u001b[0m\u001b[1;33m)\u001b[0m\u001b[1;33m:\u001b[0m\u001b[1;33m\u001b[0m\u001b[1;33m\u001b[0m\u001b[0m\n\u001b[0;32m      3\u001b[0m     \u001b[0mprint\u001b[0m\u001b[1;33m(\u001b[0m\u001b[0ma\u001b[0m\u001b[1;33m)\u001b[0m\u001b[1;33m\u001b[0m\u001b[1;33m\u001b[0m\u001b[0m\n\u001b[1;32m----> 4\u001b[1;33m     \u001b[0mprint\u001b[0m\u001b[1;33m(\u001b[0m\u001b[0mb\u001b[0m\u001b[1;33m)\u001b[0m\u001b[1;33m\u001b[0m\u001b[1;33m\u001b[0m\u001b[0m\n\u001b[0m\u001b[0;32m      5\u001b[0m \u001b[1;33m\u001b[0m\u001b[0m\n\u001b[0;32m      6\u001b[0m \u001b[0mfunc_v1\u001b[0m\u001b[1;33m(\u001b[0m\u001b[1;36m10\u001b[0m\u001b[1;33m)\u001b[0m\u001b[1;33m\u001b[0m\u001b[1;33m\u001b[0m\u001b[0m\n",
      "\u001b[1;31mNameError\u001b[0m: name 'b' is not defined"
     ]
    }
   ],
   "source": [
    "# Ex1\n",
    "\n",
    "def func_v1(a):\n",
    "    print(a)\n",
    "    print(b)\n",
    "    \n",
    "func_v1(10)"
   ]
  },
  {
   "cell_type": "code",
   "execution_count": 32,
   "id": "3416aee7",
   "metadata": {
    "ExecuteTime": {
     "end_time": "2021-09-02T05:34:13.550513Z",
     "start_time": "2021-09-02T05:34:13.545456Z"
    }
   },
   "outputs": [
    {
     "name": "stdout",
     "output_type": "stream",
     "text": [
      "10\n",
      "20\n"
     ]
    }
   ],
   "source": [
    "#Ex2\n",
    "\n",
    "b = 20 # 글로벌 \n",
    "\n",
    "def func_v2(a): # 로컬\n",
    "    print(a)\n",
    "    print(b)\n",
    "    \n",
    "func_v2(10)"
   ]
  },
  {
   "cell_type": "code",
   "execution_count": 33,
   "id": "460466a5",
   "metadata": {
    "ExecuteTime": {
     "end_time": "2021-09-02T05:35:34.457159Z",
     "start_time": "2021-09-02T05:35:34.430249Z"
    }
   },
   "outputs": [
    {
     "name": "stdout",
     "output_type": "stream",
     "text": [
      "10\n"
     ]
    },
    {
     "ename": "UnboundLocalError",
     "evalue": "local variable 'c' referenced before assignment",
     "output_type": "error",
     "traceback": [
      "\u001b[1;31m---------------------------------------------------------------------------\u001b[0m",
      "\u001b[1;31mUnboundLocalError\u001b[0m                         Traceback (most recent call last)",
      "\u001b[1;32m<ipython-input-33-58e2ed3d75b2>\u001b[0m in \u001b[0;36m<module>\u001b[1;34m\u001b[0m\n\u001b[0;32m      8\u001b[0m     \u001b[0mc\u001b[0m \u001b[1;33m=\u001b[0m \u001b[1;36m40\u001b[0m\u001b[1;33m\u001b[0m\u001b[1;33m\u001b[0m\u001b[0m\n\u001b[0;32m      9\u001b[0m \u001b[1;33m\u001b[0m\u001b[0m\n\u001b[1;32m---> 10\u001b[1;33m \u001b[0mfunc_v3\u001b[0m\u001b[1;33m(\u001b[0m\u001b[1;36m10\u001b[0m\u001b[1;33m)\u001b[0m\u001b[1;33m\u001b[0m\u001b[1;33m\u001b[0m\u001b[0m\n\u001b[0m",
      "\u001b[1;32m<ipython-input-33-58e2ed3d75b2>\u001b[0m in \u001b[0;36mfunc_v3\u001b[1;34m(a)\u001b[0m\n\u001b[0;32m      5\u001b[0m \u001b[1;32mdef\u001b[0m \u001b[0mfunc_v3\u001b[0m\u001b[1;33m(\u001b[0m\u001b[0ma\u001b[0m\u001b[1;33m)\u001b[0m\u001b[1;33m:\u001b[0m\u001b[1;33m\u001b[0m\u001b[1;33m\u001b[0m\u001b[0m\n\u001b[0;32m      6\u001b[0m     \u001b[0mprint\u001b[0m\u001b[1;33m(\u001b[0m\u001b[0ma\u001b[0m\u001b[1;33m)\u001b[0m\u001b[1;33m\u001b[0m\u001b[1;33m\u001b[0m\u001b[0m\n\u001b[1;32m----> 7\u001b[1;33m     \u001b[0mprint\u001b[0m\u001b[1;33m(\u001b[0m\u001b[0mc\u001b[0m\u001b[1;33m)\u001b[0m\u001b[1;33m\u001b[0m\u001b[1;33m\u001b[0m\u001b[0m\n\u001b[0m\u001b[0;32m      8\u001b[0m     \u001b[0mc\u001b[0m \u001b[1;33m=\u001b[0m \u001b[1;36m40\u001b[0m\u001b[1;33m\u001b[0m\u001b[1;33m\u001b[0m\u001b[0m\n\u001b[0;32m      9\u001b[0m \u001b[1;33m\u001b[0m\u001b[0m\n",
      "\u001b[1;31mUnboundLocalError\u001b[0m: local variable 'c' referenced before assignment"
     ]
    }
   ],
   "source": [
    "#Ex3\n",
    "\n",
    "c = 30\n",
    "\n",
    "def func_v3(a): \n",
    "    print(a)\n",
    "    print(c)\n",
    "    c = 40\n",
    "    \n",
    "func_v3(10)"
   ]
  },
  {
   "cell_type": "code",
   "execution_count": 35,
   "id": "929d170c",
   "metadata": {
    "ExecuteTime": {
     "end_time": "2021-09-02T05:36:39.344946Z",
     "start_time": "2021-09-02T05:36:39.335040Z"
    }
   },
   "outputs": [
    {
     "name": "stdout",
     "output_type": "stream",
     "text": [
      ">> 30\n",
      "10\n",
      "40\n"
     ]
    }
   ],
   "source": [
    "#Ex3\n",
    "\n",
    "c = 30\n",
    "\n",
    "def func_v3(a):\n",
    "    c = 40\n",
    "    print(a)\n",
    "    print(c)\n",
    "    \n",
    "\n",
    "print('>>', c)    \n",
    "func_v3(10)"
   ]
  },
  {
   "cell_type": "code",
   "execution_count": 37,
   "id": "b014b5f5",
   "metadata": {
    "ExecuteTime": {
     "end_time": "2021-09-02T05:37:49.294701Z",
     "start_time": "2021-09-02T05:37:49.282742Z"
    }
   },
   "outputs": [
    {
     "name": "stdout",
     "output_type": "stream",
     "text": [
      ">> 30\n",
      "10\n",
      "30\n",
      ">>> 40\n"
     ]
    }
   ],
   "source": [
    "#Ex3\n",
    "\n",
    "c = 30\n",
    "\n",
    "def func_v3(a):\n",
    "    global c\n",
    "    print(a)\n",
    "    print(c)\n",
    "    c = 40\n",
    "\n",
    "print('>>', c)    \n",
    "func_v3(10)\n",
    "print(\">>>\", c)"
   ]
  },
  {
   "cell_type": "markdown",
   "id": "a7f2fadc",
   "metadata": {},
   "source": [
    "# Closure(클로저) 사용 이유\n",
    "* 서버 프로그래밍 -> 동시성(Concurrency)제어 -> 메모리 공간에 여러 자원이 접근 -> 교착상태(Dead Lock)\n",
    "* 메모리를 공유하지 않고 메시지 전달로 처리하기 위한 -> Erlang\n",
    "* 클로저는 공유하되 변경되지 않는(Immutable, Read Only) 적극적으로 사용 -> 함수형 프로그래밍\n",
    "* 클로저는 불변자료구조 및 atom, STM -> 멀티스레드(Coroutine) 프로그래밍에 강점"
   ]
  },
  {
   "cell_type": "code",
   "execution_count": 38,
   "id": "0b919b42",
   "metadata": {
    "ExecuteTime": {
     "end_time": "2021-09-02T06:09:08.293321Z",
     "start_time": "2021-09-02T06:09:08.278297Z"
    }
   },
   "outputs": [
    {
     "name": "stdout",
     "output_type": "stream",
     "text": [
      "200\n",
      "1100\n",
      "1275\n",
      "3775\n",
      "\n",
      "\n",
      "inner >>> [15] / 1\n",
      "15.0\n",
      "inner >>> [15, 35] / 2\n",
      "25.0\n",
      "inner >>> [15, 35, 40] / 3\n",
      "30.0\n"
     ]
    }
   ],
   "source": [
    "a = 100\n",
    "\n",
    "print(a + 100)\n",
    "print(a + 1000)\n",
    "\n",
    "# 결과 누적(함수 사용)\n",
    "print(sum(range(1,51)))\n",
    "print(sum(range(51,101)))\n",
    "\n",
    "print()\n",
    "print()\n",
    "\n",
    "# 클래스 이용\n",
    "class Averager():\n",
    "    def __init__(self):\n",
    "        self._series = []\n",
    "\n",
    "    def __call__(self, v):\n",
    "        self._series.append(v)\n",
    "        print('inner >>> {} / {}'.format(self._series, len(self._series)))\n",
    "        return sum(self._series) / len(self._series)\n",
    "\n",
    "\n",
    "# 인스턴스 생성\n",
    "averager_cls = Averager()\n",
    "\n",
    "# 누적\n",
    "print(averager_cls(15))\n",
    "print(averager_cls(35))\n",
    "print(averager_cls(40))\n"
   ]
  },
  {
   "cell_type": "code",
   "execution_count": 3,
   "id": "4bdb45bf",
   "metadata": {
    "ExecuteTime": {
     "end_time": "2021-09-05T06:25:34.356374Z",
     "start_time": "2021-09-05T06:25:34.343437Z"
    }
   },
   "outputs": [
    {
     "name": "stdout",
     "output_type": "stream",
     "text": [
      "onner >>> [10]/1\n",
      "10.0\n",
      "onner >>> [10, 30]/2\n",
      "20.0\n",
      "onner >>> [10, 30, 50]/3\n",
      "30.0\n"
     ]
    }
   ],
   "source": [
    "# Closure 사용\n",
    "\n",
    "def closure_ex1():\n",
    "    # Free variable\n",
    "    # 클로저 영역\n",
    "    series = []\n",
    "    def averager(v):\n",
    "        series.append(v)\n",
    "        print('onner >>> {}/{}'.format(series, len(series)))\n",
    "        return sum(series)/ len(series)\n",
    "    return averager\n",
    "\n",
    "avg_closure1 = closure_ex1()\n",
    "\n",
    "print(avg_closure1(10))\n",
    "print(avg_closure1(30))\n",
    "print(avg_closure1(50))"
   ]
  },
  {
   "cell_type": "code",
   "execution_count": 4,
   "id": "56f177f9",
   "metadata": {
    "ExecuteTime": {
     "end_time": "2021-09-05T06:27:00.556480Z",
     "start_time": "2021-09-05T06:27:00.549481Z"
    }
   },
   "outputs": [
    {
     "name": "stdout",
     "output_type": "stream",
     "text": [
      "['__annotations__', '__call__', '__class__', '__closure__', '__code__', '__defaults__', '__delattr__', '__dict__', '__dir__', '__doc__', '__eq__', '__format__', '__ge__', '__get__', '__getattribute__', '__globals__', '__gt__', '__hash__', '__init__', '__init_subclass__', '__kwdefaults__', '__le__', '__lt__', '__module__', '__name__', '__ne__', '__new__', '__qualname__', '__reduce__', '__reduce_ex__', '__repr__', '__setattr__', '__sizeof__', '__str__', '__subclasshook__']\n"
     ]
    }
   ],
   "source": [
    "# function inspection\n",
    "print(dir(avg_closure1))"
   ]
  },
  {
   "cell_type": "code",
   "execution_count": 5,
   "id": "82a1395f",
   "metadata": {
    "ExecuteTime": {
     "end_time": "2021-09-05T06:27:26.881110Z",
     "start_time": "2021-09-05T06:27:26.869027Z"
    }
   },
   "outputs": [
    {
     "name": "stdout",
     "output_type": "stream",
     "text": [
      "['__class__', '__delattr__', '__dir__', '__doc__', '__eq__', '__format__', '__ge__', '__getattribute__', '__gt__', '__hash__', '__init__', '__init_subclass__', '__le__', '__lt__', '__ne__', '__new__', '__reduce__', '__reduce_ex__', '__repr__', '__setattr__', '__sizeof__', '__str__', '__subclasshook__', 'co_argcount', 'co_cellvars', 'co_code', 'co_consts', 'co_filename', 'co_firstlineno', 'co_flags', 'co_freevars', 'co_kwonlyargcount', 'co_lnotab', 'co_name', 'co_names', 'co_nlocals', 'co_posonlyargcount', 'co_stacksize', 'co_varnames', 'replace']\n"
     ]
    }
   ],
   "source": [
    "print(dir(avg_closure1.__code__))"
   ]
  },
  {
   "cell_type": "code",
   "execution_count": 6,
   "id": "755033da",
   "metadata": {
    "ExecuteTime": {
     "end_time": "2021-09-05T06:28:19.149932Z",
     "start_time": "2021-09-05T06:28:19.143905Z"
    }
   },
   "outputs": [
    {
     "name": "stdout",
     "output_type": "stream",
     "text": [
      "('series',)\n"
     ]
    }
   ],
   "source": [
    "print(avg_closure1.__code__.co_freevars)"
   ]
  },
  {
   "cell_type": "code",
   "execution_count": 7,
   "id": "26b296ce",
   "metadata": {
    "ExecuteTime": {
     "end_time": "2021-09-05T06:28:56.998346Z",
     "start_time": "2021-09-05T06:28:56.996330Z"
    }
   },
   "outputs": [
    {
     "name": "stdout",
     "output_type": "stream",
     "text": [
      "['__add__', '__class__', '__contains__', '__delattr__', '__dir__', '__doc__', '__eq__', '__format__', '__ge__', '__getattribute__', '__getitem__', '__getnewargs__', '__gt__', '__hash__', '__init__', '__init_subclass__', '__iter__', '__le__', '__len__', '__lt__', '__mul__', '__ne__', '__new__', '__reduce__', '__reduce_ex__', '__repr__', '__rmul__', '__setattr__', '__sizeof__', '__str__', '__subclasshook__', 'count', 'index']\n"
     ]
    }
   ],
   "source": [
    "print(dir(avg_closure1.__closure__))"
   ]
  },
  {
   "cell_type": "code",
   "execution_count": 10,
   "id": "b8eb47c2",
   "metadata": {
    "ExecuteTime": {
     "end_time": "2021-09-05T06:32:18.025065Z",
     "start_time": "2021-09-05T06:32:18.002066Z"
    }
   },
   "outputs": [
    {
     "ename": "UnboundLocalError",
     "evalue": "local variable 'cnt' referenced before assignment",
     "output_type": "error",
     "traceback": [
      "\u001b[1;31m---------------------------------------------------------------------------\u001b[0m",
      "\u001b[1;31mUnboundLocalError\u001b[0m                         Traceback (most recent call last)",
      "\u001b[1;32m<ipython-input-10-a6f1ea4b0069>\u001b[0m in \u001b[0;36m<module>\u001b[1;34m\u001b[0m\n\u001b[0;32m     15\u001b[0m \u001b[0mavg_closure2\u001b[0m \u001b[1;33m=\u001b[0m \u001b[0mclosure_ex2\u001b[0m\u001b[1;33m(\u001b[0m\u001b[1;33m)\u001b[0m\u001b[1;33m\u001b[0m\u001b[1;33m\u001b[0m\u001b[0m\n\u001b[0;32m     16\u001b[0m \u001b[1;33m\u001b[0m\u001b[0m\n\u001b[1;32m---> 17\u001b[1;33m \u001b[0mprint\u001b[0m\u001b[1;33m(\u001b[0m\u001b[0mavg_closure2\u001b[0m\u001b[1;33m(\u001b[0m\u001b[1;36m10\u001b[0m\u001b[1;33m)\u001b[0m\u001b[1;33m)\u001b[0m\u001b[1;33m\u001b[0m\u001b[1;33m\u001b[0m\u001b[0m\n\u001b[0m",
      "\u001b[1;32m<ipython-input-10-a6f1ea4b0069>\u001b[0m in \u001b[0;36maverager\u001b[1;34m(v)\u001b[0m\n\u001b[0;32m      7\u001b[0m \u001b[1;33m\u001b[0m\u001b[0m\n\u001b[0;32m      8\u001b[0m     \u001b[1;32mdef\u001b[0m \u001b[0maverager\u001b[0m\u001b[1;33m(\u001b[0m\u001b[0mv\u001b[0m\u001b[1;33m)\u001b[0m\u001b[1;33m:\u001b[0m\u001b[1;33m\u001b[0m\u001b[1;33m\u001b[0m\u001b[0m\n\u001b[1;32m----> 9\u001b[1;33m         \u001b[0mcnt\u001b[0m \u001b[1;33m+=\u001b[0m \u001b[1;36m1\u001b[0m\u001b[1;33m\u001b[0m\u001b[1;33m\u001b[0m\u001b[0m\n\u001b[0m\u001b[0;32m     10\u001b[0m         \u001b[0mtotal\u001b[0m \u001b[1;33m+=\u001b[0m \u001b[0mv\u001b[0m\u001b[1;33m\u001b[0m\u001b[1;33m\u001b[0m\u001b[0m\n\u001b[0;32m     11\u001b[0m         \u001b[1;32mreturn\u001b[0m \u001b[0mtotal\u001b[0m \u001b[1;33m/\u001b[0m \u001b[0mcnt\u001b[0m\u001b[1;33m\u001b[0m\u001b[1;33m\u001b[0m\u001b[0m\n",
      "\u001b[1;31mUnboundLocalError\u001b[0m: local variable 'cnt' referenced before assignment"
     ]
    }
   ],
   "source": [
    "# 잘못된 클로저 사용\n",
    "\n",
    "def closure_ex2():\n",
    "    # Free varialbe\n",
    "    cnt = 0\n",
    "    total = 0\n",
    "    \n",
    "    def averager(v):\n",
    "        cnt += 1\n",
    "        total += v\n",
    "        return total / cnt\n",
    "    \n",
    "    return averager\n",
    "\n",
    "avg_closure2 = closure_ex2()\n",
    "\n",
    "print(avg_closure2(10))"
   ]
  },
  {
   "cell_type": "code",
   "execution_count": null,
   "id": "3ea3ea9d",
   "metadata": {},
   "outputs": [],
   "source": [
    "def closure_ex1():\n",
    "    # Free variable\n",
    "    # 클로저 영역\n",
    "    series = []\n",
    "    def averager(v):\n",
    "        series.append(v)\n",
    "        print('onner >>> {}/{}'.format(series, len(series)))\n",
    "        return sum(series)/ len(series)\n",
    "    return averager"
   ]
  },
  {
   "cell_type": "markdown",
   "id": "1af4fcd5",
   "metadata": {},
   "source": [
    "이거랑 비교 해보자."
   ]
  },
  {
   "cell_type": "markdown",
   "id": "2e48a6f0",
   "metadata": {},
   "source": [
    "# 데코레이터\n",
    "1. 장점\n",
    "* 중복 제거, 코드 간결, 공통 함수 작성\n",
    "* 로깅, 프레임워크, 유혀성 체크 -> 공통 기능\n",
    "* 조합해서 사용 용이\n",
    "\n",
    "2. 단점\n",
    "* 가독성 감소\n",
    "* 특정 기능에 한정된 함수 -> 단일 함수로 작성하는 것이 유리\n",
    "* 디버깅 불편\n",
    "\n"
   ]
  },
  {
   "cell_type": "code",
   "execution_count": 14,
   "id": "ad0e23a3",
   "metadata": {
    "ExecuteTime": {
     "end_time": "2021-09-05T07:04:39.294459Z",
     "start_time": "2021-09-05T07:04:36.261234Z"
    }
   },
   "outputs": [
    {
     "name": "stdout",
     "output_type": "stream",
     "text": [
      "<function perf_clock.<locals>.perf_clocked at 0x0000014D50D9B940> ('func',)\n",
      "<function perf_clock.<locals>.perf_clocked at 0x0000014D50D9BA60> ('func',)\n",
      "---------------------------------------- Called None Decorator -> time_func\n",
      "\n",
      "[1.50459s] time_func(1.5) -> None\n",
      "[1.50471s] perf_clocked(1.5) -> None\n",
      "---------------------------------------- Called None Decorator -> sum_func\n",
      "\n",
      "[0.00000s] sum_func(100, 150, 250, 300, 350) -> 1150\n",
      "[0.00003s] perf_clocked(100, 150, 250, 300, 350) -> 1150\n",
      "\n",
      "\n",
      "**************************************** Called Decorator -> time_func\n",
      "\n",
      "[1.50771s] time_func(1.5) -> None\n",
      "**************************************** Called Decorator -> sum_func\n",
      "\n",
      "[0.00000s] sum_func(100, 150, 250, 300, 350) -> 1150\n",
      "\n"
     ]
    }
   ],
   "source": [
    "import time\n",
    "\n",
    "def perf_clock(func):\n",
    "    def perf_clocked(*args):\n",
    "        # 함수 시작 시간\n",
    "        st = time.perf_counter()\n",
    "        # 함수 실행\n",
    "        result = func(*args)\n",
    "        # 함수 종료 시간\n",
    "        et = time.perf_counter() -st\n",
    "        # 실행 함수명\n",
    "        name = func.__name__\n",
    "        # 함수 매개변수\n",
    "        arg_str = ', '.join(repr(arg) for arg in args)\n",
    "        # 결과 출력\n",
    "        print('[%0.5fs] %s(%s) -> %r' % (et, name, arg_str, result))       \n",
    "        return result\n",
    "    return perf_clocked\n",
    "\n",
    "@perf_clock\n",
    "def time_func(seconds):\n",
    "    time.sleep(seconds)\n",
    "\n",
    "@perf_clock\n",
    "def sum_func(*numbers):\n",
    "    return sum(numbers)\n",
    "\n",
    "# 데코레이터 미사용\n",
    "none_deco1 = perf_clock(time_func)\n",
    "none_deco2 = perf_clock(sum_func)\n",
    "\n",
    "print(none_deco1, none_deco1.__code__.co_freevars)\n",
    "print(none_deco2, none_deco2.__code__.co_freevars)\n",
    "\n",
    "print('-' * 40, 'Called None Decorator -> time_func')\n",
    "print()\n",
    "none_deco1(1.5)\n",
    "print('-' * 40, 'Called None Decorator -> sum_func')\n",
    "print()\n",
    "none_deco2(100, 150, 250, 300, 350)\n",
    "\n",
    "print()\n",
    "print()\n",
    "\n",
    "\n",
    "# 데코레이터 사용\n",
    "print('*' * 40, 'Called Decorator -> time_func')\n",
    "print()\n",
    "time_func(1.5)\n",
    "print('*' * 40, 'Called Decorator -> sum_func')\n",
    "print()\n",
    "sum_func(100, 150, 250, 300, 350)\n",
    "print()"
   ]
  },
  {
   "cell_type": "code",
   "execution_count": null,
   "id": "34c28ad1",
   "metadata": {},
   "outputs": [],
   "source": []
  }
 ],
 "metadata": {
  "kernelspec": {
   "display_name": "Python 3",
   "language": "python",
   "name": "python3"
  },
  "language_info": {
   "codemirror_mode": {
    "name": "ipython",
    "version": 3
   },
   "file_extension": ".py",
   "mimetype": "text/x-python",
   "name": "python",
   "nbconvert_exporter": "python",
   "pygments_lexer": "ipython3",
   "version": "3.8.8"
  },
  "toc": {
   "base_numbering": 1,
   "nav_menu": {},
   "number_sections": true,
   "sideBar": true,
   "skip_h1_title": false,
   "title_cell": "Table of Contents",
   "title_sidebar": "Contents",
   "toc_cell": false,
   "toc_position": {},
   "toc_section_display": true,
   "toc_window_display": false
  },
  "varInspector": {
   "cols": {
    "lenName": 16,
    "lenType": 16,
    "lenVar": 40
   },
   "kernels_config": {
    "python": {
     "delete_cmd_postfix": "",
     "delete_cmd_prefix": "del ",
     "library": "var_list.py",
     "varRefreshCmd": "print(var_dic_list())"
    },
    "r": {
     "delete_cmd_postfix": ") ",
     "delete_cmd_prefix": "rm(",
     "library": "var_list.r",
     "varRefreshCmd": "cat(var_dic_list()) "
    }
   },
   "types_to_exclude": [
    "module",
    "function",
    "builtin_function_or_method",
    "instance",
    "_Feature"
   ],
   "window_display": false
  }
 },
 "nbformat": 4,
 "nbformat_minor": 5
}
