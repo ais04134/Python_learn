{
 "cells": [
  {
   "cell_type": "markdown",
   "id": "8e8079f2",
   "metadata": {},
   "source": [
    "# for를 이용한 기본 활용\n",
    "1 부터 100까지 모두 더하는 code를 for 문을 사용하여 만드시오."
   ]
  },
  {
   "cell_type": "code",
   "execution_count": 1,
   "id": "da793907",
   "metadata": {
    "ExecuteTime": {
     "end_time": "2021-09-27T04:55:50.104349Z",
     "start_time": "2021-09-27T04:55:50.097372Z"
    }
   },
   "outputs": [
    {
     "name": "stdout",
     "output_type": "stream",
     "text": [
      "5050\n"
     ]
    }
   ],
   "source": [
    "s = 0\n",
    "for i in range(100):\n",
    "    s += i+1\n",
    "    \n",
    "print(s)"
   ]
  },
  {
   "cell_type": "markdown",
   "id": "38f41ba0",
   "metadata": {},
   "source": [
    "# 게임 캐릭터 클래스 만들기\n",
    "다음 소스코드에서 클래스를 작성하여 게임 캐릭터의 능력치와 '파이어볼'이 출력되게 만드시오."
   ]
  },
  {
   "cell_type": "code",
   "execution_count": 2,
   "id": "62c89750",
   "metadata": {
    "ExecuteTime": {
     "end_time": "2021-09-27T04:56:00.000814Z",
     "start_time": "2021-09-27T04:55:59.991844Z"
    }
   },
   "outputs": [
    {
     "name": "stdout",
     "output_type": "stream",
     "text": [
      "545 210 10\n",
      "파이어볼\n"
     ]
    }
   ],
   "source": [
    "class Wizard:\n",
    "    def __init__(self, health, mana, armor):\n",
    "        self.health = health\n",
    "        self.mana = mana\n",
    "        self.armor = armor\n",
    "    \n",
    "    def attack(self):\n",
    "        print('파이어볼')\n",
    "        \n",
    "    def health(self):\n",
    "        print(health)\n",
    "    \n",
    "    def mana(self):\n",
    "        print(mana)\n",
    "    \n",
    "    def armor(self):\n",
    "        print(armor)\n",
    "        \n",
    "\n",
    "x = Wizard(health = 545, mana = 210, armor = 10)\n",
    "print(x.health, x.mana, x.armor)\n",
    "x.attack()"
   ]
  },
  {
   "cell_type": "markdown",
   "id": "f74696d0",
   "metadata": {},
   "source": [
    "# 몇 번째 행성인가요?\n",
    "우리 태양계를 이루고 있는 행성은 수성, 금성, 지구, 화성, 목성, 토성, 천왕성, 해왕성으로 총 8개 입니다. 저희는 우리 태양계의 n번째 행성이 무엇인지 알고 싶습니다.  \n",
    "\n",
    "입력으로 행성의 순서를 나타내는 숫자 n이 입력됩니다. 예를들어 수성은 첫번째 행성입니다.\n",
    "\n",
    "출력으로 그 순서에 해당하는 행성의 이름을 출력해 주세요."
   ]
  },
  {
   "cell_type": "code",
   "execution_count": 8,
   "id": "d7471b55",
   "metadata": {
    "ExecuteTime": {
     "end_time": "2021-09-27T04:59:55.287994Z",
     "start_time": "2021-09-27T04:59:53.232829Z"
    }
   },
   "outputs": [
    {
     "name": "stdout",
     "output_type": "stream",
     "text": [
      "1\n",
      "수성\n"
     ]
    }
   ],
   "source": [
    "n = int(input())\n",
    "\n",
    "planet_list = [\"수성\", \"금성\", \"지구\", \"화성\", \"목성\", \"토성\", \"천왕성\", \"해왕성\"]\n",
    "\n",
    "print(planet_list[n-1])"
   ]
  },
  {
   "cell_type": "markdown",
   "id": "9d62497e",
   "metadata": {},
   "source": [
    "# 3의 배수 인가요?\n",
    "영희는 친구와 게임을 하고 있습니다. 서로 돌아가며 랜덤으로 숫자를 하나 말하고 그게 3의 배수이면 박수를 치고 아니면 그 숫자를 그대로 말하는 게임입니다.\n",
    "\n",
    "입력으로 랜덤한 숫자 n이 주어집니다.\n",
    "\n",
    "만약 그 수가 3의배수라면 '짝'이라는 글자를, 3의 배수가 아니라면 n을 그대로 출력해 주세요."
   ]
  },
  {
   "cell_type": "code",
   "execution_count": 11,
   "id": "82de7eea",
   "metadata": {
    "ExecuteTime": {
     "end_time": "2021-09-27T05:07:43.701704Z",
     "start_time": "2021-09-27T05:07:42.528443Z"
    }
   },
   "outputs": [
    {
     "name": "stdout",
     "output_type": "stream",
     "text": [
      "6\n",
      "짝\n"
     ]
    }
   ],
   "source": [
    "n = int(input())\n",
    "\n",
    "if n%3 == 0: \n",
    "    print(\"짝\")\n",
    "else:\n",
    "    print(n)"
   ]
  },
  {
   "cell_type": "markdown",
   "id": "000218bc",
   "metadata": {},
   "source": [
    "# 자기소개\n",
    "신학기가 시작되고, 아이들이 돌아가면서 자기소개를 하기로 했습니다. 만약 입력으로 김다정이라는 이름이 주어지면 \" 안녕하세요. 저는 김다정입니다.\" 라고 출력하게 해주세요."
   ]
  },
  {
   "cell_type": "code",
   "execution_count": 15,
   "id": "31868265",
   "metadata": {
    "ExecuteTime": {
     "end_time": "2021-09-27T05:09:27.831813Z",
     "start_time": "2021-09-27T05:09:25.285512Z"
    }
   },
   "outputs": [
    {
     "name": "stdout",
     "output_type": "stream",
     "text": [
      "이름을 입력하시오. :박건현\n",
      "안녕하세요. 저는 박건현입니다.\n"
     ]
    }
   ],
   "source": [
    "name = input(\"이름을 입력하시오. :\")\n",
    "\n",
    "print(f'안녕하세요. 저는 {name}입니다.')"
   ]
  },
  {
   "cell_type": "markdown",
   "id": "b0f7b06f",
   "metadata": {},
   "source": [
    "# 로꾸거\n",
    "문장이 입력되면 거꾸로 출력하는 프로그램을 만들어 봅시다."
   ]
  },
  {
   "cell_type": "code",
   "execution_count": 18,
   "id": "808ee0b6",
   "metadata": {
    "ExecuteTime": {
     "end_time": "2021-09-27T05:13:31.262341Z",
     "start_time": "2021-09-27T05:13:29.913506Z"
    }
   },
   "outputs": [
    {
     "name": "stdout",
     "output_type": "stream",
     "text": [
      "graewgar\n",
      "ragwearg\n"
     ]
    }
   ],
   "source": [
    "string = input()\n",
    "\n",
    "reversed_string = ''.join(reversed(string))\n",
    "\n",
    "print(reversed_string)"
   ]
  },
  {
   "cell_type": "markdown",
   "id": "84788fa6",
   "metadata": {},
   "source": [
    "# 놀이기구 키 제한\n",
    "유주는 놀이공원 아르바이트 중입니다. 그런데 놀이기구마다 키 제한이 있습니다. 유주가 담당하는 놀이기구는 키가 150이상만 탈 수 있습니다.\n",
    "\n",
    "입력으로 키가 주어지면  \n",
    "키가 150이 넘으면 yes 아니면 no를 출력하는 프로그램을 작성하세요."
   ]
  },
  {
   "cell_type": "code",
   "execution_count": 20,
   "id": "21291dfd",
   "metadata": {
    "ExecuteTime": {
     "end_time": "2021-09-27T05:16:30.452867Z",
     "start_time": "2021-09-27T05:16:29.266327Z"
    }
   },
   "outputs": [
    {
     "name": "stdout",
     "output_type": "stream",
     "text": [
      "434\n",
      "yes\n"
     ]
    }
   ],
   "source": [
    "height = int(input())\n",
    "\n",
    "if height > 150:\n",
    "    print('yes')\n",
    "else:\n",
    "    print('no')"
   ]
  },
  {
   "cell_type": "markdown",
   "id": "1488941f",
   "metadata": {},
   "source": [
    "# 평균 점수\n",
    "영하네 반은 국어, 수학, 영어 시험을 보았습니다. 영하는 친구들의 평균 점수를 구해주기로 했습니다.\n",
    "\n",
    "공백으로 구분하여 세 과목의 점수가 주어지면  \n",
    "전체 평균 점수를 구하는 프로그램을 작성하세요. 단, 소숫점 자리는 모두 버립니다."
   ]
  },
  {
   "cell_type": "code",
   "execution_count": 28,
   "id": "8edc4585",
   "metadata": {
    "ExecuteTime": {
     "end_time": "2021-09-27T05:25:04.736891Z",
     "start_time": "2021-09-27T05:25:02.573688Z"
    }
   },
   "outputs": [
    {
     "name": "stdout",
     "output_type": "stream",
     "text": [
      "시험점수의 값을 띄어쓰기로 구분하여 입력하시오.:20 30 40\n",
      "30\n"
     ]
    }
   ],
   "source": [
    "test_score = input(\"시험점수의 값을 띄어쓰기로 구분하여 입력하시오.:\")\n",
    "\n",
    "def test_average(test_score):\n",
    "    test_score_list = test_score.split(\" \")\n",
    "    test_score_list = list(map(int,test_score_list))\n",
    "    \n",
    "    answer = sum(test_score_list)//len(test_score_list)\n",
    "    return answer\n",
    "    \n",
    "    \n",
    "print(test_average(test_score))"
   ]
  },
  {
   "cell_type": "markdown",
   "id": "c8cc7e4f",
   "metadata": {},
   "source": [
    "# 제곱을 구하자\n",
    "공백으로 구분하여 두 숫자 a와b가 주어지면, a의b승을 구하는 프로그램을 작성하세요."
   ]
  },
  {
   "cell_type": "code",
   "execution_count": 29,
   "id": "2fdb45cf",
   "metadata": {
    "ExecuteTime": {
     "end_time": "2021-09-27T05:28:00.642143Z",
     "start_time": "2021-09-27T05:27:58.257460Z"
    }
   },
   "outputs": [
    {
     "name": "stdout",
     "output_type": "stream",
     "text": [
      "숫자 a, b를 입력하시오.:2 5\n",
      "32\n"
     ]
    }
   ],
   "source": [
    "number = input(\"숫자 a, b를 입력하시오.:\")\n",
    "\n",
    "number = number.split(\" \")\n",
    "print(int(number[0])**int(number[1]))"
   ]
  },
  {
   "cell_type": "markdown",
   "id": "cf0b4dc0",
   "metadata": {},
   "source": [
    "# 몫과 나머지\n",
    "공백으로 구분하여 두 숫자가 주어집니다.  \n",
    "첫번째 숫자로 두번째 숫자를 나누었을 때 그 몫과 나머지를 공백으로 구분하여 출력하세요."
   ]
  },
  {
   "cell_type": "code",
   "execution_count": 31,
   "id": "73e505c8",
   "metadata": {
    "ExecuteTime": {
     "end_time": "2021-09-27T05:30:44.593303Z",
     "start_time": "2021-09-27T05:30:42.488132Z"
    }
   },
   "outputs": [
    {
     "name": "stdout",
     "output_type": "stream",
     "text": [
      "숫자 a, b를 입력하시오.:10 2\n",
      "5 0\n"
     ]
    }
   ],
   "source": [
    "number = input(\"숫자 a, b를 입력하시오.:\")\n",
    "\n",
    "number = number.split(\" \")\n",
    "a, b = divmod(int(number[0]),int(number[1]))\n",
    "print(a, b)"
   ]
  }
 ],
 "metadata": {
  "kernelspec": {
   "display_name": "Python 3",
   "language": "python",
   "name": "python3"
  },
  "language_info": {
   "codemirror_mode": {
    "name": "ipython",
    "version": 3
   },
   "file_extension": ".py",
   "mimetype": "text/x-python",
   "name": "python",
   "nbconvert_exporter": "python",
   "pygments_lexer": "ipython3",
   "version": "3.8.8"
  },
  "toc": {
   "base_numbering": 1,
   "nav_menu": {},
   "number_sections": true,
   "sideBar": true,
   "skip_h1_title": false,
   "title_cell": "Table of Contents",
   "title_sidebar": "Contents",
   "toc_cell": false,
   "toc_position": {},
   "toc_section_display": true,
   "toc_window_display": false
  },
  "varInspector": {
   "cols": {
    "lenName": 16,
    "lenType": 16,
    "lenVar": 40
   },
   "kernels_config": {
    "python": {
     "delete_cmd_postfix": "",
     "delete_cmd_prefix": "del ",
     "library": "var_list.py",
     "varRefreshCmd": "print(var_dic_list())"
    },
    "r": {
     "delete_cmd_postfix": ") ",
     "delete_cmd_prefix": "rm(",
     "library": "var_list.r",
     "varRefreshCmd": "cat(var_dic_list()) "
    }
   },
   "types_to_exclude": [
    "module",
    "function",
    "builtin_function_or_method",
    "instance",
    "_Feature"
   ],
   "window_display": false
  }
 },
 "nbformat": 4,
 "nbformat_minor": 5
}
