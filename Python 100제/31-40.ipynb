{
 "cells": [
  {
   "cell_type": "markdown",
   "id": "9f0fdffb",
   "metadata": {},
   "source": [
    "# 파이썬 자료형의 복잡도\n",
    "다음 리스트의 내장함수의 시간 복잡도가 O(1)이 아닌것은?\n",
    "* 시간 복잡도 정리 : https://daimhada.tistory.com/56\n",
    "3. i[a:b] <-O(N) 아닌가?.. "
   ]
  },
  {
   "cell_type": "markdown",
   "id": "6e2466f6",
   "metadata": {},
   "source": [
    "# 문자열 만들기\n",
    "취업 준비생인 원영이는 자기소개서를 쓰고 있습니다. 열심히 자기소개서를 작성하던 도중 원영이는 자기가 지금까지 단어를 얼마나 적었는지 궁금하게 됩니다.\n",
    "\n",
    "원영이를 위해 문자열을 입력받으면 단어의 갯수를 출력하는 프로그램을 작성해 주세요."
   ]
  },
  {
   "cell_type": "code",
   "execution_count": 2,
   "id": "65a2963c",
   "metadata": {
    "ExecuteTime": {
     "end_time": "2021-09-29T05:01:12.136436Z",
     "start_time": "2021-09-29T05:01:02.568652Z"
    }
   },
   "outputs": [
    {
     "name": "stdout",
     "output_type": "stream",
     "text": [
      "문자열을 입력하시오.: 저 넓은 세상을 네 눈앞에 그려봐 네 진심을 느껴봐\n",
      "9\n"
     ]
    }
   ],
   "source": [
    "string = input('문자열을 입력하시오.: ')\n",
    "\n",
    "def string_count(string):\n",
    "    string = string.split(\" \")\n",
    "    return len(string)\n",
    "\n",
    "print(string_count(string))"
   ]
  },
  {
   "cell_type": "markdown",
   "id": "91230886",
   "metadata": {},
   "source": [
    "# 거꾸로 출력하기\n",
    "한 줄에 여러개의 숫자가 입력되면, 역순으로 그 숫자들을 하나씩 출력하는 프로그램을 작성하시오."
   ]
  },
  {
   "cell_type": "code",
   "execution_count": 8,
   "id": "616b7456",
   "metadata": {
    "ExecuteTime": {
     "end_time": "2021-09-29T05:08:28.916157Z",
     "start_time": "2021-09-29T05:08:25.840377Z"
    },
    "scrolled": true
   },
   "outputs": [
    {
     "name": "stdout",
     "output_type": "stream",
     "text": [
      "한 줄로 여러 숫자를 입력하시오.: 1 2 3 4 5\n",
      "5 4 3 2 1\n"
     ]
    }
   ],
   "source": [
    "number = input(\"한 줄로 여러 숫자를 입력하시오.: \")\n",
    "\n",
    "def number_reverse(number):\n",
    "    number = number.split(\" \")\n",
    "    number.reverse()\n",
    "    return \" \".join(number)\n",
    "\n",
    "print(number_reverse(number))"
   ]
  },
  {
   "cell_type": "code",
   "execution_count": 10,
   "id": "f3ea7c56",
   "metadata": {
    "ExecuteTime": {
     "end_time": "2021-09-29T05:10:14.199377Z",
     "start_time": "2021-09-29T05:10:12.930311Z"
    }
   },
   "outputs": [
    {
     "name": "stdout",
     "output_type": "stream",
     "text": [
      "한 줄로 여러 숫자를 입력하시오.: 12345\n",
      "54321\n"
     ]
    }
   ],
   "source": [
    "number = input(\"한 줄로 여러 숫자를 입력하시오.: \")\n",
    "\n",
    "def number_reverse(number): return number[::-1]\n",
    "\n",
    "print(number_reverse(number))"
   ]
  },
  {
   "cell_type": "markdown",
   "id": "8f2427d8",
   "metadata": {},
   "source": [
    "확장슬라이스로 문자열을 뒤집을 수 있다."
   ]
  },
  {
   "cell_type": "markdown",
   "id": "69dd20dc",
   "metadata": {},
   "source": [
    "# sort 구현하기\n",
    "민주는 체육부장으로 체육시간이 되면 반 친구들이 제대로 키 순서대로 모였는지를 확인해야 한다.  \n",
    "그런데 요즘 민주는 그것이 너무 번거롭게 느껴져 한 번에 확인하고 싶어한다. \n",
    "\n",
    "민주를 위해 키가 주어지면 순서대로 제대로 섰는지 확인하는 프로그램을 작성해보자."
   ]
  },
  {
   "cell_type": "code",
   "execution_count": 61,
   "id": "7039d9c5",
   "metadata": {
    "ExecuteTime": {
     "end_time": "2021-09-29T06:38:47.964957Z",
     "start_time": "2021-09-29T06:38:46.926241Z"
    }
   },
   "outputs": [
    {
     "name": "stdout",
     "output_type": "stream",
     "text": [
      "한 줄로 키의 값을 입력하시오.: 176 156 155 165 166 169\n",
      "\n",
      "NO\n"
     ]
    }
   ],
   "source": [
    "height = input(\"한 줄로 키의 값을 입력하시오.: \")\n",
    "print()\n",
    "\n",
    "def order_of_height(height):\n",
    "    height = height.split(\" \")\n",
    "    if height == sorted(height): return \"YES\"\n",
    "    else: return \"NO\"\n",
    "    \n",
    "print(order_of_height(height))"
   ]
  },
  {
   "cell_type": "markdown",
   "id": "874695e9",
   "metadata": {},
   "source": [
    "# Factory 함수 사용하기\n",
    "2제곱, 3제곱, 4제곱을 할 수 있는 Factory 함수를 만들려고 합니다."
   ]
  },
  {
   "cell_type": "code",
   "execution_count": 19,
   "id": "6bf97027",
   "metadata": {
    "ExecuteTime": {
     "end_time": "2021-09-29T05:28:51.968285Z",
     "start_time": "2021-09-29T05:28:51.958311Z"
    }
   },
   "outputs": [
    {
     "name": "stdout",
     "output_type": "stream",
     "text": [
      "100\n",
      "1000\n",
      "10000\n"
     ]
    }
   ],
   "source": [
    "def one(n):\n",
    "    def two(value): \n",
    "        return value**n\n",
    "    return two\n",
    "\n",
    "a = one(2)\n",
    "b = one(3)\n",
    "c = one(4)\n",
    "print(a(10))\n",
    "print(b(10))\n",
    "print(c(10))"
   ]
  },
  {
   "cell_type": "markdown",
   "id": "59479829",
   "metadata": {},
   "source": [
    "예시로 a = two(value)를 받게 되는거다."
   ]
  },
  {
   "cell_type": "markdown",
   "id": "af84e044",
   "metadata": {},
   "source": [
    "# 구구단 출력하기\n",
    "1~9까지의 숫자 중 하나를 입력하면 그 단의 구구단 결과를 한 줄에 출력하는 프로그램을 작성하세요."
   ]
  },
  {
   "cell_type": "code",
   "execution_count": 60,
   "id": "951af6ba",
   "metadata": {
    "ExecuteTime": {
     "end_time": "2021-09-29T06:38:31.276084Z",
     "start_time": "2021-09-29T06:38:30.027968Z"
    }
   },
   "outputs": [
    {
     "name": "stdout",
     "output_type": "stream",
     "text": [
      "1~9까지의 숫자 중 하나를 입력하시오.: 9\n",
      "\n",
      "9 18 27 36 45 54 63 72 81\n"
     ]
    }
   ],
   "source": [
    "n = int(input(\"1~9까지의 숫자 중 하나를 입력하시오.: \"))\n",
    "print()\n",
    "\n",
    "def multiplicative(n): return \" \".join(list(map(str,(list(range(n,n*9+1,n))))))\n",
    "\n",
    "print(multiplicative(n))"
   ]
  },
  {
   "cell_type": "code",
   "execution_count": 59,
   "id": "48a74b85",
   "metadata": {
    "ExecuteTime": {
     "end_time": "2021-09-29T06:38:20.440017Z",
     "start_time": "2021-09-29T06:38:18.755039Z"
    }
   },
   "outputs": [
    {
     "name": "stdout",
     "output_type": "stream",
     "text": [
      "1~9까지의 숫자 중 하나를 입력하시오.: 9\n",
      "\n",
      "9 18 27 36 45 54 63 72 81\n"
     ]
    }
   ],
   "source": [
    "n = int(input(\"1~9까지의 숫자 중 하나를 입력하시오.: \"))\n",
    "print()\n",
    "\n",
    "def multiplicative(n): \n",
    "    gugu = list(range(n,n*9+1,n)) # 리스트로 구구단 값을 받아준다\n",
    "    gugu_str = list(map(str,gugu)) # 구구단 값 원소들을 문자열로 바꿔준다.\n",
    "    result = \" \".join(gugu_str) # 리스트 값을 띄어쓰기 기준으로 합치기\n",
    "    return result\n",
    "\n",
    "print(multiplicative(n))"
   ]
  },
  {
   "cell_type": "markdown",
   "id": "ffe67a64",
   "metadata": {},
   "source": [
    "# count사용하기\n",
    "새 학기를 맞아 은비네 반은 반장 선거를 하기로 했습니다. 그런데 표를 하나씩 개표하는 과정이 너무 번거롭게 느껴진 당신은 학생들이 뽑은 후보들을 입력받으면 뽑힌 학생의 이름과 받은 표 수를 출력하는 프로그램을 작성하기로 하였습니다."
   ]
  },
  {
   "cell_type": "markdown",
   "id": "f59b0947",
   "metadata": {},
   "source": [
    "## 외장함수를 사용한 접근방법"
   ]
  },
  {
   "cell_type": "code",
   "execution_count": 58,
   "id": "38df7695",
   "metadata": {
    "ExecuteTime": {
     "end_time": "2021-09-29T06:38:10.570453Z",
     "start_time": "2021-09-29T06:38:09.313461Z"
    }
   },
   "outputs": [
    {
     "name": "stdout",
     "output_type": "stream",
     "text": [
      "학생 후보들의 이름을 입력하시오.: 원영 원영 은비 은비 은비 은비 채연 채연\n",
      "\n",
      "은비(이)가 총 4표로 반장이 되었습니다.\n"
     ]
    }
   ],
   "source": [
    "name = input('학생 후보들의 이름을 입력하시오.: ')\n",
    "print()\n",
    "\n",
    "def election_of_half_president(name):\n",
    "    name = name.split(\" \")\n",
    "    \n",
    "    import collections\n",
    "    name_collections = dict(collections.Counter(name))# 외장 함수를 사용하여 후보의 이름과 총 수를 구함\n",
    "    max_number = max(name_collections.values()) # 총 수의 최대값\n",
    "    \n",
    "    reverse_dict = dict(map(reversed,name_collections.items())) # map을 활용하여 dict를 뒤집은 dict\n",
    "    max_name = reverse_dict.get(max_number)\n",
    "    return f'{max_name}(이)가 총 {max_number}표로 반장이 되었습니다.'\n",
    "\n",
    "print(election_of_half_president(name))"
   ]
  },
  {
   "cell_type": "markdown",
   "id": "732a7036",
   "metadata": {},
   "source": [
    "## count를 사용한 접근방법"
   ]
  },
  {
   "cell_type": "code",
   "execution_count": 62,
   "id": "11484019",
   "metadata": {
    "ExecuteTime": {
     "end_time": "2021-09-29T06:42:51.295617Z",
     "start_time": "2021-09-29T06:42:45.766855Z"
    }
   },
   "outputs": [
    {
     "name": "stdout",
     "output_type": "stream",
     "text": [
      "학생 후보들의 이름을 입력하시오.: 원영 원영 은비 은비 은비 은비 채연 채연\n",
      "\n",
      "[2, 2, 4] ['원영', '채연', '은비']\n",
      "\n",
      "은비(이)가 총 4표로 반장이 되었습니다.\n"
     ]
    }
   ],
   "source": [
    "name = input('학생 후보들의 이름을 입력하시오.: ')\n",
    "print()\n",
    "\n",
    "def election_of_half_president(name):\n",
    "    name = name.split(\" \")\n",
    "    \n",
    "    name_set = set(name) # 이름의 중복 제거\n",
    "    sum_list = [name.count(i) for i in name_set] # 각 후보의 총 투표 수\n",
    "    name_list = list(name_set) # 이름 리스트로 변환\n",
    "    print(sum_list, name_list)\n",
    "    print()\n",
    "    \n",
    "    max_number_index = sum_list.index(max(sum_list)) \n",
    "    # set으로 순서가 없어졌어도 count 했는 순서는 동일 하므로, \n",
    "    # 이름 인덱스와 총 투표수 인덱스의 값은 동일함\n",
    "    \n",
    "    max_name = name_list[max_number_index]\n",
    "    max_number = max(sum_list)\n",
    "\n",
    "    return f'{max_name}(이)가 총 {max_number}표로 반장이 되었습니다.'\n",
    "\n",
    "print(election_of_half_president(name))"
   ]
  },
  {
   "cell_type": "markdown",
   "id": "ef390b35",
   "metadata": {},
   "source": [
    "# 호준이의 아르바이트\n",
    "호준이는 아르바이트로 영어 학원에서 단어 시험지를 채점하는 일을 하고 있다. 호준이가 일하는 학원은 매번 1위부터 3위까지의 학생에게 상으로 사탕을 준다. 그런데 오른은 마침 사탕이 다 떨어져서 호준이가 채점을 하고 점수를 보내면, 당신이 아이들의 숫자만큼 사탕을 사러 가기로 했다.\n",
    "\n",
    "학생들의 점수를 공백으로 구분하여 입력받는다. 1위-3위 학생은 여러명일 수 있고 1~3위 학생 중 중복되는 학생까지 포함하여 사탕을 사기로 한다."
   ]
  },
  {
   "cell_type": "code",
   "execution_count": 64,
   "id": "7ccd0e2c",
   "metadata": {
    "ExecuteTime": {
     "end_time": "2021-09-29T08:19:01.100637Z",
     "start_time": "2021-09-29T08:19:00.079192Z"
    }
   },
   "outputs": [
    {
     "name": "stdout",
     "output_type": "stream",
     "text": [
      "학생들의 점수 값을 입력하시오.: 97 86 75 66 55 97 85 97 97 95\n",
      "\n",
      "6\n"
     ]
    }
   ],
   "source": [
    "test_score = input(\"학생들의 점수 값을 입력하시오.: \")\n",
    "\n",
    "print()\n",
    "\n",
    "def candy_number(test_score):\n",
    "    test_score = test_score.split(\" \")\n",
    "    test_score.sort(reverse = True) # 값이 큰 순서대로 정렬\n",
    "    \n",
    "    from itertools import groupby\n",
    "    return sum([len(list(group)) for key, group in groupby(test_score)][:3])\n",
    "    # groupby를 통하여 그룹화 한 값 중 1~3등 값의 개수만을 구하고 그 값을 sum 하였다.\n",
    "    \n",
    "print(candy_number(test_score))"
   ]
  },
  {
   "cell_type": "markdown",
   "id": "ee332318",
   "metadata": {},
   "source": [
    "# 오타 수정하기\n",
    "혜원이는 평소 영타가 빠르고 정확한 것을 친구들에게 자랑하고 다녔습니다. 반 친구들이 혜원이의 타자 속도가 빠르다는 것을 모두 알게 되자 혜원이는 모두의 앞에서 타자 실력을 보여주게 됩니다. \n",
    "\n",
    "그런데 막상 보여주려니 기장이 되서 문장의 모든 e를 q로 잘못 친 것을 발견했습니다.  \n",
    "혜원이는 프로그램을 돌려 재빠르게 모든 q를e로 바꾸는 프로그램을 작성하려고 합니다.  \n",
    "\n",
    "문장이 입력되면 모든 q를 e로 바꾸는 프로그램을 작성해 주세요."
   ]
  },
  {
   "cell_type": "code",
   "execution_count": 65,
   "id": "fe31ebb9",
   "metadata": {
    "ExecuteTime": {
     "end_time": "2021-09-29T08:24:28.483387Z",
     "start_time": "2021-09-29T08:24:22.539231Z"
    }
   },
   "outputs": [
    {
     "name": "stdout",
     "output_type": "stream",
     "text": [
      "문자열을 입력하시오.: querty\n",
      "euerty\n"
     ]
    }
   ],
   "source": [
    "string = input(\"문자열을 입력하시오.: \")\n",
    "\n",
    "def typo_correction(string): return string.replace(\"q\", \"e\")\n",
    "    \n",
    "print(typo_correction(string))"
   ]
  },
  {
   "cell_type": "code",
   "execution_count": 67,
   "id": "fb632dd9",
   "metadata": {
    "ExecuteTime": {
     "end_time": "2021-09-29T08:25:35.771604Z",
     "start_time": "2021-09-29T08:25:27.616886Z"
    }
   },
   "outputs": [
    {
     "name": "stdout",
     "output_type": "stream",
     "text": [
      "문자열을 입력하시오.: La viq qn rosq\n",
      "La vie en rose\n"
     ]
    }
   ],
   "source": [
    "string = input(\"문자열을 입력하시오.: \")\n",
    "\n",
    "def typo_correction(string): return string.replace(\"q\", \"e\")\n",
    "    \n",
    "print(typo_correction(string))"
   ]
  },
  {
   "cell_type": "markdown",
   "id": "4090b59c",
   "metadata": {},
   "source": [
    "# 놀이동산에 가자\n",
    "테마파크에 온 원범이와 친구들은 놀이기구를 타려고 합니다. 모든 놀이기구는 한번에 타는 인원수에는 제한이 없지만 제한 무게를 넘으면 무조건 다음 기구를 타야 합니다. \n",
    "\n",
    "원범이와 친구들이 총 몇 명 탈 수 있는지 알 수 있는 프로그램을 작성해 주세요.\n",
    "\n",
    "첫번째 줄에서 제한 무게가 주어지고 두번째 줄에서는 함께한 친구들의 수 n이 주어집니다.  \n",
    "그 다음 차례대로 탑승할 친구들의 몸무게가 주어집니다. 몸무게는 무작위로 주어집니다."
   ]
  },
  {
   "cell_type": "code",
   "execution_count": 72,
   "id": "a15a4e46",
   "metadata": {
    "ExecuteTime": {
     "end_time": "2021-09-29T08:38:35.510239Z",
     "start_time": "2021-09-29T08:38:31.246478Z"
    }
   },
   "outputs": [
    {
     "name": "stdout",
     "output_type": "stream",
     "text": [
      "50\n",
      "5\n",
      "20 20 20 20 20\n",
      "\n",
      "2\n"
     ]
    }
   ],
   "source": [
    "limit_weight = int(input())\n",
    "n = int(input())\n",
    "list_weight = list(map(int, input().split(\" \")))\n",
    "print()\n",
    "\n",
    "def amusement_park(limit_weight, n, list_weight):\n",
    "    count =0\n",
    "    maximum = 0\n",
    "\n",
    "    for i in range(len(list_weight)) :\n",
    "        maximum += list_weight[i]\n",
    "        if limit_weight < maximum :\n",
    "            break\n",
    "        count+=1;\n",
    "    \n",
    "    return count\n",
    "\n",
    "print(amusement_park(limit_weight, n, list_weight))"
   ]
  }
 ],
 "metadata": {
  "kernelspec": {
   "display_name": "Python 3",
   "language": "python",
   "name": "python3"
  },
  "language_info": {
   "codemirror_mode": {
    "name": "ipython",
    "version": 3
   },
   "file_extension": ".py",
   "mimetype": "text/x-python",
   "name": "python",
   "nbconvert_exporter": "python",
   "pygments_lexer": "ipython3",
   "version": "3.9.6"
  },
  "toc": {
   "base_numbering": 1,
   "nav_menu": {},
   "number_sections": true,
   "sideBar": true,
   "skip_h1_title": false,
   "title_cell": "Table of Contents",
   "title_sidebar": "Contents",
   "toc_cell": false,
   "toc_position": {},
   "toc_section_display": true,
   "toc_window_display": false
  },
  "varInspector": {
   "cols": {
    "lenName": 16,
    "lenType": 16,
    "lenVar": 40
   },
   "kernels_config": {
    "python": {
     "delete_cmd_postfix": "",
     "delete_cmd_prefix": "del ",
     "library": "var_list.py",
     "varRefreshCmd": "print(var_dic_list())"
    },
    "r": {
     "delete_cmd_postfix": ") ",
     "delete_cmd_prefix": "rm(",
     "library": "var_list.r",
     "varRefreshCmd": "cat(var_dic_list()) "
    }
   },
   "types_to_exclude": [
    "module",
    "function",
    "builtin_function_or_method",
    "instance",
    "_Feature"
   ],
   "window_display": false
  }
 },
 "nbformat": 4,
 "nbformat_minor": 5
}
