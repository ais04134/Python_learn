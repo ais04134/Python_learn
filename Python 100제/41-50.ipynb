{
 "cells": [
  {
   "cell_type": "markdown",
   "id": "6b45a0d0",
   "metadata": {},
   "source": [
    "# 소수판별\n",
    "숫자가 주어지면 소수인지 아닌지 판별하는 프로그램을 작성해주세요.  \n",
    "소수이면yes로, 소수가 아니면no로 출력해주세요.  \n",
    "(소수: 1과 자기 자신만으로 나누어떨어지는 1보다 큰 양의 정수)"
   ]
  },
  {
   "cell_type": "markdown",
   "id": "88c8ea86",
   "metadata": {},
   "source": [
    "## 내가 생각한 기본적인 코드"
   ]
  },
  {
   "cell_type": "code",
   "execution_count": 15,
   "id": "4b2518e6",
   "metadata": {
    "ExecuteTime": {
     "end_time": "2021-09-30T03:07:51.871512Z",
     "start_time": "2021-09-30T03:07:50.988926Z"
    }
   },
   "outputs": [
    {
     "name": "stdout",
     "output_type": "stream",
     "text": [
      "숫자를 입력하세요.: 6\n",
      "\n",
      "NO\n"
     ]
    }
   ],
   "source": [
    "number = int(input(\"숫자를 입력하세요.: \"))\n",
    "print()\n",
    "\n",
    "def decimal(number):\n",
    "    for i in range(2, number):\n",
    "        # 2부터 (X-1)까지의 모든 수를 확인 하므로 시간 복잡도가 O(N)이다.\n",
    "        if number % i == 0:\n",
    "            return \"NO\"\n",
    "    return \"YES\"\n",
    "\n",
    "print(decimal(number))"
   ]
  },
  {
   "cell_type": "markdown",
   "id": "7c2ab798",
   "metadata": {},
   "source": [
    "## 구글 검색한 방법들"
   ]
  },
  {
   "cell_type": "code",
   "execution_count": 14,
   "id": "2f153029",
   "metadata": {
    "ExecuteTime": {
     "end_time": "2021-09-30T03:07:46.629058Z",
     "start_time": "2021-09-30T03:07:44.414348Z"
    }
   },
   "outputs": [
    {
     "name": "stdout",
     "output_type": "stream",
     "text": [
      "숫자를 입력하세요.: 6\n",
      "\n",
      "NO\n"
     ]
    }
   ],
   "source": [
    "number = int(input(\"숫자를 입력하세요.: \"))\n",
    "print()\n",
    "\n",
    "# 제곱근까지만 보고 소수를 판별하는 함수\n",
    "def decimal(number):\n",
    "    import math\n",
    "    # 2부터 number의 제곱근까지의 모든 수를 확인하며, 시간 복잡도가 O(number^(1/2))이다.\n",
    "    for i in range(2, int(math.sqrt(number))+1):\n",
    "    # number가 해당 수로 나누어 떨어진다면\n",
    "        if number % i == 0:\n",
    "            return \"NO\"\n",
    "    return \"YES\"\n",
    "\n",
    "print(decimal(number))"
   ]
  },
  {
   "cell_type": "code",
   "execution_count": 13,
   "id": "9a16d91c",
   "metadata": {
    "ExecuteTime": {
     "end_time": "2021-09-30T03:07:38.158429Z",
     "start_time": "2021-09-30T03:07:36.143679Z"
    }
   },
   "outputs": [
    {
     "name": "stdout",
     "output_type": "stream",
     "text": [
      "숫자를 입력하세요.: 6\n",
      "\n",
      "NO\n"
     ]
    }
   ],
   "source": [
    "number = int(input(\"숫자를 입력하세요.: \"))\n",
    "print()\n",
    "\n",
    "def isPrime(number):\n",
    "    if(number < 2):\n",
    "        return \"NO\"\n",
    "    for i in range(2,number):\n",
    "        if(number % i==0):\n",
    "            return \"NO\"\n",
    "    return \"YES\"\n",
    "    \n",
    "print(decimal(number))"
   ]
  },
  {
   "cell_type": "markdown",
   "id": "589ab774",
   "metadata": {},
   "source": [
    "뭐...에라토스테네스의 체라는 방식을 통하여 시간 복잡도가 O(NloglogN)으로 매우 빠르게 동작하는 방식이 있다고 하는데, 이런거는 참고만 하는 정도~"
   ]
  },
  {
   "cell_type": "markdown",
   "id": "0bcf4f14",
   "metadata": {},
   "source": [
    "# 2020년\n",
    "2020년 1월 1일은 수요일입니다. 2020년 a월b일은 무슨 요일일까요?  \n",
    "두 수 a, b를 입력받아 2020년 a월 b일이 무슨 요일인지 리턴하는 함수, solution을 완성하세요.  \n",
    "요일의 이름은 일요일부터 토요일까지 각각 SUN, MON, TUE, WED, THU, FRI, SAT 입니다.  \n",
    "\n",
    "예를 들어 a= 5, b = 24라면 5월 24일은 일요일이므로 문자열 \"SUN\"를 반환하세요. \n",
    "\n",
    "* <제한 조건>  \n",
    "2020년은 윤년입니다.  \n",
    "2020년 a월 b일은 실제로 있는 날입니다. "
   ]
  },
  {
   "cell_type": "code",
   "execution_count": 21,
   "id": "9f368446",
   "metadata": {
    "ExecuteTime": {
     "end_time": "2021-09-30T03:21:08.969921Z",
     "start_time": "2021-09-30T03:21:07.688812Z"
    }
   },
   "outputs": [
    {
     "name": "stdout",
     "output_type": "stream",
     "text": [
      "월 값을 입력하세요.: 5\n",
      "일 값을 입력하세요.: 24\n",
      "\n",
      "SUN\n"
     ]
    }
   ],
   "source": [
    "a = int(input(\"월 값을 입력하세요.: \"))\n",
    "b = int(input(\"일 값을 입력하세요.: \"))\n",
    "print()\n",
    "\n",
    "def datetime(a,b):\n",
    "    import datetime\n",
    "    \n",
    "    day_dict = {\"0\": \"MON\", \n",
    "                \"1\": \"TUE\", \n",
    "                \"2\": \"WED\",\n",
    "                \"3\": \"THU\", \n",
    "                \"4\": \"FRI\",\n",
    "                \"5\": \"SAT\", \n",
    "                \"6\": \"SUN\"\n",
    "               }\n",
    "    \n",
    "    day = datetime.date(2020, a, b)\n",
    "    day = str(day.weekday())\n",
    "    \n",
    "    return day_dict.get(day)\n",
    "    \n",
    "print(datetime(a,b))"
   ]
  },
  {
   "cell_type": "markdown",
   "id": "1e7a3482",
   "metadata": {},
   "source": [
    "# 10진수를 2진수로\n",
    "우리가 흔히 사용하는 숫자는 10진수 체계입니다.  \n",
    "이를 컴퓨터가 알아 들을 수 있는 2진수로 바꾸려고 합니다. 어떻게 해야할까요?  \n",
    "\n",
    "예를들어 13은 2^3+2^2+2^0 = 13 이기때문에 1101으로 표현합니다. \n",
    "\n",
    "사용자에게 숫자를 입력받고 이를 2진수를 바꾸고 그 값을 출력해주세요.  \n",
    "(bin 함수를 사용하지 않고 풀어주세요.) "
   ]
  },
  {
   "cell_type": "code",
   "execution_count": 24,
   "id": "84b57ee2",
   "metadata": {
    "ExecuteTime": {
     "end_time": "2021-09-30T03:27:37.258277Z",
     "start_time": "2021-09-30T03:27:35.888261Z"
    }
   },
   "outputs": [
    {
     "name": "stdout",
     "output_type": "stream",
     "text": [
      "숫자를 입력하세요.: 10\n",
      "\n",
      "1010\n"
     ]
    }
   ],
   "source": [
    "number = int(input(\"숫자를 입력하세요.: \"))\n",
    "print()\n",
    "\n",
    "def bin(number):\n",
    "    binary = ''\n",
    "    while number > 0:\n",
    "        number, mod = divmod(number, 2)\n",
    "        binary += str(mod)\n",
    "    return binary[::-1]\n",
    "\n",
    "print(bin(number))"
   ]
  },
  {
   "cell_type": "code",
   "execution_count": 25,
   "id": "acbda7d2",
   "metadata": {
    "ExecuteTime": {
     "end_time": "2021-09-30T03:31:22.137942Z",
     "start_time": "2021-09-30T03:31:20.528609Z"
    }
   },
   "outputs": [
    {
     "name": "stdout",
     "output_type": "stream",
     "text": [
      "숫자를 입력하세요.: 10\n",
      "1010\n"
     ]
    }
   ],
   "source": [
    "# 친구 코드\n",
    "number = int(input(\"숫자를 입력하세요.: \"))\n",
    "\n",
    "def binary_converter(decimal_number):\n",
    "    square = 0\n",
    "    while decimal_number > (2 ** square):\n",
    "        square += 1\n",
    "    \n",
    "    square -= 1\n",
    "    \n",
    "    binary_number = 0\n",
    "    while decimal_number > 1:\n",
    "        if decimal_number >= 2 ** square:\n",
    "            binary_number += (10 ** square)\n",
    "            decimal_number -= (2 ** square)\n",
    "        square -= 1\n",
    "\n",
    "    result = str(binary_number)\n",
    "\n",
    "    return result\n",
    "\n",
    "print(binary_converter(number))"
   ]
  },
  {
   "cell_type": "markdown",
   "id": "5a6a73d4",
   "metadata": {},
   "source": [
    "# 각 자리수의 합  \n",
    "사용자가 입력한 양의 정수의 각 자리수의 합을 구하는 프로그램을 만들어주세요.  \n",
    "\n",
    "예를들어 \n",
    "3849 = 3+8+4+9 dlrh 정답은 24입니다."
   ]
  },
  {
   "cell_type": "code",
   "execution_count": 7,
   "id": "f444d81f",
   "metadata": {
    "ExecuteTime": {
     "end_time": "2021-09-30T04:43:14.974655Z",
     "start_time": "2021-09-30T04:43:05.818913Z"
    }
   },
   "outputs": [
    {
     "name": "stdout",
     "output_type": "stream",
     "text": [
      "숫자를 입력하세요.1234\n",
      "\n",
      "10\n"
     ]
    }
   ],
   "source": [
    "number = int(input(\"숫자를 입력하세요.\"))\n",
    "print()\n",
    "\n",
    "def number_location_sum(number): return sum(list(map(int,str(number))))\n",
    "    \n",
    "print(number_location_sum(number))"
   ]
  },
  {
   "cell_type": "markdown",
   "id": "33208b50",
   "metadata": {},
   "source": [
    "# time함수 사용하기  \n",
    "python의 모듈 중 하나인 time 모듈은 1970년 1월 1일 0시 0분 0초 이후로부터 지금까지 흐른 시간을 초단위로 변환합니다.  \n",
    "\n",
    "이를 이용하여 현재 연도를 출력해보세요."
   ]
  },
  {
   "cell_type": "code",
   "execution_count": 47,
   "id": "99d708a8",
   "metadata": {
    "ExecuteTime": {
     "end_time": "2021-09-30T03:50:04.203013Z",
     "start_time": "2021-09-30T03:50:04.190020Z"
    }
   },
   "outputs": [
    {
     "name": "stdout",
     "output_type": "stream",
     "text": [
      "Year 2021 Month 9 Day 30 Hour 12 Minute 50 Second 4\n"
     ]
    }
   ],
   "source": [
    "def today():\n",
    "    import time\n",
    "    second = time.time()\n",
    "    tm = time.localtime(second)\n",
    "    return f\"Year {tm.tm_year} Month {tm.tm_mon} Day {tm.tm_mday} Hour {tm.tm_hour} Minute {tm.tm_min} Second {tm.tm_sec}\"\n",
    "         \n",
    "print(today())"
   ]
  },
  {
   "cell_type": "markdown",
   "id": "0087e9e5",
   "metadata": {},
   "source": [
    "# str 자료형의 응용\n",
    "1부터 20까지의(20을 포함) 모든 숫자를 일렬로 놓고 모든 자릿수의 총 합을 구하세요.  \n",
    "\n",
    "예를 들어 10부터 15까지의 모든 숫자를 일렬로 놓으면 101112131415이고 각 자리의 숫자를 더하면 25입니다."
   ]
  },
  {
   "cell_type": "code",
   "execution_count": 8,
   "id": "b97e9920",
   "metadata": {
    "ExecuteTime": {
     "end_time": "2021-09-30T04:43:28.829584Z",
     "start_time": "2021-09-30T04:43:28.004569Z"
    }
   },
   "outputs": [
    {
     "name": "stdout",
     "output_type": "stream",
     "text": [
      "1부터 20까지의 모든 숫자를 일렬로 입력하세요.1234567891011121314151617181920\n",
      "\n",
      "102\n"
     ]
    }
   ],
   "source": [
    "number = int(input(\"1부터 20까지의 모든 숫자를 일렬로 입력하세요.\"))\n",
    "print()\n",
    "\n",
    "def number_location_sum(number): return sum(list(map(int,str(number))))\n",
    "    \n",
    "print(number_location_sum(number))"
   ]
  },
  {
   "cell_type": "markdown",
   "id": "e191a8a5",
   "metadata": {},
   "source": [
    "# set 자료형의 응용\n",
    "설문지를 배포하였으나 중복된 설문지들이 존재하였습니다. 실제 접수 명단이 몇 명인지 알고 싶습니다.  \n",
    "\n",
    "아래 주어진 데이터들로부터 중복을 제거하여 실제 접수 인원을 출력해 주세요."
   ]
  },
  {
   "cell_type": "code",
   "execution_count": 1,
   "id": "cdfda63d",
   "metadata": {
    "ExecuteTime": {
     "end_time": "2021-09-30T04:33:52.080318Z",
     "start_time": "2021-09-30T04:33:52.071318Z"
    }
   },
   "outputs": [
    {
     "data": {
      "text/plain": [
       "5"
      ]
     },
     "execution_count": 1,
     "metadata": {},
     "output_type": "execute_result"
    }
   ],
   "source": [
    "people = [\n",
    "    ('이호준', '01050442903'),\n",
    "    ('이호상', '01051442904'),\n",
    "    ('이준호', '01050342904'),\n",
    "    ('이호준', '01050442903'),\n",
    "    ('이준', '01050412904'),\n",
    "    ('이호', '01050443904'),\n",
    "    ('이호준', '01050442903')\n",
    "]\n",
    "\n",
    "def real_people_number(people): return len(set(people))\n",
    "\n",
    "real_people_number(people)"
   ]
  },
  {
   "cell_type": "markdown",
   "id": "bfb4f4ee",
   "metadata": {},
   "source": [
    "# 대소문자 바꿔서 출력하기 \n",
    "문자열이 주어지면 대문자와 소문자를 바꿔서 출력하는 프로그램을 작성하세요.\n",
    "\n"
   ]
  },
  {
   "cell_type": "code",
   "execution_count": 3,
   "id": "069fc61b",
   "metadata": {
    "ExecuteTime": {
     "end_time": "2021-09-30T04:38:40.761427Z",
     "start_time": "2021-09-30T04:38:38.509718Z"
    }
   },
   "outputs": [
    {
     "name": "stdout",
     "output_type": "stream",
     "text": [
      "영문자열을 입력하시오.: wgarwegaeGASREGAERG\n"
     ]
    },
    {
     "data": {
      "text/plain": [
       "'WGARWEGAEgasregaerg'"
      ]
     },
     "execution_count": 3,
     "metadata": {},
     "output_type": "execute_result"
    }
   ],
   "source": [
    "string = input(\"영문자열을 입력하시오.: \")\n",
    "\n",
    "def text(x):\n",
    "    if x == x.upper(): return x.lower()\n",
    "    else: return x.upper()\n",
    "    \n",
    "def string_conversion(string): return \"\".join(map(text,string))\n",
    "\n",
    "string_conversion(string)"
   ]
  },
  {
   "cell_type": "markdown",
   "id": "5acfece1",
   "metadata": {},
   "source": [
    "# 최댓값 구하기  \n",
    "순서가 없는 10개의 숫자가 공백으로 구분되어 주어진다. 주어진 숫자들 중 최댓값을 반환하라."
   ]
  },
  {
   "cell_type": "code",
   "execution_count": 6,
   "id": "edafc0fd",
   "metadata": {
    "ExecuteTime": {
     "end_time": "2021-09-30T04:42:47.305228Z",
     "start_time": "2021-09-30T04:42:46.622359Z"
    }
   },
   "outputs": [
    {
     "name": "stdout",
     "output_type": "stream",
     "text": [
      "순서가 없는 10개의 숫자를 입력하시오.: 3 41 51 123 5 3 41 3 5 6\n"
     ]
    },
    {
     "data": {
      "text/plain": [
       "123"
      ]
     },
     "execution_count": 6,
     "metadata": {},
     "output_type": "execute_result"
    }
   ],
   "source": [
    "number = input(\"순서가 없는 10개의 숫자를 입력하시오.: \")\n",
    "\n",
    "def number_location_max(number): return max(list(map(int,number.split())))\n",
    "    \n",
    "number_location_max(number)"
   ]
  },
  {
   "cell_type": "markdown",
   "id": "619d2b5f",
   "metadata": {},
   "source": [
    "# 버블정렬 구현하기 \n",
    "버블정렬은 두 인접한 원소를 검사하여 정렬하는 방법을 말합니다. 시간 복잡도는 느리지만 코드가 단순하기 때문에 자주 사용됩니다.  \n",
    "\n",
    "버블 정렬을 완성해 봅시다."
   ]
  },
  {
   "cell_type": "code",
   "execution_count": 2,
   "id": "f9e5ab05",
   "metadata": {
    "ExecuteTime": {
     "end_time": "2021-09-30T04:35:24.489407Z",
     "start_time": "2021-09-30T04:35:16.745030Z"
    }
   },
   "outputs": [
    {
     "name": "stdout",
     "output_type": "stream",
     "text": [
      "5\n",
      "20 4 6 46 2\n",
      "2 4 6 20 46 "
     ]
    }
   ],
   "source": [
    "def bubble(n, data):\n",
    "    for i in range(n-1):\n",
    "        for j in range(n-i-1):\n",
    "            if data[j] > data[j+1]:\n",
    "                data[j], data[j+1] = data[j+1], data[j] # 이런식으로 순환 시키는걸 생각 못 했다.\n",
    "    for i in range(n):\n",
    "        print(data[i], end = \" \")\n",
    "\n",
    "n = int(input())\n",
    "data = list(map(int, input().split()))\n",
    "\n",
    "bubble(n, data)"
   ]
  }
 ],
 "metadata": {
  "kernelspec": {
   "display_name": "Python 3",
   "language": "python",
   "name": "python3"
  },
  "language_info": {
   "codemirror_mode": {
    "name": "ipython",
    "version": 3
   },
   "file_extension": ".py",
   "mimetype": "text/x-python",
   "name": "python",
   "nbconvert_exporter": "python",
   "pygments_lexer": "ipython3",
   "version": "3.8.8"
  },
  "toc": {
   "base_numbering": 1,
   "nav_menu": {},
   "number_sections": true,
   "sideBar": true,
   "skip_h1_title": false,
   "title_cell": "Table of Contents",
   "title_sidebar": "Contents",
   "toc_cell": false,
   "toc_position": {},
   "toc_section_display": true,
   "toc_window_display": false
  },
  "varInspector": {
   "cols": {
    "lenName": 16,
    "lenType": 16,
    "lenVar": 40
   },
   "kernels_config": {
    "python": {
     "delete_cmd_postfix": "",
     "delete_cmd_prefix": "del ",
     "library": "var_list.py",
     "varRefreshCmd": "print(var_dic_list())"
    },
    "r": {
     "delete_cmd_postfix": ") ",
     "delete_cmd_prefix": "rm(",
     "library": "var_list.r",
     "varRefreshCmd": "cat(var_dic_list()) "
    }
   },
   "types_to_exclude": [
    "module",
    "function",
    "builtin_function_or_method",
    "instance",
    "_Feature"
   ],
   "window_display": false
  }
 },
 "nbformat": 4,
 "nbformat_minor": 5
}
