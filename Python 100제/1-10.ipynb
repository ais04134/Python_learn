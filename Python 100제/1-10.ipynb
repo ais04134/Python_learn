{
 "cells": [
  {
   "cell_type": "markdown",
   "id": "be507743",
   "metadata": {},
   "source": [
    "# 리스트의 삭제\n",
    "다음 리스트에서 400,500를 삭제하는 code를 입력하세요."
   ]
  },
  {
   "cell_type": "code",
   "execution_count": 1,
   "id": "9290822e",
   "metadata": {
    "ExecuteTime": {
     "end_time": "2021-09-27T04:44:35.656157Z",
     "start_time": "2021-09-27T04:44:35.638208Z"
    }
   },
   "outputs": [],
   "source": [
    "nums = [100,200,300,400,500]\n",
    "\n",
    "del nums[3:]\n",
    "\n",
    "print(nums)"
   ]
  },
  {
   "cell_type": "code",
   "execution_count": 2,
   "id": "1543e3ec",
   "metadata": {
    "ExecuteTime": {
     "end_time": "2021-09-27T04:44:35.671099Z",
     "start_time": "2021-09-27T04:44:35.658143Z"
    }
   },
   "outputs": [
    {
     "name": "stdout",
     "output_type": "stream",
     "text": [
      "[100, 200, 300]\n"
     ]
    }
   ],
   "source": [
    "nums = [100,200,300,400,500]\n",
    "\n",
    "nums.pop() # 리스트의 맨 마지막 요소를 돌려주고 그 요소를 삭제하는 내장함수\n",
    "nums.pop()\n",
    "\n",
    "print(nums)"
   ]
  },
  {
   "cell_type": "code",
   "execution_count": 3,
   "id": "e021de65",
   "metadata": {
    "ExecuteTime": {
     "end_time": "2021-09-27T04:44:35.686049Z",
     "start_time": "2021-09-27T04:44:35.673094Z"
    }
   },
   "outputs": [
    {
     "name": "stdout",
     "output_type": "stream",
     "text": [
      "[100, 200, 300]\n"
     ]
    }
   ],
   "source": [
    "nums = [100,200,300,400,500]\n",
    "\n",
    "nums.remove(400)\n",
    "nums.remove(500)\n",
    "\n",
    "print(nums)"
   ]
  },
  {
   "cell_type": "code",
   "execution_count": 2,
   "id": "6cbacc6b",
   "metadata": {
    "ExecuteTime": {
     "end_time": "2021-10-06T01:08:30.319759Z",
     "start_time": "2021-10-06T01:08:30.306974Z"
    }
   },
   "outputs": [
    {
     "name": "stdout",
     "output_type": "stream",
     "text": [
      "[100, 200, 300]\n"
     ]
    }
   ],
   "source": [
    "nums = [100,200,300,400,500]\n",
    "\n",
    "nums = nums[:3]\n",
    "\n",
    "print(nums)"
   ]
  },
  {
   "cell_type": "code",
   "execution_count": 4,
   "id": "4a15d02d",
   "metadata": {
    "ExecuteTime": {
     "end_time": "2021-10-06T01:10:17.760242Z",
     "start_time": "2021-10-06T01:10:17.747998Z"
    }
   },
   "outputs": [
    {
     "name": "stdout",
     "output_type": "stream",
     "text": [
      "[200, 300, 400]\n"
     ]
    }
   ],
   "source": [
    "nums = [100,200,300,400,500]\n",
    "\n",
    "nums.pop(0) # 리스트의 맨 마지막 요소를 돌려주고 그 요소를 삭제하는 내장함수 # 인덱스 지정가능\n",
    "nums.pop()\n",
    "\n",
    "print(nums)"
   ]
  },
  {
   "cell_type": "markdown",
   "id": "688bbc26",
   "metadata": {},
   "source": [
    "# 리스트의 내장함수"
   ]
  },
  {
   "cell_type": "code",
   "execution_count": 4,
   "id": "eddfc665",
   "metadata": {
    "ExecuteTime": {
     "end_time": "2021-09-27T04:44:35.701019Z",
     "start_time": "2021-09-27T04:44:35.688042Z"
    }
   },
   "outputs": [
    {
     "name": "stdout",
     "output_type": "stream",
     "text": [
      "[200, 100, 300]\n"
     ]
    }
   ],
   "source": [
    "a = [200, 100, 300]\n",
    "pass\n",
    "print(a)"
   ]
  },
  {
   "cell_type": "markdown",
   "id": "ba8a7926",
   "metadata": {},
   "source": [
    "pass 부분에 리스트 내장함수를 insert를 이용하여 코드를 입력하고 다음과 같이 출력되게 하세요.\n",
    "* insert(a, b)는 리스트의 a번째 위치에 b를 삽입하는 함수이다."
   ]
  },
  {
   "cell_type": "code",
   "execution_count": 5,
   "id": "2ec31ebc",
   "metadata": {
    "ExecuteTime": {
     "end_time": "2021-09-27T04:44:35.716018Z",
     "start_time": "2021-09-27T04:44:35.702991Z"
    }
   },
   "outputs": [],
   "source": [
    "# >> 출력\n",
    "# [200, 100, 10000, 300]"
   ]
  },
  {
   "cell_type": "code",
   "execution_count": 6,
   "id": "99fc8e4c",
   "metadata": {
    "ExecuteTime": {
     "end_time": "2021-09-27T04:44:35.730787Z",
     "start_time": "2021-09-27T04:44:35.718021Z"
    }
   },
   "outputs": [
    {
     "name": "stdout",
     "output_type": "stream",
     "text": [
      "[200, 100, 10000, 300]\n"
     ]
    }
   ],
   "source": [
    "a = [200, 100, 300]\n",
    "a.insert(2,10000)\n",
    "print(a)"
   ]
  },
  {
   "cell_type": "markdown",
   "id": "431c19fa",
   "metadata": {},
   "source": [
    "# 변수의 타입\n",
    "다음 출력 값으로 올바른 것은?"
   ]
  },
  {
   "cell_type": "code",
   "execution_count": 7,
   "id": "64bcc478",
   "metadata": {
    "ExecuteTime": {
     "end_time": "2021-09-27T04:44:35.745736Z",
     "start_time": "2021-09-27T04:44:35.731778Z"
    }
   },
   "outputs": [
    {
     "name": "stdout",
     "output_type": "stream",
     "text": [
      "<class 'list'>\n"
     ]
    }
   ],
   "source": [
    "a = [100, 200, 300]\n",
    "print(type(a)) # 이건 뭐..."
   ]
  },
  {
   "cell_type": "markdown",
   "id": "19e02a9e",
   "metadata": {},
   "source": [
    "# 변수의 타입2"
   ]
  },
  {
   "cell_type": "code",
   "execution_count": 8,
   "id": "30312cbb",
   "metadata": {
    "ExecuteTime": {
     "end_time": "2021-09-27T04:44:35.760757Z",
     "start_time": "2021-09-27T04:44:35.746729Z"
    }
   },
   "outputs": [
    {
     "name": "stdout",
     "output_type": "stream",
     "text": [
      "<class 'str'>\n"
     ]
    }
   ],
   "source": [
    "a = 'p'\n",
    "print(type(a))"
   ]
  },
  {
   "cell_type": "markdown",
   "id": "ae6f4cc9",
   "metadata": {},
   "source": [
    "# for문 계산\n",
    "다음 코드의 출력 값으로 알맞은 것은?"
   ]
  },
  {
   "cell_type": "code",
   "execution_count": 9,
   "id": "2aeff39a",
   "metadata": {
    "ExecuteTime": {
     "end_time": "2021-09-27T04:44:35.775632Z",
     "start_time": "2021-09-27T04:44:35.763750Z"
    }
   },
   "outputs": [
    {
     "name": "stdout",
     "output_type": "stream",
     "text": [
      "16\n"
     ]
    }
   ],
   "source": [
    "a = 10\n",
    "b = 2\n",
    "\n",
    "for i in range(1,5,2): # 5의 앞 까지만 range가 돌아간다.\n",
    "    a += i\n",
    "    \n",
    "print(a+b)"
   ]
  },
  {
   "cell_type": "code",
   "execution_count": 5,
   "id": "44b5d12c",
   "metadata": {
    "ExecuteTime": {
     "end_time": "2021-10-06T01:12:16.311430Z",
     "start_time": "2021-10-06T01:12:16.299282Z"
    }
   },
   "outputs": [
    {
     "name": "stdout",
     "output_type": "stream",
     "text": [
      "1\n",
      "3\n"
     ]
    }
   ],
   "source": [
    "for i in range(1,5,2): # 5 앞까지! \n",
    "    print(i)"
   ]
  },
  {
   "cell_type": "markdown",
   "id": "3aa5c473",
   "metadata": {},
   "source": [
    "# False\n",
    "다음은 python 문법 중에서 False로 취급하는 것들 입니다.\n",
    "앗, False로 취급하지 않는 것이 하나 있네요! True를 찾아주세요.\n",
    "\n",
    "정답: 2) 1"
   ]
  },
  {
   "cell_type": "markdown",
   "id": "a3396229",
   "metadata": {},
   "source": [
    "# 변수명\n",
    "다음 중 변수명으로 사용할 수 없는 것 2개를 고르시오.\n",
    "\n",
    "1. as\n",
    "2. 1age"
   ]
  },
  {
   "cell_type": "markdown",
   "id": "85551ffb",
   "metadata": {},
   "source": [
    "_변수 <- 모듈내에서만 사용되는 변수값임을 명시하는 의미이다."
   ]
  },
  {
   "cell_type": "markdown",
   "id": "55bc4dba",
   "metadata": {},
   "source": [
    "# 딕셔너리 키 이름 중복\n",
    "딕셔너리를 다음과 같이 만들었다.  \n",
    "출력값을 입력하시오.(출력값은 공백을 넣지 않습니다.)"
   ]
  },
  {
   "cell_type": "code",
   "execution_count": 11,
   "id": "893f3832",
   "metadata": {
    "ExecuteTime": {
     "end_time": "2021-09-27T04:44:35.805540Z",
     "start_time": "2021-09-27T04:44:35.791578Z"
    }
   },
   "outputs": [
    {
     "name": "stdout",
     "output_type": "stream",
     "text": [
      "84\n"
     ]
    }
   ],
   "source": [
    "dic = {'height': 100, 'weight': 78, 'weight': 84, 'temparture': 36, 'eyesight': 1}\n",
    "\n",
    "print(dic['weight'])"
   ]
  },
  {
   "cell_type": "markdown",
   "id": "48cdc27e",
   "metadata": {},
   "source": [
    "##### 딕셔너리에서 Key는 고유한 값이므로 중복되는 Key 값을 설정해 놓으면 하나를 제외한 나머지 것들이 모두 무시된다.\n",
    "##### 또한, Key에 리스트를 사용할 수 없다. "
   ]
  },
  {
   "cell_type": "markdown",
   "id": "cb3ee082",
   "metadata": {},
   "source": [
    "# sep과 end를 활용한 출력방법\n",
    "다음 소스 코드를 완성하여 날짜와 시간을 출력하시오."
   ]
  },
  {
   "cell_type": "code",
   "execution_count": 12,
   "id": "3d7b6555",
   "metadata": {
    "ExecuteTime": {
     "end_time": "2021-09-27T04:44:35.820852Z",
     "start_time": "2021-09-27T04:44:35.806528Z"
    }
   },
   "outputs": [
    {
     "name": "stdout",
     "output_type": "stream",
     "text": [
      "2019 04 26\n",
      "11 34 27\n",
      "\n",
      "2019/04/26 11:34:27\n"
     ]
    }
   ],
   "source": [
    "year = '2019'\n",
    "month = '04'\n",
    "day = '26'\n",
    "hour = '11'\n",
    "minute = '34'\n",
    "second = '27'\n",
    "\n",
    "print(year, month, day)\n",
    "print(hour,minute,second)\n",
    "print()\n",
    "print(f'{year}/{month}/{day} {hour}:{minute}:{second}')\n",
    "\n",
    "# sep, end를 사용해서 다시 해보세요! "
   ]
  },
  {
   "cell_type": "markdown",
   "id": "8e92b8a4",
   "metadata": {},
   "source": [
    "# 별 찍기"
   ]
  },
  {
   "cell_type": "code",
   "execution_count": 13,
   "id": "cc88fbb6",
   "metadata": {
    "ExecuteTime": {
     "end_time": "2021-09-27T04:44:38.082488Z",
     "start_time": "2021-09-27T04:44:35.821841Z"
    },
    "scrolled": true
   },
   "outputs": [
    {
     "name": "stdout",
     "output_type": "stream",
     "text": [
      "5\n",
      "    *\n",
      "   ***\n",
      "  *****\n",
      " *******\n",
      "*********\n"
     ]
    }
   ],
   "source": [
    "n = int(input()) \n",
    "\n",
    "for i in range(1,n+1): \n",
    "    print(\" \"*(n-i)+\"*\"*(i*2-1))"
   ]
  }
 ],
 "metadata": {
  "kernelspec": {
   "display_name": "Python 3",
   "language": "python",
   "name": "python3"
  },
  "language_info": {
   "codemirror_mode": {
    "name": "ipython",
    "version": 3
   },
   "file_extension": ".py",
   "mimetype": "text/x-python",
   "name": "python",
   "nbconvert_exporter": "python",
   "pygments_lexer": "ipython3",
   "version": "3.8.8"
  },
  "toc": {
   "base_numbering": 1,
   "nav_menu": {},
   "number_sections": true,
   "sideBar": true,
   "skip_h1_title": false,
   "title_cell": "Table of Contents",
   "title_sidebar": "Contents",
   "toc_cell": false,
   "toc_position": {},
   "toc_section_display": true,
   "toc_window_display": false
  },
  "varInspector": {
   "cols": {
    "lenName": 16,
    "lenType": 16,
    "lenVar": 40
   },
   "kernels_config": {
    "python": {
     "delete_cmd_postfix": "",
     "delete_cmd_prefix": "del ",
     "library": "var_list.py",
     "varRefreshCmd": "print(var_dic_list())"
    },
    "r": {
     "delete_cmd_postfix": ") ",
     "delete_cmd_prefix": "rm(",
     "library": "var_list.r",
     "varRefreshCmd": "cat(var_dic_list()) "
    }
   },
   "types_to_exclude": [
    "module",
    "function",
    "builtin_function_or_method",
    "instance",
    "_Feature"
   ],
   "window_display": false
  }
 },
 "nbformat": 4,
 "nbformat_minor": 5
}
