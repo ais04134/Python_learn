{
 "cells": [
  {
   "cell_type": "markdown",
   "id": "b264570c",
   "metadata": {},
   "source": [
    "## 문제 21"
   ]
  },
  {
   "cell_type": "code",
   "execution_count": null,
   "id": "88f2b2d8",
   "metadata": {},
   "outputs": [],
   "source": [
    "### 2번은 딕셔너리 타입이다"
   ]
  },
  {
   "cell_type": "markdown",
   "id": "9e6ca21f",
   "metadata": {},
   "source": [
    "## 문제 22"
   ]
  },
  {
   "cell_type": "code",
   "execution_count": null,
   "id": "e4c98403",
   "metadata": {},
   "outputs": [],
   "source": [
    "### %은 나머지를 구하는 것이므로 2번이 정답이다"
   ]
  },
  {
   "cell_type": "markdown",
   "id": "6d265c64",
   "metadata": {},
   "source": [
    "## 문제 23"
   ]
  },
  {
   "cell_type": "code",
   "execution_count": null,
   "id": "1e3c3503",
   "metadata": {},
   "outputs": [],
   "source": [
    "### 나누기 연산은 기본적으로 그 값이 float의 형태로 출력된다."
   ]
  },
  {
   "cell_type": "markdown",
   "id": "760e14fa",
   "metadata": {},
   "source": [
    "## 문제 24"
   ]
  },
  {
   "cell_type": "code",
   "execution_count": null,
   "id": "3b09fc7d",
   "metadata": {},
   "outputs": [],
   "source": [
    "name = input(\"이름을 입력해 주세요: \")\n",
    "name = name.upper()\n",
    "print(name)"
   ]
  },
  {
   "cell_type": "markdown",
   "id": "a3ef0b9e",
   "metadata": {},
   "source": [
    "## 문제 25"
   ]
  },
  {
   "cell_type": "code",
   "execution_count": null,
   "id": "5549e14a",
   "metadata": {},
   "outputs": [],
   "source": [
    "num = input(\"숫자를 입력해 주세요: \")\n",
    "result = int(num)**2*3.14\n",
    "print(result)"
   ]
  },
  {
   "cell_type": "markdown",
   "id": "776ee92a",
   "metadata": {},
   "source": [
    "## 문제 26"
   ]
  },
  {
   "cell_type": "code",
   "execution_count": null,
   "id": "7d8d14b3",
   "metadata": {},
   "outputs": [],
   "source": [
    "planet = input(\"행성 이름을 입력하시오:\")\n",
    "for i in range(0,8):\n",
    "    k_planet = ['수성', '금성', '지구', '화성', '목성', '토성', '천왕성', '해왕성']\n",
    "    e_planet = ['Mercury', 'Venus', 'Earth', 'Mars', 'Jupiter', 'Saturn', 'Uranus', 'Neptune']\n",
    "    if planet == k_planet[i]:\n",
    "        print(e_planet[i])\n",
    "    else:\n",
    "        pass"
   ]
  },
  {
   "cell_type": "markdown",
   "id": "bd6640fa",
   "metadata": {},
   "source": [
    "## 문제 27"
   ]
  },
  {
   "cell_type": "code",
   "execution_count": null,
   "id": "f15f9d30",
   "metadata": {},
   "outputs": [],
   "source": [
    "name = input('이름을 공백으로 구분하여 입력해주세요:').split(\" \")\n",
    "score = input('점수를 공백으로 구분하여 입력해주세요:').split(\" \")\n",
    "\n",
    "result_dic = zip(name, score)\n",
    "print(dict(result_dic))"
   ]
  },
  {
   "cell_type": "markdown",
   "id": "03e4fe26",
   "metadata": {},
   "source": [
    "## 문제 28"
   ]
  },
  {
   "cell_type": "code",
   "execution_count": null,
   "id": "32ad90dd",
   "metadata": {},
   "outputs": [],
   "source": [
    "sentence = input(\"문자열을 입력해 주세요:\")\n",
    "for i in range(0,(len(sentence)-1)):\n",
    "    print(sentence[i]+sentence[i+1])"
   ]
  },
  {
   "cell_type": "markdown",
   "id": "0e104b7e",
   "metadata": {},
   "source": [
    "## 문제 29"
   ]
  },
  {
   "cell_type": "code",
   "execution_count": null,
   "id": "0d52f67c",
   "metadata": {},
   "outputs": [],
   "source": [
    "cap = \"ABCDEFGHIJKLMNOPQRSTUVWXYZ\"\n",
    "answer = input('알파벳을 하나 입력해주세요:')\n",
    "if answer in cap:\n",
    "    print(\"YES\")\n",
    "else:\n",
    "    print(\"NO\")"
   ]
  },
  {
   "cell_type": "markdown",
   "id": "3ea42a1a",
   "metadata": {},
   "source": [
    "## 문제 30"
   ]
  },
  {
   "cell_type": "code",
   "execution_count": null,
   "id": "23419460",
   "metadata": {},
   "outputs": [],
   "source": [
    "sentence = input(\"문자열을 입력하세요:\")\n",
    "word = input(\"문자를 입력하세요:\")\n",
    "\n",
    "if word in sentence:\n",
    "    print(sentence.index(word))\n",
    "else:\n",
    "    print(\"찾으시는 문자가 문자열에 없습니다.\")"
   ]
  }
 ],
 "metadata": {
  "kernelspec": {
   "display_name": "Python 3",
   "language": "python",
   "name": "python3"
  },
  "language_info": {
   "codemirror_mode": {
    "name": "ipython",
    "version": 3
   },
   "file_extension": ".py",
   "mimetype": "text/x-python",
   "name": "python",
   "nbconvert_exporter": "python",
   "pygments_lexer": "ipython3",
   "version": "3.8.8"
  }
 },
 "nbformat": 4,
 "nbformat_minor": 5
}
