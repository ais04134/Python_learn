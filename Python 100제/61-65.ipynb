{
 "cells": [
  {
   "cell_type": "markdown",
   "id": "d3de6457",
   "metadata": {},
   "source": [
    "# 문자열 압축하기  \n",
    "문자열을 입력받고 연속되는 문자열을 압축해서 표현하고싶습니다."
   ]
  },
  {
   "cell_type": "code",
   "execution_count": 28,
   "id": "661082d9",
   "metadata": {
    "scrolled": true
   },
   "outputs": [
    {
     "data": {
      "text/plain": [
       "'a3b3c1d4f1e2'"
      ]
     },
     "execution_count": 28,
     "metadata": {},
     "output_type": "execute_result"
    }
   ],
   "source": [
    "str_name = \"aaabbbcddddfee\"\n",
    "\n",
    "def str_compress(str_name: str)-> str:\n",
    "    list_answer = []\n",
    "    alphabet = \"\"\n",
    "    number = 0\n",
    "    for i in str_name:\n",
    "        if alphabet == \"\":\n",
    "            alphabet += i\n",
    "            number += 1 # alphabet 값이 비어있으면 첫 알파벳을 넣는다.\n",
    "        elif alphabet == i:\n",
    "            number += 1\n",
    "        if alphabet != i: # 값이 다르면 그 만큼의 숫자 값을 넣어주고 alphabet 값을 바꿔준다.\n",
    "            alphabet += f\"{number}\"\n",
    "            list_answer.append(alphabet)\n",
    "            alphabet = i\n",
    "            number = 1 \n",
    "    alphabet += f\"{number}\"\n",
    "    list_answer.append(alphabet)# 마지막 값이 저장이 안되므로\n",
    "    \n",
    "    return \"\".join(list_answer)\n",
    "                \n",
    "            \n",
    "str_compress(str_name)"
   ]
  },
  {
   "cell_type": "markdown",
   "id": "180eb29a",
   "metadata": {},
   "source": [
    "### 문자열압축 심화: https://programmers.co.kr/learn/courses/30/lessons/60057"
   ]
  },
  {
   "cell_type": "code",
   "execution_count": 1,
   "id": "3964f2ad",
   "metadata": {},
   "outputs": [
    {
     "name": "stdout",
     "output_type": "stream",
     "text": [
      "9\n"
     ]
    }
   ],
   "source": [
    "string = \"ababcdcdababcdcd\"\n",
    "\n",
    "def solution(string: str)-> int:\n",
    "    answer_list = []\n",
    "    for i in range((len(string)//2)+1): # i개씩 자르는 경우들 n/2이상은 의미가 없다.# 문자열 길이가 1인 경우가 있을 수 있으므로 +1 해준다.\n",
    "        number = 1\n",
    "        s = string\n",
    "        answer = \"\"\n",
    "        for j in range((len(string))): # i개씩 문자열을 자르는 작업! \n",
    "            if s[0:i + 1] == s[i + 1:2 * (i + 1)]: # 만약 자른 문자열이 이후 그마만큼의 문자열과 같을 경우\n",
    "                number += 1\n",
    "                s = s[i+1:]\n",
    "            else: # 자른 문자열이 이후 문자열과 다를 경우\n",
    "                if number == 1: # 반복이 없었을시 값 그대로 더하기\n",
    "                    answer += s[0:i + 1]\n",
    "                    s = s[i+1:]\n",
    "                else: # 반복이 있었을시 반복 횟수만큼 숫자를 더한 후 값 더하기\n",
    "                    answer += f\"{number}\" + s[0:i + 1]\n",
    "                    s = s[i+1:]\n",
    "                    number = 1\n",
    "\n",
    "        answer_list.append(len(answer)) # i개씩 문자열을 잘랐을때의 결과값의 길이를 answer_list에 저장\n",
    "\n",
    "    return min(answer_list) # 그중 최소값을 출력\n",
    "\n",
    "\n",
    "print(solution(string))"
   ]
  },
  {
   "cell_type": "markdown",
   "id": "a67bac48",
   "metadata": {},
   "source": [
    "# 20190923출력하기  \n",
    "20190923을 출력합니다. 아래 기준만 만족하면 됩니다. \n",
    "\n",
    "* 코드 내에 숫자가 없어야 합니다.\n",
    "* 파일 이름이나 경로를 사용해서는 안됩니다.\n",
    "* 시간, 날짜 함수를 사용해서는 안됩니다.\n",
    "* 에러 번호 출력을 이용해서는 안됩니다.\n",
    "* input을 이용해서는 안됩니다."
   ]
  },
  {
   "cell_type": "code",
   "execution_count": 29,
   "id": "a18405b8",
   "metadata": {},
   "outputs": [
    {
     "name": "stdout",
     "output_type": "stream",
     "text": [
      "20190923\n"
     ]
    }
   ],
   "source": [
    "string='aacddddddddd'\n",
    "a=string.count('a') #2\n",
    "b=string.count('b') #0\n",
    "c=string.count('c') #1\n",
    "d=string.count('d') #9\n",
    "print(int(str(a)+str(b)+str(c)+str(d)+str(b)+str(d)+str(a)+str(a+1)))"
   ]
  },
  {
   "cell_type": "markdown",
   "id": "95dc8d19",
   "metadata": {},
   "source": [
    "이게 무슨..."
   ]
  },
  {
   "cell_type": "markdown",
   "id": "9189289a",
   "metadata": {},
   "source": [
    "# 친해지고 싶어  \n",
    "한국대학교의 김한국교수님은 학생들과 친해지기 위해 딸에게 줄임말을 배우기로 했습니다.  \n",
    "딸은 '복잡한 세상 편하게 살자'라는 문장을 '복세편살'로 줄여 말합니다.  \n",
    "\n",
    "교수님이 줄임말을 배우기 위해 위와 같이 어떤 입력이 주어지면 앞 글자만 줄여 출력하도록 해주세요."
   ]
  },
  {
   "cell_type": "code",
   "execution_count": 33,
   "id": "3670c049",
   "metadata": {},
   "outputs": [
    {
     "name": "stdout",
     "output_type": "stream",
     "text": [
      "문장을 입력하시오.: 안녕하세요. 박건현 입니다.\n"
     ]
    },
    {
     "data": {
      "text/plain": [
       "'안박입'"
      ]
     },
     "execution_count": 33,
     "metadata": {},
     "output_type": "execute_result"
    }
   ],
   "source": [
    "string = input(\"문장을 입력하시오.: \")\n",
    "\n",
    "def shortening_it(string):\n",
    "    string_list = string.split()\n",
    "    shortening_list = list(map(lambda x: x[0], string_list))\n",
    "    return \"\".join(shortening_list)\n",
    "\n",
    "shortening_it(string)"
   ]
  },
  {
   "cell_type": "markdown",
   "id": "21a5b289",
   "metadata": {},
   "source": [
    "# 이상한 엘레베이터  \n",
    "정량 N에 정확히 맞춰야만 움직이는 화물용 엘레베이터가 있습니다.  \n",
    "화물은 7kg, 3kg 두 가지이며 팔이 아픈 은후는 가장 적게 화물을 옮기고 싶습니다.  \n",
    "\n",
    "예를 들어 정량이 24kg이라면 3kg 8개를 옮기는 것 보다는 \n",
    "7kg 3개, 3kg 1개 즉 4개로 더 적게 옮길 수 있습니다.  "
   ]
  },
  {
   "cell_type": "code",
   "execution_count": 34,
   "id": "ccfd1802",
   "metadata": {},
   "outputs": [
    {
     "name": "stdout",
     "output_type": "stream",
     "text": [
      "342\n",
      "50.0\n"
     ]
    }
   ],
   "source": [
    "N = int(input())\n",
    "\n",
    "def strange_elevator(N):\n",
    "    result = 0\n",
    "    while True:\n",
    "        if N%7 == 0:\n",
    "            result += N/7\n",
    "            print(result)\n",
    "            break\n",
    "        N -= 3\n",
    "        result += 1\n",
    "        if N<0:\n",
    "            print(-1)\n",
    "            break\n",
    "            \n",
    "strange_elevator(N)"
   ]
  },
  {
   "cell_type": "markdown",
   "id": "782019d0",
   "metadata": {},
   "source": [
    "# 변형된 리스트  \n",
    "a = [1,2,3,4]  \n",
    "b = [a,b,c,d]  \n",
    "이런 리스트가 있을 때 a,b리스트가 번갈아가면서 출력되게 해주세요."
   ]
  },
  {
   "cell_type": "code",
   "execution_count": 1,
   "id": "3aa778a8",
   "metadata": {},
   "outputs": [
    {
     "data": {
      "text/plain": [
       "[[1, 'a'], ['b', 2], [3, 'c'], ['d', 4], [5, 'e'], ['f', 6]]"
      ]
     },
     "execution_count": 1,
     "metadata": {},
     "output_type": "execute_result"
    }
   ],
   "source": [
    "a = [1,2,3,4,5,6]\n",
    "b = [\"a\", \"b\", \"c\", \"d\", \"e\", \"f\"]\n",
    "\n",
    "def modified_list(a,b):\n",
    "    if len(a) == len(b):\n",
    "        answer = []\n",
    "        for i in range(len(a)):\n",
    "            if i%2 ==0:\n",
    "                answer.append([a[i],b[i]])\n",
    "            else:\n",
    "                answer.append([b[i],a[i]])\n",
    "        return answer\n",
    "\n",
    "modified_list(a,b)"
   ]
  }
 ],
 "metadata": {
  "kernelspec": {
   "display_name": "Python 3",
   "language": "python",
   "name": "python3"
  },
  "language_info": {
   "codemirror_mode": {
    "name": "ipython",
    "version": 3
   },
   "file_extension": ".py",
   "mimetype": "text/x-python",
   "name": "python",
   "nbconvert_exporter": "python",
   "pygments_lexer": "ipython3",
   "version": "3.9.6"
  }
 },
 "nbformat": 4,
 "nbformat_minor": 5
}
