{
 "cells": [
  {
   "cell_type": "markdown",
   "id": "a15b418b",
   "metadata": {},
   "source": [
    "# 리스트의 함수 응용\n",
    "\n",
    "다음의 딕셔너리가 주어졌을 때 한국의 면적과 가장 비슷한 국가와 그 차이를 출력하세요."
   ]
  },
  {
   "cell_type": "code",
   "execution_count": 3,
   "id": "a55661dc",
   "metadata": {
    "scrolled": true
   },
   "outputs": [
    {
     "name": "stdout",
     "output_type": "stream",
     "text": [
      "England 22023\n"
     ]
    }
   ],
   "source": [
    "#데이터\n",
    "nationWidth = {\n",
    "    'korea': 220877,\n",
    "    'Rusia': 17098242,\n",
    "    'China': 9596961,\n",
    "    'France': 543965,\n",
    "    'Japan': 377915,\n",
    "    'England': 242900}\n",
    "\n",
    "def nationWidth_difference(nationWidth: dict) -> str:\n",
    "    answer = min([abs(value - nationWidth.get('korea')) for value in nationWidth.values() if abs(value - nationWidth.get('korea')) > 0]) +nationWidth.get('korea')\n",
    "    reverse_dict = dict(map(reversed, nationWidth.items()))\n",
    "    difference = answer - nationWidth.get('korea')\n",
    "    return print(reverse_dict.get(answer), difference)\n",
    "#     return f'{reverse_dict.get(answer)} {difference}'\n",
    "    \n",
    "nationWidth_difference(nationWidth)      "
   ]
  },
  {
   "cell_type": "markdown",
   "id": "314c0892",
   "metadata": {},
   "source": [
    "복잡하게 짠 느낌...."
   ]
  },
  {
   "cell_type": "code",
   "execution_count": 31,
   "id": "fa436f69",
   "metadata": {},
   "outputs": [
    {
     "name": "stdout",
     "output_type": "stream",
     "text": [
      "England 22023\n"
     ]
    }
   ],
   "source": [
    "nationWidth = {\n",
    "\t'korea': 220877, \n",
    "\t'Rusia': 17098242, \n",
    "\t'China': 9596961, \n",
    "\t'France': 543965, \n",
    "\t'Japan': 377915,\n",
    "\t'England' : 242900,\n",
    "}\n",
    "\n",
    "w = nationWidth['korea']\n",
    "nationWidth.pop('korea')\n",
    "l = list(nationWidth.items())\n",
    "gap = max(nationWidth.values())\n",
    "item = 0\n",
    "\n",
    "for i in l:\n",
    "    if gap > abs(i[1] - w):\n",
    "        gap = abs(i[1] - w)\n",
    "        item = i\n",
    "print(item[0],item[1]-220877)"
   ]
  },
  {
   "cell_type": "markdown",
   "id": "7610f98c",
   "metadata": {},
   "source": [
    "# 내장함수 응용하기\n",
    "0부터 1000까지 1의 개수를 세는 프로그램을 만들려구 합니다. 예를 들어 0 부터 20까지 1의 개수를 세어본다면 1, 10, .., 19 에 각각 1이 들어가므로 12개의 1이 있게 됩니다. 11은 1이 2번 들어간 셈이죠.  \n",
    "\n",
    "그렇다면 0부터 1000까지 수에서 1은 몇번이나 들어갔을까요? 출력해주세요!"
   ]
  },
  {
   "cell_type": "markdown",
   "id": "233ebaaf",
   "metadata": {},
   "source": [
    "# 콤마 찍기  \n",
    "원범이는 편의점 아르바이트가 끝난 후 정산을 하고자 합니다.  \n",
    "정산을 빨리하고 집에가고 싶은 원범이는 프로그램을 만들려고 합니다.  \n",
    " \n",
    "숫자를 입력 받고 천단위로 콤마(,)를 찍어주세요.  \n",
    "\n",
    "예를들어, 123456789를 입력 받았으면 123,456,789를 출력해야 합니다."
   ]
  },
  {
   "cell_type": "code",
   "execution_count": 36,
   "id": "77379bba",
   "metadata": {},
   "outputs": [
    {
     "name": "stdout",
     "output_type": "stream",
     "text": [
      "['12', '233', '434', '234']\n",
      "12,233,434,234\n"
     ]
    }
   ],
   "source": [
    "def comma_machine(n):\n",
    "    strN = str(n) #문자화\n",
    "    lenN = len(strN) #문자길이\n",
    "    len_c = (lenN//3)*3 # 3의 배수단위로 개수구함\n",
    "    str_list = []\n",
    "    i = len_c\n",
    "    str_list.append(strN[0:-(len_c)]) # 처음은 따로넣음 12000의 경우 '12'부분\n",
    "    while i > 3 :\n",
    "        str_list.append(strN[-(i):-(i-3)]) #3의배수 단위로 넣어줌\n",
    "        i -= 3\n",
    "    str_list.append(strN[-3::]) #끝은 따로 넣음\n",
    "    a= ','\n",
    "    print(str_list) \n",
    "    print(a.join(str_list).strip(',')) #,로 join하면서 하나로 합침 \n",
    "    #strip은 딱 떨어질경우 끝에 , 붙은것 제거\n",
    "    \n",
    "comma_machine(12233434234)"
   ]
  },
  {
   "cell_type": "code",
   "execution_count": 37,
   "id": "60a081c3",
   "metadata": {},
   "outputs": [
    {
     "data": {
      "text/plain": [
       "'12,341,353'"
      ]
     },
     "execution_count": 37,
     "metadata": {},
     "output_type": "execute_result"
    }
   ],
   "source": [
    "# 재귀함수를 사용한 풀이 방법\n",
    "\n",
    "def comma(n):\n",
    "    n = str(n) #문자로 변환\n",
    "    if n[0] == '-': #-있는경우 따로 고려!!\n",
    "        return '-' + comma(n[1:])\n",
    "    if len(n) <= 3: #재귀함수 돌아서 3미만됐을 경우 걔 출력\n",
    "        return n\n",
    "    if n.find('.') == -1: #find함수는 그문자 있으면 인덱스값, 없으면 -1 반환\n",
    "        # print(n.find('.')) #디버깅용\n",
    "        # print(n)\n",
    "        return comma(n[:-3]) + ',' + n[-3:] #뒤에 3개만 ,000 이런식으로 하고 앞에 부분은 재귀로 다시보냄\n",
    "    else: #소수점 전으로 끊고, 소수점 후 끊는것\n",
    "        return comma(n[:n.find('.')]) + n[n.find('.'):]\n",
    "    \n",
    "comma(12341353)"
   ]
  },
  {
   "cell_type": "markdown",
   "id": "a2820877",
   "metadata": {},
   "source": [
    "참고자료: https://codechacha.com/ko/python-number-format-comma/"
   ]
  },
  {
   "cell_type": "code",
   "execution_count": 41,
   "id": "a2d82dbb",
   "metadata": {},
   "outputs": [
    {
     "name": "stdout",
     "output_type": "stream",
     "text": [
      "12,341,353\n"
     ]
    }
   ],
   "source": [
    "def comma(n): return print(f'{n:,}') # 이런식으로 자동으로 해준다..!\n",
    "                 \n",
    "comma(12341353)  "
   ]
  },
  {
   "cell_type": "markdown",
   "id": "f7797b60",
   "metadata": {},
   "source": [
    "# 빈칸채우기  \n",
    "총 문자열의 길이는 50으로 제한하고 사용자가 문자열을 입력하면 그 문자열을 가운데 정렬을 해주고, 나머지 빈 부분에 '='을 채워넣어주세요."
   ]
  },
  {
   "cell_type": "code",
   "execution_count": 43,
   "id": "fce6a437",
   "metadata": {},
   "outputs": [
    {
     "name": "stdout",
     "output_type": "stream",
     "text": [
      "=================stjweiltjewstil==================\n"
     ]
    }
   ],
   "source": [
    "def str_name(str_name: str) -> str:\n",
    "    return print(str_name.center(50, '='))\n",
    "\n",
    "str_name(\"stjweiltjewstil\")"
   ]
  },
  {
   "cell_type": "code",
   "execution_count": 52,
   "id": "e389ddd9",
   "metadata": {},
   "outputs": [
    {
     "name": "stdout",
     "output_type": "stream",
     "text": [
      "=======================fefe=======================\n"
     ]
    }
   ],
   "source": [
    "def str_name(str_name: str) -> str:\n",
    "    return print('{:=^50}'.format(str_name))\n",
    "\n",
    "str_name(\"fefe\")"
   ]
  },
  {
   "cell_type": "markdown",
   "id": "7ae1abd4",
   "metadata": {},
   "source": [
    "# enumerate  \n",
    "새학기가 되어 이름을 가나다 순서대로 배정하고 번호를 매기려고 합니다.  \n",
    "코드에 입력된 이름을 아래와 같이 출력해주세요."
   ]
  },
  {
   "cell_type": "code",
   "execution_count": 59,
   "id": "b12c7f56",
   "metadata": {},
   "outputs": [
    {
     "name": "stdout",
     "output_type": "stream",
     "text": [
      "번호: 1, 이름: 강은지\n",
      "번호: 2, 이름: 강채연\n",
      "번호: 3, 이름: 권윤일\n",
      "번호: 4, 이름: 김민호\n",
      "번호: 5, 이름: 김유정\n",
      "번호: 6, 이름: 김진이\n",
      "번호: 7, 이름: 김채리\n",
      "번호: 8, 이름: 박지호\n",
      "번호: 9, 이름: 박현서\n",
      "번호: 10, 이름: 최성훈\n",
      "번호: 11, 이름: 한지호\n",
      "번호: 12, 이름: 홍유진\n"
     ]
    }
   ],
   "source": [
    "# 데이터\n",
    "student = ['강은지','김유정','박현서','최성훈','홍유진','박지호','권윤일','김채리','한지호','김진이','김민호','강채연']\n",
    "\n",
    "def enumerate_name(student: list) -> str:\n",
    "    student.sort()\n",
    "    for i, j in enumerate(student):\n",
    "        print(f\"번호: {i+1}, 이름: {j}\")\n",
    "        \n",
    "enumerate_name(student)"
   ]
  }
 ],
 "metadata": {
  "kernelspec": {
   "display_name": "Python 3",
   "language": "python",
   "name": "python3"
  },
  "language_info": {
   "codemirror_mode": {
    "name": "ipython",
    "version": 3
   },
   "file_extension": ".py",
   "mimetype": "text/x-python",
   "name": "python",
   "nbconvert_exporter": "python",
   "pygments_lexer": "ipython3",
   "version": "3.9.6"
  }
 },
 "nbformat": 4,
 "nbformat_minor": 5
}
