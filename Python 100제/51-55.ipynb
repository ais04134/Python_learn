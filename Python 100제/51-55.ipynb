{
 "cells": [
  {
   "cell_type": "markdown",
   "id": "8890fc40",
   "metadata": {},
   "source": [
    "##### 1,2,5 풀어야된다."
   ]
  },
  {
   "cell_type": "markdown",
   "id": "e6e35af5",
   "metadata": {},
   "source": [
    "# merge sort를 만들어보자\n",
    "병합정렬은 대표적인 정렬 알고리즘 중 하나로 다음과 같이 동작합니다.  \n",
    "* 1. 리스트의 길이가 0 또는 1이면 이미 정렬된 것으로 본다. 그렇지 않은 경우에는  \n",
    "* 2. 정렬되지 않은 리스트를 절반으로 잘라 비슷한 크기의 두 부분 리스트로 나눈다.  \n",
    "* 3. 각 부분 리스트를 재귀적으로 합병 정렬을 이용해 정렬한다.  \n",
    "* 4. 두 부분 리스트를 다시 하나의 정렬된 리스트로 합병한다.  \n"
   ]
  },
  {
   "cell_type": "code",
   "execution_count": null,
   "id": "645ffe84",
   "metadata": {},
   "outputs": [],
   "source": [
    "#병합 정렬\n",
    "def 병합정렬(입력리스트):\n",
    "    입력리스트길이 = len(입력리스트)\n",
    "    if 입력리스트길이 <= 1:\n",
    "        return 입력리스트\n",
    "    중간값 = 입력리스트길이 // 2\n",
    "    그룹_하나 = 병합정렬(입력리스트[:중간값])\n",
    "    그룹_둘 = 병합정렬(입력리스트[중간값:])\n",
    "    결과값 = []\n",
    "\n",
    "    while (#빈칸을 채워주세요) and (#빈칸을 채워주세요) :\n",
    "        if (#빈칸을 채워주세요):\n",
    "            결과값.append(그룹_하나.pop(0))\n",
    "        else:\n",
    "            결과값.append(그룹_둘.pop(0))\n",
    "\n",
    "    while 그룹_하나:\n",
    "        결과값.append(그룹_하나.pop(0))\n",
    "    while 그룹_둘:\n",
    "        결과값.append(그룹_둘.pop(0))\n",
    "    return 결과값\n",
    "\n",
    "주어진리스트 = [180, 145, 165, 45, 170, 175, 173, 171]\n",
    "#빈칸을 채워주세요\n",
    "\n",
    "print(병합정렬(주어진리스트))"
   ]
  },
  {
   "cell_type": "markdown",
   "id": "ef98f313",
   "metadata": {},
   "source": [
    "# quick sort \n",
    "다음 빈 칸을 채워 퀵 정렬을 완성해주세요."
   ]
  },
  {
   "cell_type": "code",
   "execution_count": 8,
   "id": "f51a788c",
   "metadata": {
    "ExecuteTime": {
     "end_time": "2021-10-01T10:47:38.772390Z",
     "start_time": "2021-10-01T10:47:38.760939Z"
    }
   },
   "outputs": [
    {
     "ename": "SyntaxError",
     "evalue": "invalid syntax (<ipython-input-8-b55870c3e7a4>, line 10)",
     "output_type": "error",
     "traceback": [
      "\u001b[1;36m  File \u001b[1;32m\"<ipython-input-8-b55870c3e7a4>\"\u001b[1;36m, line \u001b[1;32m10\u001b[0m\n\u001b[1;33m    if #내용을 채워주세요:\u001b[0m\n\u001b[1;37m       ^\u001b[0m\n\u001b[1;31mSyntaxError\u001b[0m\u001b[1;31m:\u001b[0m invalid syntax\n"
     ]
    }
   ],
   "source": [
    "def 퀵정렬(입력리스트):\n",
    "    입력리스트의길이 = len(입력리스트)\n",
    "    if 입력리스트의길이 <= 1:\n",
    "        return 입력리스트\n",
    "    기준값 = 입력리스트.pop(입력리스트의길이//2)\n",
    "    그룹_하나 = []\n",
    "    그룹_둘 = []\n",
    "    \n",
    "    for i in range(입력리스트의길이-1):\n",
    "        if #내용을 채워주세요:\n",
    "            그룹_하나.append(입력리스트[i])\n",
    "        else:\n",
    "            그룹_둘.append(입력리스트[i])\n",
    "    return #내용을 채워주세요\n",
    "\n",
    "주어진리스트 = input().split(' ')\n",
    "#내용을 채워주세요.\n",
    "\n",
    "print(퀵정렬(주어진리스트))"
   ]
  },
  {
   "cell_type": "markdown",
   "id": "9677c8d5",
   "metadata": {},
   "source": [
    "# 괄호 문자열 \n",
    "괄호 문자열이란 괄호 기호인 '{', '}', '[', ']', '(', ')' 와 같은 것을 말한다. 그 중 괄호의 모양이 바르게 구성 된 문자열을 바른 문자열, 그렇지 않은 문자열을 바르지 않은 문자열이라 부르도록 하자. \n",
    "\n",
    "(())와 같은 문자열은 바른 문자열이지만 ()()) 와 같은 문자열은 바르지 않은 문자열이다.(해당 문제에서는 소괄호만 판별하지만, 실력이 되시는 분들은 중괄호와 대괄호까지 판별해보세요.)\n",
    "\n",
    "입력으로 주어진 괄호 문자열이 바른 문자열인지 바르지 않은 문자열인지 \"YES\"와 \"NO\"로 구분된 문자열을 출력해보자."
   ]
  },
  {
   "cell_type": "code",
   "execution_count": 7,
   "id": "75e69de1",
   "metadata": {
    "ExecuteTime": {
     "end_time": "2021-10-01T10:45:30.012042Z",
     "start_time": "2021-10-01T10:45:18.277157Z"
    }
   },
   "outputs": [
    {
     "name": "stdout",
     "output_type": "stream",
     "text": [
      "괄호 문자열을 입력하세요.: ()()(()()))()()()())\n"
     ]
    },
    {
     "data": {
      "text/plain": [
       "'NO'"
      ]
     },
     "execution_count": 7,
     "metadata": {},
     "output_type": "execute_result"
    }
   ],
   "source": [
    "# 1. 괄호의 개수가 짝수인가? \n",
    "# 2. 괄호 열고 닫는 값의 개수가 같은가?\n",
    "# 3. 괄호를 열었으면 뒤에 닫는 값의 개수가 열었는 수 보다 많거나 같은가?\n",
    "string = input(\"괄호 문자열을 입력하세요.: \")\n",
    "\n",
    "def parenthesis_string(string):\n",
    "    sum_number = 0\n",
    "    for i in string:\n",
    "        if i == \"(\":\n",
    "            sum_number += 1\n",
    "        elif i == \")\":\n",
    "            sum_number -= 1\n",
    "        if sum_number < 0: return 'NO'\n",
    "    if sum_number == 0: return 'YES'\n",
    "    else: return 'NO'\n",
    "    \n",
    "    # 이것 말고도 .replace(\"()\") <- 반복으로 접근해 볼 수 도 있을 것 같다.\n",
    "    \n",
    "\n",
    "parenthesis_string(string)"
   ]
  },
  {
   "cell_type": "markdown",
   "id": "c0845234",
   "metadata": {},
   "source": [
    "# 연속되는 수  \n",
    "은주는 놀이공원 아르바이트를 하고 있습니다. 은주가 일하는 놀이공원에서는 현재 놀이공원 곳곳에 숨겨진 숫자 스탬프를 모아 오면 선물을 주는 이벤트를 하고 있습니다. 숫자 스탬프는 매일 그 수와 스탬프에 적힌 숫자가 바뀌지만 그 숫자는 항상 연속됩니다.  \n",
    "그런데 요즘 다른 날에 찍은 스탬프를 가지고 와 선물을 달라고 하는 손님이 늘었습니다.  \n",
    "  \n",
    "스탬프에 적힌 숫자가 공백으로 구분되어 주어지면 이 숫자가 연속수인지 아닌지 \"YES\"와 \"NO\"로 판별하는 프로그램을 작성하세요."
   ]
  },
  {
   "cell_type": "code",
   "execution_count": 6,
   "id": "37bd0333",
   "metadata": {
    "ExecuteTime": {
     "end_time": "2021-10-01T09:32:14.205343Z",
     "start_time": "2021-10-01T09:32:11.577861Z"
    }
   },
   "outputs": [
    {
     "name": "stdout",
     "output_type": "stream",
     "text": [
      "공백을 이용해 숫자를 입력하세요.: 1 3 5 6\n"
     ]
    },
    {
     "data": {
      "text/plain": [
       "'NO'"
      ]
     },
     "execution_count": 6,
     "metadata": {},
     "output_type": "execute_result"
    }
   ],
   "source": [
    "number = input(\"공백을 이용해 숫자를 입력하세요.: \" )\n",
    "\n",
    "def continuous_numbers(number):\n",
    "    number = number.split(\" \")\n",
    "    number.sort()\n",
    "    continuous_numbers = []\n",
    "    for i in range(len(number)):\n",
    "        continuous_numbers.append(str(int(number[0])+i))\n",
    "    if number == continuous_numbers: return \"YES\"\n",
    "    else: return \"NO\"\n",
    "    \n",
    "continuous_numbers(number)"
   ]
  },
  {
   "cell_type": "markdown",
   "id": "21aa5c41",
   "metadata": {},
   "source": [
    "# 하노이의 탑\n",
    "\n",
    "하노이의 탑은 프랑스 수학자 에두아르드가 처음으로 발표한 게임입니다. 하노이의 탑은 A, B, C 3개의 기둥과 기둥에 꽂을 수 있는 N개의 원판으로 이루어져 있습니다. 이 게임에서 다음의 규칙을 만족해야 합니다.\n",
    "\n",
    "> 1. 처음에 모든 원판은 A기둥에 꽂혀 있다.\n",
    "2. 모든 원판의 지름은 다르다.\n",
    "3. 이 원반은 세 개의 기둥 중 하나에 반드시 꽂혀야 한다.\n",
    "4. 작은 원반 위에 큰 원반을 놓을 수 없다.\n",
    "5. 한 번에 하나의 원판(가장 위에 있는 원판) 만을 옮길 수 있다.\n",
    "> \n",
    "\n",
    "이 규칙을 만족하며 A기둥에 있는 원반 N개를 모두 C 원반으로 옮기고 싶습니다.\n",
    "모든 원반을 옮기기 위해 실행되어야 할 최소 원반 이동 횟수를 계산하는 프로그램을 완성해주세요."
   ]
  },
  {
   "cell_type": "code",
   "execution_count": null,
   "id": "1fde101a",
   "metadata": {},
   "outputs": [],
   "source": [
    "원판의이동경로 = []\n",
    "def 하노이(원반의수, 시작기둥, 목표기둥, 보조기둥):\n",
    "    #원판이 한개일 때에는 옮기면 됩니다.\n",
    "    if 원반의수 == 1:\n",
    "        원판의이동경로.append([시작기둥, 목표기둥]) \n",
    "        return None\n",
    "    #원반의 n-1개를 경유기둥으로 옮기고\n",
    "    하노이(#내용을 채워주세요.)\n",
    "    #가장 큰 원반은 목표기둥으로\n",
    "    원판의이동경로.append(#내용을 채워주세요.) \n",
    "    #경유기둥과 시작기둥을 바꿉니다!\n",
    "    하노이(#내용을 채워주세요.)\n",
    "\n",
    "user_input = int(input())\n",
    "하노이(user_input,'A','C','B')\n",
    "\n",
    "print(len(원판의이동경로))"
   ]
  }
 ],
 "metadata": {
  "kernelspec": {
   "display_name": "Python 3",
   "language": "python",
   "name": "python3"
  },
  "language_info": {
   "codemirror_mode": {
    "name": "ipython",
    "version": 3
   },
   "file_extension": ".py",
   "mimetype": "text/x-python",
   "name": "python",
   "nbconvert_exporter": "python",
   "pygments_lexer": "ipython3",
   "version": "3.8.8"
  },
  "toc": {
   "base_numbering": 1,
   "nav_menu": {},
   "number_sections": true,
   "sideBar": true,
   "skip_h1_title": false,
   "title_cell": "Table of Contents",
   "title_sidebar": "Contents",
   "toc_cell": false,
   "toc_position": {},
   "toc_section_display": true,
   "toc_window_display": false
  },
  "varInspector": {
   "cols": {
    "lenName": 16,
    "lenType": 16,
    "lenVar": 40
   },
   "kernels_config": {
    "python": {
     "delete_cmd_postfix": "",
     "delete_cmd_prefix": "del ",
     "library": "var_list.py",
     "varRefreshCmd": "print(var_dic_list())"
    },
    "r": {
     "delete_cmd_postfix": ") ",
     "delete_cmd_prefix": "rm(",
     "library": "var_list.r",
     "varRefreshCmd": "cat(var_dic_list()) "
    }
   },
   "types_to_exclude": [
    "module",
    "function",
    "builtin_function_or_method",
    "instance",
    "_Feature"
   ],
   "window_display": false
  }
 },
 "nbformat": 4,
 "nbformat_minor": 5
}
