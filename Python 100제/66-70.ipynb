{
 "cells": [
  {
   "cell_type": "markdown",
   "id": "f995456f",
   "metadata": {},
   "source": [
    "# 블럭탑쌓기  \n",
    "탑을 쌓기 위해 각 크기별로 준비된 블럭들을 정해진 순서에 맞게 쌓아야 합니다.  \n",
    "순서에 맞게 쌓지 않으면 무너질 수 있습니다.  \n",
    "예를 들면 정해진 순서가 BAC 라면 A 다음 C가 쌓아져야 합니다.  \n",
    "선행으로 쌓아야 하는 블럭이 만족된 경우라면 탑이 무너지지 않습니다.  \n",
    "* B를 쌓지 않아도 A와 C를 쌓을 수 있습니다.  \n",
    "* B 다음 블럭이 C가 될 수 있습니다.  \n",
    "\n",
    "쌓아져 있는 블럭 탑이 순서에 맞게 쌓아져 있는지 확인하세요.  \n",
    "\n",
    "1. 블럭은 알파벳 대문자로 표기합니다.  \n",
    "2. 규칙에 없는 블럭이 사용될 수 있습니다.  \n",
    "3. 중복된 블럭은 존재하지 않습니다.  \n"
   ]
  },
  {
   "cell_type": "code",
   "execution_count": 41,
   "id": "6410e6e6",
   "metadata": {
    "scrolled": false
   },
   "outputs": [
    {
     "data": {
      "text/plain": [
       "['가능', '불가능', '가능', '가능', '가능']"
      ]
     },
     "execution_count": 41,
     "metadata": {},
     "output_type": "execute_result"
    }
   ],
   "source": [
    "tab = [\"ABCDEF\", \"BCAD\", \"ADEFQRX\", \"BEDFG\", \"EFGHZ\"]\n",
    "rule = \"ABD\"\n",
    "\n",
    "def block_tab(tab: list[str],rule: str)-> list[str]:\n",
    "    answer = []\n",
    "    for i in tab:\n",
    "        list_a = []\n",
    "        for j in rule:\n",
    "            list_a.append(i.find(j)) # 인덱스 값을 저장\n",
    "        list_b = list(filter(lambda x: x>=0, list_a)) # 인덱스 값중 rule에 해당하지 않는 값인 -1 제거\n",
    "\n",
    "        if list_b == sorted(list_b): # 순서 정렬 확인 후 정답에 추가\n",
    "            answer.append(\"가능\")\n",
    "        else:\n",
    "            answer.append(\"불가능\")\n",
    "    \n",
    "    return answer\n",
    "\n",
    "block_tab(tab,rule)"
   ]
  },
  {
   "cell_type": "markdown",
   "id": "3f420b96",
   "metadata": {},
   "source": [
    "# 민규의 악수  \n",
    "광장에서 모인 사람들과 악수를 하는 생사가 열렸다.  \n",
    "참가자인 민규는 몇명의 사람들과 악수를 한 후 중간에 일이 생겨 집으로 갔다.  \n",
    "이 행사에서 진행된 악수는 총n번이라고 했을떄.  \n",
    "\n",
    "민규는 몇번의 악수를 하고 집으로 돌아갔을까?  \n",
    "이떄 민규를 포함한 행사 참가자는 몇명일까?  \n",
    "* 악수는 모두 1대 1 로 진행이 된다.  \n",
    "* 민규를 제외한 모든 참가자는 자신을 제외한 참가자와 모두 한번씩 악수를 한다.  \n",
    "* 같은 상대와 중복된 악수는 카운트 하지 않는다.  \n",
    "* 민규를 제외한 참가자는 행사를 모두 마쳤다.  \n",
    "\n"
   ]
  },
  {
   "cell_type": "code",
   "execution_count": 56,
   "id": "cd899c56",
   "metadata": {},
   "outputs": [
    {
     "name": "stdout",
     "output_type": "stream",
     "text": [
      "행사에서 진행된 악수 횟수: 59\n"
     ]
    },
    {
     "data": {
      "text/plain": [
       "[4, 12]"
      ]
     },
     "execution_count": 56,
     "metadata": {},
     "output_type": "execute_result"
    }
   ],
   "source": [
    "n = int(input(\"행사에서 진행된 악수 횟수: \"))\n",
    "\n",
    "def solution(n):\n",
    "    people = 0\n",
    "    total = 0\n",
    "    while(True):\n",
    "        total = people*(people-1)/2\n",
    "        if n<total:\n",
    "            break\n",
    "        people+=1\n",
    "    times = int(people-(total-n)-1)\n",
    "    return [times,people]\n",
    "\n",
    "solution(n)\n",
    "\n",
    "# 문제가 이해가 안가서 정답지 봤다."
   ]
  },
  {
   "cell_type": "markdown",
   "id": "601752a1",
   "metadata": {},
   "source": [
    "# 버스 시간표  \n",
    "학교가 끝난 지원이는 집에 가려고 합니다. 학교 앞에 있는 버스 시간표는 너무 복잡해서 버스 도착시간이 몇 분 남았는지 알려주는 프로그램을 만들고 싶습니다.  \n",
    "버스시간표와 현재 시간이 주어졌을 떄 버스 도착 시간이 얼마나 남았는지 알려주는 프로그램을 만들어주세요.  \n",
    "\n",
    "* 버스 시간표와 현재시간이 입력으로 주어집니다.  \n",
    "* 출력 포맷은 \"00시00분\"입니다.  / 만약 1시간 3분이 남았다면 \"01시간03분\"으로 출력해야 합니다.  \n",
    "* 버스 시간표에 현재 시간보다 이전인 버스가 있다면 \"지나갔습니다.\"라고 출력합니다."
   ]
  },
  {
   "cell_type": "code",
   "execution_count": 16,
   "id": "8c6572b2",
   "metadata": {},
   "outputs": [
    {
     "data": {
      "text/plain": [
       "['지나갔습니다', '00시간 40분', '01시간 33분']"
      ]
     },
     "execution_count": 16,
     "metadata": {},
     "output_type": "execute_result"
    }
   ],
   "source": [
    "input_time = [\"12:30\", \"13:20\", \"14:13\"]\n",
    "arrival_time = \"12:40\"\n",
    "\n",
    "def bus_time(input_time: list[str], arrival_time: str)-> list[str]:\n",
    "    input_time = [i.split(\":\") for i in input_time]\n",
    "    arrival_minute = arrival_time.split(\":\") # 시간과 분의 값을 나눠주었음\n",
    "    answer = []\n",
    "    for i in range(len(input_time)):\n",
    "        minute = (int(input_time[i][0])*60+int(input_time[i][1])) - (int(arrival_minute[0])*60 + int(arrival_minute[1])) # 시간의 값을 분 값으로 통일\n",
    "        if minute < 0:\n",
    "            answer.append(\"지나갔습니다\")\n",
    "        else:\n",
    "            a, b = divmod(minute, 60)\n",
    "            if a > 10:\n",
    "                answer.append(f\"{a}시간 {b}분\")\n",
    "            else:\n",
    "                answer.append(f\"0{a}시간 {b}분\")\n",
    "    return answer\n",
    "    \n",
    "bus_time(input_time, arrival_time)"
   ]
  },
  {
   "cell_type": "markdown",
   "id": "8bfd6343",
   "metadata": {},
   "source": [
    "# 골드바흐의 추측"
   ]
  },
  {
   "cell_type": "code",
   "execution_count": 19,
   "id": "0b521207",
   "metadata": {},
   "outputs": [
    {
     "name": "stdout",
     "output_type": "stream",
     "text": [
      "2보다 큰 짝수값을 입력하시오.: 58\n"
     ]
    },
    {
     "data": {
      "text/plain": [
       "['58 == 5+53',\n",
       " '58 == 11+47',\n",
       " '58 == 17+41',\n",
       " '58 == 29+29',\n",
       " '58 == 41+17',\n",
       " '58 == 47+11',\n",
       " '58 == 53+5']"
      ]
     },
     "execution_count": 19,
     "metadata": {},
     "output_type": "execute_result"
    }
   ],
   "source": [
    "n = int(input(\"2보다 큰 짝수값을 입력하시오.: \"))\n",
    "\n",
    "def goldbahu(n):\n",
    "    a = [False, False] + [True]*(n-1)\n",
    "    primes = []\n",
    "    for i in range(2, n+1):\n",
    "        if a[i]:\n",
    "            primes.append(i)\n",
    "            for j in range(2*i, n+1, i):\n",
    "                a[j] = False # 들어온 n 이하의 값에서 생길 수 있는 소수값들을 리스트에 저장\n",
    "    answer = []\n",
    "    \n",
    "    for i in primes:\n",
    "        m = n - i\n",
    "        for j in primes:\n",
    "            l = m- j\n",
    "            if l == 0:\n",
    "                answer.append(f\"{n} == {i}+{j}\") # 골드바흐 파티션 모두를 출력한 case\n",
    "                \n",
    "    return answer\n",
    "\n",
    "goldbahu(n)"
   ]
  },
  {
   "cell_type": "markdown",
   "id": "33584f58",
   "metadata": {},
   "source": [
    "# 행렬 곱하기"
   ]
  },
  {
   "cell_type": "code",
   "execution_count": 24,
   "id": "9be7f3ae",
   "metadata": {},
   "outputs": [
    {
     "data": {
      "text/plain": [
       "[[1, 6], [2, 12]]"
      ]
     },
     "execution_count": 24,
     "metadata": {},
     "output_type": "execute_result"
    }
   ],
   "source": [
    "arr1 = ([1,2],[2,4])\n",
    "arr2 = ([1,0],[0,3])\n",
    "\n",
    "def matrix(arr1, arr2):\n",
    "    if len(arr1[0]) != len([x[0] for x in arr2]): # 행렬곱을 할 수 없다면 -1 값을 출력\n",
    "        return -1\n",
    "    \n",
    "    answer = [ len(arr2[0])*[0] for i in range (len(arr1)) ] # 행렬곱 결과 출력\n",
    "    for i in range (len(answer) ):\n",
    "        for j in range ( len(answer[i]) ):\n",
    "            for k in range ( len(arr1[i] ) ):\n",
    "                answer[i][j] += arr1[i][k] * arr2[k][j]\n",
    "    return answer\n",
    "\n",
    "matrix(arr1, arr2)"
   ]
  }
 ],
 "metadata": {
  "kernelspec": {
   "display_name": "Python 3",
   "language": "python",
   "name": "python3"
  },
  "language_info": {
   "codemirror_mode": {
    "name": "ipython",
    "version": 3
   },
   "file_extension": ".py",
   "mimetype": "text/x-python",
   "name": "python",
   "nbconvert_exporter": "python",
   "pygments_lexer": "ipython3",
   "version": "3.9.6"
  }
 },
 "nbformat": 4,
 "nbformat_minor": 5
}
