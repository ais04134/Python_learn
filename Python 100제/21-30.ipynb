{
 "cells": [
  {
   "cell_type": "markdown",
   "id": "8b807973",
   "metadata": {},
   "source": [
    "# set은 어떻게 만드나요"
   ]
  },
  {
   "cell_type": "code",
   "execution_count": 5,
   "id": "220ef1fa",
   "metadata": {
    "ExecuteTime": {
     "end_time": "2021-09-27T05:33:42.826468Z",
     "start_time": "2021-09-27T05:33:42.808528Z"
    },
    "scrolled": true
   },
   "outputs": [
    {
     "data": {
      "text/plain": [
       "set"
      ]
     },
     "execution_count": 5,
     "metadata": {},
     "output_type": "execute_result"
    },
    {
     "data": {
      "text/plain": [
       "dict"
      ]
     },
     "execution_count": 5,
     "metadata": {},
     "output_type": "execute_result"
    }
   ],
   "source": [
    "from IPython.core.interactiveshell import InteractiveShell\n",
    "InteractiveShell.ast_node_interactivity = \"all\" \n",
    "# 하나의 셀에서 여러 결과값을 출력하기 위함\n",
    "\n",
    "x = {1,2,3,4,5,6}\n",
    "type(x)\n",
    "y = {} # <- 요놈!\n",
    "type(y)"
   ]
  },
  {
   "cell_type": "markdown",
   "id": "eaf10271",
   "metadata": {},
   "source": [
    "# 배수인지 확인하기\n",
    "다음 중 변수 i가 6의 배수인지 확인하는 방법으로 올바른 것은?"
   ]
  },
  {
   "cell_type": "code",
   "execution_count": 1,
   "id": "39d7bd3c",
   "metadata": {
    "ExecuteTime": {
     "end_time": "2021-09-28T02:35:54.229596Z",
     "start_time": "2021-09-28T02:35:54.217637Z"
    }
   },
   "outputs": [
    {
     "data": {
      "text/plain": [
       "True"
      ]
     },
     "execution_count": 1,
     "metadata": {},
     "output_type": "execute_result"
    }
   ],
   "source": [
    "36%6 == 0"
   ]
  },
  {
   "cell_type": "markdown",
   "id": "f39cb0db",
   "metadata": {},
   "source": [
    "# OX문제\n",
    "print(10/2)의 출력 결과는 5이다. <- 0"
   ]
  },
  {
   "cell_type": "code",
   "execution_count": 3,
   "id": "c5fd7b3f",
   "metadata": {
    "ExecuteTime": {
     "end_time": "2021-09-28T02:36:37.602591Z",
     "start_time": "2021-09-28T02:36:37.587642Z"
    }
   },
   "outputs": [
    {
     "name": "stdout",
     "output_type": "stream",
     "text": [
      "5.0\n"
     ]
    }
   ],
   "source": [
    "print(10/2)"
   ]
  },
  {
   "cell_type": "markdown",
   "id": "903fe811",
   "metadata": {},
   "source": [
    "# 대문자로 바꿔주세요!\n",
    "민지는 국제 포럼에서 아르바이트를 하게 되었습니다. 민지는 각 국에서 온 참가자들의 명단을 엑셀로 정리하고 있는데 참가자들 이름이 어떤 이는 전부 소문자, 어떤 이는 전부 대문자로 써져 있는 등 형식이 제각각이었습니다.\n",
    "\n",
    "민지를 위해 이름이 입력되면 전부 대문자로 출력되는 프로그램을 만들어주세요."
   ]
  },
  {
   "cell_type": "code",
   "execution_count": 6,
   "id": "61bc57f7",
   "metadata": {
    "ExecuteTime": {
     "end_time": "2021-09-28T02:39:17.155541Z",
     "start_time": "2021-09-28T02:39:17.145575Z"
    }
   },
   "outputs": [
    {
     "name": "stdout",
     "output_type": "stream",
     "text": [
      "FEFEFWADHT\n"
     ]
    }
   ],
   "source": [
    "def upper_case(name): \n",
    "    return name.upper()\n",
    "\n",
    "print(upper_case(\"fefefwadht\"))"
   ]
  },
  {
   "cell_type": "markdown",
   "id": "200f08ca",
   "metadata": {},
   "source": [
    "# 원의 넓이를 구하세요.\n",
    "원의 넓이는 반지름의 길이 x 반지름의 길이 x3.14로 구할 수 있습니다.  \n",
    "함수를 사용하여 원의 넓이를 구하는 코드를 작성해봅시다.\n",
    "\n",
    "입력을 반지름의 길이로 정수 n이 주어지면 원의 넓이를 반환하는 함수를 만들어 주세요."
   ]
  },
  {
   "cell_type": "code",
   "execution_count": 25,
   "id": "d8eb97c3",
   "metadata": {
    "ExecuteTime": {
     "end_time": "2021-09-28T03:07:59.565595Z",
     "start_time": "2021-09-28T03:07:58.032577Z"
    }
   },
   "outputs": [
    {
     "name": "stdout",
     "output_type": "stream",
     "text": [
      "정수값을 입력하시오.: 7\n",
      "153.86\n"
     ]
    }
   ],
   "source": [
    "n = int(input(\"정수값을 입력하시오.: \"))\n",
    "\n",
    "def area_of_circle(n):\n",
    "    return n*n*3.14\n",
    "\n",
    "print(area_of_circle(n))"
   ]
  },
  {
   "cell_type": "markdown",
   "id": "cbd051e6",
   "metadata": {},
   "source": [
    "# 행성 문제2\n",
    "우리 태양계를 이루는 행성은 수성, 금성, 지구, 화성, 목성, 토성, 천왕성, 해왕성이 있습니다.  \n",
    "이 행성들의 영어 이름은 Mercury, Venus, Earth, Mars, Jupiter, Saturn, Uranus, Neptune입니다.\n",
    "\n",
    "행성의 한글 이름을 입력하면 영어 이름을 반환하는 프로그램을 만들어 주세요."
   ]
  },
  {
   "cell_type": "code",
   "execution_count": 8,
   "id": "98393f78",
   "metadata": {
    "ExecuteTime": {
     "end_time": "2021-09-28T02:49:00.487020Z",
     "start_time": "2021-09-28T02:48:56.489292Z"
    }
   },
   "outputs": [
    {
     "name": "stdout",
     "output_type": "stream",
     "text": [
      "행성의 이름을 입력하시오.: 지구\n",
      "Earth\n"
     ]
    }
   ],
   "source": [
    "planet_name = input('행성의 이름을 입력하시오.: ')\n",
    "\n",
    "def planet(planet_name):\n",
    "    planet_dic = {\n",
    "        '수성': 'Mecury',\n",
    "        '금성': 'Venus',\n",
    "        '지구': 'Earth',\n",
    "        '화성': 'Mars',\n",
    "        '목성': 'Jupiter',\n",
    "        '토성': 'Saturn',\n",
    "        '천왕성': 'Uranus',\n",
    "        '해왕성': 'Neptune'\n",
    "        }\n",
    "    return planet_dic[planet_name]\n",
    "\n",
    "print(planet(planet_name))"
   ]
  },
  {
   "cell_type": "markdown",
   "id": "bbc0331d",
   "metadata": {},
   "source": [
    "# 딕셔너리 만들기\n",
    "첫 줄에는 학생의 이름이 공백으로 구분되어 입력되고, 두번째 줄에는 그 학생의 수학 점수가 공백으로 구분되어 주어집니다.\n",
    "\n",
    "두 개를 합쳐 학생의 이름이 key이고 value가 수학 점수인 딕셔너리를 출력해주세요."
   ]
  },
  {
   "cell_type": "code",
   "execution_count": 23,
   "id": "930083b3",
   "metadata": {
    "ExecuteTime": {
     "end_time": "2021-09-28T03:07:44.042607Z",
     "start_time": "2021-09-28T03:07:39.689154Z"
    }
   },
   "outputs": [
    {
     "name": "stdout",
     "output_type": "stream",
     "text": [
      "학생의 이름을 입력하시오.: 영희 민수\n",
      "시험 점수를 입력하시오.: 50 70\n",
      "{'영희': '50', '민수': '70'}\n"
     ]
    }
   ],
   "source": [
    "name = input(\"학생의 이름을 입력하시오.: \")\n",
    "test_score = input(\"시험 점수를 입력하시오.: \")\n",
    "\n",
    "def test_score_dic(name, test_score):\n",
    "    name = name.split(\" \")\n",
    "    test_score = test_score.split(\" \")\n",
    "    return dict(zip(name, test_score))\n",
    "\n",
    "print(test_score_dic(name, test_score))"
   ]
  },
  {
   "cell_type": "markdown",
   "id": "59148ff4",
   "metadata": {},
   "source": [
    "# 2-gram\n",
    "2-gram이란 문자열에서 2개의 연속된 요소를 출력하는 방법입니다.  \n",
    "예를 들어 'Python'을 2-gram으로 반복해 본다면 다음과 같은 결과가 나옵니다.\n",
    "Py  \n",
    "yt  \n",
    "th  \n",
    "ho  \n",
    "on  \n",
    "입력으로 문자열이 주어지면 2-gram으로 출력하는 프로그램을 작성해주세요."
   ]
  },
  {
   "cell_type": "code",
   "execution_count": 22,
   "id": "e9ab2fe3",
   "metadata": {
    "ExecuteTime": {
     "end_time": "2021-09-28T03:07:30.406567Z",
     "start_time": "2021-09-28T03:07:28.670064Z"
    }
   },
   "outputs": [
    {
     "name": "stdout",
     "output_type": "stream",
     "text": [
      "문자열을 입력하시오.: fefaewfw\n",
      "fe\n",
      "ef\n",
      "fa\n",
      "ae\n",
      "ew\n",
      "wf\n",
      "fw\n",
      "None\n"
     ]
    }
   ],
   "source": [
    "name = input('문자열을 입력하시오.: ')\n",
    "\n",
    "def gram(name):\n",
    "    for i in range(len(name)):\n",
    "        if i == len(name)-1:\n",
    "            break\n",
    "        print(name[i:i+2])\n",
    "        \n",
    "print(gram(name))"
   ]
  },
  {
   "cell_type": "markdown",
   "id": "786a06f8",
   "metadata": {},
   "source": [
    "# 대문자만 지나가세요\n",
    "친구는 영어 학원 아르바이트를 하고 있습니다. 반 아이들은 알파벳을 공부하는 학생들인데 오늘은 대문자 쓰기 시험을 봤습니다.\n",
    "\n",
    "알파벳 하나만을 입력하고 그 알파벳이 대문자면 YES를 아니면 NO를 출력하는 프로그램을 만들어 주세요."
   ]
  },
  {
   "cell_type": "code",
   "execution_count": 5,
   "id": "b9ba00f4",
   "metadata": {
    "ExecuteTime": {
     "end_time": "2021-09-28T03:11:29.125808Z",
     "start_time": "2021-09-28T03:11:26.852294Z"
    }
   },
   "outputs": [
    {
     "name": "stdout",
     "output_type": "stream",
     "text": [
      "alphabet을 입력하시오.: b\n",
      "NO\n"
     ]
    }
   ],
   "source": [
    "alphabet = input(\"alphabet을 입력하시오.: \")\n",
    "\n",
    "def alphabet_upper(alphabet):\n",
    "    if alphabet == alphabet.upper():\n",
    "        return 'YES'\n",
    "    else:\n",
    "        return 'NO'\n",
    "    \n",
    "print(alphabet_upper(alphabet))"
   ]
  },
  {
   "cell_type": "markdown",
   "id": "e0f6410c",
   "metadata": {},
   "source": [
    "# 문자열 속 문자 찾기\n",
    "문자 pineapple에는 apple이라는 문자가 숨어 있습니다. 원범이는 이렇듯 문자열 속에 숨어있는 문자를 찾아보려고 합니다.\n",
    "\n",
    "입력으로 첫 줄에 문자열이 주어지고 둘째 줄에 찾을 문자가 주어지면  \n",
    "그 문자가 시작하는 index를 반환하는 프로그램을 만들어 주세요"
   ]
  },
  {
   "cell_type": "code",
   "execution_count": 6,
   "id": "b324236e",
   "metadata": {
    "ExecuteTime": {
     "end_time": "2021-09-28T03:16:09.040935Z",
     "start_time": "2021-09-28T03:15:56.748124Z"
    }
   },
   "outputs": [
    {
     "name": "stdout",
     "output_type": "stream",
     "text": [
      "문자열을 입력하시오. :pineapple is yummy\n",
      "문자를 입력하시오. :apple\n",
      "4\n"
     ]
    }
   ],
   "source": [
    "string = input(\"문자열을 입력하시오. :\")\n",
    "message = input(\"문자를 입력하시오. :\")\n",
    "\n",
    "def message_in_string(string, message):\n",
    "    return string.index(message)\n",
    "\n",
    "print(message_in_string(string, message))"
   ]
  }
 ],
 "metadata": {
  "kernelspec": {
   "display_name": "Python 3",
   "language": "python",
   "name": "python3"
  },
  "language_info": {
   "codemirror_mode": {
    "name": "ipython",
    "version": 3
   },
   "file_extension": ".py",
   "mimetype": "text/x-python",
   "name": "python",
   "nbconvert_exporter": "python",
   "pygments_lexer": "ipython3",
   "version": "3.8.8"
  },
  "toc": {
   "base_numbering": 1,
   "nav_menu": {},
   "number_sections": true,
   "sideBar": true,
   "skip_h1_title": false,
   "title_cell": "Table of Contents",
   "title_sidebar": "Contents",
   "toc_cell": false,
   "toc_position": {},
   "toc_section_display": true,
   "toc_window_display": false
  },
  "varInspector": {
   "cols": {
    "lenName": 16,
    "lenType": 16,
    "lenVar": 40
   },
   "kernels_config": {
    "python": {
     "delete_cmd_postfix": "",
     "delete_cmd_prefix": "del ",
     "library": "var_list.py",
     "varRefreshCmd": "print(var_dic_list())"
    },
    "r": {
     "delete_cmd_postfix": ") ",
     "delete_cmd_prefix": "rm(",
     "library": "var_list.r",
     "varRefreshCmd": "cat(var_dic_list()) "
    }
   },
   "types_to_exclude": [
    "module",
    "function",
    "builtin_function_or_method",
    "instance",
    "_Feature"
   ],
   "window_display": false
  }
 },
 "nbformat": 4,
 "nbformat_minor": 5
}
